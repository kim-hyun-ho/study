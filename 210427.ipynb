{
  "nbformat": 4,
  "nbformat_minor": 0,
  "metadata": {
    "colab": {
      "name": "210427.ipynb",
      "provenance": [],
      "collapsed_sections": [],
      "authorship_tag": "ABX9TyOru46lCeepXsn6p7q2Om5S",
      "include_colab_link": true
    },
    "kernelspec": {
      "name": "python3",
      "display_name": "Python 3"
    },
    "language_info": {
      "name": "python"
    }
  },
  "cells": [
    {
      "cell_type": "markdown",
      "metadata": {
        "id": "view-in-github",
        "colab_type": "text"
      },
      "source": [
        "<a href=\"https://colab.research.google.com/github/kim-hyun-ho/study/blob/main/210427.ipynb\" target=\"_parent\"><img src=\"https://colab.research.google.com/assets/colab-badge.svg\" alt=\"Open In Colab\"/></a>"
      ]
    },
    {
      "cell_type": "markdown",
      "metadata": {
        "id": "84HEXRGmjzMY"
      },
      "source": [
        "#머신러닝 vs 딥러닝\n",
        "* 문제에 따라 머신러닝이 더 잘 푸는 문제도 있다.\n",
        "* 통계적 방법이 아직도 잘 예측하는 분야도 있다.\n",
        "* cnn, rnn, lstm 딥러닝이 잘 맞는 문제도 있다.\n",
        "* 역사를 잘 알고 적절한 해결 방안을 선택해야 한다.\n"
      ]
    },
    {
      "cell_type": "markdown",
      "metadata": {
        "id": "13xTXehJklGv"
      },
      "source": [
        "#데이터 분석 순서\n",
        "* 자료를 읽는다.\n",
        "* df.info, df.describe 등 기초 적인 성격을 파악한다.\n",
        "* 적절한 피처를 선택, 생성, 차원축소\n",
        "* 피처들간의 상관관계\n",
        "* 결측치 처리\n",
        "* 스케일링\n",
        "* 적절한 모델 선택\n",
        "* 피처의 중요도 확인\n",
        "* 파라미터 조정\n",
        "* 시각화\n",
        "* 활용방안\n"
      ]
    }
  ]
}