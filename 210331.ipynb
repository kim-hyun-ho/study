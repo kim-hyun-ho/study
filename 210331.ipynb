{
  "nbformat": 4,
  "nbformat_minor": 0,
  "metadata": {
    "colab": {
      "name": "210331.ipynb",
      "provenance": [],
      "collapsed_sections": [],
      "authorship_tag": "ABX9TyO51U4H7JOO63kz0XqwWYza",
      "include_colab_link": true
    },
    "kernelspec": {
      "name": "python3",
      "display_name": "Python 3"
    },
    "language_info": {
      "name": "python"
    }
  },
  "cells": [
    {
      "cell_type": "markdown",
      "metadata": {
        "id": "view-in-github",
        "colab_type": "text"
      },
      "source": [
        "<a href=\"https://colab.research.google.com/github/kim-hyun-ho/study/blob/main/210331.ipynb\" target=\"_parent\"><img src=\"https://colab.research.google.com/assets/colab-badge.svg\" alt=\"Open In Colab\"/></a>"
      ]
    },
    {
      "cell_type": "markdown",
      "metadata": {
        "id": "4RZcplefov05"
      },
      "source": [
        "2021.03.0\n",
        "파이썬"
      ]
    },
    {
      "cell_type": "markdown",
      "metadata": {
        "id": "3d_hE3RMpJbM"
      },
      "source": [
        "#판다스\n",
        "\n",
        "##시계열데이터 등 다룸\n",
        "##결측치 처리 용이\n"
      ]
    },
    {
      "cell_type": "code",
      "metadata": {
        "colab": {
          "base_uri": "https://localhost:8080/"
        },
        "id": "5vKZPPJBzgZL",
        "outputId": "15971b92-0962-47c1-a390-d8f30a41ddff"
      },
      "source": [
        "#읽기\n",
        "#csv,excel,json,pickle\n",
        "##저장은 csv,json,pickle\n",
        "\n",
        "import numpy as np\n",
        "import pandas as pd\n",
        "\n",
        "obj = pd.Series([0,1,2,3,4,5,6,7], index=['a','b','c','d','e','f','g','h'], dtype='int64')\n",
        "obj = pd.Series([x for x in range(8)], index=[x for x in 'abcdefgh'], dtype='int64')\n",
        "obj"
      ],
      "execution_count": 8,
      "outputs": [
        {
          "output_type": "execute_result",
          "data": {
            "text/plain": [
              "a    0\n",
              "b    1\n",
              "c    2\n",
              "d    3\n",
              "e    4\n",
              "f    5\n",
              "g    6\n",
              "h    7\n",
              "dtype: int64"
            ]
          },
          "metadata": {
            "tags": []
          },
          "execution_count": 8
        }
      ]
    },
    {
      "cell_type": "code",
      "metadata": {
        "colab": {
          "base_uri": "https://localhost:8080/"
        },
        "id": "ZoMh2l9s4L5T",
        "outputId": "f5e68456-92ec-4214-ea8e-96d1d01e0578"
      },
      "source": [
        "obj[1:3]"
      ],
      "execution_count": 9,
      "outputs": [
        {
          "output_type": "execute_result",
          "data": {
            "text/plain": [
              "b    1\n",
              "c    2\n",
              "dtype: int64"
            ]
          },
          "metadata": {
            "tags": []
          },
          "execution_count": 9
        }
      ]
    },
    {
      "cell_type": "code",
      "metadata": {
        "colab": {
          "base_uri": "https://localhost:8080/"
        },
        "id": "DR-Gf8tF4ewp",
        "outputId": "2dc89391-b79b-4536-cefc-b2d6d9535b87"
      },
      "source": [
        "obj[obj<3]"
      ],
      "execution_count": 10,
      "outputs": [
        {
          "output_type": "execute_result",
          "data": {
            "text/plain": [
              "a    0\n",
              "b    1\n",
              "c    2\n",
              "dtype: int64"
            ]
          },
          "metadata": {
            "tags": []
          },
          "execution_count": 10
        }
      ]
    },
    {
      "cell_type": "code",
      "metadata": {
        "colab": {
          "base_uri": "https://localhost:8080/"
        },
        "id": "OMlb_OeZ4iBh",
        "outputId": "2f97215d-21bd-440b-ecfa-7baa9922faac"
      },
      "source": [
        "obj['c']"
      ],
      "execution_count": 11,
      "outputs": [
        {
          "output_type": "execute_result",
          "data": {
            "text/plain": [
              "2"
            ]
          },
          "metadata": {
            "tags": []
          },
          "execution_count": 11
        }
      ]
    },
    {
      "cell_type": "code",
      "metadata": {
        "colab": {
          "base_uri": "https://localhost:8080/"
        },
        "id": "PeX7Y2NX4udw",
        "outputId": "60888262-75e4-4820-98b1-9334260df3d9"
      },
      "source": [
        "obj[['e','c']]"
      ],
      "execution_count": 12,
      "outputs": [
        {
          "output_type": "execute_result",
          "data": {
            "text/plain": [
              "e    4\n",
              "c    2\n",
              "dtype: int64"
            ]
          },
          "metadata": {
            "tags": []
          },
          "execution_count": 12
        }
      ]
    },
    {
      "cell_type": "code",
      "metadata": {
        "colab": {
          "base_uri": "https://localhost:8080/"
        },
        "id": "0EUykZ2T4zr_",
        "outputId": "ca8e8b71-0445-42ae-966e-0044406d3757"
      },
      "source": [
        "obj.c"
      ],
      "execution_count": 13,
      "outputs": [
        {
          "output_type": "execute_result",
          "data": {
            "text/plain": [
              "2"
            ]
          },
          "metadata": {
            "tags": []
          },
          "execution_count": 13
        }
      ]
    },
    {
      "cell_type": "code",
      "metadata": {
        "colab": {
          "base_uri": "https://localhost:8080/"
        },
        "id": "h4gmw2SY41SY",
        "outputId": "a6cec20e-3f24-4ddd-e76c-91bb27fdaeb6"
      },
      "source": [
        "obj['d':'e']=100\n",
        "obj"
      ],
      "execution_count": 14,
      "outputs": [
        {
          "output_type": "execute_result",
          "data": {
            "text/plain": [
              "a      0\n",
              "b      1\n",
              "c      2\n",
              "d    100\n",
              "e    100\n",
              "f      5\n",
              "g      6\n",
              "h      7\n",
              "dtype: int64"
            ]
          },
          "metadata": {
            "tags": []
          },
          "execution_count": 14
        }
      ]
    },
    {
      "cell_type": "code",
      "metadata": {
        "colab": {
          "base_uri": "https://localhost:8080/"
        },
        "id": "YiwvrjLD5oP3",
        "outputId": "5c728f7f-706b-46da-e9c9-0276c58b3a87"
      },
      "source": [
        "obj.iloc[2]"
      ],
      "execution_count": 15,
      "outputs": [
        {
          "output_type": "execute_result",
          "data": {
            "text/plain": [
              "2"
            ]
          },
          "metadata": {
            "tags": []
          },
          "execution_count": 15
        }
      ]
    },
    {
      "cell_type": "code",
      "metadata": {
        "colab": {
          "base_uri": "https://localhost:8080/"
        },
        "id": "3x7ADc9v6ZUs",
        "outputId": "f4b67b8a-16d2-4f9a-9d9e-4932c712c083"
      },
      "source": [
        "obj.iloc[[2]]"
      ],
      "execution_count": 16,
      "outputs": [
        {
          "output_type": "execute_result",
          "data": {
            "text/plain": [
              "c    2\n",
              "dtype: int64"
            ]
          },
          "metadata": {
            "tags": []
          },
          "execution_count": 16
        }
      ]
    },
    {
      "cell_type": "code",
      "metadata": {
        "colab": {
          "base_uri": "https://localhost:8080/"
        },
        "id": "ZvrObmfN6dZ7",
        "outputId": "8ea1d494-8f60-454e-81c7-3cbf42735c53"
      },
      "source": [
        "obj.iloc[1:4]"
      ],
      "execution_count": 17,
      "outputs": [
        {
          "output_type": "execute_result",
          "data": {
            "text/plain": [
              "b      1\n",
              "c      2\n",
              "d    100\n",
              "dtype: int64"
            ]
          },
          "metadata": {
            "tags": []
          },
          "execution_count": 17
        }
      ]
    },
    {
      "cell_type": "code",
      "metadata": {
        "colab": {
          "base_uri": "https://localhost:8080/"
        },
        "id": "o5Wz9wAz6gz2",
        "outputId": "8f04c7a8-4b95-4f02-a204-84eb472b12f9"
      },
      "source": [
        "obj.loc['a':'c']"
      ],
      "execution_count": 18,
      "outputs": [
        {
          "output_type": "execute_result",
          "data": {
            "text/plain": [
              "a    0\n",
              "b    1\n",
              "c    2\n",
              "dtype: int64"
            ]
          },
          "metadata": {
            "tags": []
          },
          "execution_count": 18
        }
      ]
    },
    {
      "cell_type": "code",
      "metadata": {
        "colab": {
          "base_uri": "https://localhost:8080/",
          "height": 173
        },
        "id": "XPVDXd8P6k9d",
        "outputId": "859e9b57-e182-4fc9-ae9a-3bf6f11ba23b"
      },
      "source": [
        "frame = pd.DataFrame(np.arange(24).reshape(4,-1),\n",
        "    columns=[ f'c{x}' for x in range(1,7)],\n",
        "    index=[f'r{x}' for x in range(1,5)])\n",
        "frame"
      ],
      "execution_count": 25,
      "outputs": [
        {
          "output_type": "execute_result",
          "data": {
            "text/html": [
              "<div>\n",
              "<style scoped>\n",
              "    .dataframe tbody tr th:only-of-type {\n",
              "        vertical-align: middle;\n",
              "    }\n",
              "\n",
              "    .dataframe tbody tr th {\n",
              "        vertical-align: top;\n",
              "    }\n",
              "\n",
              "    .dataframe thead th {\n",
              "        text-align: right;\n",
              "    }\n",
              "</style>\n",
              "<table border=\"1\" class=\"dataframe\">\n",
              "  <thead>\n",
              "    <tr style=\"text-align: right;\">\n",
              "      <th></th>\n",
              "      <th>c1</th>\n",
              "      <th>c2</th>\n",
              "      <th>c3</th>\n",
              "      <th>c4</th>\n",
              "      <th>c5</th>\n",
              "      <th>c6</th>\n",
              "    </tr>\n",
              "  </thead>\n",
              "  <tbody>\n",
              "    <tr>\n",
              "      <th>r1</th>\n",
              "      <td>0</td>\n",
              "      <td>1</td>\n",
              "      <td>2</td>\n",
              "      <td>3</td>\n",
              "      <td>4</td>\n",
              "      <td>5</td>\n",
              "    </tr>\n",
              "    <tr>\n",
              "      <th>r2</th>\n",
              "      <td>6</td>\n",
              "      <td>7</td>\n",
              "      <td>8</td>\n",
              "      <td>9</td>\n",
              "      <td>10</td>\n",
              "      <td>11</td>\n",
              "    </tr>\n",
              "    <tr>\n",
              "      <th>r3</th>\n",
              "      <td>12</td>\n",
              "      <td>13</td>\n",
              "      <td>14</td>\n",
              "      <td>15</td>\n",
              "      <td>16</td>\n",
              "      <td>17</td>\n",
              "    </tr>\n",
              "    <tr>\n",
              "      <th>r4</th>\n",
              "      <td>18</td>\n",
              "      <td>19</td>\n",
              "      <td>20</td>\n",
              "      <td>21</td>\n",
              "      <td>22</td>\n",
              "      <td>23</td>\n",
              "    </tr>\n",
              "  </tbody>\n",
              "</table>\n",
              "</div>"
            ],
            "text/plain": [
              "    c1  c2  c3  c4  c5  c6\n",
              "r1   0   1   2   3   4   5\n",
              "r2   6   7   8   9  10  11\n",
              "r3  12  13  14  15  16  17\n",
              "r4  18  19  20  21  22  23"
            ]
          },
          "metadata": {
            "tags": []
          },
          "execution_count": 25
        }
      ]
    },
    {
      "cell_type": "code",
      "metadata": {
        "colab": {
          "base_uri": "https://localhost:8080/",
          "height": 111
        },
        "id": "NeyMshDG8XDc",
        "outputId": "128401a8-2627-476a-a2ae-8f3bfad90643"
      },
      "source": [
        "frame['r1':'r2']"
      ],
      "execution_count": 26,
      "outputs": [
        {
          "output_type": "execute_result",
          "data": {
            "text/html": [
              "<div>\n",
              "<style scoped>\n",
              "    .dataframe tbody tr th:only-of-type {\n",
              "        vertical-align: middle;\n",
              "    }\n",
              "\n",
              "    .dataframe tbody tr th {\n",
              "        vertical-align: top;\n",
              "    }\n",
              "\n",
              "    .dataframe thead th {\n",
              "        text-align: right;\n",
              "    }\n",
              "</style>\n",
              "<table border=\"1\" class=\"dataframe\">\n",
              "  <thead>\n",
              "    <tr style=\"text-align: right;\">\n",
              "      <th></th>\n",
              "      <th>c1</th>\n",
              "      <th>c2</th>\n",
              "      <th>c3</th>\n",
              "      <th>c4</th>\n",
              "      <th>c5</th>\n",
              "      <th>c6</th>\n",
              "    </tr>\n",
              "  </thead>\n",
              "  <tbody>\n",
              "    <tr>\n",
              "      <th>r1</th>\n",
              "      <td>0</td>\n",
              "      <td>1</td>\n",
              "      <td>2</td>\n",
              "      <td>3</td>\n",
              "      <td>4</td>\n",
              "      <td>5</td>\n",
              "    </tr>\n",
              "    <tr>\n",
              "      <th>r2</th>\n",
              "      <td>6</td>\n",
              "      <td>7</td>\n",
              "      <td>8</td>\n",
              "      <td>9</td>\n",
              "      <td>10</td>\n",
              "      <td>11</td>\n",
              "    </tr>\n",
              "  </tbody>\n",
              "</table>\n",
              "</div>"
            ],
            "text/plain": [
              "    c1  c2  c3  c4  c5  c6\n",
              "r1   0   1   2   3   4   5\n",
              "r2   6   7   8   9  10  11"
            ]
          },
          "metadata": {
            "tags": []
          },
          "execution_count": 26
        }
      ]
    },
    {
      "cell_type": "code",
      "metadata": {
        "colab": {
          "base_uri": "https://localhost:8080/",
          "height": 173
        },
        "id": "g0y6luqY9ZU2",
        "outputId": "7759fbff-49ea-4a92-cd7c-13f2477366d0"
      },
      "source": [
        "frame[['c1','c2']] #리스트로 감싸줘야 함."
      ],
      "execution_count": 27,
      "outputs": [
        {
          "output_type": "execute_result",
          "data": {
            "text/html": [
              "<div>\n",
              "<style scoped>\n",
              "    .dataframe tbody tr th:only-of-type {\n",
              "        vertical-align: middle;\n",
              "    }\n",
              "\n",
              "    .dataframe tbody tr th {\n",
              "        vertical-align: top;\n",
              "    }\n",
              "\n",
              "    .dataframe thead th {\n",
              "        text-align: right;\n",
              "    }\n",
              "</style>\n",
              "<table border=\"1\" class=\"dataframe\">\n",
              "  <thead>\n",
              "    <tr style=\"text-align: right;\">\n",
              "      <th></th>\n",
              "      <th>c1</th>\n",
              "      <th>c2</th>\n",
              "    </tr>\n",
              "  </thead>\n",
              "  <tbody>\n",
              "    <tr>\n",
              "      <th>r1</th>\n",
              "      <td>0</td>\n",
              "      <td>1</td>\n",
              "    </tr>\n",
              "    <tr>\n",
              "      <th>r2</th>\n",
              "      <td>6</td>\n",
              "      <td>7</td>\n",
              "    </tr>\n",
              "    <tr>\n",
              "      <th>r3</th>\n",
              "      <td>12</td>\n",
              "      <td>13</td>\n",
              "    </tr>\n",
              "    <tr>\n",
              "      <th>r4</th>\n",
              "      <td>18</td>\n",
              "      <td>19</td>\n",
              "    </tr>\n",
              "  </tbody>\n",
              "</table>\n",
              "</div>"
            ],
            "text/plain": [
              "    c1  c2\n",
              "r1   0   1\n",
              "r2   6   7\n",
              "r3  12  13\n",
              "r4  18  19"
            ]
          },
          "metadata": {
            "tags": []
          },
          "execution_count": 27
        }
      ]
    },
    {
      "cell_type": "code",
      "metadata": {
        "colab": {
          "base_uri": "https://localhost:8080/",
          "height": 49
        },
        "id": "dLn6Fm2x9n2Z",
        "outputId": "533b629a-7023-428c-ca89-e6c9f91dc1f1"
      },
      "source": [
        "frame['c1':'c2']"
      ],
      "execution_count": 28,
      "outputs": [
        {
          "output_type": "execute_result",
          "data": {
            "text/html": [
              "<div>\n",
              "<style scoped>\n",
              "    .dataframe tbody tr th:only-of-type {\n",
              "        vertical-align: middle;\n",
              "    }\n",
              "\n",
              "    .dataframe tbody tr th {\n",
              "        vertical-align: top;\n",
              "    }\n",
              "\n",
              "    .dataframe thead th {\n",
              "        text-align: right;\n",
              "    }\n",
              "</style>\n",
              "<table border=\"1\" class=\"dataframe\">\n",
              "  <thead>\n",
              "    <tr style=\"text-align: right;\">\n",
              "      <th></th>\n",
              "      <th>c1</th>\n",
              "      <th>c2</th>\n",
              "      <th>c3</th>\n",
              "      <th>c4</th>\n",
              "      <th>c5</th>\n",
              "      <th>c6</th>\n",
              "    </tr>\n",
              "  </thead>\n",
              "  <tbody>\n",
              "  </tbody>\n",
              "</table>\n",
              "</div>"
            ],
            "text/plain": [
              "Empty DataFrame\n",
              "Columns: [c1, c2, c3, c4, c5, c6]\n",
              "Index: []"
            ]
          },
          "metadata": {
            "tags": []
          },
          "execution_count": 28
        }
      ]
    },
    {
      "cell_type": "code",
      "metadata": {
        "colab": {
          "base_uri": "https://localhost:8080/",
          "height": 80
        },
        "id": "ReOTRIPl9sdn",
        "outputId": "42559e94-9907-4606-a739-cded179af08a"
      },
      "source": [
        "frame.iloc[[0],[3]]"
      ],
      "execution_count": 33,
      "outputs": [
        {
          "output_type": "execute_result",
          "data": {
            "text/html": [
              "<div>\n",
              "<style scoped>\n",
              "    .dataframe tbody tr th:only-of-type {\n",
              "        vertical-align: middle;\n",
              "    }\n",
              "\n",
              "    .dataframe tbody tr th {\n",
              "        vertical-align: top;\n",
              "    }\n",
              "\n",
              "    .dataframe thead th {\n",
              "        text-align: right;\n",
              "    }\n",
              "</style>\n",
              "<table border=\"1\" class=\"dataframe\">\n",
              "  <thead>\n",
              "    <tr style=\"text-align: right;\">\n",
              "      <th></th>\n",
              "      <th>c4</th>\n",
              "    </tr>\n",
              "  </thead>\n",
              "  <tbody>\n",
              "    <tr>\n",
              "      <th>r1</th>\n",
              "      <td>3</td>\n",
              "    </tr>\n",
              "  </tbody>\n",
              "</table>\n",
              "</div>"
            ],
            "text/plain": [
              "    c4\n",
              "r1   3"
            ]
          },
          "metadata": {
            "tags": []
          },
          "execution_count": 33
        }
      ]
    },
    {
      "cell_type": "code",
      "metadata": {
        "colab": {
          "base_uri": "https://localhost:8080/",
          "height": 111
        },
        "id": "7H65Dj80-N_p",
        "outputId": "22c4efb4-4a4b-41f9-bcf6-a9466a02b683"
      },
      "source": [
        "frame.iloc[[0,1],1:4]"
      ],
      "execution_count": 35,
      "outputs": [
        {
          "output_type": "execute_result",
          "data": {
            "text/html": [
              "<div>\n",
              "<style scoped>\n",
              "    .dataframe tbody tr th:only-of-type {\n",
              "        vertical-align: middle;\n",
              "    }\n",
              "\n",
              "    .dataframe tbody tr th {\n",
              "        vertical-align: top;\n",
              "    }\n",
              "\n",
              "    .dataframe thead th {\n",
              "        text-align: right;\n",
              "    }\n",
              "</style>\n",
              "<table border=\"1\" class=\"dataframe\">\n",
              "  <thead>\n",
              "    <tr style=\"text-align: right;\">\n",
              "      <th></th>\n",
              "      <th>c2</th>\n",
              "      <th>c3</th>\n",
              "      <th>c4</th>\n",
              "    </tr>\n",
              "  </thead>\n",
              "  <tbody>\n",
              "    <tr>\n",
              "      <th>r1</th>\n",
              "      <td>1</td>\n",
              "      <td>2</td>\n",
              "      <td>3</td>\n",
              "    </tr>\n",
              "    <tr>\n",
              "      <th>r2</th>\n",
              "      <td>7</td>\n",
              "      <td>8</td>\n",
              "      <td>9</td>\n",
              "    </tr>\n",
              "  </tbody>\n",
              "</table>\n",
              "</div>"
            ],
            "text/plain": [
              "    c2  c3  c4\n",
              "r1   1   2   3\n",
              "r2   7   8   9"
            ]
          },
          "metadata": {
            "tags": []
          },
          "execution_count": 35
        }
      ]
    },
    {
      "cell_type": "code",
      "metadata": {
        "colab": {
          "base_uri": "https://localhost:8080/",
          "height": 111
        },
        "id": "W6L1NM_h-1ml",
        "outputId": "ef2f1e94-992d-4c53-9935-07fd2ef133ce"
      },
      "source": [
        "frame.iloc[[0,1],[1,2,3]]"
      ],
      "execution_count": 43,
      "outputs": [
        {
          "output_type": "execute_result",
          "data": {
            "text/html": [
              "<div>\n",
              "<style scoped>\n",
              "    .dataframe tbody tr th:only-of-type {\n",
              "        vertical-align: middle;\n",
              "    }\n",
              "\n",
              "    .dataframe tbody tr th {\n",
              "        vertical-align: top;\n",
              "    }\n",
              "\n",
              "    .dataframe thead th {\n",
              "        text-align: right;\n",
              "    }\n",
              "</style>\n",
              "<table border=\"1\" class=\"dataframe\">\n",
              "  <thead>\n",
              "    <tr style=\"text-align: right;\">\n",
              "      <th></th>\n",
              "      <th>c2</th>\n",
              "      <th>c3</th>\n",
              "      <th>c4</th>\n",
              "    </tr>\n",
              "  </thead>\n",
              "  <tbody>\n",
              "    <tr>\n",
              "      <th>r1</th>\n",
              "      <td>1</td>\n",
              "      <td>2</td>\n",
              "      <td>3</td>\n",
              "    </tr>\n",
              "    <tr>\n",
              "      <th>r2</th>\n",
              "      <td>7</td>\n",
              "      <td>8</td>\n",
              "      <td>9</td>\n",
              "    </tr>\n",
              "  </tbody>\n",
              "</table>\n",
              "</div>"
            ],
            "text/plain": [
              "    c2  c3  c4\n",
              "r1   1   2   3\n",
              "r2   7   8   9"
            ]
          },
          "metadata": {
            "tags": []
          },
          "execution_count": 43
        }
      ]
    },
    {
      "cell_type": "code",
      "metadata": {
        "colab": {
          "base_uri": "https://localhost:8080/",
          "height": 111
        },
        "id": "XhxnfUFc_fv9",
        "outputId": "9462b054-1a01-4150-a426-657a7c009ed6"
      },
      "source": [
        "frame.iloc[0:2,1:4] #리스트로 줘도 되고 슬라이싱 조건으로 줘도 된다."
      ],
      "execution_count": 47,
      "outputs": [
        {
          "output_type": "execute_result",
          "data": {
            "text/html": [
              "<div>\n",
              "<style scoped>\n",
              "    .dataframe tbody tr th:only-of-type {\n",
              "        vertical-align: middle;\n",
              "    }\n",
              "\n",
              "    .dataframe tbody tr th {\n",
              "        vertical-align: top;\n",
              "    }\n",
              "\n",
              "    .dataframe thead th {\n",
              "        text-align: right;\n",
              "    }\n",
              "</style>\n",
              "<table border=\"1\" class=\"dataframe\">\n",
              "  <thead>\n",
              "    <tr style=\"text-align: right;\">\n",
              "      <th></th>\n",
              "      <th>c2</th>\n",
              "      <th>c3</th>\n",
              "      <th>c4</th>\n",
              "    </tr>\n",
              "  </thead>\n",
              "  <tbody>\n",
              "    <tr>\n",
              "      <th>r1</th>\n",
              "      <td>1</td>\n",
              "      <td>2</td>\n",
              "      <td>3</td>\n",
              "    </tr>\n",
              "    <tr>\n",
              "      <th>r2</th>\n",
              "      <td>7</td>\n",
              "      <td>8</td>\n",
              "      <td>9</td>\n",
              "    </tr>\n",
              "  </tbody>\n",
              "</table>\n",
              "</div>"
            ],
            "text/plain": [
              "    c2  c3  c4\n",
              "r1   1   2   3\n",
              "r2   7   8   9"
            ]
          },
          "metadata": {
            "tags": []
          },
          "execution_count": 47
        }
      ]
    },
    {
      "cell_type": "code",
      "metadata": {
        "colab": {
          "base_uri": "https://localhost:8080/",
          "height": 111
        },
        "id": "VzNAmG1IAEfi",
        "outputId": "5ecd25fb-dfc7-4e23-9905-750356222884"
      },
      "source": [
        "frame.loc['r1':'r2',['c2','c3','c4']] #라벨 슬라이싱은 끝라벨도 포함."
      ],
      "execution_count": 49,
      "outputs": [
        {
          "output_type": "execute_result",
          "data": {
            "text/html": [
              "<div>\n",
              "<style scoped>\n",
              "    .dataframe tbody tr th:only-of-type {\n",
              "        vertical-align: middle;\n",
              "    }\n",
              "\n",
              "    .dataframe tbody tr th {\n",
              "        vertical-align: top;\n",
              "    }\n",
              "\n",
              "    .dataframe thead th {\n",
              "        text-align: right;\n",
              "    }\n",
              "</style>\n",
              "<table border=\"1\" class=\"dataframe\">\n",
              "  <thead>\n",
              "    <tr style=\"text-align: right;\">\n",
              "      <th></th>\n",
              "      <th>c2</th>\n",
              "      <th>c3</th>\n",
              "      <th>c4</th>\n",
              "    </tr>\n",
              "  </thead>\n",
              "  <tbody>\n",
              "    <tr>\n",
              "      <th>r1</th>\n",
              "      <td>1</td>\n",
              "      <td>2</td>\n",
              "      <td>3</td>\n",
              "    </tr>\n",
              "    <tr>\n",
              "      <th>r2</th>\n",
              "      <td>7</td>\n",
              "      <td>8</td>\n",
              "      <td>9</td>\n",
              "    </tr>\n",
              "  </tbody>\n",
              "</table>\n",
              "</div>"
            ],
            "text/plain": [
              "    c2  c3  c4\n",
              "r1   1   2   3\n",
              "r2   7   8   9"
            ]
          },
          "metadata": {
            "tags": []
          },
          "execution_count": 49
        }
      ]
    },
    {
      "cell_type": "code",
      "metadata": {
        "colab": {
          "base_uri": "https://localhost:8080/"
        },
        "id": "kxqjlYPyFQbS",
        "outputId": "24d4b845-7d10-45e2-8437-2264f96790f9"
      },
      "source": [
        "s1 = pd.Series([1,2,3,4], index= ['a','b','c','d'])\n",
        "s3 = pd.Series([10,20,30,40], index=['a','b','c','d'])\n",
        "s3 = pd.Series([10,20,30,40], index=list('abcd'))\n",
        "s1+s2"
      ],
      "execution_count": 57,
      "outputs": [
        {
          "output_type": "execute_result",
          "data": {
            "text/plain": [
              "a    11\n",
              "b    22\n",
              "c    33\n",
              "d    44\n",
              "dtype: int64"
            ]
          },
          "metadata": {
            "tags": []
          },
          "execution_count": 57
        }
      ]
    },
    {
      "cell_type": "code",
      "metadata": {
        "colab": {
          "base_uri": "https://localhost:8080/"
        },
        "id": "WXKoArwSF05d",
        "outputId": "ea8a834e-32cd-434b-c7f6-03b9e061e78f"
      },
      "source": [
        "s1 = pd.Series([1,2,3,4], index=list('abcd'))\n",
        "s1 = pd.Series([2,2,2,2], index=list('bcde'))\n",
        "#시리즈는 짝이 맞지 않는 값은 NaN할당\n",
        "s1+s3"
      ],
      "execution_count": 59,
      "outputs": [
        {
          "output_type": "execute_result",
          "data": {
            "text/plain": [
              "a     NaN\n",
              "b    22.0\n",
              "c    32.0\n",
              "d    42.0\n",
              "e     NaN\n",
              "dtype: float64"
            ]
          },
          "metadata": {
            "tags": []
          },
          "execution_count": 59
        }
      ]
    },
    {
      "cell_type": "code",
      "metadata": {
        "colab": {
          "base_uri": "https://localhost:8080/"
        },
        "id": "lvg4nczrIs09",
        "outputId": "6281b84a-f0f4-4879-d581-f8f2dcb6cb44"
      },
      "source": [
        "# 결측치를 채워줄 수도 있음\n",
        "s1.add(s3, fill_value=0)"
      ],
      "execution_count": 60,
      "outputs": [
        {
          "output_type": "execute_result",
          "data": {
            "text/plain": [
              "a    10.0\n",
              "b    22.0\n",
              "c    32.0\n",
              "d    42.0\n",
              "e     2.0\n",
              "dtype: float64"
            ]
          },
          "metadata": {
            "tags": []
          },
          "execution_count": 60
        }
      ]
    },
    {
      "cell_type": "markdown",
      "metadata": {
        "id": "yIbX0eJ3IvRu"
      },
      "source": [
        "#기술 통계 계산과 요약"
      ]
    },
    {
      "cell_type": "code",
      "metadata": {
        "colab": {
          "base_uri": "https://localhost:8080/",
          "height": 204
        },
        "id": "DE8v3kuELmq6",
        "outputId": "74406cdd-72cf-464a-f753-906f32fb98da"
      },
      "source": [
        "# head/tail\n",
        "filepath = \"https://raw.githubusercontent.com/Youngpyoryu/SD_academy/main/%ED%8C%8C%EC%9D%B4%EC%8D%AC/kbo.csv\"\n",
        "df =  pd.read_csv(filepath)\n",
        "df.head()"
      ],
      "execution_count": 68,
      "outputs": [
        {
          "output_type": "execute_result",
          "data": {
            "text/html": [
              "<div>\n",
              "<style scoped>\n",
              "    .dataframe tbody tr th:only-of-type {\n",
              "        vertical-align: middle;\n",
              "    }\n",
              "\n",
              "    .dataframe tbody tr th {\n",
              "        vertical-align: top;\n",
              "    }\n",
              "\n",
              "    .dataframe thead th {\n",
              "        text-align: right;\n",
              "    }\n",
              "</style>\n",
              "<table border=\"1\" class=\"dataframe\">\n",
              "  <thead>\n",
              "    <tr style=\"text-align: right;\">\n",
              "      <th></th>\n",
              "      <th>연도</th>\n",
              "      <th>순위</th>\n",
              "      <th>팀</th>\n",
              "      <th>경기수</th>\n",
              "      <th>승</th>\n",
              "      <th>패</th>\n",
              "      <th>무</th>\n",
              "      <th>승률</th>\n",
              "      <th>게임차</th>\n",
              "    </tr>\n",
              "  </thead>\n",
              "  <tbody>\n",
              "    <tr>\n",
              "      <th>0</th>\n",
              "      <td>2019</td>\n",
              "      <td>1</td>\n",
              "      <td>두산</td>\n",
              "      <td>144</td>\n",
              "      <td>88</td>\n",
              "      <td>55</td>\n",
              "      <td>1</td>\n",
              "      <td>0.615</td>\n",
              "      <td>0.0</td>\n",
              "    </tr>\n",
              "    <tr>\n",
              "      <th>1</th>\n",
              "      <td>2019</td>\n",
              "      <td>2</td>\n",
              "      <td>키움</td>\n",
              "      <td>144</td>\n",
              "      <td>86</td>\n",
              "      <td>57</td>\n",
              "      <td>1</td>\n",
              "      <td>0.601</td>\n",
              "      <td>2.0</td>\n",
              "    </tr>\n",
              "    <tr>\n",
              "      <th>2</th>\n",
              "      <td>2019</td>\n",
              "      <td>3</td>\n",
              "      <td>SK</td>\n",
              "      <td>144</td>\n",
              "      <td>88</td>\n",
              "      <td>55</td>\n",
              "      <td>1</td>\n",
              "      <td>0.615</td>\n",
              "      <td>0.0</td>\n",
              "    </tr>\n",
              "    <tr>\n",
              "      <th>3</th>\n",
              "      <td>2019</td>\n",
              "      <td>4</td>\n",
              "      <td>LG</td>\n",
              "      <td>144</td>\n",
              "      <td>79</td>\n",
              "      <td>64</td>\n",
              "      <td>1</td>\n",
              "      <td>0.552</td>\n",
              "      <td>9.0</td>\n",
              "    </tr>\n",
              "    <tr>\n",
              "      <th>4</th>\n",
              "      <td>2019</td>\n",
              "      <td>5</td>\n",
              "      <td>NC</td>\n",
              "      <td>144</td>\n",
              "      <td>73</td>\n",
              "      <td>69</td>\n",
              "      <td>2</td>\n",
              "      <td>0.514</td>\n",
              "      <td>14.5</td>\n",
              "    </tr>\n",
              "  </tbody>\n",
              "</table>\n",
              "</div>"
            ],
            "text/plain": [
              "     연도  순위   팀  경기수   승   패  무     승률   게임차\n",
              "0  2019   1  두산  144  88  55  1  0.615   0.0\n",
              "1  2019   2  키움  144  86  57  1  0.601   2.0\n",
              "2  2019   3  SK  144  88  55  1  0.615   0.0\n",
              "3  2019   4  LG  144  79  64  1  0.552   9.0\n",
              "4  2019   5  NC  144  73  69  2  0.514  14.5"
            ]
          },
          "metadata": {
            "tags": []
          },
          "execution_count": 68
        }
      ]
    },
    {
      "cell_type": "code",
      "metadata": {
        "colab": {
          "base_uri": "https://localhost:8080/",
          "height": 204
        },
        "id": "oeEz93n6StMR",
        "outputId": "dba16a70-6114-4b11-ec86-2316dbb1af93"
      },
      "source": [
        "df.tail()"
      ],
      "execution_count": 69,
      "outputs": [
        {
          "output_type": "execute_result",
          "data": {
            "text/html": [
              "<div>\n",
              "<style scoped>\n",
              "    .dataframe tbody tr th:only-of-type {\n",
              "        vertical-align: middle;\n",
              "    }\n",
              "\n",
              "    .dataframe tbody tr th {\n",
              "        vertical-align: top;\n",
              "    }\n",
              "\n",
              "    .dataframe thead th {\n",
              "        text-align: right;\n",
              "    }\n",
              "</style>\n",
              "<table border=\"1\" class=\"dataframe\">\n",
              "  <thead>\n",
              "    <tr style=\"text-align: right;\">\n",
              "      <th></th>\n",
              "      <th>연도</th>\n",
              "      <th>순위</th>\n",
              "      <th>팀</th>\n",
              "      <th>경기수</th>\n",
              "      <th>승</th>\n",
              "      <th>패</th>\n",
              "      <th>무</th>\n",
              "      <th>승률</th>\n",
              "      <th>게임차</th>\n",
              "    </tr>\n",
              "  </thead>\n",
              "  <tbody>\n",
              "    <tr>\n",
              "      <th>25</th>\n",
              "      <td>2017</td>\n",
              "      <td>6</td>\n",
              "      <td>LG</td>\n",
              "      <td>144</td>\n",
              "      <td>69</td>\n",
              "      <td>72</td>\n",
              "      <td>3</td>\n",
              "      <td>0.489</td>\n",
              "      <td>17.0</td>\n",
              "    </tr>\n",
              "    <tr>\n",
              "      <th>26</th>\n",
              "      <td>2017</td>\n",
              "      <td>7</td>\n",
              "      <td>넥센</td>\n",
              "      <td>144</td>\n",
              "      <td>69</td>\n",
              "      <td>73</td>\n",
              "      <td>2</td>\n",
              "      <td>0.486</td>\n",
              "      <td>17.5</td>\n",
              "    </tr>\n",
              "    <tr>\n",
              "      <th>27</th>\n",
              "      <td>2017</td>\n",
              "      <td>8</td>\n",
              "      <td>한화</td>\n",
              "      <td>144</td>\n",
              "      <td>61</td>\n",
              "      <td>81</td>\n",
              "      <td>2</td>\n",
              "      <td>0.430</td>\n",
              "      <td>25.5</td>\n",
              "    </tr>\n",
              "    <tr>\n",
              "      <th>28</th>\n",
              "      <td>2017</td>\n",
              "      <td>9</td>\n",
              "      <td>삼성</td>\n",
              "      <td>144</td>\n",
              "      <td>55</td>\n",
              "      <td>84</td>\n",
              "      <td>5</td>\n",
              "      <td>0.396</td>\n",
              "      <td>30.0</td>\n",
              "    </tr>\n",
              "    <tr>\n",
              "      <th>29</th>\n",
              "      <td>2017</td>\n",
              "      <td>10</td>\n",
              "      <td>KT</td>\n",
              "      <td>144</td>\n",
              "      <td>50</td>\n",
              "      <td>94</td>\n",
              "      <td>0</td>\n",
              "      <td>0.347</td>\n",
              "      <td>37.5</td>\n",
              "    </tr>\n",
              "  </tbody>\n",
              "</table>\n",
              "</div>"
            ],
            "text/plain": [
              "      연도  순위   팀  경기수   승   패  무     승률   게임차\n",
              "25  2017   6  LG  144  69  72  3  0.489  17.0\n",
              "26  2017   7  넥센  144  69  73  2  0.486  17.5\n",
              "27  2017   8  한화  144  61  81  2  0.430  25.5\n",
              "28  2017   9  삼성  144  55  84  5  0.396  30.0\n",
              "29  2017  10  KT  144  50  94  0  0.347  37.5"
            ]
          },
          "metadata": {
            "tags": []
          },
          "execution_count": 69
        }
      ]
    },
    {
      "cell_type": "code",
      "metadata": {
        "colab": {
          "base_uri": "https://localhost:8080/",
          "height": 204
        },
        "id": "hRUMQ4muOg3j",
        "outputId": "8df9e350-6c7a-41ca-b8fa-265eb67b92d9"
      },
      "source": [
        "# head/tail\n",
        "filepath = \"https://raw.githubusercontent.com/Youngpyoryu/SD_academy/main/%ED%8C%8C%EC%9D%B4%EC%8D%AC/stock_2020_01.csv\"\n",
        "df =  pd.read_csv(filepath,encoding='cp949')\n",
        "df.head()"
      ],
      "execution_count": 66,
      "outputs": [
        {
          "output_type": "execute_result",
          "data": {
            "text/html": [
              "<div>\n",
              "<style scoped>\n",
              "    .dataframe tbody tr th:only-of-type {\n",
              "        vertical-align: middle;\n",
              "    }\n",
              "\n",
              "    .dataframe tbody tr th {\n",
              "        vertical-align: top;\n",
              "    }\n",
              "\n",
              "    .dataframe thead th {\n",
              "        text-align: right;\n",
              "    }\n",
              "</style>\n",
              "<table border=\"1\" class=\"dataframe\">\n",
              "  <thead>\n",
              "    <tr style=\"text-align: right;\">\n",
              "      <th></th>\n",
              "      <th>Date</th>\n",
              "      <th>kospi</th>\n",
              "      <th>kosdaq</th>\n",
              "      <th>gold_fut_132030</th>\n",
              "      <th>Bond_273130</th>\n",
              "    </tr>\n",
              "  </thead>\n",
              "  <tbody>\n",
              "    <tr>\n",
              "      <th>0</th>\n",
              "      <td>2020. 1. 2 오후 3:30:00</td>\n",
              "      <td>2175.17</td>\n",
              "      <td>674.02</td>\n",
              "      <td>10845</td>\n",
              "      <td>108215</td>\n",
              "    </tr>\n",
              "    <tr>\n",
              "      <th>1</th>\n",
              "      <td>2020. 1. 3 오후 3:30:00</td>\n",
              "      <td>2176.46</td>\n",
              "      <td>669.93</td>\n",
              "      <td>11000</td>\n",
              "      <td>108565</td>\n",
              "    </tr>\n",
              "    <tr>\n",
              "      <th>2</th>\n",
              "      <td>2020. 1. 6 오후 3:30:00</td>\n",
              "      <td>2155.07</td>\n",
              "      <td>655.31</td>\n",
              "      <td>11245</td>\n",
              "      <td>108745</td>\n",
              "    </tr>\n",
              "    <tr>\n",
              "      <th>3</th>\n",
              "      <td>2020. 1. 7 오후 3:30:00</td>\n",
              "      <td>2175.54</td>\n",
              "      <td>663.44</td>\n",
              "      <td>11180</td>\n",
              "      <td>108400</td>\n",
              "    </tr>\n",
              "    <tr>\n",
              "      <th>4</th>\n",
              "      <td>2020. 1. 8 오후 3:30:00</td>\n",
              "      <td>2151.31</td>\n",
              "      <td>640.94</td>\n",
              "      <td>11360</td>\n",
              "      <td>108270</td>\n",
              "    </tr>\n",
              "  </tbody>\n",
              "</table>\n",
              "</div>"
            ],
            "text/plain": [
              "                    Date    kospi  kosdaq  gold_fut_132030  Bond_273130\n",
              "0  2020. 1. 2 오후 3:30:00  2175.17  674.02            10845       108215\n",
              "1  2020. 1. 3 오후 3:30:00  2176.46  669.93            11000       108565\n",
              "2  2020. 1. 6 오후 3:30:00  2155.07  655.31            11245       108745\n",
              "3  2020. 1. 7 오후 3:30:00  2175.54  663.44            11180       108400\n",
              "4  2020. 1. 8 오후 3:30:00  2151.31  640.94            11360       108270"
            ]
          },
          "metadata": {
            "tags": []
          },
          "execution_count": 66
        }
      ]
    },
    {
      "cell_type": "code",
      "metadata": {
        "colab": {
          "base_uri": "https://localhost:8080/"
        },
        "id": "esu6fJJsOxrC",
        "outputId": "3f696100-bd7b-4b99-d72c-0cf4cc55df36"
      },
      "source": [
        "df.shape"
      ],
      "execution_count": 72,
      "outputs": [
        {
          "output_type": "execute_result",
          "data": {
            "text/plain": [
              "(30, 9)"
            ]
          },
          "metadata": {
            "tags": []
          },
          "execution_count": 72
        }
      ]
    },
    {
      "cell_type": "code",
      "metadata": {
        "colab": {
          "base_uri": "https://localhost:8080/",
          "height": 297
        },
        "id": "N7O33B9KS8_V",
        "outputId": "084e9656-2608-4abe-f9b3-030b8ac48e91"
      },
      "source": [
        "df.describe()"
      ],
      "execution_count": 74,
      "outputs": [
        {
          "output_type": "execute_result",
          "data": {
            "text/html": [
              "<div>\n",
              "<style scoped>\n",
              "    .dataframe tbody tr th:only-of-type {\n",
              "        vertical-align: middle;\n",
              "    }\n",
              "\n",
              "    .dataframe tbody tr th {\n",
              "        vertical-align: top;\n",
              "    }\n",
              "\n",
              "    .dataframe thead th {\n",
              "        text-align: right;\n",
              "    }\n",
              "</style>\n",
              "<table border=\"1\" class=\"dataframe\">\n",
              "  <thead>\n",
              "    <tr style=\"text-align: right;\">\n",
              "      <th></th>\n",
              "      <th>연도</th>\n",
              "      <th>순위</th>\n",
              "      <th>경기수</th>\n",
              "      <th>승</th>\n",
              "      <th>패</th>\n",
              "      <th>무</th>\n",
              "      <th>승률</th>\n",
              "      <th>게임차</th>\n",
              "    </tr>\n",
              "  </thead>\n",
              "  <tbody>\n",
              "    <tr>\n",
              "      <th>count</th>\n",
              "      <td>30.000000</td>\n",
              "      <td>30.000000</td>\n",
              "      <td>30.0</td>\n",
              "      <td>30.000000</td>\n",
              "      <td>30.000000</td>\n",
              "      <td>30.000000</td>\n",
              "      <td>30.000000</td>\n",
              "      <td>30.000000</td>\n",
              "    </tr>\n",
              "    <tr>\n",
              "      <th>mean</th>\n",
              "      <td>2018.000000</td>\n",
              "      <td>5.466667</td>\n",
              "      <td>144.0</td>\n",
              "      <td>71.200000</td>\n",
              "      <td>71.200000</td>\n",
              "      <td>1.600000</td>\n",
              "      <td>0.499800</td>\n",
              "      <td>12.833333</td>\n",
              "    </tr>\n",
              "    <tr>\n",
              "      <th>std</th>\n",
              "      <td>0.830455</td>\n",
              "      <td>2.921187</td>\n",
              "      <td>0.0</td>\n",
              "      <td>11.871147</td>\n",
              "      <td>11.591912</td>\n",
              "      <td>1.275769</td>\n",
              "      <td>0.082079</td>\n",
              "      <td>12.576204</td>\n",
              "    </tr>\n",
              "    <tr>\n",
              "      <th>min</th>\n",
              "      <td>2017.000000</td>\n",
              "      <td>1.000000</td>\n",
              "      <td>144.0</td>\n",
              "      <td>48.000000</td>\n",
              "      <td>51.000000</td>\n",
              "      <td>0.000000</td>\n",
              "      <td>0.340000</td>\n",
              "      <td>-14.500000</td>\n",
              "    </tr>\n",
              "    <tr>\n",
              "      <th>25%</th>\n",
              "      <td>2017.000000</td>\n",
              "      <td>3.000000</td>\n",
              "      <td>144.0</td>\n",
              "      <td>61.250000</td>\n",
              "      <td>62.500000</td>\n",
              "      <td>1.000000</td>\n",
              "      <td>0.431750</td>\n",
              "      <td>2.375000</td>\n",
              "    </tr>\n",
              "    <tr>\n",
              "      <th>50%</th>\n",
              "      <td>2018.000000</td>\n",
              "      <td>5.000000</td>\n",
              "      <td>144.0</td>\n",
              "      <td>70.500000</td>\n",
              "      <td>71.500000</td>\n",
              "      <td>1.000000</td>\n",
              "      <td>0.494500</td>\n",
              "      <td>9.750000</td>\n",
              "    </tr>\n",
              "    <tr>\n",
              "      <th>75%</th>\n",
              "      <td>2019.000000</td>\n",
              "      <td>8.000000</td>\n",
              "      <td>144.0</td>\n",
              "      <td>79.000000</td>\n",
              "      <td>80.750000</td>\n",
              "      <td>2.000000</td>\n",
              "      <td>0.558000</td>\n",
              "      <td>19.500000</td>\n",
              "    </tr>\n",
              "    <tr>\n",
              "      <th>max</th>\n",
              "      <td>2019.000000</td>\n",
              "      <td>10.000000</td>\n",
              "      <td>144.0</td>\n",
              "      <td>93.000000</td>\n",
              "      <td>94.000000</td>\n",
              "      <td>5.000000</td>\n",
              "      <td>0.646000</td>\n",
              "      <td>39.000000</td>\n",
              "    </tr>\n",
              "  </tbody>\n",
              "</table>\n",
              "</div>"
            ],
            "text/plain": [
              "                연도         순위    경기수  ...          무         승률        게임차\n",
              "count    30.000000  30.000000   30.0  ...  30.000000  30.000000  30.000000\n",
              "mean   2018.000000   5.466667  144.0  ...   1.600000   0.499800  12.833333\n",
              "std       0.830455   2.921187    0.0  ...   1.275769   0.082079  12.576204\n",
              "min    2017.000000   1.000000  144.0  ...   0.000000   0.340000 -14.500000\n",
              "25%    2017.000000   3.000000  144.0  ...   1.000000   0.431750   2.375000\n",
              "50%    2018.000000   5.000000  144.0  ...   1.000000   0.494500   9.750000\n",
              "75%    2019.000000   8.000000  144.0  ...   2.000000   0.558000  19.500000\n",
              "max    2019.000000  10.000000  144.0  ...   5.000000   0.646000  39.000000\n",
              "\n",
              "[8 rows x 8 columns]"
            ]
          },
          "metadata": {
            "tags": []
          },
          "execution_count": 74
        }
      ]
    },
    {
      "cell_type": "code",
      "metadata": {
        "colab": {
          "base_uri": "https://localhost:8080/"
        },
        "id": "VahM1lDtT_QE",
        "outputId": "8d28c9a1-bb7f-40a3-80d0-d89511715c00"
      },
      "source": [
        "df.columns #features"
      ],
      "execution_count": 75,
      "outputs": [
        {
          "output_type": "execute_result",
          "data": {
            "text/plain": [
              "Index(['연도', '순위', '팀', '경기수', '승', '패', '무', '승률', '게임차'], dtype='object')"
            ]
          },
          "metadata": {
            "tags": []
          },
          "execution_count": 75
        }
      ]
    },
    {
      "cell_type": "code",
      "metadata": {
        "colab": {
          "base_uri": "https://localhost:8080/"
        },
        "id": "Ykp2zHDzUE6Q",
        "outputId": "494193d6-addc-4c94-b46b-756dbba8ff5e"
      },
      "source": [
        "obj = pd.Series([2,1,3,3,1,np.nan,34,5])\n",
        "obj.unique() #중복 삭제"
      ],
      "execution_count": 79,
      "outputs": [
        {
          "output_type": "execute_result",
          "data": {
            "text/plain": [
              "array([ 2.,  1.,  3., nan, 34.,  5.])"
            ]
          },
          "metadata": {
            "tags": []
          },
          "execution_count": 79
        }
      ]
    },
    {
      "cell_type": "code",
      "metadata": {
        "id": "UiM6oP2FU1M7"
      },
      "source": [
        "obj.values"
      ],
      "execution_count": null,
      "outputs": []
    },
    {
      "cell_type": "code",
      "metadata": {
        "colab": {
          "base_uri": "https://localhost:8080/"
        },
        "id": "-yH8bXpnVDgp",
        "outputId": "156ddcbf-5e50-4abf-f358-14dc56bb2d6d"
      },
      "source": [
        "obj.value_counts()"
      ],
      "execution_count": 83,
      "outputs": [
        {
          "output_type": "execute_result",
          "data": {
            "text/plain": [
              "3.0     2\n",
              "1.0     2\n",
              "5.0     1\n",
              "34.0    1\n",
              "2.0     1\n",
              "dtype: int64"
            ]
          },
          "metadata": {
            "tags": []
          },
          "execution_count": 83
        }
      ]
    },
    {
      "cell_type": "code",
      "metadata": {
        "colab": {
          "base_uri": "https://localhost:8080/"
        },
        "id": "IPvnusq_VKI2",
        "outputId": "11056c63-8d57-4721-8f2a-a36c9e42c21e"
      },
      "source": [
        "obj.value_counts(normalize=True)"
      ],
      "execution_count": 84,
      "outputs": [
        {
          "output_type": "execute_result",
          "data": {
            "text/plain": [
              "3.0     0.285714\n",
              "1.0     0.285714\n",
              "5.0     0.142857\n",
              "34.0    0.142857\n",
              "2.0     0.142857\n",
              "dtype: float64"
            ]
          },
          "metadata": {
            "tags": []
          },
          "execution_count": 84
        }
      ]
    },
    {
      "cell_type": "code",
      "metadata": {
        "id": "a5EkcLTyV9cq"
      },
      "source": [
        "#정규분포, 정규화(노말라이징) 이유, (벡터 노말라이징?)"
      ],
      "execution_count": null,
      "outputs": []
    },
    {
      "cell_type": "code",
      "metadata": {
        "id": "at7jlJWcYMZU"
      },
      "source": [
        "obj.sort_index() #axis = 0 : 인덱스, 1 : 컬럼"
      ],
      "execution_count": null,
      "outputs": []
    },
    {
      "cell_type": "code",
      "metadata": {
        "colab": {
          "base_uri": "https://localhost:8080/"
        },
        "id": "ICsDkePZYYIX",
        "outputId": "cf5bced1-3874-40f9-edc9-0452dd0a6835"
      },
      "source": [
        "obj.sort_index(ascending=True) #오름, 내림 차순"
      ],
      "execution_count": 88,
      "outputs": [
        {
          "output_type": "execute_result",
          "data": {
            "text/plain": [
              "0     2.0\n",
              "1     1.0\n",
              "2     3.0\n",
              "3     3.0\n",
              "4     1.0\n",
              "5     NaN\n",
              "6    34.0\n",
              "7     5.0\n",
              "dtype: float64"
            ]
          },
          "metadata": {
            "tags": []
          },
          "execution_count": 88
        }
      ]
    },
    {
      "cell_type": "code",
      "metadata": {
        "colab": {
          "base_uri": "https://localhost:8080/"
        },
        "id": "v7w1pqLiYxiw",
        "outputId": "d9983c3c-7349-40f2-9a6b-e75f7f94277d"
      },
      "source": [
        "obj.sort_values()"
      ],
      "execution_count": 89,
      "outputs": [
        {
          "output_type": "execute_result",
          "data": {
            "text/plain": [
              "1     1.0\n",
              "4     1.0\n",
              "0     2.0\n",
              "2     3.0\n",
              "3     3.0\n",
              "7     5.0\n",
              "6    34.0\n",
              "5     NaN\n",
              "dtype: float64"
            ]
          },
          "metadata": {
            "tags": []
          },
          "execution_count": 89
        }
      ]
    },
    {
      "cell_type": "code",
      "metadata": {
        "colab": {
          "base_uri": "https://localhost:8080/"
        },
        "id": "1HwPPWkeZj4H",
        "outputId": "45e6d743-f41b-4b0f-e8fa-007508220a61"
      },
      "source": [
        "obj.sort_values(na_position='first')"
      ],
      "execution_count": 90,
      "outputs": [
        {
          "output_type": "execute_result",
          "data": {
            "text/plain": [
              "5     NaN\n",
              "1     1.0\n",
              "4     1.0\n",
              "0     2.0\n",
              "2     3.0\n",
              "3     3.0\n",
              "7     5.0\n",
              "6    34.0\n",
              "dtype: float64"
            ]
          },
          "metadata": {
            "tags": []
          },
          "execution_count": 90
        }
      ]
    },
    {
      "cell_type": "code",
      "metadata": {
        "colab": {
          "base_uri": "https://localhost:8080/",
          "height": 142
        },
        "id": "DqkTwmDytQoi",
        "outputId": "946c93fb-8d10-4eee-f9e3-d7efae16e1ff"
      },
      "source": [
        "frame = pd.DataFrame(np.arange(9).reshape(3,3),columns=list('def'),index=list('abc'))\n",
        "frame"
      ],
      "execution_count": 92,
      "outputs": [
        {
          "output_type": "execute_result",
          "data": {
            "text/html": [
              "<div>\n",
              "<style scoped>\n",
              "    .dataframe tbody tr th:only-of-type {\n",
              "        vertical-align: middle;\n",
              "    }\n",
              "\n",
              "    .dataframe tbody tr th {\n",
              "        vertical-align: top;\n",
              "    }\n",
              "\n",
              "    .dataframe thead th {\n",
              "        text-align: right;\n",
              "    }\n",
              "</style>\n",
              "<table border=\"1\" class=\"dataframe\">\n",
              "  <thead>\n",
              "    <tr style=\"text-align: right;\">\n",
              "      <th></th>\n",
              "      <th>d</th>\n",
              "      <th>e</th>\n",
              "      <th>f</th>\n",
              "    </tr>\n",
              "  </thead>\n",
              "  <tbody>\n",
              "    <tr>\n",
              "      <th>a</th>\n",
              "      <td>0</td>\n",
              "      <td>1</td>\n",
              "      <td>2</td>\n",
              "    </tr>\n",
              "    <tr>\n",
              "      <th>b</th>\n",
              "      <td>3</td>\n",
              "      <td>4</td>\n",
              "      <td>5</td>\n",
              "    </tr>\n",
              "    <tr>\n",
              "      <th>c</th>\n",
              "      <td>6</td>\n",
              "      <td>7</td>\n",
              "      <td>8</td>\n",
              "    </tr>\n",
              "  </tbody>\n",
              "</table>\n",
              "</div>"
            ],
            "text/plain": [
              "   d  e  f\n",
              "a  0  1  2\n",
              "b  3  4  5\n",
              "c  6  7  8"
            ]
          },
          "metadata": {
            "tags": []
          },
          "execution_count": 92
        }
      ]
    },
    {
      "cell_type": "code",
      "metadata": {
        "colab": {
          "base_uri": "https://localhost:8080/"
        },
        "id": "arXMGYD5t6CP",
        "outputId": "ee47e191-743e-416f-bce0-c3a94e66fbfb"
      },
      "source": [
        "#series.apply(func,arg,**kwds)\n",
        "#func:적용될 함수\n",
        "#args: series를 제외한 함수에 들어갈 다른 매개변수\n",
        "#**kwds:함수에 넘겨줄 키워드 인자들\n",
        "\n",
        "s=pd.Series([20,21,12],index='London,New York,Helsinki'.split(','))\n",
        "s\n"
      ],
      "execution_count": 102,
      "outputs": [
        {
          "output_type": "execute_result",
          "data": {
            "text/plain": [
              "London      20\n",
              "New York    21\n",
              "Helsinki    12\n",
              "dtype: int64"
            ]
          },
          "metadata": {
            "tags": []
          },
          "execution_count": 102
        }
      ]
    },
    {
      "cell_type": "code",
      "metadata": {
        "colab": {
          "base_uri": "https://localhost:8080/"
        },
        "id": "PJhCg9BIxOSJ",
        "outputId": "5d62b918-14ce-4030-9d53-a03001061bee"
      },
      "source": [
        "def sub_custom_values(x,val):\n",
        "    return x-val\n",
        "s.apply(sub_custom_values,args=(10,))"
      ],
      "execution_count": 106,
      "outputs": [
        {
          "output_type": "execute_result",
          "data": {
            "text/plain": [
              "London      10\n",
              "New York    11\n",
              "Helsinki     2\n",
              "dtype: int64"
            ]
          },
          "metadata": {
            "tags": []
          },
          "execution_count": 106
        }
      ]
    },
    {
      "cell_type": "code",
      "metadata": {
        "colab": {
          "base_uri": "https://localhost:8080/"
        },
        "id": "6taAYguSxeJY",
        "outputId": "3ba6a4f1-07de-4d7d-c48e-3fe8d9cead95"
      },
      "source": [
        "def add_custom_values(x, **kwargs):\n",
        "    for month in kwargs:\n",
        "        x+=kwargs[month]\n",
        "    return x\n",
        "\n",
        "s.apply(add_custom_values, june=30, july=20, august=25)"
      ],
      "execution_count": 110,
      "outputs": [
        {
          "output_type": "execute_result",
          "data": {
            "text/plain": [
              "London      95\n",
              "New York    96\n",
              "Helsinki    87\n",
              "dtype: int64"
            ]
          },
          "metadata": {
            "tags": []
          },
          "execution_count": 110
        }
      ]
    },
    {
      "cell_type": "code",
      "metadata": {
        "colab": {
          "base_uri": "https://localhost:8080/",
          "height": 142
        },
        "id": "kiz605-xzcpz",
        "outputId": "b06e2385-aa72-44ee-93ed-949d6931bada"
      },
      "source": [
        "frame=pd.DataFrame(np.arange(12).reshape(3,-1),columns=list('abcd'))\n",
        "frame"
      ],
      "execution_count": 112,
      "outputs": [
        {
          "output_type": "execute_result",
          "data": {
            "text/html": [
              "<div>\n",
              "<style scoped>\n",
              "    .dataframe tbody tr th:only-of-type {\n",
              "        vertical-align: middle;\n",
              "    }\n",
              "\n",
              "    .dataframe tbody tr th {\n",
              "        vertical-align: top;\n",
              "    }\n",
              "\n",
              "    .dataframe thead th {\n",
              "        text-align: right;\n",
              "    }\n",
              "</style>\n",
              "<table border=\"1\" class=\"dataframe\">\n",
              "  <thead>\n",
              "    <tr style=\"text-align: right;\">\n",
              "      <th></th>\n",
              "      <th>a</th>\n",
              "      <th>b</th>\n",
              "      <th>c</th>\n",
              "      <th>d</th>\n",
              "    </tr>\n",
              "  </thead>\n",
              "  <tbody>\n",
              "    <tr>\n",
              "      <th>0</th>\n",
              "      <td>0</td>\n",
              "      <td>1</td>\n",
              "      <td>2</td>\n",
              "      <td>3</td>\n",
              "    </tr>\n",
              "    <tr>\n",
              "      <th>1</th>\n",
              "      <td>4</td>\n",
              "      <td>5</td>\n",
              "      <td>6</td>\n",
              "      <td>7</td>\n",
              "    </tr>\n",
              "    <tr>\n",
              "      <th>2</th>\n",
              "      <td>8</td>\n",
              "      <td>9</td>\n",
              "      <td>10</td>\n",
              "      <td>11</td>\n",
              "    </tr>\n",
              "  </tbody>\n",
              "</table>\n",
              "</div>"
            ],
            "text/plain": [
              "   a  b   c   d\n",
              "0  0  1   2   3\n",
              "1  4  5   6   7\n",
              "2  8  9  10  11"
            ]
          },
          "metadata": {
            "tags": []
          },
          "execution_count": 112
        }
      ]
    },
    {
      "cell_type": "code",
      "metadata": {
        "colab": {
          "base_uri": "https://localhost:8080/",
          "height": 142
        },
        "id": "1yOIhRiE7LO0",
        "outputId": "a5fbef7c-887c-47a7-a563-7cf1ee638c2f"
      },
      "source": [
        "frame.applymap(lambda x:x**2)"
      ],
      "execution_count": 113,
      "outputs": [
        {
          "output_type": "execute_result",
          "data": {
            "text/html": [
              "<div>\n",
              "<style scoped>\n",
              "    .dataframe tbody tr th:only-of-type {\n",
              "        vertical-align: middle;\n",
              "    }\n",
              "\n",
              "    .dataframe tbody tr th {\n",
              "        vertical-align: top;\n",
              "    }\n",
              "\n",
              "    .dataframe thead th {\n",
              "        text-align: right;\n",
              "    }\n",
              "</style>\n",
              "<table border=\"1\" class=\"dataframe\">\n",
              "  <thead>\n",
              "    <tr style=\"text-align: right;\">\n",
              "      <th></th>\n",
              "      <th>a</th>\n",
              "      <th>b</th>\n",
              "      <th>c</th>\n",
              "      <th>d</th>\n",
              "    </tr>\n",
              "  </thead>\n",
              "  <tbody>\n",
              "    <tr>\n",
              "      <th>0</th>\n",
              "      <td>0</td>\n",
              "      <td>1</td>\n",
              "      <td>4</td>\n",
              "      <td>9</td>\n",
              "    </tr>\n",
              "    <tr>\n",
              "      <th>1</th>\n",
              "      <td>16</td>\n",
              "      <td>25</td>\n",
              "      <td>36</td>\n",
              "      <td>49</td>\n",
              "    </tr>\n",
              "    <tr>\n",
              "      <th>2</th>\n",
              "      <td>64</td>\n",
              "      <td>81</td>\n",
              "      <td>100</td>\n",
              "      <td>121</td>\n",
              "    </tr>\n",
              "  </tbody>\n",
              "</table>\n",
              "</div>"
            ],
            "text/plain": [
              "    a   b    c    d\n",
              "0   0   1    4    9\n",
              "1  16  25   36   49\n",
              "2  64  81  100  121"
            ]
          },
          "metadata": {
            "tags": []
          },
          "execution_count": 113
        }
      ]
    },
    {
      "cell_type": "code",
      "metadata": {
        "colab": {
          "base_uri": "https://localhost:8080/",
          "height": 173
        },
        "id": "9EMxVyFu7sZl",
        "outputId": "985e801d-c32f-4753-d152-331715a14932"
      },
      "source": [
        "frame=pd.DataFrame(np.arange(16).reshape(4,-1),columns='c1 c2 c3 c4'.split(),index='r1 r2 r3 r4'.split())\n",
        "frame"
      ],
      "execution_count": 114,
      "outputs": [
        {
          "output_type": "execute_result",
          "data": {
            "text/html": [
              "<div>\n",
              "<style scoped>\n",
              "    .dataframe tbody tr th:only-of-type {\n",
              "        vertical-align: middle;\n",
              "    }\n",
              "\n",
              "    .dataframe tbody tr th {\n",
              "        vertical-align: top;\n",
              "    }\n",
              "\n",
              "    .dataframe thead th {\n",
              "        text-align: right;\n",
              "    }\n",
              "</style>\n",
              "<table border=\"1\" class=\"dataframe\">\n",
              "  <thead>\n",
              "    <tr style=\"text-align: right;\">\n",
              "      <th></th>\n",
              "      <th>c1</th>\n",
              "      <th>c2</th>\n",
              "      <th>c3</th>\n",
              "      <th>c4</th>\n",
              "    </tr>\n",
              "  </thead>\n",
              "  <tbody>\n",
              "    <tr>\n",
              "      <th>r1</th>\n",
              "      <td>0</td>\n",
              "      <td>1</td>\n",
              "      <td>2</td>\n",
              "      <td>3</td>\n",
              "    </tr>\n",
              "    <tr>\n",
              "      <th>r2</th>\n",
              "      <td>4</td>\n",
              "      <td>5</td>\n",
              "      <td>6</td>\n",
              "      <td>7</td>\n",
              "    </tr>\n",
              "    <tr>\n",
              "      <th>r3</th>\n",
              "      <td>8</td>\n",
              "      <td>9</td>\n",
              "      <td>10</td>\n",
              "      <td>11</td>\n",
              "    </tr>\n",
              "    <tr>\n",
              "      <th>r4</th>\n",
              "      <td>12</td>\n",
              "      <td>13</td>\n",
              "      <td>14</td>\n",
              "      <td>15</td>\n",
              "    </tr>\n",
              "  </tbody>\n",
              "</table>\n",
              "</div>"
            ],
            "text/plain": [
              "    c1  c2  c3  c4\n",
              "r1   0   1   2   3\n",
              "r2   4   5   6   7\n",
              "r3   8   9  10  11\n",
              "r4  12  13  14  15"
            ]
          },
          "metadata": {
            "tags": []
          },
          "execution_count": 114
        }
      ]
    },
    {
      "cell_type": "code",
      "metadata": {
        "colab": {
          "base_uri": "https://localhost:8080/",
          "height": 142
        },
        "id": "bgmMN2Lk7_jD",
        "outputId": "7748913c-79fb-4b8f-ecc6-2ab1fb79c7b3"
      },
      "source": [
        "frame_1 = frame.drop('r1') #리턴 없음\n",
        "frame_1"
      ],
      "execution_count": 116,
      "outputs": [
        {
          "output_type": "execute_result",
          "data": {
            "text/html": [
              "<div>\n",
              "<style scoped>\n",
              "    .dataframe tbody tr th:only-of-type {\n",
              "        vertical-align: middle;\n",
              "    }\n",
              "\n",
              "    .dataframe tbody tr th {\n",
              "        vertical-align: top;\n",
              "    }\n",
              "\n",
              "    .dataframe thead th {\n",
              "        text-align: right;\n",
              "    }\n",
              "</style>\n",
              "<table border=\"1\" class=\"dataframe\">\n",
              "  <thead>\n",
              "    <tr style=\"text-align: right;\">\n",
              "      <th></th>\n",
              "      <th>c1</th>\n",
              "      <th>c2</th>\n",
              "      <th>c3</th>\n",
              "      <th>c4</th>\n",
              "    </tr>\n",
              "  </thead>\n",
              "  <tbody>\n",
              "    <tr>\n",
              "      <th>r2</th>\n",
              "      <td>4</td>\n",
              "      <td>5</td>\n",
              "      <td>6</td>\n",
              "      <td>7</td>\n",
              "    </tr>\n",
              "    <tr>\n",
              "      <th>r3</th>\n",
              "      <td>8</td>\n",
              "      <td>9</td>\n",
              "      <td>10</td>\n",
              "      <td>11</td>\n",
              "    </tr>\n",
              "    <tr>\n",
              "      <th>r4</th>\n",
              "      <td>12</td>\n",
              "      <td>13</td>\n",
              "      <td>14</td>\n",
              "      <td>15</td>\n",
              "    </tr>\n",
              "  </tbody>\n",
              "</table>\n",
              "</div>"
            ],
            "text/plain": [
              "    c1  c2  c3  c4\n",
              "r2   4   5   6   7\n",
              "r3   8   9  10  11\n",
              "r4  12  13  14  15"
            ]
          },
          "metadata": {
            "tags": []
          },
          "execution_count": 116
        }
      ]
    },
    {
      "cell_type": "code",
      "metadata": {
        "colab": {
          "base_uri": "https://localhost:8080/",
          "height": 173
        },
        "id": "p-sZ5qX18M3s",
        "outputId": "9e2a32db-34e8-4985-976c-8fec5df70331"
      },
      "source": [
        "frame_1 = frame.drop('c1',axis=1)# 컬럼 접근하려면 axis 설정\n",
        "frame_1 = frame.drop(columns=['c1','c2'])#동일효과\n",
        "#frame.drop(columns=['c1'],inplace=True)하면 결과 반영됨. 잘 안씀 -> 백업없이 삭제 위험\n",
        "frame_1"
      ],
      "execution_count": 124,
      "outputs": [
        {
          "output_type": "execute_result",
          "data": {
            "text/html": [
              "<div>\n",
              "<style scoped>\n",
              "    .dataframe tbody tr th:only-of-type {\n",
              "        vertical-align: middle;\n",
              "    }\n",
              "\n",
              "    .dataframe tbody tr th {\n",
              "        vertical-align: top;\n",
              "    }\n",
              "\n",
              "    .dataframe thead th {\n",
              "        text-align: right;\n",
              "    }\n",
              "</style>\n",
              "<table border=\"1\" class=\"dataframe\">\n",
              "  <thead>\n",
              "    <tr style=\"text-align: right;\">\n",
              "      <th></th>\n",
              "      <th>c3</th>\n",
              "      <th>c4</th>\n",
              "    </tr>\n",
              "  </thead>\n",
              "  <tbody>\n",
              "    <tr>\n",
              "      <th>r1</th>\n",
              "      <td>2</td>\n",
              "      <td>3</td>\n",
              "    </tr>\n",
              "    <tr>\n",
              "      <th>r2</th>\n",
              "      <td>6</td>\n",
              "      <td>7</td>\n",
              "    </tr>\n",
              "    <tr>\n",
              "      <th>r3</th>\n",
              "      <td>10</td>\n",
              "      <td>11</td>\n",
              "    </tr>\n",
              "    <tr>\n",
              "      <th>r4</th>\n",
              "      <td>14</td>\n",
              "      <td>15</td>\n",
              "    </tr>\n",
              "  </tbody>\n",
              "</table>\n",
              "</div>"
            ],
            "text/plain": [
              "    c3  c4\n",
              "r1   2   3\n",
              "r2   6   7\n",
              "r3  10  11\n",
              "r4  14  15"
            ]
          },
          "metadata": {
            "tags": []
          },
          "execution_count": 124
        }
      ]
    },
    {
      "cell_type": "code",
      "metadata": {
        "id": "afiliswo_tVk"
      },
      "source": [
        "## 데이터 병합 merge"
      ],
      "execution_count": null,
      "outputs": []
    },
    {
      "cell_type": "markdown",
      "metadata": {
        "id": "2yVfmFqYFNww"
      },
      "source": [
        "# frame.fillna()\n",
        "\n",
        "### method : {'backfill', 'bfill', 'pad', 'ffill', None}, default None\n",
        "###     Method to use for filling holes in reindexed Series\n",
        "###     pad / ffill: propagate last valid observation forward to next valid\n",
        "###     backfill / bfill: use next valid observation to fill gap."
      ]
    }
  ]
}