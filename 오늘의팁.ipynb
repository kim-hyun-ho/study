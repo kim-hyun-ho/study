{
  "nbformat": 4,
  "nbformat_minor": 0,
  "metadata": {
    "colab": {
      "name": "오늘의팁.ipynb",
      "provenance": [],
      "collapsed_sections": [],
      "authorship_tag": "ABX9TyORWq+6DAn1y6VVtfB2avQe",
      "include_colab_link": true
    },
    "kernelspec": {
      "name": "python3",
      "display_name": "Python 3"
    },
    "language_info": {
      "name": "python"
    }
  },
  "cells": [
    {
      "cell_type": "markdown",
      "metadata": {
        "id": "view-in-github",
        "colab_type": "text"
      },
      "source": [
        "<a href=\"https://colab.research.google.com/github/kim-hyun-ho/study/blob/main/%EC%98%A4%EB%8A%98%EC%9D%98%ED%8C%81.ipynb\" target=\"_parent\"><img src=\"https://colab.research.google.com/assets/colab-badge.svg\" alt=\"Open In Colab\"/></a>"
      ]
    },
    {
      "cell_type": "markdown",
      "metadata": {
        "id": "zb_8ruyTS3PE"
      },
      "source": [
        "#오늘의 팁\n",
        "* 자료가 많으면 .describe() 시간이 많이 걸린다.\n",
        "* 문자열 슬라이싱에 .slice() 도 있다.\n",
        "* DataFrame[ (조건1) & (조건2) ] 여러 조건일 때는 반드시 괄호로 감싸라.\n",
        "* plt 그리기도 많이 그릴땐 느리다 튜닝 가능\n",
        "* 한 그래프에 여러개 그릴때 X축이 문자열이면 toDateTime\n",
        "* 시계열 데이터 .resample()은 시간 컬럼을 인덱스로 주어라\n",
        "* drop_duplicates('', keep='last') 중복 중 남길것 선택 가능\n",
        "\n",
        "* groupby() 하고 컬럼으로 바꾸러면 unstack()하면 된다.\n",
        "* xgboost 파라미터 조정은 효과가 좋다.\n",
        "* 측정함수는 classification_report(,)\n",
        "* auc는 roc_auc_score(,) 를 쓰자\n",
        "* 피쳐 중요도는 .feature_importances_\n"
      ]
    }
  ]
}