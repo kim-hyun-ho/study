{
  "nbformat": 4,
  "nbformat_minor": 0,
  "metadata": {
    "colab": {
      "name": "210409.ipynb",
      "provenance": [],
      "collapsed_sections": [],
      "authorship_tag": "ABX9TyNX1TSf3kK0mgrGYeu7Z+KZ",
      "include_colab_link": true
    },
    "kernelspec": {
      "name": "python3",
      "display_name": "Python 3"
    },
    "language_info": {
      "name": "python"
    }
  },
  "cells": [
    {
      "cell_type": "markdown",
      "metadata": {
        "id": "view-in-github",
        "colab_type": "text"
      },
      "source": [
        "<a href=\"https://colab.research.google.com/github/kim-hyun-ho/study/blob/main/210409.ipynb\" target=\"_parent\"><img src=\"https://colab.research.google.com/assets/colab-badge.svg\" alt=\"Open In Colab\"/></a>"
      ]
    },
    {
      "cell_type": "code",
      "metadata": {
        "id": "T6wHW6c08aIn"
      },
      "source": [
        "'''\n",
        "선형회귀 복습\n",
        "경사하강법\n",
        "L2 릿지\n",
        "L1 라소\n",
        "엘라스틱\n",
        "\n",
        "P밸류 ???\n",
        "1-신뢰도 = P밸류\n",
        "1- 68.3 (1시그마)\n",
        "1- 95.4 (2시그마)\n",
        "1- 99.7 (3시그마)\n",
        "(근사치)\n",
        "\n",
        "\n",
        "포아송 분포\n",
        "개념확인\n",
        "\n",
        "'''"
      ],
      "execution_count": null,
      "outputs": []
    }
  ]
}