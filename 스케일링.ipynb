{
  "nbformat": 4,
  "nbformat_minor": 0,
  "metadata": {
    "colab": {
      "name": "스케일링.ipynb",
      "provenance": [],
      "collapsed_sections": [],
      "authorship_tag": "ABX9TyPi5lqJ/7fPO/1oW9IYuzUV",
      "include_colab_link": true
    },
    "kernelspec": {
      "name": "python3",
      "display_name": "Python 3"
    },
    "language_info": {
      "name": "python"
    }
  },
  "cells": [
    {
      "cell_type": "markdown",
      "metadata": {
        "id": "view-in-github",
        "colab_type": "text"
      },
      "source": [
        "<a href=\"https://colab.research.google.com/github/kim-hyun-ho/study/blob/main/%EC%8A%A4%EC%BC%80%EC%9D%BC%EB%A7%81.ipynb\" target=\"_parent\"><img src=\"https://colab.research.google.com/assets/colab-badge.svg\" alt=\"Open In Colab\"/></a>"
      ]
    },
    {
      "cell_type": "markdown",
      "metadata": {
        "id": "GMqXUX8Gk9IV"
      },
      "source": [
        "# min_max\n",
        "* MinMaxScaler"
      ]
    },
    {
      "cell_type": "code",
      "metadata": {
        "colab": {
          "base_uri": "https://localhost:8080/"
        },
        "id": "pSsaCcPElHC5",
        "outputId": "63751976-cc04-4f97-91ea-fac58b2fcb28"
      },
      "source": [
        "import numpy as np\n",
        "import pandas as pd\n",
        "from sklearn.preprocessing import MinMaxScaler\n",
        "\n",
        "X=np.array([[10., -10.,1.],\n",
        "            [5,0,2],\n",
        "            [0,10,3]], dtype=float)\n",
        "X"
      ],
      "execution_count": 3,
      "outputs": [
        {
          "output_type": "execute_result",
          "data": {
            "text/plain": [
              "array([[ 10., -10.,   1.],\n",
              "       [  5.,   0.,   2.],\n",
              "       [  0.,  10.,   3.]])"
            ]
          },
          "metadata": {
            "tags": []
          },
          "execution_count": 3
        }
      ]
    },
    {
      "cell_type": "code",
      "metadata": {
        "colab": {
          "base_uri": "https://localhost:8080/"
        },
        "id": "hkR-1-yulje4",
        "outputId": "9db2eec6-4343-419c-886e-d2f160fecb7d"
      },
      "source": [
        "X_MinMax = (X-X.min(axis=0)) / (X.max(axis=0) - X.min(axis=0))\n",
        "X_MinMax"
      ],
      "execution_count": 2,
      "outputs": [
        {
          "output_type": "execute_result",
          "data": {
            "text/plain": [
              "array([[1. , 0. , 0. ],\n",
              "       [0.5, 0.5, 0.5],\n",
              "       [0. , 1. , 1. ]])"
            ]
          },
          "metadata": {
            "tags": []
          },
          "execution_count": 2
        }
      ]
    },
    {
      "cell_type": "code",
      "metadata": {
        "colab": {
          "base_uri": "https://localhost:8080/"
        },
        "id": "3a3P-bnvmQ_-",
        "outputId": "0ff33d3f-ecce-48ea-b292-16dd328bec53"
      },
      "source": [
        "X=np.array([[10., -10.,1.],\n",
        "            [5,0,2],\n",
        "            [0,10,3]], dtype=float)\n",
        "min_max_scaler = MinMaxScaler()\n",
        "X_MinMax_train = min_max_scaler.fit_transform(X)\n",
        "\n",
        "X_MinMax_train"
      ],
      "execution_count": 5,
      "outputs": [
        {
          "output_type": "execute_result",
          "data": {
            "text/plain": [
              "array([[1. , 0. , 0. ],\n",
              "       [0.5, 0.5, 0.5],\n",
              "       [0. , 1. , 1. ]])"
            ]
          },
          "metadata": {
            "tags": []
          },
          "execution_count": 5
        }
      ]
    },
    {
      "cell_type": "code",
      "metadata": {
        "colab": {
          "base_uri": "https://localhost:8080/"
        },
        "id": "dc56mi4EmnV8",
        "outputId": "ec874163-3006-44bf-9af1-e727de542206"
      },
      "source": [
        "X_new=np.array([[9., -10.,1.],\n",
        "            [5,-5,3],\n",
        "            [1,0,5]], dtype=float)\n",
        "\n",
        "X_MinMax_new = min_max_scaler.transform(X_new)\n",
        "\n",
        "X_MinMax_new"
      ],
      "execution_count": 6,
      "outputs": [
        {
          "output_type": "execute_result",
          "data": {
            "text/plain": [
              "array([[0.9 , 0.  , 0.  ],\n",
              "       [0.5 , 0.25, 1.  ],\n",
              "       [0.1 , 0.5 , 2.  ]])"
            ]
          },
          "metadata": {
            "tags": []
          },
          "execution_count": 6
        }
      ]
    },
    {
      "cell_type": "code",
      "metadata": {
        "colab": {
          "base_uri": "https://localhost:8080/"
        },
        "id": "ZQ2UZ74XnGbL",
        "outputId": "60c8ee98-20bb-4e4a-a3bf-908e9cece919"
      },
      "source": [
        "#추가 학습\n",
        "min_max_scaler.partial_fit(X_new)\n",
        "X_MinMax_new = min_max_scaler.transform(X_new)\n",
        "\n",
        "X_MinMax_new"
      ],
      "execution_count": 10,
      "outputs": [
        {
          "output_type": "execute_result",
          "data": {
            "text/plain": [
              "array([[0.9 , 0.  , 0.  ],\n",
              "       [0.5 , 0.25, 0.5 ],\n",
              "       [0.1 , 0.5 , 1.  ]])"
            ]
          },
          "metadata": {
            "tags": []
          },
          "execution_count": 10
        }
      ]
    },
    {
      "cell_type": "markdown",
      "metadata": {
        "id": "dFwkmxwon8iU"
      },
      "source": [
        "# 함수이용\n",
        "* minmax_sacle()"
      ]
    },
    {
      "cell_type": "code",
      "metadata": {
        "colab": {
          "base_uri": "https://localhost:8080/"
        },
        "id": "nr_MR9x8oHEl",
        "outputId": "c5754dc6-8a20-47d5-94dc-87a9def66a4a"
      },
      "source": [
        "from sklearn.preprocessing import minmax_scale\n",
        "X=np.array([[10., -10.,1.],\n",
        "            [5,0,2],\n",
        "            [0,10,3]], dtype=float)\n",
        "\n",
        "X_MinMax_scaled = minmax_scale(X, axis=0, copy=True)\n",
        "\n",
        "X_MinMax_scaled"
      ],
      "execution_count": 11,
      "outputs": [
        {
          "output_type": "execute_result",
          "data": {
            "text/plain": [
              "array([[1. , 0. , 0. ],\n",
              "       [0.5, 0.5, 0.5],\n",
              "       [0. , 1. , 1. ]])"
            ]
          },
          "metadata": {
            "tags": []
          },
          "execution_count": 11
        }
      ]
    },
    {
      "cell_type": "markdown",
      "metadata": {
        "id": "398XzQGCohkK"
      },
      "source": [
        "# 표준정규분포 표준화\n",
        "* Numpy : z= (x - mean())/std()\n",
        "* scipy.stats : zscore()\n",
        "* sklearn.preprocessing : StandardScaler().fit_transform()"
      ]
    },
    {
      "cell_type": "code",
      "metadata": {
        "colab": {
          "base_uri": "https://localhost:8080/"
        },
        "id": "FHvHYpcPpJj7",
        "outputId": "d70e3ee9-952e-44a8-cbbc-d20da38071f0"
      },
      "source": [
        "import numpy as np\n",
        "\n",
        "# data = np.random.randint(30, size=(6,5))\n",
        "data = array([[ 1, 10, 16, 14,  7],\n",
        "       [20, 13,  8, 21, 10],\n",
        "       [13,  2, 17, 29,  2],\n",
        "       [17, 19, 27,  5, 27],\n",
        "       [ 8,  1, 12, 22, 12],\n",
        "       [ 1, 27, 20, 26,  7]])\n",
        "data"
      ],
      "execution_count": 28,
      "outputs": [
        {
          "output_type": "execute_result",
          "data": {
            "text/plain": [
              "array([[ 1, 10, 16, 14,  7],\n",
              "       [20, 13,  8, 21, 10],\n",
              "       [13,  2, 17, 29,  2],\n",
              "       [17, 19, 27,  5, 27],\n",
              "       [ 8,  1, 12, 22, 12],\n",
              "       [ 1, 27, 20, 26,  7]])"
            ]
          },
          "metadata": {
            "tags": []
          },
          "execution_count": 28
        }
      ]
    },
    {
      "cell_type": "code",
      "metadata": {
        "colab": {
          "base_uri": "https://localhost:8080/"
        },
        "id": "Ww__eLsvpXc8",
        "outputId": "e51c634a-8c8b-41d7-b099-d5432e3b28ca"
      },
      "source": [
        "#Numpy : z=(x- mean())/std()\n",
        "\n",
        "from numpy import *\n",
        "data_standardized_np = (data - mean(data, axis=0)) / std(data, axis=0)\n",
        "\n",
        "data_standardized_np"
      ],
      "execution_count": 23,
      "outputs": [
        {
          "output_type": "execute_result",
          "data": {
            "text/plain": [
              "array([[-1.22474487, -0.21908902, -0.11128298, -0.68974894, -0.48759902],\n",
              "       [ 1.36082763,  0.10954451, -1.4466787 ,  0.18811335, -0.10599979],\n",
              "       [ 0.40824829, -1.09544512,  0.05564149,  1.19138454, -1.12359775],\n",
              "       [ 0.95257934,  0.76681158,  1.72488614, -1.81842903,  2.05639589],\n",
              "       [-0.27216553, -1.20498963, -0.77898084,  0.31352225,  0.1483997 ],\n",
              "       [-1.22474487,  1.64316767,  0.55641488,  0.81515784, -0.48759902]])"
            ]
          },
          "metadata": {
            "tags": []
          },
          "execution_count": 23
        }
      ]
    },
    {
      "cell_type": "code",
      "metadata": {
        "colab": {
          "base_uri": "https://localhost:8080/"
        },
        "id": "krexAjXpqGGw",
        "outputId": "8208b32c-d12f-4983-a20c-663d353a5731"
      },
      "source": [
        "mean(data_standardized_np, axis=0)"
      ],
      "execution_count": 14,
      "outputs": [
        {
          "output_type": "execute_result",
          "data": {
            "text/plain": [
              "array([-1.85037171e-17,  0.00000000e+00,  9.25185854e-17,  3.70074342e-17,\n",
              "       -9.25185854e-17])"
            ]
          },
          "metadata": {
            "tags": []
          },
          "execution_count": 14
        }
      ]
    },
    {
      "cell_type": "code",
      "metadata": {
        "colab": {
          "base_uri": "https://localhost:8080/"
        },
        "id": "SbhvggBPqKv1",
        "outputId": "f2bd2938-de54-4a62-cf39-8510e6106a29"
      },
      "source": [
        "std(data_standardized_np, axis=0)"
      ],
      "execution_count": 15,
      "outputs": [
        {
          "output_type": "execute_result",
          "data": {
            "text/plain": [
              "array([1., 1., 1., 1., 1.])"
            ]
          },
          "metadata": {
            "tags": []
          },
          "execution_count": 15
        }
      ]
    },
    {
      "cell_type": "code",
      "metadata": {
        "colab": {
          "base_uri": "https://localhost:8080/"
        },
        "id": "j40BSy-UqUSk",
        "outputId": "73d6c4bb-8882-4395-81ba-7d94e3ee94ba"
      },
      "source": [
        "#평균,표준편차,분산\n",
        "import numpy as np\n",
        "arr = np.array(range(11))\n",
        "print('mean:', np.mean(arr))\n",
        "print('standard deviation: ', np.std(arr))\n",
        "print('variance: ', np.var(arr))"
      ],
      "execution_count": 16,
      "outputs": [
        {
          "output_type": "stream",
          "text": [
            "mean: 5.0\n",
            "standard deviation:  3.1622776601683795\n",
            "variance:  10.0\n"
          ],
          "name": "stdout"
        }
      ]
    },
    {
      "cell_type": "markdown",
      "metadata": {
        "id": "quhdWPL-q0d-"
      },
      "source": [
        "# scipy.stats :\n",
        "* ss.zscore()"
      ]
    },
    {
      "cell_type": "code",
      "metadata": {
        "colab": {
          "base_uri": "https://localhost:8080/"
        },
        "id": "IPcmNlbrq-Zc",
        "outputId": "e303e80c-bd1a-411e-dc05-b9d6ec7d6723"
      },
      "source": [
        "import scipy.stats as ss\n",
        "\n",
        "data = array([[ 1, 10, 16, 14,  7],\n",
        "       [20, 13,  8, 21, 10],\n",
        "       [13,  2, 17, 29,  2],\n",
        "       [17, 19, 27,  5, 27],\n",
        "       [ 8,  1, 12, 22, 12],\n",
        "       [ 1, 27, 20, 26,  7]])\n",
        "\n",
        "data_standardized_ss = ss.zscore(data)\n",
        "\n",
        "data_standardized_ss"
      ],
      "execution_count": 30,
      "outputs": [
        {
          "output_type": "execute_result",
          "data": {
            "text/plain": [
              "array([[-1.22474487, -0.21908902, -0.11128298, -0.68974894, -0.48759902],\n",
              "       [ 1.36082763,  0.10954451, -1.4466787 ,  0.18811335, -0.10599979],\n",
              "       [ 0.40824829, -1.09544512,  0.05564149,  1.19138454, -1.12359775],\n",
              "       [ 0.95257934,  0.76681158,  1.72488614, -1.81842903,  2.05639589],\n",
              "       [-0.27216553, -1.20498963, -0.77898084,  0.31352225,  0.1483997 ],\n",
              "       [-1.22474487,  1.64316767,  0.55641488,  0.81515784, -0.48759902]])"
            ]
          },
          "metadata": {
            "tags": []
          },
          "execution_count": 30
        }
      ]
    },
    {
      "cell_type": "markdown",
      "metadata": {
        "id": "YE3l6BApsDgN"
      },
      "source": [
        "# sklearn.preprocessing :\n",
        "* StandardScaler().fit_transform()\n"
      ]
    },
    {
      "cell_type": "code",
      "metadata": {
        "colab": {
          "base_uri": "https://localhost:8080/"
        },
        "id": "9LoNwxxcsKrQ",
        "outputId": "7fb18604-d9c4-4a1a-f302-470ea10299e4"
      },
      "source": [
        "from sklearn.preprocessing import StandardScaler\n",
        "\n",
        "data = array([[ 1, 10, 16, 14,  7],\n",
        "       [20, 13,  8, 21, 10],\n",
        "       [13,  2, 17, 29,  2],\n",
        "       [17, 19, 27,  5, 27],\n",
        "       [ 8,  1, 12, 22, 12],\n",
        "       [ 1, 27, 20, 26,  7]])\n",
        "\n",
        "data_standardized_skl = StandardScaler().fit_transform(data)\n",
        "\n",
        "data_standardized_skl"
      ],
      "execution_count": 31,
      "outputs": [
        {
          "output_type": "execute_result",
          "data": {
            "text/plain": [
              "array([[-1.22474487, -0.21908902, -0.11128298, -0.68974894, -0.48759902],\n",
              "       [ 1.36082763,  0.10954451, -1.4466787 ,  0.18811335, -0.10599979],\n",
              "       [ 0.40824829, -1.09544512,  0.05564149,  1.19138454, -1.12359775],\n",
              "       [ 0.95257934,  0.76681158,  1.72488614, -1.81842903,  2.05639589],\n",
              "       [-0.27216553, -1.20498963, -0.77898084,  0.31352225,  0.1483997 ],\n",
              "       [-1.22474487,  1.64316767,  0.55641488,  0.81515784, -0.48759902]])"
            ]
          },
          "metadata": {
            "tags": []
          },
          "execution_count": 31
        }
      ]
    },
    {
      "cell_type": "code",
      "metadata": {
        "id": "TOmIvJHtsqo9"
      },
      "source": [
        ""
      ],
      "execution_count": null,
      "outputs": []
    }
  ]
}