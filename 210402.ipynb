{
  "nbformat": 4,
  "nbformat_minor": 0,
  "metadata": {
    "colab": {
      "name": "210402.ipynb",
      "provenance": [],
      "collapsed_sections": [],
      "authorship_tag": "ABX9TyOqquXiy1vofaU1LHr3R5VO",
      "include_colab_link": true
    },
    "kernelspec": {
      "name": "python3",
      "display_name": "Python 3"
    },
    "language_info": {
      "name": "python"
    }
  },
  "cells": [
    {
      "cell_type": "markdown",
      "metadata": {
        "id": "view-in-github",
        "colab_type": "text"
      },
      "source": [
        "<a href=\"https://colab.research.google.com/github/kim-hyun-ho/study/blob/main/210402.ipynb\" target=\"_parent\"><img src=\"https://colab.research.google.com/assets/colab-badge.svg\" alt=\"Open In Colab\"/></a>"
      ]
    },
    {
      "cell_type": "markdown",
      "metadata": {
        "id": "DzfFdIO267Uw"
      },
      "source": [
        "#파이썬 복습 문제풀이"
      ]
    },
    {
      "cell_type": "markdown",
      "metadata": {
        "id": "ek2s_WqqnlVp"
      },
      "source": [
        "#요소를 조건 적용\n"
      ]
    },
    {
      "cell_type": "code",
      "metadata": {
        "colab": {
          "base_uri": "https://localhost:8080/"
        },
        "id": "vvSHiXe1aAsa",
        "outputId": "4802094e-53fd-4e92-bc9e-793796c02314"
      },
      "source": [
        "# x=[3,6,9.20,-7,5]의 모든 요소에 10을 곱한뒤 출력하세요\n",
        "x=[3,6,9.20,-7,5]\n",
        "x=list(map(lambda x: x*10,x))\n",
        "x"
      ],
      "execution_count": 31,
      "outputs": [
        {
          "output_type": "execute_result",
          "data": {
            "text/plain": [
              "[30, 60, 92.0, -70, 50]"
            ]
          },
          "metadata": {
            "tags": []
          },
          "execution_count": 31
        }
      ]
    },
    {
      "cell_type": "code",
      "metadata": {
        "colab": {
          "base_uri": "https://localhost:8080/"
        },
        "id": "1Ohvumhsaz7T",
        "outputId": "60419343-e133-4323-96f3-53e1b2f9d6b9"
      },
      "source": [
        "#y={'math':70,'scient':80,'english':20}의 값의 요소에 10을 더한뒤 출력하세요\n",
        "\n",
        "y={'math':70,'scient':80,'english':20}\n",
        "y=dict(map(lambda x: (x[0], x[1] + 10), y.items() ))\n",
        "#y.items() #튜플의 리스트 를 받아서 처리 왜? 딕셔너리를 키로만 접근 되니까.\n",
        "#dict(튜플의 리스트)\n",
        "y"
      ],
      "execution_count": 51,
      "outputs": [
        {
          "output_type": "execute_result",
          "data": {
            "text/plain": [
              "{'english': 30, 'math': 80, 'scient': 90}"
            ]
          },
          "metadata": {
            "tags": []
          },
          "execution_count": 51
        }
      ]
    },
    {
      "cell_type": "markdown",
      "metadata": {
        "id": "0OpQyHPmndfI"
      },
      "source": [
        "#필터링 filter()"
      ]
    },
    {
      "cell_type": "code",
      "metadata": {
        "colab": {
          "base_uri": "https://localhost:8080/"
        },
        "id": "kmHxBfvtjFha",
        "outputId": "de0991c4-3f33-4454-e3ba-bdf5e8b08e77"
      },
      "source": [
        "#word=['school','game','piano','science','hotel','mountain']\n",
        "#에서 글자수가 6이상인 문자를 모아 새로운 리스트를 생성\n",
        "\n",
        "word=['school','game','piano','science','hotel','mountain']\n",
        "#filter() 함수 사용\n",
        "word=list(filter(lambda x: len(x)>=6, word))\n",
        "print(word)\n",
        "\n",
        "word=['school','game','piano','science','hotel','mountain']\n",
        "#리스트 익스프레션\n",
        "word=[ x for x in word if len(x)>=6]\n",
        "print(word)"
      ],
      "execution_count": 127,
      "outputs": [
        {
          "output_type": "stream",
          "text": [
            "['school', 'science', 'mountain']\n",
            "['school', 'science', 'mountain']\n"
          ],
          "name": "stdout"
        }
      ]
    },
    {
      "cell_type": "markdown",
      "metadata": {
        "id": "WJSpOvyZpHXr"
      },
      "source": [
        "#zip 함수\n",
        "### 동일한 컬럼수 의 여러행을\n",
        "### 컴럼별로 묶인 튜플의 리스트로 만들어 줌 2차원 배열\n"
      ]
    },
    {
      "cell_type": "code",
      "metadata": {
        "colab": {
          "base_uri": "https://localhost:8080/"
        },
        "id": "zaL-RJg5pL-p",
        "outputId": "cb2282ad-3db8-467a-ec77-ec71d7efba03"
      },
      "source": [
        "# zip(*iterable)은 동일한 개수로 이루어진 자료형을 묶어 주는 역할을 하는 함수이다.\n",
        "# ※ 여기서 사용한 *iterable은 반복 가능(iterable)한 자료형 여러 개를 입력할 수 있다는 의미이다.\n",
        "# 잘 이해되지 않는다면 다음 예제를 살펴보자.\n",
        "\n",
        "# 동일한 갯수 => 동일한 컬럼수 의 여러행을 컴럼별로 묵인 튜플로 만들어줌\n",
        "\n",
        "list(zip([1, 2, 3], [4, 5, 6]))\n"
      ],
      "execution_count": 64,
      "outputs": [
        {
          "output_type": "execute_result",
          "data": {
            "text/plain": [
              "[(1, 4), (2, 5), (3, 6)]"
            ]
          },
          "metadata": {
            "tags": []
          },
          "execution_count": 64
        }
      ]
    },
    {
      "cell_type": "code",
      "metadata": {
        "colab": {
          "base_uri": "https://localhost:8080/"
        },
        "id": "4JM6UvJrpUKr",
        "outputId": "6e9562bf-4363-478a-fc0b-13627bf9ccfa"
      },
      "source": [
        "list(zip([1, 2, 3], [4, 5, 6], [7, 8, 9]))"
      ],
      "execution_count": 68,
      "outputs": [
        {
          "output_type": "execute_result",
          "data": {
            "text/plain": [
              "[(1, 4, 7), (2, 5, 8), (3, 6, 9)]"
            ]
          },
          "metadata": {
            "tags": []
          },
          "execution_count": 68
        }
      ]
    },
    {
      "cell_type": "code",
      "metadata": {
        "colab": {
          "base_uri": "https://localhost:8080/"
        },
        "id": "bwt_yQ5VpYvx",
        "outputId": "fac22771-5655-4e01-c4aa-e9818d0144bf"
      },
      "source": [
        "list(zip(\"abc\", \"def\"))"
      ],
      "execution_count": 66,
      "outputs": [
        {
          "output_type": "execute_result",
          "data": {
            "text/plain": [
              "[('a', 'd'), ('b', 'e'), ('c', 'f')]"
            ]
          },
          "metadata": {
            "tags": []
          },
          "execution_count": 66
        }
      ]
    },
    {
      "cell_type": "code",
      "metadata": {
        "colab": {
          "base_uri": "https://localhost:8080/"
        },
        "id": "ktb9zk2nrj29",
        "outputId": "ca5703c2-fb54-4adb-8b38-b81f3fa8c2d9"
      },
      "source": [
        "list(map(lambda x : x+'_','asdfaasdfasdf'))"
      ],
      "execution_count": 77,
      "outputs": [
        {
          "output_type": "execute_result",
          "data": {
            "text/plain": [
              "['a_', 's_', 'd_', 'f_', 'a_', 'a_', 's_', 'd_', 'f_', 'a_', 's_', 'd_', 'f_']"
            ]
          },
          "metadata": {
            "tags": []
          },
          "execution_count": 77
        }
      ]
    },
    {
      "cell_type": "code",
      "metadata": {
        "colab": {
          "base_uri": "https://localhost:8080/"
        },
        "id": "9ZnCHqw21_Kv",
        "outputId": "402b30fd-11f2-47e2-c7e7-b7fce93f7cb2"
      },
      "source": [
        "#글자수 Step 으로 자르기\n",
        "val='12345678901234567890'\n",
        "step=2\n",
        "a=[]\n",
        "\n",
        "#일반적인 for문\n",
        "for i in range(0,len(val),step):\n",
        "    a.append(val[i:i+step])\n",
        "\n",
        "print(a)"
      ],
      "execution_count": 106,
      "outputs": [
        {
          "output_type": "stream",
          "text": [
            "['12', '34', '56', '78', '90', '12', '34', '56', '78', '90']\n"
          ],
          "name": "stdout"
        }
      ]
    },
    {
      "cell_type": "code",
      "metadata": {
        "colab": {
          "base_uri": "https://localhost:8080/"
        },
        "id": "fOZlJs7G49Rs",
        "outputId": "70537d7d-0609-43a8-b917-ff3c6800947a"
      },
      "source": [
        "# 리스트 표현식으로 분리하기\n",
        "slist = [ val[i:i+step] for i in range(0,len(val),step) ]\n",
        "print(slist)\n"
      ],
      "execution_count": 107,
      "outputs": [
        {
          "output_type": "stream",
          "text": [
            "['12', '34', '56', '78', '90', '12', '34', '56', '78', '90']\n"
          ],
          "name": "stdout"
        }
      ]
    },
    {
      "cell_type": "code",
      "metadata": {
        "colab": {
          "base_uri": "https://localhost:8080/"
        },
        "id": "hPltn2pm8teO",
        "outputId": "4ef3f1a7-48db-40ca-a3a6-866544bf67fb"
      },
      "source": [
        "#람다식으로 표현해 보기\n",
        "mysplit = lambda val,step=1 : [val[i:i+step] for i in range(0,len(val),step)]\n",
        "print(mysplit(val))\n",
        "print(mysplit(val,2))\n",
        "print(mysplit(val,3))\n",
        "print(mysplit(val,4))\n"
      ],
      "execution_count": 112,
      "outputs": [
        {
          "output_type": "stream",
          "text": [
            "['1', '2', '3', '4', '5', '6', '7', '8', '9', '0', '1', '2', '3', '4', '5', '6', '7', '8', '9', '0']\n",
            "['12', '34', '56', '78', '90', '12', '34', '56', '78', '90']\n",
            "['123', '456', '789', '012', '345', '678', '90']\n",
            "['1234', '5678', '9012', '3456', '7890']\n"
          ],
          "name": "stdout"
        }
      ]
    },
    {
      "cell_type": "markdown",
      "metadata": {
        "id": "7n2U3jrs_z-P"
      },
      "source": [
        "#리스트에 인덱스로 추가하기 : append() 대신에"
      ]
    },
    {
      "cell_type": "code",
      "metadata": {
        "colab": {
          "base_uri": "https://localhost:8080/"
        },
        "id": "S74OLFM83c66",
        "outputId": "5cab5a72-d7d0-468f-cc99-0b9b9a894843"
      },
      "source": [
        "#리스트에 인덱스로 추가하기\n",
        "a=[]\n",
        "a[len(a):]=['ccc']\n",
        "a[len(a):]=['cdc']\n",
        "a[len(a):]=['cec']\n",
        "a"
      ],
      "execution_count": 84,
      "outputs": [
        {
          "output_type": "execute_result",
          "data": {
            "text/plain": [
              "['ccc', 'cdc', 'cec']"
            ]
          },
          "metadata": {
            "tags": []
          },
          "execution_count": 84
        }
      ]
    },
    {
      "cell_type": "code",
      "metadata": {
        "colab": {
          "base_uri": "https://localhost:8080/"
        },
        "id": "sDiWyjNVF3lU",
        "outputId": "e05d1e1f-e1a8-4bcd-a7ba-2e3156f18187"
      },
      "source": [
        "#add_all 함수 만들기\n",
        "def add_all(*args) :\n",
        "    sum=0\n",
        "    for x in args:\n",
        "        sum+=x\n",
        "    return sum\n",
        "\n",
        "add_all(1,2,3,4,5,6,7,8,9,10)"
      ],
      "execution_count": 113,
      "outputs": [
        {
          "output_type": "execute_result",
          "data": {
            "text/plain": [
              "55"
            ]
          },
          "metadata": {
            "tags": []
          },
          "execution_count": 113
        }
      ]
    },
    {
      "cell_type": "code",
      "metadata": {
        "colab": {
          "base_uri": "https://localhost:8080/"
        },
        "id": "iPFCUNmGIrr0",
        "outputId": "57b9fed0-833a-41e8-eed9-9016d72ec061"
      },
      "source": [
        "#람다를 사용해 문자로 바꾸기\n",
        "items=[1,24,3,6,7]\n",
        "print(list(map(lambda x : str(x),items)))"
      ],
      "execution_count": 114,
      "outputs": [
        {
          "output_type": "stream",
          "text": [
            "['1', '24', '3', '6', '7']\n"
          ],
          "name": "stdout"
        }
      ]
    },
    {
      "cell_type": "code",
      "metadata": {
        "colab": {
          "base_uri": "https://localhost:8080/"
        },
        "id": "7vO-C9ObJFxi",
        "outputId": "36382e5f-55f6-43f8-9c23-93e7e704ce92"
      },
      "source": [
        "#람다를 사용해 제곱하는 리스트 반환\n",
        "items=range(1,10)\n",
        "print(list(map(lambda x: x**2,items)))"
      ],
      "execution_count": 120,
      "outputs": [
        {
          "output_type": "stream",
          "text": [
            "[1, 4, 9, 16, 25, 36, 49, 64, 81]\n"
          ],
          "name": "stdout"
        }
      ]
    },
    {
      "cell_type": "code",
      "metadata": {
        "colab": {
          "base_uri": "https://localhost:8080/"
        },
        "id": "Nm-h-c6jJeuH",
        "outputId": "edbaafdb-15a8-45bd-f864-9f4f8ec58b04"
      },
      "source": [
        "val='코로나 바이러스를 예방하기 위해 사회적 거리두기를 실천합시다. 마스크를 끼고 손씻기를 생활화합시다.'\n",
        "wlen=[ (len(i),i) for i in val.split()]\n",
        "wlen"
      ],
      "execution_count": 122,
      "outputs": [
        {
          "output_type": "execute_result",
          "data": {
            "text/plain": [
              "[(3, '코로나'),\n",
              " (5, '바이러스를'),\n",
              " (4, '예방하기'),\n",
              " (2, '위해'),\n",
              " (3, '사회적'),\n",
              " (5, '거리두기를'),\n",
              " (6, '실천합시다.'),\n",
              " (4, '마스크를'),\n",
              " (2, '끼고'),\n",
              " (4, '손씻기를'),\n",
              " (7, '생활화합시다.')]"
            ]
          },
          "metadata": {
            "tags": []
          },
          "execution_count": 122
        }
      ]
    },
    {
      "cell_type": "code",
      "metadata": {
        "colab": {
          "base_uri": "https://localhost:8080/"
        },
        "id": "8fhBAYxHLaSG",
        "outputId": "e5805873-87f7-43f7-82bb-ded2658c7860"
      },
      "source": [
        "#10 부터 20 사이의 짝수\n",
        "print([ x for x in range(10,21) if x%2==0])\n",
        "print([ x for x in range(10,21,2)])"
      ],
      "execution_count": 124,
      "outputs": [
        {
          "output_type": "stream",
          "text": [
            "[10, 12, 14, 16, 18, 20]\n",
            "[10, 12, 14, 16, 18, 20]\n"
          ],
          "name": "stdout"
        }
      ]
    },
    {
      "cell_type": "markdown",
      "metadata": {
        "id": "IProu3-vLpOY"
      },
      "source": [
        "#객체"
      ]
    },
    {
      "cell_type": "code",
      "metadata": {
        "id": "I7aP-KiwR9HU"
      },
      "source": [
        "# dir(list)"
      ],
      "execution_count": 154,
      "outputs": []
    },
    {
      "cell_type": "code",
      "metadata": {
        "colab": {
          "base_uri": "https://localhost:8080/"
        },
        "id": "hwyP3HSISRZQ",
        "outputId": "4048fb2f-ebe8-4769-b334-bfca04fa2852"
      },
      "source": [
        "# import numpy as np\n",
        "# 로또 번호 생성기\n",
        "for i in range(4):\n",
        "    print('로또번호 :', [ np.random.randint(1,46) for j in range(6) ])"
      ],
      "execution_count": 153,
      "outputs": [
        {
          "output_type": "stream",
          "text": [
            "로또번호 : [38, 27, 10, 30, 24, 40]\n",
            "로또번호 : [1, 38, 36, 17, 6, 9]\n",
            "로또번호 : [13, 26, 17, 27, 37, 19]\n",
            "로또번호 : [15, 11, 45, 11, 9, 25]\n"
          ],
          "name": "stdout"
        }
      ]
    },
    {
      "cell_type": "markdown",
      "metadata": {
        "id": "-S_-HRXXsXCt"
      },
      "source": [
        "#넘파이\n",
        "###ndarray\n",
        "###브로드캐스팅\n",
        "###dot 내적\n",
        "###reshape"
      ]
    },
    {
      "cell_type": "code",
      "metadata": {
        "id": "0-9fJ9s6s2Qi"
      },
      "source": [
        ""
      ],
      "execution_count": null,
      "outputs": []
    },
    {
      "cell_type": "markdown",
      "metadata": {
        "id": "VE4h6xe3saR3"
      },
      "source": [
        "#판다스 \n",
        "##pannel data \n",
        "##DataFrame"
      ]
    },
    {
      "cell_type": "markdown",
      "metadata": {
        "id": "UY8w2WEiwG__"
      },
      "source": [
        "#손실함수 mse, cee\n",
        "####식에 제곱이 있는 이유는 컴퓨터 미분 가능성 때문?"
      ]
    }
  ]
}