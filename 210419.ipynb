{
  "nbformat": 4,
  "nbformat_minor": 0,
  "metadata": {
    "colab": {
      "name": "210419.ipynb",
      "provenance": [],
      "collapsed_sections": [],
      "mount_file_id": "17jHEOcMDz0i5Pajw4xC523Il0O7WfFAB",
      "authorship_tag": "ABX9TyN73198Ex/nMFPTosoxV3lD",
      "include_colab_link": true
    },
    "kernelspec": {
      "name": "python3",
      "display_name": "Python 3"
    },
    "language_info": {
      "name": "python"
    }
  },
  "cells": [
    {
      "cell_type": "markdown",
      "metadata": {
        "id": "view-in-github",
        "colab_type": "text"
      },
      "source": [
        "<a href=\"https://colab.research.google.com/github/kim-hyun-ho/study/blob/main/210419.ipynb\" target=\"_parent\"><img src=\"https://colab.research.google.com/assets/colab-badge.svg\" alt=\"Open In Colab\"/></a>"
      ]
    },
    {
      "cell_type": "markdown",
      "metadata": {
        "id": "ZsAuBCwyq45y"
      },
      "source": [
        "##otto 문제 다른방법 시도해보기"
      ]
    },
    {
      "cell_type": "code",
      "metadata": {
        "colab": {
          "base_uri": "https://localhost:8080/"
        },
        "id": "e2x94RRzqytv",
        "outputId": "7bec2f03-c473-4565-edbb-b152b0249841"
      },
      "source": [
        "import numpy as np\n",
        "import pandas as pd\n",
        "from sklearn.model_selection import train_test_split\n",
        "import matplotlib.pyplot as plt\n",
        "import seaborn as sns\n",
        "import keras\n",
        "from sklearn.ensemble import RandomForestClassifier\n",
        "from sklearn.metrics import accuracy_score\n",
        "from sklearn.model_selection import train_test_split\n",
        "from sklearn.metrics import classification_report\n",
        "import xgboost as xgb\n",
        "\n",
        "data = pd.read_csv(\"/content/drive/MyDrive/Colab Notebooks/otto.zip (Unzipped Files)/train.csv\")\n",
        "#id 잘라내기\n",
        "data = data.drop(['id'], axis = 1)\n",
        "#클래스 1부터 9 모두 숫자로 바꿈\n",
        "data['target']=data['target'].map( { f'Class_{x}':x for x in range(1,10)} )\n",
        "#학습 데이터 준비\n",
        "X = data[data.columns[0:-1]]#마지막 컬럼 = target 빼고 복사\n",
        "y= data['target']\n",
        "#8:2로 분리\n",
        "X_train, X_test, y_train, y_test = train_test_split(\n",
        "X, y, test_size = 0.2, random_state=10)\n",
        "\n",
        "model1=xgb.XGBClassifier(booster='gbtree', \n",
        "                    colsample_bylevel=0.9, \n",
        "                    colsample_bytree=0.8, \n",
        "                    gamma=0, \n",
        "                    max_depth=8, \n",
        "                    min_child_weight=3, \n",
        "                    n_estimators=50, \n",
        "                    nthread=4, \n",
        "                    objective='binary:logistic', \n",
        "                    random_state=2, \n",
        "                    silent= True)\n",
        "\n",
        "# model1.fit(X_train,y_train, eval_set=[(val_X,val_Y)], early_stopping_rounds=50,verbos=5)\n",
        "model1.fit(X_train,y_train)\n",
        "prediction1 = model1.predict(X_test)\n",
        "print('정확도 :', accuracy_score(y_test, prediction1))\n",
        "\n",
        "aaa = pd.DataFrame(prediction1)"
      ],
      "execution_count": 5,
      "outputs": [
        {
          "output_type": "stream",
          "text": [
            "정확도 : 0.7990465416936006\n"
          ],
          "name": "stdout"
        }
      ]
    },
    {
      "cell_type": "code",
      "metadata": {
        "colab": {
          "base_uri": "https://localhost:8080/",
          "height": 198
        },
        "id": "QjTjFE8Gr42p",
        "outputId": "8f16c092-4cc8-4237-b188-22bb7ed58961"
      },
      "source": [
        "aaa.head()"
      ],
      "execution_count": 12,
      "outputs": [
        {
          "output_type": "execute_result",
          "data": {
            "text/html": [
              "<div>\n",
              "<style scoped>\n",
              "    .dataframe tbody tr th:only-of-type {\n",
              "        vertical-align: middle;\n",
              "    }\n",
              "\n",
              "    .dataframe tbody tr th {\n",
              "        vertical-align: top;\n",
              "    }\n",
              "\n",
              "    .dataframe thead th {\n",
              "        text-align: right;\n",
              "    }\n",
              "</style>\n",
              "<table border=\"1\" class=\"dataframe\">\n",
              "  <thead>\n",
              "    <tr style=\"text-align: right;\">\n",
              "      <th></th>\n",
              "      <th>0</th>\n",
              "    </tr>\n",
              "  </thead>\n",
              "  <tbody>\n",
              "    <tr>\n",
              "      <th>0</th>\n",
              "      <td>3</td>\n",
              "    </tr>\n",
              "    <tr>\n",
              "      <th>1</th>\n",
              "      <td>3</td>\n",
              "    </tr>\n",
              "    <tr>\n",
              "      <th>2</th>\n",
              "      <td>6</td>\n",
              "    </tr>\n",
              "    <tr>\n",
              "      <th>3</th>\n",
              "      <td>2</td>\n",
              "    </tr>\n",
              "    <tr>\n",
              "      <th>4</th>\n",
              "      <td>2</td>\n",
              "    </tr>\n",
              "  </tbody>\n",
              "</table>\n",
              "</div>"
            ],
            "text/plain": [
              "   0\n",
              "0  3\n",
              "1  3\n",
              "2  6\n",
              "3  2\n",
              "4  2"
            ]
          },
          "metadata": {
            "tags": []
          },
          "execution_count": 12
        }
      ]
    },
    {
      "cell_type": "code",
      "metadata": {
        "colab": {
          "base_uri": "https://localhost:8080/"
        },
        "id": "gUejlmPxsGR6",
        "outputId": "dcd167a8-392c-4ccc-e74c-47e10898a9bd"
      },
      "source": [
        "y_test.head()"
      ],
      "execution_count": 13,
      "outputs": [
        {
          "output_type": "execute_result",
          "data": {
            "text/plain": [
              "18367    3\n",
              "23733    3\n",
              "39686    6\n",
              "12747    2\n",
              "2072     2\n",
              "Name: target, dtype: int64"
            ]
          },
          "metadata": {
            "tags": []
          },
          "execution_count": 13
        }
      ]
    }
  ]
}