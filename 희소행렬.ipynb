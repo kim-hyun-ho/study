{
  "nbformat": 4,
  "nbformat_minor": 0,
  "metadata": {
    "colab": {
      "name": "희소행렬.ipynb",
      "provenance": [],
      "collapsed_sections": [],
      "authorship_tag": "ABX9TyOqeei+1xUFLE7PztBcbQOD",
      "include_colab_link": true
    },
    "kernelspec": {
      "name": "python3",
      "display_name": "Python 3"
    },
    "language_info": {
      "name": "python"
    }
  },
  "cells": [
    {
      "cell_type": "markdown",
      "metadata": {
        "id": "view-in-github",
        "colab_type": "text"
      },
      "source": [
        "<a href=\"https://colab.research.google.com/github/kim-hyun-ho/study/blob/main/%ED%9D%AC%EC%86%8C%ED%96%89%EB%A0%AC.ipynb\" target=\"_parent\"><img src=\"https://colab.research.google.com/assets/colab-badge.svg\" alt=\"Open In Colab\"/></a>"
      ]
    },
    {
      "cell_type": "code",
      "metadata": {
        "id": "xmFPzBK7YJ3H"
      },
      "source": [
        "import numpy as np\n",
        "from scipy import sparse\n"
      ],
      "execution_count": 12,
      "outputs": []
    },
    {
      "cell_type": "code",
      "metadata": {
        "colab": {
          "base_uri": "https://localhost:8080/"
        },
        "id": "W2eB1_e-YX8m",
        "outputId": "fb50fdd6-0cbc-44fe-9285-4042485416f2"
      },
      "source": [
        "data = np.array([3,1,2])\n",
        "\n",
        "#행 위치와 열 위치를 각각 생성\n",
        "row_pos = np.array([0,0,1])\n",
        "col_pos = np.array([0,2,1])\n",
        "\n",
        "#sparse 패키지의  coo_matrix를 이용하여  coo  형식으로 희소행렬 생성\n",
        "sparse_coo = \"asdf\"\n",
        "sparse_coo = sparse.coo_matrix(((data,(row_pos,col_pos))))\n",
        "\n",
        "print(type(sparse_coo))\n",
        "print(sparse_coo)"
      ],
      "execution_count": 11,
      "outputs": [
        {
          "output_type": "stream",
          "text": [
            "<class 'scipy.sparse.coo.coo_matrix'>\n",
            "  (0, 0)\t3\n",
            "  (0, 2)\t1\n",
            "  (1, 1)\t2\n"
          ],
          "name": "stdout"
        }
      ]
    },
    {
      "cell_type": "code",
      "metadata": {
        "colab": {
          "base_uri": "https://localhost:8080/"
        },
        "id": "HeaMe_U2gCtO",
        "outputId": "993e58fb-9858-4b3e-f054-64aa0218a152"
      },
      "source": [
        "sparse_coo.toarray()"
      ],
      "execution_count": 13,
      "outputs": [
        {
          "output_type": "execute_result",
          "data": {
            "text/plain": [
              "array([[3, 0, 1],\n",
              "       [0, 2, 0]])"
            ]
          },
          "metadata": {
            "tags": []
          },
          "execution_count": 13
        }
      ]
    },
    {
      "cell_type": "markdown",
      "metadata": {
        "id": "8idiyuhtggyI"
      },
      "source": [
        "#CSR(Compressed Sparse Row) : COO보다 메모리 절약"
      ]
    },
    {
      "cell_type": "code",
      "metadata": {
        "colab": {
          "base_uri": "https://localhost:8080/"
        },
        "id": "MFD8hKR9grUw",
        "outputId": "e63e3691-25ba-4d2b-ef63-1b27bb68ca06"
      },
      "source": [
        "#https://rfriend.tistory.com/551\n",
        "\n",
        "row = np.array([0, 0, 1, 2, 2, 2])\n",
        "col = np.array([0, 2, 2, 0, 1, 2])\n",
        "data = np.array([1, 2, 3, 4, 5, 6])\n",
        "\n",
        "sparse.csr_matrix((data, (row, col)), shape=(3, 3)).toarray()"
      ],
      "execution_count": 16,
      "outputs": [
        {
          "output_type": "execute_result",
          "data": {
            "text/plain": [
              "array([[1, 0, 2],\n",
              "       [0, 0, 3],\n",
              "       [4, 5, 6]], dtype=int64)"
            ]
          },
          "metadata": {
            "tags": []
          },
          "execution_count": 16
        }
      ]
    },
    {
      "cell_type": "code",
      "metadata": {
        "colab": {
          "base_uri": "https://localhost:8080/"
        },
        "id": "2hdT-EGViHaG",
        "outputId": "281cb2be-a093-4752-9529-f0004feb507e"
      },
      "source": [
        "indptr = np.array([0, 2, 3, 6])\n",
        "indices = np.array([0, 2, 2, 0, 1, 2])\n",
        "data = np.array([1, 2, 3, 4, 5, 6])\n",
        "\n",
        "sparse.csr_matrix((data, indices, indptr), shape=(3, 3)).toarray()"
      ],
      "execution_count": 17,
      "outputs": [
        {
          "output_type": "execute_result",
          "data": {
            "text/plain": [
              "array([[1, 0, 2],\n",
              "       [0, 0, 3],\n",
              "       [4, 5, 6]])"
            ]
          },
          "metadata": {
            "tags": []
          },
          "execution_count": 17
        }
      ]
    },
    {
      "cell_type": "code",
      "metadata": {
        "colab": {
          "base_uri": "https://localhost:8080/"
        },
        "id": "fs_dRN2GnDA2",
        "outputId": "3a185bee-e487-4e1d-a6fa-d641437afb6b"
      },
      "source": [
        "for i in range(3):\n",
        "    print(indices[indptr[i]:indptr[i+1]])"
      ],
      "execution_count": 23,
      "outputs": [
        {
          "output_type": "stream",
          "text": [
            "[0 2]\n",
            "[2]\n",
            "[0 1 2]\n"
          ],
          "name": "stdout"
        }
      ]
    },
    {
      "cell_type": "markdown",
      "metadata": {
        "id": "2Ne-YX7-mrN0"
      },
      "source": [
        ""
      ]
    }
  ]
}