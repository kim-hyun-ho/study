{
  "nbformat": 4,
  "nbformat_minor": 0,
  "metadata": {
    "colab": {
      "name": "210415.ipynb",
      "provenance": [],
      "collapsed_sections": [],
      "authorship_tag": "ABX9TyOSj+/E6HkGGBvA7Jv6OIZU",
      "include_colab_link": true
    },
    "kernelspec": {
      "name": "python3",
      "display_name": "Python 3"
    },
    "language_info": {
      "name": "python"
    }
  },
  "cells": [
    {
      "cell_type": "markdown",
      "metadata": {
        "id": "view-in-github",
        "colab_type": "text"
      },
      "source": [
        "<a href=\"https://colab.research.google.com/github/kim-hyun-ho/study/blob/main/210415.ipynb\" target=\"_parent\"><img src=\"https://colab.research.google.com/assets/colab-badge.svg\" alt=\"Open In Colab\"/></a>"
      ]
    },
    {
      "cell_type": "markdown",
      "metadata": {
        "id": "5465IZ25-BXb"
      },
      "source": [
        "#엔트로피<p>\n",
        "$I_H=-\\sum_{j=1}^{c}p_j\\log{(p_j)}$\n",
        "<br><br>\n",
        "**노드 안에 들어있는 종류 (확률log2확률) 의 합**\n"
      ]
    },
    {
      "cell_type": "markdown",
      "metadata": {
        "id": "PL7A0ox4_HT7"
      },
      "source": [
        "#지니지수<p>\n",
        "$I_G = 1 - \\sum_{j=1}^c P_j^2 $\n",
        "<br><br>\n",
        "**1 - (노드 확률 제곱)**"
      ]
    },
    {
      "cell_type": "markdown",
      "metadata": {
        "id": "ACZI3O8KA4qk"
      },
      "source": [
        "#불순도 지수를 지니지수를 쓸 때\n",
        "\n",
        "1. 분지 방법을 선택했을 때 새로운 T'의 불순도를 구한다.\n",
        "\n",
        "2. 불순도가 얼마나 감소하는지 측정 : I(T) - I(T')\n",
        "\n",
        "3. 불순도 감소량을 최대로하는 방법을 선택한다.\n",
        "\n",
        "https://m.blog.naver.com/ajh794/221730573964\n",
        "\n",
        "\n"
      ]
    },
    {
      "cell_type": "markdown",
      "metadata": {
        "id": "fEYAwGRP1F5c"
      },
      "source": [
        "#PCA 주성분 분석\n",
        "* 차원을 줄이면서 점들이 퍼지게 == 분산이 커지는 방법으로 줄인다. <> 겹치면 정보가 유실된다.\n",
        "\n",
        "* Eigen Vector 추출\n",
        "\n",
        "\n"
      ]
    },
    {
      "cell_type": "markdown",
      "metadata": {
        "id": "YnYPoA0c27UJ"
      },
      "source": [
        "## 유전 알고리즘을 이용한 여행하는 세일즈맨 문제\n"
      ]
    },
    {
      "cell_type": "markdown",
      "metadata": {
        "id": "pI9kJj_C7qmK"
      },
      "source": [
        "#짧은 문장은 RNN\n",
        "#긴문장은? LSTM\n",
        "* 그래디언트 배니싱\n",
        "* 그래디언트 익스플로딩\n",
        "\n",
        "#위 문제 극복위해 LSTM\n",
        "*Long Short-Term Memory\n",
        "\n"
      ]
    },
    {
      "cell_type": "markdown",
      "metadata": {
        "id": "nTB8FHAAK7LI"
      },
      "source": [
        "#RNN 순환 신경망\n",
        "* 소프트맥스 인풋은 로짓 출력은 예측\n",
        "* bptt\n",
        "* 감정분석\n",
        "\n"
      ]
    }
  ]
}