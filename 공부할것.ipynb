{
  "nbformat": 4,
  "nbformat_minor": 0,
  "metadata": {
    "colab": {
      "name": "공부할것.ipynb",
      "provenance": [],
      "collapsed_sections": [],
      "authorship_tag": "ABX9TyNYpZ9KJVCD4y+0pJsqW1Hr",
      "include_colab_link": true
    },
    "kernelspec": {
      "name": "python3",
      "display_name": "Python 3"
    },
    "language_info": {
      "name": "python"
    }
  },
  "cells": [
    {
      "cell_type": "markdown",
      "metadata": {
        "id": "view-in-github",
        "colab_type": "text"
      },
      "source": [
        "<a href=\"https://colab.research.google.com/github/kim-hyun-ho/study/blob/main/%EA%B3%B5%EB%B6%80%ED%95%A0%EA%B2%83.ipynb\" target=\"_parent\"><img src=\"https://colab.research.google.com/assets/colab-badge.svg\" alt=\"Open In Colab\"/></a>"
      ]
    },
    {
      "cell_type": "markdown",
      "metadata": {
        "id": "-m5E-13Lm0CE"
      },
      "source": [
        "* 판다스 피벗 테이블 https://rfriend.tistory.com/275\n",
        "* pd.insert()로 컬럼 위치 조정 가능\n",
        "* 피클 적용\n",
        "* 전처리 스케일러 익히기\n",
        "* 데이터를 끈질기게 다양한 각도로 살피자.\n",
        "* 보팅, 스택킹 등 앙상블"
      ]
    }
  ]
}
