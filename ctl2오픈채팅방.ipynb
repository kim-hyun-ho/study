{
  "nbformat": 4,
  "nbformat_minor": 0,
  "metadata": {
    "colab": {
      "name": "ctl2오픈채팅방.ipynb",
      "provenance": [],
      "collapsed_sections": [],
      "toc_visible": true,
      "authorship_tag": "ABX9TyNZ8/8jqrVF20EUxnPuxyxU",
      "include_colab_link": true
    },
    "kernelspec": {
      "name": "python3",
      "display_name": "Python 3"
    },
    "language_info": {
      "name": "python"
    }
  },
  "cells": [
    {
      "cell_type": "markdown",
      "metadata": {
        "id": "view-in-github",
        "colab_type": "text"
      },
      "source": [
        "<a href=\"https://colab.research.google.com/github/kim-hyun-ho/study/blob/main/ctl2%EC%98%A4%ED%94%88%EC%B1%84%ED%8C%85%EB%B0%A9.ipynb\" target=\"_parent\"><img src=\"https://colab.research.google.com/assets/colab-badge.svg\" alt=\"Open In Colab\"/></a>"
      ]
    },
    {
      "cell_type": "markdown",
      "metadata": {
        "id": "hU3jAMIB04p8"
      },
      "source": [
        "# 오픈 채팅방"
      ]
    },
    {
      "cell_type": "code",
      "metadata": {
        "id": "jbXsWDMlwIB2"
      },
      "source": [
        "def solution(record):\n",
        "    answer = []\n",
        "    \n",
        "    #아이디 별명 사전\n",
        "    nicknames = {}\n",
        "    for i in record:\n",
        "        ss = i.split()\n",
        "        if ss[0] == 'Enter' or ss[0] == 'Change':\n",
        "            nicknames[ss[1]]=ss[2]\n",
        "    # print(nicknames)\n",
        "    #answer 작성\n",
        "    for i in record:\n",
        "        ss= i.split()\n",
        "        if ss[0] == 'Enter':\n",
        "            answer.append(f'{nicknames[ss[1]]}님이 들어왔습니다.')\n",
        "        elif ss[0]== 'Leave':\n",
        "            answer.append(f'{nicknames[ss[1]]}님이 나갔습니다.')\n",
        "    return answer"
      ],
      "execution_count": null,
      "outputs": []
    },
    {
      "cell_type": "markdown",
      "metadata": {
        "id": "vbsX4TPsySOE"
      },
      "source": [
        "# 더 맵게"
      ]
    },
    {
      "cell_type": "code",
      "metadata": {
        "colab": {
          "base_uri": "https://localhost:8080/"
        },
        "id": "_GsJxa2CpoZx",
        "outputId": "175da4b5-7984-4575-f2c5-624117f0684b"
      },
      "source": [
        "def solution(scoville, K):\n",
        "    answer = 0\n",
        "    sc = scoville\n",
        "    sc.sort()\n",
        "    while len(sc)>1 :#2개 이상일때\n",
        "        # if K <= min(sc):#모두 K이상 \n",
        "        if K <= sc[0]:#모두 K이상 : 왜? 정렬되었으므로\n",
        "            break\n",
        "        else:\n",
        "            answer+=1\n",
        "            sc.append(sc[0]+sc[1]*2)\n",
        "            del sc[:2]\n",
        "            sc.sort()\n",
        "            print(sc)\n",
        "    else: #반복실행으로 요소가 1개가 되어도 K보다 작으면 불가능\n",
        "        if K > min(sc):\n",
        "            return -1 #불가능\n",
        "    return answer\n",
        "\n",
        "import time\n",
        "s=time.time()\n",
        "print(solution([1,2,3,9,10,12],7))\n",
        "print('t : ',time.time()-s)\n",
        "# min([1,2,3])"
      ],
      "execution_count": 32,
      "outputs": [
        {
          "output_type": "stream",
          "text": [
            "[3, 5, 9, 10, 12]\n",
            "[9, 10, 12, 13]\n",
            "2\n",
            "t :  0.0002605915069580078\n"
          ],
          "name": "stdout"
        }
      ]
    },
    {
      "cell_type": "code",
      "metadata": {
        "colab": {
          "base_uri": "https://localhost:8080/"
        },
        "id": "z_XJFzjhJER6",
        "outputId": "01fd6edb-7eb6-419f-f004-1976accf409a"
      },
      "source": [
        "def solution(scoville, K):\n",
        "    answer = 0\n",
        "    # import numpy as np\n",
        "    # sc = np.array(scoville)\n",
        "    sc = scoville\n",
        "    # print(sc)\n",
        "    sc.sort()\n",
        "    nsc=[]\n",
        "    ci=0\n",
        "    nci=0\n",
        "    while len(sc)>1 :#2개 이상일때\n",
        "        # if K <= min(sc):#모두 K이상 \n",
        "        if ci < len(sc) and K <= sc[ci]:#모두 K이상 : 왜? 정렬되었으므로\n",
        "            break\n",
        "        else:\n",
        "            answer+=1\n",
        "            if len(nsc)==0 or (len(sc)-ci >1 and sc[ci+1] < nsc[nci]) : # 제일작은수 두개가 sc에있음\n",
        "                new_n = sc[ci]+sc[ci+1]*2\n",
        "                # print(new_n,'= ',sc[ci],sc[ci+1]*2)\n",
        "                ci+=2\n",
        "            else: #sc 와 nsc에서 한개씩 가져옴\n",
        "                new_n = sc[ci]+nsc[nci]*2\n",
        "                # print(new_n,' = ',sc[ci],nsc[nci]*2)\n",
        "                ci+=1\n",
        "                nci+=1\n",
        "            # del sc[:2] #빠름 22초 # sc=sc[2:] #느림 #for, 리스트 표현식, 람다 다 느림.\n",
        "            # sc.append(new_n)\n",
        "            nsc.append(new_n)\n",
        "            # sc.sort()#속도 측정위해 주석\n",
        "\n",
        "            # print(sc[ci:], '###', nsc[nci:])\n",
        "            # print(ci, len(sc))\n",
        "            #sc가 소진되면\n",
        "            if ci==len(sc) :\n",
        "                sc,nsc, ci,nci = nsc[nci:], [], 0, 0\n",
        "\n",
        "    else: #반복실행으로 요소가 1개가 되어도 K보다 작으면 불가능\n",
        "        if K > min(sc):\n",
        "            return -1 #불가능\n",
        "    # print(ci)\n",
        "    # print(sc[ci:ci+5])\n",
        "    # print(sc[-5:])\n",
        "    return answer\n",
        "\n",
        "import time\n",
        "s=time.time()\n",
        "n=1000000\n",
        "# print(solution(list(range(n)),1000000000))\n",
        "print(solution([0,0,0,0,0,0,0,0,0,1,1,1,1,1,1,1,2,2,2,2,2,2,2],7))\n",
        "print('t : ',time.time()-s)\n",
        "# min([1,2,3])\n",
        "# 59999\n",
        "# t :  24.121931791305542"
      ],
      "execution_count": 129,
      "outputs": [
        {
          "output_type": "stream",
          "text": [
            "20\n",
            "t :  0.0007767677307128906\n"
          ],
          "name": "stdout"
        }
      ]
    },
    {
      "cell_type": "markdown",
      "metadata": {
        "id": "4KwJGdudMfue"
      },
      "source": [
        "# 다른 사람 풀이\n",
        "* heapq https://www.daleseo.com/python-heapq/"
      ]
    },
    {
      "cell_type": "code",
      "metadata": {
        "id": "tMZAdGbVRb7W"
      },
      "source": [
        "import heapq as hq\n",
        "\n",
        "def solution(scoville, K):\n",
        "\n",
        "    hq.heapify(scoville)\n",
        "    answer = 0\n",
        "    while True:\n",
        "        first = hq.heappop(scoville)\n",
        "        if first >= K:\n",
        "            break\n",
        "        if len(scoville) == 0:\n",
        "            return -1\n",
        "        second = hq.heappop(scoville)\n",
        "        hq.heappush(scoville, first + second*2)\n",
        "        answer += 1  \n",
        "\n",
        "    return answer"
      ],
      "execution_count": null,
      "outputs": []
    }
  ]
}