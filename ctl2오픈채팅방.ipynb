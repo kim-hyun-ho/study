{
  "nbformat": 4,
  "nbformat_minor": 0,
  "metadata": {
    "colab": {
      "name": "ctl2오픈채팅방.ipynb",
      "provenance": [],
      "collapsed_sections": [],
      "authorship_tag": "ABX9TyP0PgeOVX20DvcqZlnmL7TZ",
      "include_colab_link": true
    },
    "kernelspec": {
      "name": "python3",
      "display_name": "Python 3"
    },
    "language_info": {
      "name": "python"
    }
  },
  "cells": [
    {
      "cell_type": "markdown",
      "metadata": {
        "id": "view-in-github",
        "colab_type": "text"
      },
      "source": [
        "<a href=\"https://colab.research.google.com/github/kim-hyun-ho/study/blob/main/ctl2%EC%98%A4%ED%94%88%EC%B1%84%ED%8C%85%EB%B0%A9.ipynb\" target=\"_parent\"><img src=\"https://colab.research.google.com/assets/colab-badge.svg\" alt=\"Open In Colab\"/></a>"
      ]
    },
    {
      "cell_type": "markdown",
      "metadata": {
        "id": "hU3jAMIB04p8"
      },
      "source": [
        "# 오픈 채팅방"
      ]
    },
    {
      "cell_type": "code",
      "metadata": {
        "id": "jbXsWDMlwIB2"
      },
      "source": [
        "def solution(record):\n",
        "    answer = []\n",
        "    \n",
        "    #아이디 별명 사전\n",
        "    nicknames = {}\n",
        "    for i in record:\n",
        "        ss = i.split()\n",
        "        if ss[0] == 'Enter' or ss[0] == 'Change':\n",
        "            nicknames[ss[1]]=ss[2]\n",
        "    # print(nicknames)\n",
        "    #answer 작성\n",
        "    for i in record:\n",
        "        ss= i.split()\n",
        "        if ss[0] == 'Enter':\n",
        "            answer.append(f'{nicknames[ss[1]]}님이 들어왔습니다.')\n",
        "        elif ss[0]== 'Leave':\n",
        "            answer.append(f'{nicknames[ss[1]]}님이 나갔습니다.')\n",
        "    return answer"
      ],
      "execution_count": null,
      "outputs": []
    },
    {
      "cell_type": "markdown",
      "metadata": {
        "id": "vbsX4TPsySOE"
      },
      "source": [
        "# 더 맵게"
      ]
    },
    {
      "cell_type": "code",
      "metadata": {
        "colab": {
          "base_uri": "https://localhost:8080/"
        },
        "id": "_GsJxa2CpoZx",
        "outputId": "175da4b5-7984-4575-f2c5-624117f0684b"
      },
      "source": [
        "def solution(scoville, K):\n",
        "    answer = 0\n",
        "    sc = scoville\n",
        "    sc.sort()\n",
        "    while len(sc)>1 :#2개 이상일때\n",
        "        # if K <= min(sc):#모두 K이상 \n",
        "        if K <= sc[0]:#모두 K이상 : 왜? 정렬되었으므로\n",
        "            break\n",
        "        else:\n",
        "            answer+=1\n",
        "            sc.append(sc[0]+sc[1]*2)\n",
        "            del sc[:2]\n",
        "            sc.sort()\n",
        "            print(sc)\n",
        "    else: #반복실행으로 요소가 1개가 되어도 K보다 작으면 불가능\n",
        "        if K > min(sc):\n",
        "            return -1 #불가능\n",
        "    return answer\n",
        " \n",
        "import time\n",
        "s=time.time()\n",
        "print(solution([1,2,3,9,10,12],7))\n",
        "print('t : ',time.time()-s)\n",
        "# min([1,2,3])"
      ],
      "execution_count": null,
      "outputs": [
        {
          "output_type": "stream",
          "text": [
            "[3, 5, 9, 10, 12]\n",
            "[9, 10, 12, 13]\n",
            "2\n",
            "t :  0.0002605915069580078\n"
          ],
          "name": "stdout"
        }
      ]
    },
    {
      "cell_type": "code",
      "metadata": {
        "colab": {
          "base_uri": "https://localhost:8080/"
        },
        "id": "z_XJFzjhJER6",
        "outputId": "01fd6edb-7eb6-419f-f004-1976accf409a"
      },
      "source": [
        "def solution(scoville, K):\n",
        "    answer = 0\n",
        "    # import numpy as np\n",
        "    # sc = np.array(scoville)\n",
        "    sc = scoville\n",
        "    # print(sc)\n",
        "    sc.sort()\n",
        "    nsc=[]\n",
        "    ci=0\n",
        "    nci=0\n",
        "    while len(sc)>1 :#2개 이상일때\n",
        "        # if K <= min(sc):#모두 K이상 \n",
        "        if ci < len(sc) and K <= sc[ci]:#모두 K이상 : 왜? 정렬되었으므로\n",
        "            break\n",
        "        else:\n",
        "            answer+=1\n",
        "            if len(nsc)==0 or (len(sc)-ci >1 and sc[ci+1] < nsc[nci]) : # 제일작은수 두개가 sc에있음\n",
        "                new_n = sc[ci]+sc[ci+1]*2\n",
        "                # print(new_n,'= ',sc[ci],sc[ci+1]*2)\n",
        "                ci+=2\n",
        "            else: #sc 와 nsc에서 한개씩 가져옴\n",
        "                new_n = sc[ci]+nsc[nci]*2\n",
        "                # print(new_n,' = ',sc[ci],nsc[nci]*2)\n",
        "                ci+=1\n",
        "                nci+=1\n",
        "            # del sc[:2] #빠름 22초 # sc=sc[2:] #느림 #for, 리스트 표현식, 람다 다 느림.\n",
        "            # sc.append(new_n)\n",
        "            nsc.append(new_n)\n",
        "            # sc.sort()#속도 측정위해 주석\n",
        " \n",
        "            # print(sc[ci:], '###', nsc[nci:])\n",
        "            # print(ci, len(sc))\n",
        "            #sc가 소진되면\n",
        "            if ci==len(sc) :\n",
        "                sc,nsc, ci,nci = nsc[nci:], [], 0, 0\n",
        " \n",
        "    else: #반복실행으로 요소가 1개가 되어도 K보다 작으면 불가능\n",
        "        if K > min(sc):\n",
        "            return -1 #불가능\n",
        "    # print(ci)\n",
        "    # print(sc[ci:ci+5])\n",
        "    # print(sc[-5:])\n",
        "    return answer\n",
        " \n",
        "import time\n",
        "s=time.time()\n",
        "n=1000000\n",
        "# print(solution(list(range(n)),1000000000))\n",
        "print(solution([0,0,0,0,0,0,0,0,0,1,1,1,1,1,1,1,2,2,2,2,2,2,2],7))\n",
        "print('t : ',time.time()-s)\n",
        "# min([1,2,3])\n",
        "# 59999\n",
        "# t :  24.121931791305542"
      ],
      "execution_count": null,
      "outputs": [
        {
          "output_type": "stream",
          "text": [
            "20\n",
            "t :  0.0007767677307128906\n"
          ],
          "name": "stdout"
        }
      ]
    },
    {
      "cell_type": "markdown",
      "metadata": {
        "id": "4KwJGdudMfue"
      },
      "source": [
        "# 다른 사람 풀이\n",
        "* heapq https://www.daleseo.com/python-heapq/"
      ]
    },
    {
      "cell_type": "code",
      "metadata": {
        "id": "tMZAdGbVRb7W"
      },
      "source": [
        "import heapq as hq\n",
        " \n",
        "def solution(scoville, K):\n",
        " \n",
        "    hq.heapify(scoville)\n",
        "    answer = 0\n",
        "    while True:\n",
        "        first = hq.heappop(scoville)\n",
        "        if first >= K:\n",
        "            break\n",
        "        if len(scoville) == 0:\n",
        "            return -1\n",
        "        second = hq.heappop(scoville)\n",
        "        hq.heappush(scoville, first + second*2)\n",
        "        answer += 1  \n",
        " \n",
        "    return answer"
      ],
      "execution_count": null,
      "outputs": []
    },
    {
      "cell_type": "markdown",
      "metadata": {
        "id": "lfRQnTzVZJ49"
      },
      "source": [
        "# 문자열 압축\n"
      ]
    },
    {
      "cell_type": "code",
      "metadata": {
        "id": "qCL4-w9MZM30"
      },
      "source": [
        "def solution(s):\n",
        "    answer = len(s)\n",
        "    for w in range(1,len(s)//2+1): #글자 간격\n",
        "        sc=s\n",
        "        c=1\n",
        "        sbw = [ sc[i*w:(i+1)*w] for i in range(len(sc)//w+int(len(sc)%w !=0))]\n",
        "        # print(sbw,len(sbw))\n",
        " \n",
        "        zipstr=[]\n",
        "        tmp=''\n",
        "        while len(sbw) > 1: #2이상\n",
        "            for i in range(1,len(sbw)):\n",
        "                if sbw[0] != sbw[i]: #연속되지 않으면\n",
        "                    if i>1 : #1은 생략\n",
        "                        zipstr.append(str(i)) \n",
        "                    zipstr.append(sbw[0])\n",
        "                    sbw=sbw[i:]\n",
        "                    tmp=\"\".join(zipstr)\n",
        "                    # print(tmp, 'i =', i)\n",
        "                    break\n",
        "                elif i+1 == len(sbw): #맨끝 도달 2개이상 반복\n",
        "                    zipstr.append(str(i+1)) \n",
        "                    zipstr.append(sbw[0])\n",
        "                    sbw=[]\n",
        "                    tmp=\"\".join(zipstr)\n",
        "                    # print(tmp, 'i =', i)\n",
        "                    break\n",
        "        else:\n",
        "            # print('sbw 길이 ',len(sbw))\n",
        "            if len(sbw) >0:\n",
        "                zipstr.append(sbw[0])\n",
        "        tmp=\"\".join(zipstr)\n",
        "        # print(f'{w} 글자로 자르면 , 압축된 문자열은 ',tmp, '이고 길이는',len(tmp))\n",
        "        # print()\n",
        "        if len(tmp) < answer: #제일 짧은 길이로 갱신\n",
        "            answer = len(tmp)\n",
        "    return answer"
      ],
      "execution_count": null,
      "outputs": []
    },
    {
      "cell_type": "code",
      "metadata": {
        "colab": {
          "base_uri": "https://localhost:8080/"
        },
        "id": "ufDhkLb5Z-h6",
        "outputId": "7d4e9026-0dd3-432f-ad08-3cc21fba4e08"
      },
      "source": [
        "print(solution(\"aabbaccc\"))\n",
        "print(solution(\"ababcdcdababcdcd\"))\n",
        "print(solution(\"abcabcdede\"))\n",
        "print(solution(\"abcabcabcabcdededededede\"))\n",
        "print(solution(\"xababcdcdababcdcd\"))"
      ],
      "execution_count": null,
      "outputs": [
        {
          "output_type": "stream",
          "text": [
            "7\n",
            "9\n",
            "8\n",
            "14\n",
            "17\n"
          ],
          "name": "stdout"
        }
      ]
    },
    {
      "cell_type": "markdown",
      "metadata": {
        "id": "W01bw7RC8NJ_"
      },
      "source": [
        "# 타겟 넘버"
      ]
    },
    {
      "cell_type": "code",
      "metadata": {
        "id": "a7tnI5Y78jQO"
      },
      "source": [
        "#product\n",
        "def solution(numbers, target):\n",
        "    answer = 0\n",
        "    from itertools import product\n",
        "    #합차 조합 만들기 product\n",
        "    pm=list(product([-1,1],repeat=len(numbers)))\n",
        "    # print(pm)\n",
        "    gg=[]\n",
        "    for i in pm:\n",
        "        # gg = [ n*s for n,s in zip(numbers,i)]\n",
        "        # gsum=sum(gg)\n",
        "        gsum=0\n",
        "        for j in range(len(i)):\n",
        "            gsum+=(i[j]*numbers[j])\n",
        "\n",
        "        # print(i,'=', gsum)\n",
        "        if gsum==target:\n",
        "            answer+=1\n",
        "            # print(i,'=', gsum)\n",
        "        gg.clear()\n",
        "    return answer"
      ],
      "execution_count": null,
      "outputs": []
    },
    {
      "cell_type": "code",
      "metadata": {
        "colab": {
          "base_uri": "https://localhost:8080/"
        },
        "id": "MhBNg4Ds5iCf",
        "outputId": "0151ccde-a3f9-4b4f-9177-fdc9fee7f6a2"
      },
      "source": [
        "import time\n",
        "s=time.time()\n",
        "print(solution([1,1,1,1,1]*4,3))\n",
        "print('T = ',time.time()-s)\n",
        "print()\n"
      ],
      "execution_count": null,
      "outputs": [
        {
          "output_type": "stream",
          "text": [
            "0\n",
            "T =  3.0283467769622803\n",
            "\n"
          ],
          "name": "stdout"
        }
      ]
    },
    {
      "cell_type": "markdown",
      "metadata": {
        "id": "Pz7BWdLvuaaX"
      },
      "source": [
        "# 124 나라의 숫자"
      ]
    },
    {
      "cell_type": "code",
      "metadata": {
        "id": "c00ML1pjQeeX"
      },
      "source": [
        "def solution(n):\n",
        "    answer = ''\n",
        "    a,b = divmod(n,3) #3진수\n",
        "    if a:\n",
        "        if b!=0 :\n",
        "            answer = solution(a)\n",
        "        else: #나머지가 없으면 4\n",
        "            if a-1 : answer=solution(a-1) #a-1이 0이 아니면\n",
        "            b=4\n",
        "\n",
        "    return answer+str(b)"
      ],
      "execution_count": null,
      "outputs": []
    },
    {
      "cell_type": "code",
      "metadata": {
        "colab": {
          "base_uri": "https://localhost:8080/"
        },
        "id": "3p3QFk2YwsEH",
        "outputId": "cda0b332-8a34-489d-d1b3-9a8e1f6f5b56"
      },
      "source": [
        "for i in range(1,31):\n",
        "    print(i, solution(i))"
      ],
      "execution_count": null,
      "outputs": [
        {
          "output_type": "stream",
          "text": [
            "1 1\n",
            "2 2\n",
            "3 4\n",
            "4 11\n",
            "5 12\n",
            "6 14\n",
            "7 21\n",
            "8 22\n",
            "9 24\n",
            "10 41\n",
            "11 42\n",
            "12 44\n",
            "13 111\n",
            "14 112\n",
            "15 114\n",
            "16 121\n",
            "17 122\n",
            "18 124\n",
            "19 141\n",
            "20 142\n",
            "21 144\n",
            "22 211\n",
            "23 212\n",
            "24 214\n",
            "25 221\n",
            "26 222\n",
            "27 224\n",
            "28 241\n",
            "29 242\n",
            "30 244\n"
          ],
          "name": "stdout"
        }
      ]
    },
    {
      "cell_type": "markdown",
      "metadata": {
        "id": "v9R9FUU3QkwM"
      },
      "source": [
        "# 짝지어 제거하기"
      ]
    },
    {
      "cell_type": "code",
      "metadata": {
        "id": "lSgIpiluvEk4"
      },
      "source": [
        "#효율성 불합격 시간초과 정확성은 8~10초 통과\n",
        "def solution(s):\n",
        "    answer = -1\n",
        "    print(s[:10],len(s))\n",
        "    if len(s)%2==1: return 0 #문자열이 홀수면 모두 제거 안됨.\n",
        "    while 1:\n",
        "        bl=len(s)\n",
        "        for i in list('abcdefghijklmnopqrstuvwxyz'):\n",
        "             s=s.replace(i*2,'')\n",
        "        # print(bl,'//',len(s))\n",
        "        if bl == len(s): #중복제거가 더 이상 안 되면\n",
        "            break\n",
        "    print(s[:10],len(s))\n",
        "    return 0 if len(s) else 1 #못 지우고 남았으면 1 아니면 0"
      ],
      "execution_count": null,
      "outputs": []
    },
    {
      "cell_type": "code",
      "metadata": {
        "id": "CDzrlRh020Sm"
      },
      "source": [
        "#통과 효율성 테스트 최장 383.84ms\n",
        "def solution(s):\n",
        "    answer = -1\n",
        "    print(s[:10],len(s))\n",
        "    if len(s)%2==1: return 0 #문자열이 홀수면 모두 제거 안됨.\n",
        "\n",
        "    rr=[]\n",
        "    ss=list(s[::-1])\n",
        "    print(ss[:10])\n",
        "    while 1:\n",
        "        # bl=len(s)\n",
        "        bl= (len(ss)+len(rr))\n",
        "        ##두글자를 뽑는다.\n",
        "        if len(rr)==0: #rr이 비어있으면\n",
        "            c1,c2 = ss.pop(),ss.pop()\n",
        "            \n",
        "            if c1!=c2: # 다른글자면, 같으면 둘다 버림= 짝으로 지움\n",
        "                rr.append(c1)\n",
        "                ss.append(c2)\n",
        "            # print(c1,c2,rr,ss)\n",
        "        else: #글자수가 홀수이면 불능이라 앞에서 0 리턴했음\n",
        "            c1,c2 =rr.pop(),ss.pop()\n",
        "            if c1!=c2: # 다른글자면, 양쪽에서 꺼냈고 전진해야 하므로 둘다 rr로 보낸다.\n",
        "                rr.append(c1)\n",
        "                rr.append(c2)\n",
        "        ###        \n",
        "        # print(rr[:10],ss[:10],len(ss))\n",
        "        # if bl == (len(ss)+len(rr)): #중복제거가 더 이상 안 되면\n",
        "        if len(ss)==0: #ss가 비면?\n",
        "            break\n",
        "    print(rr[:10],ss[:10],len(ss))\n",
        "    return 0 if (len(ss)+len(rr)) else 1 #못 지우고 남았으면 1 아니면 0"
      ],
      "execution_count": null,
      "outputs": []
    },
    {
      "cell_type": "code",
      "metadata": {
        "colab": {
          "base_uri": "https://localhost:8080/"
        },
        "id": "Jhs2Lm1Zertr",
        "outputId": "c4d3cf74-6a5f-4b6e-b762-058b419a3c84"
      },
      "source": [
        "import time\n",
        "s=time.time()\n",
        "for i in ['baabaa','cdcd','bcadefghijkllkjihgfedacb'*1+'abcdef',]:\n",
        "    print(solution(i))\n",
        "print('t :',time.time()-s)\n",
        "\n",
        "# 47.138445138931274"
      ],
      "execution_count": null,
      "outputs": [
        {
          "output_type": "stream",
          "text": [
            "baabaa 6\n",
            "['a', 'a', 'b', 'a', 'a', 'b']\n",
            "[] [] 0\n",
            "1\n",
            "cdcd 4\n",
            "['d', 'c', 'd', 'c']\n",
            "['c', 'd', 'c', 'd'] [] 0\n",
            "0\n",
            "bcadefghij 30\n",
            "['f', 'e', 'd', 'c', 'b', 'a', 'b', 'c', 'a', 'd']\n",
            "['a', 'b', 'c', 'd', 'e', 'f'] [] 0\n",
            "0\n",
            "t : 0.003808736801147461\n"
          ],
          "name": "stdout"
        }
      ]
    },
    {
      "cell_type": "markdown",
      "metadata": {
        "id": "sglT0ltcpKqr"
      },
      "source": [
        "# 기능개발\n",
        "\n"
      ]
    },
    {
      "cell_type": "code",
      "metadata": {
        "id": "F753EfnhMTLq"
      },
      "source": [
        "def solution(progresses, speeds):\n",
        "    answer = []\n",
        "\n",
        "    #작업완료시간은?\n",
        "    days=[]\n",
        "    for p,s in zip(progresses, speeds):\n",
        "        days.append((100-p)//s + int((100-p)%s!=0))#나머지가 있으면 1일로 계산\n",
        "    print(days)\n",
        "    days=days[::-1]#뒤집기\n",
        "    # print(days)\n",
        "    while days: \n",
        "        max_day = days.pop()\n",
        "        count=1\n",
        "        while days:\n",
        "            next = days.pop()\n",
        "            if max_day >= next:\n",
        "                count+=1\n",
        "            else:\n",
        "                answer.append(count)\n",
        "                days.append(next) #다시 집어 넣음\n",
        "                break\n",
        "        else:\n",
        "            answer.append(count)\n",
        "            \n",
        "    return answer"
      ],
      "execution_count": null,
      "outputs": []
    },
    {
      "cell_type": "code",
      "metadata": {
        "colab": {
          "base_uri": "https://localhost:8080/"
        },
        "id": "o5wzpHhYKOrZ",
        "outputId": "a822c4f0-ea53-4a0d-90e7-0d2e74496b76"
      },
      "source": [
        "import time\n",
        "s=time.time()\n",
        "for i in [\n",
        "          ([1,1],[1,1]),\n",
        "          ([93,30,55],[1,30,5]),\n",
        "          ([95,90,99,99,80,99],[1,1,1,1,1,1])        \n",
        "          ]:\n",
        "    print(solution(i[0],i[1]))\n",
        "print('t :',time.time()-s)"
      ],
      "execution_count": null,
      "outputs": [
        {
          "output_type": "stream",
          "text": [
            "[99, 99]\n",
            "[2]\n",
            "[7, 3, 9]\n",
            "[2, 1]\n",
            "[5, 10, 1, 1, 20, 1]\n",
            "[1, 3, 2]\n",
            "t : 0.0042531490325927734\n"
          ],
          "name": "stdout"
        }
      ]
    },
    {
      "cell_type": "markdown",
      "metadata": {
        "id": "z4Y6pa5TUKDK"
      },
      "source": [
        "# 메뉴 리뉴얼"
      ]
    },
    {
      "cell_type": "code",
      "metadata": {
        "id": "Dz0IzLKZPVqc"
      },
      "source": [
        "def solution(orders, course):\n",
        "    answer = []\n",
        "    #단품 주문 횟수\n",
        "    single={}\n",
        "    for i in orders:\n",
        "        for j in i:\n",
        "            if j in list(single.keys()):\n",
        "                single[j]+=1 \n",
        "            else:\n",
        "                single[j]=1\n",
        "    import operator\n",
        "    # single=sorted(single.items(),key=operator.itemgetter(1),reverse=True)\n",
        "    single=sorted(single.items(),key=operator.itemgetter(1))\n",
        "    print(single)\n",
        "    return answer"
      ],
      "execution_count": null,
      "outputs": []
    },
    {
      "cell_type": "code",
      "metadata": {
        "id": "udup3fevAAC9"
      },
      "source": [
        "from itertools import combinations\n",
        " \n",
        "def solution(orders, course):\n",
        "    answer = []\n",
        "    for c in course:\n",
        "        #코스메뉴의 후보를 찾아보자\n",
        "        candi=dict()\n",
        "        cd=dict()\n",
        "        for o in orders:\n",
        "            #코스메뉴의 구성 갯수만큼 조합 생성\n",
        "            tmp=list( map(lambda x : ''.join(sorted(x)), list(combinations(o,c))) )\n",
        "            for t in tmp:\n",
        "                if t in cd:\n",
        "                    cd[t]+=1\n",
        "                else:\n",
        "                    cd[t]=1\n",
        "            # print(cd)\n",
        "        # print('빈도수를 키로 딕셔너리 만들기')\n",
        "        for v,k in cd.items():\n",
        "            # print('k,v =',k,v)\n",
        "            if k in candi.keys():\n",
        "                candi[k].append(v)\n",
        "            else:\n",
        "                candi[k]=[v]\n",
        "        candi=sorted(candi.items(),reverse=True)\n",
        "        # print(candi)\n",
        "        #답에 추가, 최고 빈도수만.\n",
        "        if candi and candi[0][0] >=2: #최소 2명이 시킨 메뉴만 추가\n",
        "            answer.extend(candi[0][1])\n",
        "\n",
        "    return sorted(answer)"
      ],
      "execution_count": null,
      "outputs": []
    },
    {
      "cell_type": "code",
      "metadata": {
        "colab": {
          "base_uri": "https://localhost:8080/"
        },
        "id": "W3aQKUYKUWYx",
        "outputId": "b3f27875-9151-4944-b101-1867100cd43a"
      },
      "source": [
        "import time\n",
        "s=time.time()\n",
        "for i in [\n",
        "          ([\"ABCFG\", \"AC\", \"CDE\", \"ACDE\", \"BCFG\", \"ACDEH\"],[2,3,4]),\n",
        "          ([\"ABCDE\", \"AB\", \"CD\", \"ADE\", \"XYZ\", \"XYZ\", \"ACD\"],[2,3,5]),\n",
        "          ([\"XYZ\", \"XWY\", \"WXA\"],[2,3,4])\n",
        "          ]:\n",
        "    print(solution(i[0],i[1]))\n",
        "print('t :',time.time()-s)\n",
        "#[\"AC\", \"ACDE\", \"BCFG\", \"CDE\"]\n",
        "#[\"ACD\", \"AD\", \"ADE\", \"CD\", \"XYZ\"]\n",
        "#[\"WX\", \"XY\"]"
      ],
      "execution_count": null,
      "outputs": [
        {
          "output_type": "stream",
          "text": [
            "['AC', 'ACDE', 'BCFG', 'CDE']\n",
            "['ACD', 'AD', 'ADE', 'CD', 'XYZ']\n",
            "['WX', 'XY']\n",
            "t : 0.0005393028259277344\n"
          ],
          "name": "stdout"
        }
      ]
    },
    {
      "cell_type": "markdown",
      "metadata": {
        "id": "u724cnKvGF0K"
      },
      "source": [
        "# 괄호 변환\n",
        "1. 입력이 빈 문자열인 경우, 빈 문자열을 반환합니다. \n",
        "2. 문자열 w를 두 \"균형잡힌 괄호 문자열\" u, v로 분리합니다.    \n",
        "단, u는 \"균형잡힌 괄호 문자열\"로 더 이상 분리할 수 없어야 하며,    \n",
        "v는 빈 문자열이 될 수 있습니다. \n",
        "3. 문자열 u가 \"올바른 괄호 문자열\" 이라면 문자열 v에 대해    \n",
        " 1단계부터 다시 수행합니다. \n",
        " - 3-1. 수행한 결과 문자열을 u에 이어 붙인 후 반환합니다. \n",
        "4. 문자열 u가 \"올바른 괄호 문자열\"이 아니라면 아래 과정을 수행합니다. \n",
        " + 4-1 빈 문자열에 첫 번째 문자로 '('를 붙입니다. \n",
        " + 4-2. 문자열 v에 대해 1단계부터 재귀적으로 수행한 결과    \n",
        "  문자열을 이어 붙입니다. \n",
        " + 4-3. ')'를 다시 붙입니다. \n",
        " + 4-4. u의 첫 번째와 마지막 문자를 제거하고, 나머지 문자열의    \n",
        "  괄호 방향을 뒤집어서 뒤에 붙입니다. \n",
        " * 4-5. 생성된 문자열을 반환합니다."
      ]
    },
    {
      "cell_type": "code",
      "metadata": {
        "id": "-s_PqUnXTJ-o"
      },
      "source": [
        "pair={'(':')',')':'('}\n",
        "def isCorrect(p):\n",
        "    while p.find('()')!=-1:\n",
        "        p=p.replace('()','')\n",
        "    return not bool(p) #빈문자열이 아니면.\n",
        "\n",
        "def solution(p):\n",
        "    answer = ''\n",
        "    if p!='': #빈문자열이 아닐때 만\n",
        "        # print(pair,p)\n",
        "        pp=p.index(pair[p[0]]) #첫괄호에 대응대는 첫 짝의 위치\n",
        "        # print('pp',pp)\n",
        "        u,v = p[:pp+1], p[pp+1:]\n",
        "        # print(u,' | ',v)\n",
        "        while u.count('(') != u.count(')'): #균형?\n",
        "            u+=v[0]\n",
        "            v=v[1:]\n",
        "            # print('균형 :', u,' | ',v)\n",
        "        #u가 올바른가?\n",
        "        if isCorrect(u): #올바름\n",
        "            answer = u + solution(v)\n",
        "        else: #올바르지 않음\n",
        "            # print('올바르지 않음')\n",
        "            tmp=[]\n",
        "            for c in u[1:-1]: #앞뒤 제거 후 괄호방향 뒤집기\n",
        "                tmp.append(pair[c])            \n",
        "            # answer = '('+ ''.join(tmp) +')'+ solution(v)\n",
        "            answer = '('+ solution(v) +')'+ ''.join(tmp)\n",
        "            # print('a=',answer)\n",
        "            \n",
        "    return answer"
      ],
      "execution_count": null,
      "outputs": []
    },
    {
      "cell_type": "code",
      "metadata": {
        "id": "kcnLlYiID7FZ",
        "colab": {
          "base_uri": "https://localhost:8080/"
        },
        "outputId": "be37fcea-0566-40cb-8083-0d55aad71629"
      },
      "source": [
        "import time\n",
        "s=time.time()\n",
        "for i in [\n",
        "          \"(()())()\",\n",
        "          \")(\",\n",
        "          \"()))((()\",\n",
        "          \")()()()(\"\n",
        "          ]:\n",
        "    print(solution(i))\n",
        "print('t :',time.time()-s)\n",
        "\n",
        "# \"(()())()\"\n",
        "# \"()\"\n",
        "# \"()(())()\""
      ],
      "execution_count": null,
      "outputs": [
        {
          "output_type": "stream",
          "text": [
            "(()())()\n",
            "()\n",
            "()(())()\n",
            "(((())))\n",
            "t : 0.0005006790161132812\n"
          ],
          "name": "stdout"
        }
      ]
    },
    {
      "cell_type": "markdown",
      "metadata": {
        "id": "70NboimrrOqw"
      },
      "source": [
        "# 예상 대진표"
      ]
    },
    {
      "cell_type": "code",
      "metadata": {
        "colab": {
          "base_uri": "https://localhost:8080/"
        },
        "id": "hh1uzLxwePEy",
        "outputId": "8dbe8656-3593-4e2d-fe0d-4764b3c263c0"
      },
      "source": [
        "def solution(n,a,b):\n",
        "    from math import log,ceil\n",
        "    answer = int(log(n,2)) #최대 라운드\n",
        "    for i in range(1,answer+1):\n",
        "        # print('a,b = ',a,b)\n",
        "        a,b = ceil(a/2),ceil(b/2)        \n",
        "        if a==b:\n",
        "            return i\n",
        "    return answer\n",
        "\n",
        "#테스트\n",
        "import time\n",
        "s=time.time()\n",
        "for i in [\n",
        "          [8,4,7]\n",
        "          ]:\n",
        "    print(solution(*i))\n",
        "print('수행시간 :',time.time()-s, 'ms')"
      ],
      "execution_count": null,
      "outputs": [
        {
          "output_type": "stream",
          "text": [
            "3\n",
            "수행시간 : 0.0002009868621826172 ms\n"
          ],
          "name": "stdout"
        }
      ]
    },
    {
      "cell_type": "code",
      "metadata": {
        "colab": {
          "base_uri": "https://localhost:8080/"
        },
        "id": "DcOIvxGds7ad",
        "outputId": "cdde75bc-cd84-465e-a701-0b3a67ddf7d9"
      },
      "source": [
        "'''참고 : bit_lenght()'''\n",
        "a=(4-1)^(7-1) #-1은 0인덱스로 변환\n",
        "print(bin(a),'bit_lenght() =', a.bit_length() )"
      ],
      "execution_count": null,
      "outputs": [
        {
          "output_type": "stream",
          "text": [
            "0b101 bit_lenght() = 3\n"
          ],
          "name": "stdout"
        }
      ]
    },
    {
      "cell_type": "markdown",
      "metadata": {
        "id": "ABj8G2mg7Ibm"
      },
      "source": [
        "# 가장 큰 수"
      ]
    },
    {
      "cell_type": "code",
      "metadata": {
        "colab": {
          "base_uri": "https://localhost:8080/"
        },
        "id": "gXn0WZNd7HWr",
        "outputId": "749fc5e7-3353-47b6-ec17-187d501363ca"
      },
      "source": [
        "def solution(numbers):\n",
        "    answer = ''\n",
        "    #1000미만의 수의 1의 자리를 오른쪽에 붙여서 4자리로 만든 키로 정렬 함 > 실패\n",
        "    #[90,908,89,898,10,101,1,8,9] >>> 9|908|90|89|898|8|1|101|10 \n",
        "    #정답은 [9, 90, 908, 89, 898, 8, 1, 101, 10]\n",
        "    def mykey(n):\n",
        "        s=str(n)\n",
        "        s=s+s[-1]*(8-len(s))\n",
        "        \n",
        "        # print(s)\n",
        "        return s\n",
        "\n",
        "    # print(sorted(numbers))\n",
        "    # print(sorted(numbers,reverse=True,key=mykey))\n",
        "    # answer = str(int('|'.join(map(str, sorted(numbers,reverse=True,key=mykey)))))\n",
        "    answer = str(('|'.join(map(str, sorted(numbers,reverse=True,key=mykey)))))\n",
        "    return answer\n",
        "\n",
        "#테스트\n",
        "import time\n",
        "s=time.time()\n",
        "for i in [\n",
        "          [0,0,0],\n",
        "          [90,908,89,898,10,101,1,8,9],\n",
        "          [3, 30, 34, 5, 9]\n",
        "          ]:\n",
        "    print(solution(i))\n",
        "print('수행시간 :',time.time()-s, 'ms')\n",
        "# [6, 10, 2] \t\"6210\"\n",
        "# [3, 30, 34, 5, 9] \t\"9534330\""
      ],
      "execution_count": null,
      "outputs": [
        {
          "output_type": "stream",
          "text": [
            "0|0|0\n",
            "908|898|101|90|89|10|9|8|1\n",
            "34|30|9|5|3\n",
            "수행시간 : 0.001420736312866211 ms\n"
          ],
          "name": "stdout"
        }
      ]
    },
    {
      "cell_type": "code",
      "metadata": {
        "colab": {
          "base_uri": "https://localhost:8080/"
        },
        "id": "xFogslLuqkef",
        "outputId": "d75a2fa0-8259-47c0-910b-e48902841843"
      },
      "source": [
        "def solution(numbers):\n",
        "    answer = ''\n",
        "\n",
        "    from functools import cmp_to_key #구식비교 cmp 가 functools에 생김\n",
        "\n",
        "    def mycmp(x,y):\n",
        "        return int(str(x)+str(y)) - int(str(y)+str(x))\n",
        "\n",
        "    answer = ''.join(map(str, sorted(numbers,reverse=True,key=cmp_to_key(mycmp))))\n",
        "    answer = str(int(answer))\n",
        "    return answer\n",
        "\n",
        "#테스트\n",
        "import time\n",
        "s=time.time()\n",
        "for i in [\n",
        "          [0,0,0],\n",
        "          [6, 10, 2],\n",
        "          [3, 30, 34, 5, 9]\n",
        "          ]:\n",
        "    print(solution(i))\n",
        "print('수행시간 :',time.time()-s, 'ms')\n",
        "# [6, 10, 2] \t\"6210\"\n",
        "# [3, 30, 34, 5, 9] \t\"9534330\""
      ],
      "execution_count": null,
      "outputs": [
        {
          "output_type": "stream",
          "text": [
            "0\n",
            "6210\n",
            "9534330\n",
            "수행시간 : 0.0012714862823486328 ms\n"
          ],
          "name": "stdout"
        }
      ]
    },
    {
      "cell_type": "markdown",
      "metadata": {
        "id": "QEYIgDIN_GYx"
      },
      "source": [
        "# 행렬 테두리 회전하기"
      ]
    },
    {
      "cell_type": "code",
      "metadata": {
        "colab": {
          "base_uri": "https://localhost:8080/"
        },
        "id": "bHILKNkc_Gi1",
        "outputId": "1c9a8962-dfd3-4f36-b7fe-f4197bf3a8ee"
      },
      "source": [
        "def solution(rows, columns, queries):\n",
        "    answer = []\n",
        "    #m행n열 만들기\n",
        "    mn = [ [ columns*(r-1)+c for c in range(1,columns+1)] for r in range(1,rows+1)]\n",
        "    # for i in mn: print(list(map(lambda x : f'{x:^3}',i)))\n",
        "    for q in queries:\n",
        "        #테두리 가져오기\n",
        "        border=[]\n",
        "        x1,y1,x2,y2=q\n",
        "        w,h = y2-y1, x2-x1\n",
        "        u,d=mn[x1-1][y1-1:y1+w], mn[x2-1][y1-1:y1+w][::-1]\n",
        "        #컬럼 접근위해\n",
        "        zmn = list(zip(*mn))\n",
        "        # print(zmn[0])\n",
        "        l,r=zmn[y1-1][x1:x2-1][::-1], zmn[y2-1][x1:x2-1]\n",
        "        #u,d,l,r 확인\n",
        "        # for i in [('u = ',u),('d = ',d),('l = ',l),('r = ',r)]: print(*i)\n",
        "        #border로 합치기\n",
        "        for i in [u,r,d,l]: border.extend(i)\n",
        "        # print(border)\n",
        "        #시계방향으로 회전\n",
        "        rborder=border[-1:]; rborder.extend(border[:-1])\n",
        "        # print(rborder)\n",
        "        #위치 바뀐값 중 최소 찾기\n",
        "        r_min=10000\n",
        "        for v1,v2 in zip(border,rborder): r_min=min(r_min,min(v1,v2))\n",
        "        answer.append(r_min)\n",
        "        #회전을 행렬에 반영.\n",
        "        # print('w, h =',w,h)\n",
        "        for c in range(w+1):\n",
        "            # print('위아래')\n",
        "            mn[x1-1][y1-1+c]=rborder[c] #u\n",
        "            mn[x2-1][y1-1+c]=rborder[(-h-c)] #d\n",
        "        for r in range(1,h):\n",
        "            # pritn('좌우')\n",
        "            mn[x1-1+r][y1-1]=rborder[-r] #l\n",
        "            mn[x1-1+r][y2-1]=rborder[(w+r)] #l\n",
        "        #반영 결과 보기\n",
        "        # for i in mn: print(list(map(lambda x : f'{x:^3}',i)))\n",
        "        # print('==epoch=='*10)\n",
        "    return answer\n",
        "\n",
        "#테스트\n",
        "import time\n",
        "s=time.time()\n",
        "for i in [\n",
        "          [6,6,[[2,2,5,4],[3,3,6,6],[5,1,6,3]]],\n",
        "          [3,3,[[1,1,2,2],[1,2,2,3],[2,1,3,2],[2,2,3,3]]],\n",
        "          [100,97,[[1,1,100,97]]]\n",
        "          ]:\n",
        "    print(solution(*i))\n",
        "print('수행시간 :',time.time()-s, 'ms')\n",
        "# 6 \t6 \t[[2,2,5,4],[3,3,6,6],[5,1,6,3]] \t[8, 10, 25]\n",
        "# 3 \t3 \t[[1,1,2,2],[1,2,2,3],[2,1,3,2],[2,2,3,3]] \t[1, 1, 5, 3]\n",
        "# 100 \t97 \t[[1,1,100,97]] [1]"
      ],
      "execution_count": 182,
      "outputs": [
        {
          "output_type": "stream",
          "text": [
            "[8, 10, 25]\n",
            "[1, 1, 5, 3]\n",
            "[1]\n",
            "수행시간 : 0.0021758079528808594 ms\n"
          ],
          "name": "stdout"
        }
      ]
    },
    {
      "cell_type": "markdown",
      "metadata": {
        "id": "oaxhCqD63G4g"
      },
      "source": [
        "# 소수 찾기"
      ]
    },
    {
      "cell_type": "code",
      "metadata": {
        "colab": {
          "base_uri": "https://localhost:8080/"
        },
        "id": "X4aLlXSGQP7W",
        "outputId": "d196d1a3-dd13-4039-a601-fed27b580096"
      },
      "source": [
        "def solution(numbers):\n",
        "    answer = 0\n",
        "    from itertools import permutations\n",
        "    nl=list(numbers)\n",
        "    # print(nl)\n",
        "    #조합 가능한 수 만들기\n",
        "    candi=[]\n",
        "    for i in range(len(nl)+1):\n",
        "        # print(list(map(lambda x : ''.join(x), permutations(nl,i+1))))\n",
        "        candi.extend(list(map(lambda x : ''.join(x), permutations(nl,i+1))))\n",
        "    candi=sorted(list(set(map(int,candi))))#중복제거\n",
        "    # print(candi)\n",
        "    def isPrime(n):\n",
        "        if n<2:\n",
        "            return False\n",
        "        for i in range(2,int(n**0.5)+1):\n",
        "            if n%i==0:#나누어지면\n",
        "                return False\n",
        "        else:\n",
        "            return True\n",
        "    #소수 계수\n",
        "    for i in candi:\n",
        "        if isPrime(int(i)):\n",
        "            # print(i,'는 소수')\n",
        "            answer+=1\n",
        "    return answer\n",
        "\n",
        "#테스트\n",
        "import time\n",
        "s=time.time()\n",
        "for i in [\n",
        "          '17','011'\n",
        "          ]:\n",
        "    print(solution(i))\n",
        "print('수행시간 :',time.time()-s, 'ms')\n",
        "# \"17\" \t3\n",
        "# \"011\" \t2"
      ],
      "execution_count": 210,
      "outputs": [
        {
          "output_type": "stream",
          "text": [
            "3\n",
            "2\n",
            "수행시간 : 0.00032830238342285156 ms\n"
          ],
          "name": "stdout"
        }
      ]
    },
    {
      "cell_type": "markdown",
      "metadata": {
        "id": "iWCuZ9GG9_MI"
      },
      "source": [
        "# 게임 맵 최단거리\n"
      ]
    },
    {
      "cell_type": "code",
      "metadata": {
        "colab": {
          "base_uri": "https://localhost:8080/"
        },
        "id": "Rd9gCLzm61a_",
        "outputId": "3ba8589e-0283-422d-e4d4-b6dd6d326c9f"
      },
      "source": [
        "def solution(maps):\n",
        "    answer = 0\n",
        "    return answer\n",
        "\n",
        "#테스트\n",
        "import time\n",
        "s=time.time()\n",
        "for i in [\n",
        "          [[1,0,1,1,1],[1,0,1,0,1],[1,0,1,1,1],[1,1,1,0,1],[0,0,0,0,1]],\n",
        "          [[1,0,1,1,1],[1,0,1,0,1],[1,0,1,1,1],[1,1,1,0,0],[0,0,0,0,1]]\n",
        "          ]:\n",
        "    print(solution(i))\n",
        "print('수행시간 :',time.time()-s, 'ms')\n",
        "# [[1,0,1,1,1],[1,0,1,0,1],[1,0,1,1,1],[1,1,1,0,1],[0,0,0,0,1]] \t11\n",
        "# [[1,0,1,1,1],[1,0,1,0,1],[1,0,1,1,1],[1,1,1,0,0],[0,0,0,0,1]] \t-1"
      ],
      "execution_count": 211,
      "outputs": [
        {
          "output_type": "stream",
          "text": [
            "0\n",
            "0\n",
            "수행시간 : 0.0014286041259765625 ms\n"
          ],
          "name": "stdout"
        }
      ]
    }
  ]
}