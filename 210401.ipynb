{
  "nbformat": 4,
  "nbformat_minor": 0,
  "metadata": {
    "colab": {
      "name": "210401.ipynb",
      "provenance": [],
      "collapsed_sections": [],
      "authorship_tag": "ABX9TyPud0LPkLLy58okdTuREh/e",
      "include_colab_link": true
    },
    "kernelspec": {
      "name": "python3",
      "display_name": "Python 3"
    },
    "language_info": {
      "name": "python"
    }
  },
  "cells": [
    {
      "cell_type": "markdown",
      "metadata": {
        "id": "view-in-github",
        "colab_type": "text"
      },
      "source": [
        "<a href=\"https://colab.research.google.com/github/kim-hyun-ho/study/blob/main/210401.ipynb\" target=\"_parent\"><img src=\"https://colab.research.google.com/assets/colab-badge.svg\" alt=\"Open In Colab\"/></a>"
      ]
    },
    {
      "cell_type": "markdown",
      "metadata": {
        "id": "EOSRLW_Lc2DK"
      },
      "source": [
        "#판다스 기초"
      ]
    },
    {
      "cell_type": "code",
      "metadata": {
        "colab": {
          "base_uri": "https://localhost:8080/",
          "height": 35
        },
        "id": "dP1fql9LvJ0L",
        "outputId": "cfa28cae-06eb-49e9-82fd-823bbbef8a37"
      },
      "source": [
        "import numpy as np\n",
        "import pandas as pd\n",
        "import matplotlib.pyplot as plt\n",
        "np.__version__"
      ],
      "execution_count": 12,
      "outputs": [
        {
          "output_type": "execute_result",
          "data": {
            "application/vnd.google.colaboratory.intrinsic+json": {
              "type": "string"
            },
            "text/plain": [
              "'1.19.5'"
            ]
          },
          "metadata": {
            "tags": []
          },
          "execution_count": 12
        }
      ]
    },
    {
      "cell_type": "code",
      "metadata": {
        "colab": {
          "base_uri": "https://localhost:8080/"
        },
        "id": "XQLZbEd2wzjL",
        "outputId": "63cf998d-8d32-470f-d46d-0525ea6a456e"
      },
      "source": [
        "def argtest(*args):\n",
        "    print(args)\n",
        "    \n",
        "argtest(1,2,3,4,5)\n",
        "print()\n",
        "argtest((1,2,3,4,5))"
      ],
      "execution_count": 6,
      "outputs": [
        {
          "output_type": "stream",
          "text": [
            "(1, 2, 3, 4, 5)\n",
            "\n",
            "((1, 2, 3, 4, 5),)\n"
          ],
          "name": "stdout"
        }
      ]
    },
    {
      "cell_type": "code",
      "metadata": {
        "colab": {
          "base_uri": "https://localhost:8080/"
        },
        "id": "X-BX14eWz-Tj",
        "outputId": "7d3934fa-2360-48a7-b7c5-9a85fdae2789"
      },
      "source": [
        "a=np.array([1,2,3])\n",
        "print(a)"
      ],
      "execution_count": 10,
      "outputs": [
        {
          "output_type": "stream",
          "text": [
            "[1 2 3]\n"
          ],
          "name": "stdout"
        }
      ]
    },
    {
      "cell_type": "code",
      "metadata": {
        "colab": {
          "base_uri": "https://localhost:8080/"
        },
        "id": "J4QU_--Q1CRG",
        "outputId": "0ffaf09d-e2ab-4772-e8a3-9512dd7d06de"
      },
      "source": [
        "a=np.zeros((3,3))\n",
        "a"
      ],
      "execution_count": 11,
      "outputs": [
        {
          "output_type": "execute_result",
          "data": {
            "text/plain": [
              "array([[0., 0., 0.],\n",
              "       [0., 0., 0.],\n",
              "       [0., 0., 0.]])"
            ]
          },
          "metadata": {
            "tags": []
          },
          "execution_count": 11
        }
      ]
    },
    {
      "cell_type": "code",
      "metadata": {
        "colab": {
          "base_uri": "https://localhost:8080/",
          "height": 265
        },
        "id": "cnCQ0bcN2JFR",
        "outputId": "7c2ef359-792d-4355-e7d5-6124cdede5e2"
      },
      "source": [
        "a=np.arange(0,10,2)\n",
        "plt.plot(a,'o')\n",
        "plt.show()"
      ],
      "execution_count": 13,
      "outputs": [
        {
          "output_type": "display_data",
          "data": {
            "image/png": "[encoded data removed]",
            "text/plain": [
              "<Figure size 432x288 with 1 Axes>"
            ]
          },
          "metadata": {
            "tags": [],
            "needs_background": "light"
          }
        }
      ]
    },
    {
      "cell_type": "code",
      "metadata": {
        "colab": {
          "base_uri": "https://localhost:8080/"
        },
        "id": "c10KQdW82Ruf",
        "outputId": "b0b2bc48-e4f8-40ce-8b2a-a585e322e391"
      },
      "source": [
        "a.sum(),np.sum(a)"
      ],
      "execution_count": 15,
      "outputs": [
        {
          "output_type": "execute_result",
          "data": {
            "text/plain": [
              "(20, 20)"
            ]
          },
          "metadata": {
            "tags": []
          },
          "execution_count": 15
        }
      ]
    },
    {
      "cell_type": "code",
      "metadata": {
        "colab": {
          "base_uri": "https://localhost:8080/"
        },
        "id": "yjmN4qN86XFu",
        "outputId": "f560c736-3122-44de-80bd-498d4f84ad78"
      },
      "source": [
        "a = np.arange(1, 10).reshape(3, 3)\n",
        "\n",
        "a"
      ],
      "execution_count": 17,
      "outputs": [
        {
          "output_type": "execute_result",
          "data": {
            "text/plain": [
              "array([[1, 2, 3],\n",
              "       [4, 5, 6],\n",
              "       [7, 8, 9]])"
            ]
          },
          "metadata": {
            "tags": []
          },
          "execution_count": 17
        }
      ]
    },
    {
      "cell_type": "code",
      "metadata": {
        "colab": {
          "base_uri": "https://localhost:8080/"
        },
        "id": "M0tL_8uD-G3F",
        "outputId": "791bfd6d-cdcd-4f2a-c71f-1f37ae4a21e9"
      },
      "source": [
        "a.cumsum(), np.cumsum(a)"
      ],
      "execution_count": 18,
      "outputs": [
        {
          "output_type": "execute_result",
          "data": {
            "text/plain": [
              "(array([ 1,  3,  6, 10, 15, 21, 28, 36, 45]),\n",
              " array([ 1,  3,  6, 10, 15, 21, 28, 36, 45]))"
            ]
          },
          "metadata": {
            "tags": []
          },
          "execution_count": 18
        }
      ]
    },
    {
      "cell_type": "code",
      "metadata": {
        "colab": {
          "base_uri": "https://localhost:8080/"
        },
        "id": "UqXwM5kkAql3",
        "outputId": "9ebc3e86-d380-43a4-b387-91c90efc0cba"
      },
      "source": [
        "#np.mean 평균\n",
        "\n",
        "#np.median 중앙값\n",
        "\n",
        "#np.corrcoef 상관계수 correlation coeficient\n",
        "\n",
        "#np.std 표준편차"
      ],
      "execution_count": 24,
      "outputs": [
        {
          "output_type": "stream",
          "text": [
            "None\n"
          ],
          "name": "stdout"
        }
      ]
    },
    {
      "cell_type": "code",
      "metadata": {
        "colab": {
          "base_uri": "https://localhost:8080/"
        },
        "id": "mw8KAgMHB1sI",
        "outputId": "10ffe939-f223-4495-fc12-d0817d9be673"
      },
      "source": [
        "a1=np.arange(1,25).reshape((4,6))\n",
        "a1"
      ],
      "execution_count": 25,
      "outputs": [
        {
          "output_type": "execute_result",
          "data": {
            "text/plain": [
              "array([[ 1,  2,  3,  4,  5,  6],\n",
              "       [ 7,  8,  9, 10, 11, 12],\n",
              "       [13, 14, 15, 16, 17, 18],\n",
              "       [19, 20, 21, 22, 23, 24]])"
            ]
          },
          "metadata": {
            "tags": []
          },
          "execution_count": 25
        }
      ]
    },
    {
      "cell_type": "code",
      "metadata": {
        "colab": {
          "base_uri": "https://localhost:8080/"
        },
        "id": "GZSfqUW3IwSF",
        "outputId": "10c54c25-d16b-40a6-926c-4e021aa06766"
      },
      "source": [
        "# [시작행:끝행, 시작열,끝열] \n",
        "# 끝행 끝열은 포함되지 않는다\n",
        "# 의미는 시작 이상 끝 미만을 의미\n",
        "a1[1:3,1:5]"
      ],
      "execution_count": 27,
      "outputs": [
        {
          "output_type": "execute_result",
          "data": {
            "text/plain": [
              "array([[ 8,  9, 10, 11],\n",
              "       [14, 15, 16, 17]])"
            ]
          },
          "metadata": {
            "tags": []
          },
          "execution_count": 27
        }
      ]
    },
    {
      "cell_type": "code",
      "metadata": {
        "colab": {
          "base_uri": "https://localhost:8080/"
        },
        "id": "1kf4sgBqIzwm",
        "outputId": "0cea3e40-044b-44e3-82e2-4b9ac128ddfb"
      },
      "source": [
        "df1=pd.DataFrame(np.arange(16).reshape(4,-1),\n",
        "    columns= 'c1 c2 c3 c4'.split(),\n",
        "    index= 'r1 r2 r3 r4'.split())    \n",
        "print(df1)\n",
        "print()\n",
        "\n",
        "#행으로\n",
        "print(df1.drop('r1'))\n",
        "print()\n",
        "\n",
        "#열로 지정\n",
        "print(df1.drop('c2',axis=1))\n",
        "print()\n",
        "\n",
        "#여러컬럼\n",
        "print(df1.drop(columns=['c1','c4']))"
      ],
      "execution_count": 28,
      "outputs": [
        {
          "output_type": "stream",
          "text": [
            "    c1  c2  c3  c4\n",
            "r1   0   1   2   3\n",
            "r2   4   5   6   7\n",
            "r3   8   9  10  11\n",
            "r4  12  13  14  15\n",
            "\n",
            "    c1  c2  c3  c4\n",
            "r2   4   5   6   7\n",
            "r3   8   9  10  11\n",
            "r4  12  13  14  15\n",
            "\n",
            "    c1  c3  c4\n",
            "r1   0   2   3\n",
            "r2   4   6   7\n",
            "r3   8  10  11\n",
            "r4  12  14  15\n",
            "\n",
            "    c2  c3\n",
            "r1   1   2\n",
            "r2   5   6\n",
            "r3   9  10\n",
            "r4  13  14\n"
          ],
          "name": "stdout"
        }
      ]
    },
    {
      "cell_type": "code",
      "metadata": {
        "colab": {
          "base_uri": "https://localhost:8080/"
        },
        "id": "hh39B3LvcvYv",
        "outputId": "ca5c8d1a-98af-4116-ce6a-e6af6a4d949e"
      },
      "source": [
        "data1 = pd.DataFrame({'id':'01 02 03 04 05 06'.split(),\n",
        "                      'col':np.random.randint(0,50,6),\n",
        "                      'col2':np.random.randint(1000,2000,6)})\n",
        "\n",
        "# data2 =pd.DataFrame({'id':'01 02 03 04 05 06'.split(),\n",
        "#                       'col':np.random.randint(0,50,6),\n",
        "#                       'col2':np.random.randint(1000,2000,6)})\n",
        "\n",
        "data2 =pd.DataFrame({'id':'04 05 06 07'.split(),\n",
        "                      'col':np.random.randint(0,50,4),\n",
        "                      'col2':np.random.randint(1000,2000,4)})\n",
        "\n",
        "print(data1,'\\n\\n',data2)"
      ],
      "execution_count": 41,
      "outputs": [
        {
          "output_type": "stream",
          "text": [
            "   id  col  col2\n",
            "0  01   20  1473\n",
            "1  02   10  1550\n",
            "2  03    0  1848\n",
            "3  04   36  1622\n",
            "4  05   15  1842\n",
            "5  06    7  1179 \n",
            "\n",
            "    id  col  col2\n",
            "0  04   14  1104\n",
            "1  05   28  1579\n",
            "2  06   23  1942\n",
            "3  07    1  1716\n"
          ],
          "name": "stdout"
        }
      ]
    },
    {
      "cell_type": "code",
      "metadata": {
        "colab": {
          "base_uri": "https://localhost:8080/",
          "height": 142
        },
        "id": "99OTFkRkgdb0",
        "outputId": "2a5c4e59-5f88-476b-8586-29719c1e566c"
      },
      "source": [
        "#merge\n",
        "pd.merge(data1,data2,on='id')"
      ],
      "execution_count": 42,
      "outputs": [
        {
          "output_type": "execute_result",
          "data": {
            "text/html": [
              "<div>\n",
              "<style scoped>\n",
              "    .dataframe tbody tr th:only-of-type {\n",
              "        vertical-align: middle;\n",
              "    }\n",
              "\n",
              "    .dataframe tbody tr th {\n",
              "        vertical-align: top;\n",
              "    }\n",
              "\n",
              "    .dataframe thead th {\n",
              "        text-align: right;\n",
              "    }\n",
              "</style>\n",
              "<table border=\"1\" class=\"dataframe\">\n",
              "  <thead>\n",
              "    <tr style=\"text-align: right;\">\n",
              "      <th></th>\n",
              "      <th>id</th>\n",
              "      <th>col_x</th>\n",
              "      <th>col2_x</th>\n",
              "      <th>col_y</th>\n",
              "      <th>col2_y</th>\n",
              "    </tr>\n",
              "  </thead>\n",
              "  <tbody>\n",
              "    <tr>\n",
              "      <th>0</th>\n",
              "      <td>04</td>\n",
              "      <td>36</td>\n",
              "      <td>1622</td>\n",
              "      <td>14</td>\n",
              "      <td>1104</td>\n",
              "    </tr>\n",
              "    <tr>\n",
              "      <th>1</th>\n",
              "      <td>05</td>\n",
              "      <td>15</td>\n",
              "      <td>1842</td>\n",
              "      <td>28</td>\n",
              "      <td>1579</td>\n",
              "    </tr>\n",
              "    <tr>\n",
              "      <th>2</th>\n",
              "      <td>06</td>\n",
              "      <td>7</td>\n",
              "      <td>1179</td>\n",
              "      <td>23</td>\n",
              "      <td>1942</td>\n",
              "    </tr>\n",
              "  </tbody>\n",
              "</table>\n",
              "</div>"
            ],
            "text/plain": [
              "   id  col_x  col2_x  col_y  col2_y\n",
              "0  04     36    1622     14    1104\n",
              "1  05     15    1842     28    1579\n",
              "2  06      7    1179     23    1942"
            ]
          },
          "metadata": {
            "tags": []
          },
          "execution_count": 42
        }
      ]
    },
    {
      "cell_type": "code",
      "metadata": {
        "colab": {
          "base_uri": "https://localhost:8080/",
          "height": 142
        },
        "id": "JLChftu3gnqL",
        "outputId": "77558494-199b-4047-ee82-60faf3dc61af"
      },
      "source": [
        "pd.merge(data1,data2,how='inner',on='id')"
      ],
      "execution_count": 43,
      "outputs": [
        {
          "output_type": "execute_result",
          "data": {
            "text/html": [
              "<div>\n",
              "<style scoped>\n",
              "    .dataframe tbody tr th:only-of-type {\n",
              "        vertical-align: middle;\n",
              "    }\n",
              "\n",
              "    .dataframe tbody tr th {\n",
              "        vertical-align: top;\n",
              "    }\n",
              "\n",
              "    .dataframe thead th {\n",
              "        text-align: right;\n",
              "    }\n",
              "</style>\n",
              "<table border=\"1\" class=\"dataframe\">\n",
              "  <thead>\n",
              "    <tr style=\"text-align: right;\">\n",
              "      <th></th>\n",
              "      <th>id</th>\n",
              "      <th>col_x</th>\n",
              "      <th>col2_x</th>\n",
              "      <th>col_y</th>\n",
              "      <th>col2_y</th>\n",
              "    </tr>\n",
              "  </thead>\n",
              "  <tbody>\n",
              "    <tr>\n",
              "      <th>0</th>\n",
              "      <td>04</td>\n",
              "      <td>36</td>\n",
              "      <td>1622</td>\n",
              "      <td>14</td>\n",
              "      <td>1104</td>\n",
              "    </tr>\n",
              "    <tr>\n",
              "      <th>1</th>\n",
              "      <td>05</td>\n",
              "      <td>15</td>\n",
              "      <td>1842</td>\n",
              "      <td>28</td>\n",
              "      <td>1579</td>\n",
              "    </tr>\n",
              "    <tr>\n",
              "      <th>2</th>\n",
              "      <td>06</td>\n",
              "      <td>7</td>\n",
              "      <td>1179</td>\n",
              "      <td>23</td>\n",
              "      <td>1942</td>\n",
              "    </tr>\n",
              "  </tbody>\n",
              "</table>\n",
              "</div>"
            ],
            "text/plain": [
              "   id  col_x  col2_x  col_y  col2_y\n",
              "0  04     36    1622     14    1104\n",
              "1  05     15    1842     28    1579\n",
              "2  06      7    1179     23    1942"
            ]
          },
          "metadata": {
            "tags": []
          },
          "execution_count": 43
        }
      ]
    },
    {
      "cell_type": "code",
      "metadata": {
        "colab": {
          "base_uri": "https://localhost:8080/",
          "height": 266
        },
        "id": "TcmnJUhCg_bF",
        "outputId": "9f7e4fec-ac8a-4223-f90a-db4acda81441"
      },
      "source": [
        "pd.merge(data1,data2,how='outer',on='id')"
      ],
      "execution_count": 44,
      "outputs": [
        {
          "output_type": "execute_result",
          "data": {
            "text/html": [
              "<div>\n",
              "<style scoped>\n",
              "    .dataframe tbody tr th:only-of-type {\n",
              "        vertical-align: middle;\n",
              "    }\n",
              "\n",
              "    .dataframe tbody tr th {\n",
              "        vertical-align: top;\n",
              "    }\n",
              "\n",
              "    .dataframe thead th {\n",
              "        text-align: right;\n",
              "    }\n",
              "</style>\n",
              "<table border=\"1\" class=\"dataframe\">\n",
              "  <thead>\n",
              "    <tr style=\"text-align: right;\">\n",
              "      <th></th>\n",
              "      <th>id</th>\n",
              "      <th>col_x</th>\n",
              "      <th>col2_x</th>\n",
              "      <th>col_y</th>\n",
              "      <th>col2_y</th>\n",
              "    </tr>\n",
              "  </thead>\n",
              "  <tbody>\n",
              "    <tr>\n",
              "      <th>0</th>\n",
              "      <td>01</td>\n",
              "      <td>20.0</td>\n",
              "      <td>1473.0</td>\n",
              "      <td>NaN</td>\n",
              "      <td>NaN</td>\n",
              "    </tr>\n",
              "    <tr>\n",
              "      <th>1</th>\n",
              "      <td>02</td>\n",
              "      <td>10.0</td>\n",
              "      <td>1550.0</td>\n",
              "      <td>NaN</td>\n",
              "      <td>NaN</td>\n",
              "    </tr>\n",
              "    <tr>\n",
              "      <th>2</th>\n",
              "      <td>03</td>\n",
              "      <td>0.0</td>\n",
              "      <td>1848.0</td>\n",
              "      <td>NaN</td>\n",
              "      <td>NaN</td>\n",
              "    </tr>\n",
              "    <tr>\n",
              "      <th>3</th>\n",
              "      <td>04</td>\n",
              "      <td>36.0</td>\n",
              "      <td>1622.0</td>\n",
              "      <td>14.0</td>\n",
              "      <td>1104.0</td>\n",
              "    </tr>\n",
              "    <tr>\n",
              "      <th>4</th>\n",
              "      <td>05</td>\n",
              "      <td>15.0</td>\n",
              "      <td>1842.0</td>\n",
              "      <td>28.0</td>\n",
              "      <td>1579.0</td>\n",
              "    </tr>\n",
              "    <tr>\n",
              "      <th>5</th>\n",
              "      <td>06</td>\n",
              "      <td>7.0</td>\n",
              "      <td>1179.0</td>\n",
              "      <td>23.0</td>\n",
              "      <td>1942.0</td>\n",
              "    </tr>\n",
              "    <tr>\n",
              "      <th>6</th>\n",
              "      <td>07</td>\n",
              "      <td>NaN</td>\n",
              "      <td>NaN</td>\n",
              "      <td>1.0</td>\n",
              "      <td>1716.0</td>\n",
              "    </tr>\n",
              "  </tbody>\n",
              "</table>\n",
              "</div>"
            ],
            "text/plain": [
              "   id  col_x  col2_x  col_y  col2_y\n",
              "0  01   20.0  1473.0    NaN     NaN\n",
              "1  02   10.0  1550.0    NaN     NaN\n",
              "2  03    0.0  1848.0    NaN     NaN\n",
              "3  04   36.0  1622.0   14.0  1104.0\n",
              "4  05   15.0  1842.0   28.0  1579.0\n",
              "5  06    7.0  1179.0   23.0  1942.0\n",
              "6  07    NaN     NaN    1.0  1716.0"
            ]
          },
          "metadata": {
            "tags": []
          },
          "execution_count": 44
        }
      ]
    },
    {
      "cell_type": "code",
      "metadata": {
        "colab": {
          "base_uri": "https://localhost:8080/",
          "height": 235
        },
        "id": "mEJVLWvDhKut",
        "outputId": "44d02745-1465-4b15-c198-ccef8a13ba85"
      },
      "source": [
        "pd.merge(data1,data2,how='left',on='id')"
      ],
      "execution_count": 45,
      "outputs": [
        {
          "output_type": "execute_result",
          "data": {
            "text/html": [
              "<div>\n",
              "<style scoped>\n",
              "    .dataframe tbody tr th:only-of-type {\n",
              "        vertical-align: middle;\n",
              "    }\n",
              "\n",
              "    .dataframe tbody tr th {\n",
              "        vertical-align: top;\n",
              "    }\n",
              "\n",
              "    .dataframe thead th {\n",
              "        text-align: right;\n",
              "    }\n",
              "</style>\n",
              "<table border=\"1\" class=\"dataframe\">\n",
              "  <thead>\n",
              "    <tr style=\"text-align: right;\">\n",
              "      <th></th>\n",
              "      <th>id</th>\n",
              "      <th>col_x</th>\n",
              "      <th>col2_x</th>\n",
              "      <th>col_y</th>\n",
              "      <th>col2_y</th>\n",
              "    </tr>\n",
              "  </thead>\n",
              "  <tbody>\n",
              "    <tr>\n",
              "      <th>0</th>\n",
              "      <td>01</td>\n",
              "      <td>20</td>\n",
              "      <td>1473</td>\n",
              "      <td>NaN</td>\n",
              "      <td>NaN</td>\n",
              "    </tr>\n",
              "    <tr>\n",
              "      <th>1</th>\n",
              "      <td>02</td>\n",
              "      <td>10</td>\n",
              "      <td>1550</td>\n",
              "      <td>NaN</td>\n",
              "      <td>NaN</td>\n",
              "    </tr>\n",
              "    <tr>\n",
              "      <th>2</th>\n",
              "      <td>03</td>\n",
              "      <td>0</td>\n",
              "      <td>1848</td>\n",
              "      <td>NaN</td>\n",
              "      <td>NaN</td>\n",
              "    </tr>\n",
              "    <tr>\n",
              "      <th>3</th>\n",
              "      <td>04</td>\n",
              "      <td>36</td>\n",
              "      <td>1622</td>\n",
              "      <td>14.0</td>\n",
              "      <td>1104.0</td>\n",
              "    </tr>\n",
              "    <tr>\n",
              "      <th>4</th>\n",
              "      <td>05</td>\n",
              "      <td>15</td>\n",
              "      <td>1842</td>\n",
              "      <td>28.0</td>\n",
              "      <td>1579.0</td>\n",
              "    </tr>\n",
              "    <tr>\n",
              "      <th>5</th>\n",
              "      <td>06</td>\n",
              "      <td>7</td>\n",
              "      <td>1179</td>\n",
              "      <td>23.0</td>\n",
              "      <td>1942.0</td>\n",
              "    </tr>\n",
              "  </tbody>\n",
              "</table>\n",
              "</div>"
            ],
            "text/plain": [
              "   id  col_x  col2_x  col_y  col2_y\n",
              "0  01     20    1473    NaN     NaN\n",
              "1  02     10    1550    NaN     NaN\n",
              "2  03      0    1848    NaN     NaN\n",
              "3  04     36    1622   14.0  1104.0\n",
              "4  05     15    1842   28.0  1579.0\n",
              "5  06      7    1179   23.0  1942.0"
            ]
          },
          "metadata": {
            "tags": []
          },
          "execution_count": 45
        }
      ]
    },
    {
      "cell_type": "code",
      "metadata": {
        "colab": {
          "base_uri": "https://localhost:8080/",
          "height": 173
        },
        "id": "s8q0_qgVhngc",
        "outputId": "af470842-bb20-4236-e7ff-3fca29c2fc4c"
      },
      "source": [
        "pd.merge(data1,data2,how='right',on='id')"
      ],
      "execution_count": 46,
      "outputs": [
        {
          "output_type": "execute_result",
          "data": {
            "text/html": [
              "<div>\n",
              "<style scoped>\n",
              "    .dataframe tbody tr th:only-of-type {\n",
              "        vertical-align: middle;\n",
              "    }\n",
              "\n",
              "    .dataframe tbody tr th {\n",
              "        vertical-align: top;\n",
              "    }\n",
              "\n",
              "    .dataframe thead th {\n",
              "        text-align: right;\n",
              "    }\n",
              "</style>\n",
              "<table border=\"1\" class=\"dataframe\">\n",
              "  <thead>\n",
              "    <tr style=\"text-align: right;\">\n",
              "      <th></th>\n",
              "      <th>id</th>\n",
              "      <th>col_x</th>\n",
              "      <th>col2_x</th>\n",
              "      <th>col_y</th>\n",
              "      <th>col2_y</th>\n",
              "    </tr>\n",
              "  </thead>\n",
              "  <tbody>\n",
              "    <tr>\n",
              "      <th>0</th>\n",
              "      <td>04</td>\n",
              "      <td>36.0</td>\n",
              "      <td>1622.0</td>\n",
              "      <td>14</td>\n",
              "      <td>1104</td>\n",
              "    </tr>\n",
              "    <tr>\n",
              "      <th>1</th>\n",
              "      <td>05</td>\n",
              "      <td>15.0</td>\n",
              "      <td>1842.0</td>\n",
              "      <td>28</td>\n",
              "      <td>1579</td>\n",
              "    </tr>\n",
              "    <tr>\n",
              "      <th>2</th>\n",
              "      <td>06</td>\n",
              "      <td>7.0</td>\n",
              "      <td>1179.0</td>\n",
              "      <td>23</td>\n",
              "      <td>1942</td>\n",
              "    </tr>\n",
              "    <tr>\n",
              "      <th>3</th>\n",
              "      <td>07</td>\n",
              "      <td>NaN</td>\n",
              "      <td>NaN</td>\n",
              "      <td>1</td>\n",
              "      <td>1716</td>\n",
              "    </tr>\n",
              "  </tbody>\n",
              "</table>\n",
              "</div>"
            ],
            "text/plain": [
              "   id  col_x  col2_x  col_y  col2_y\n",
              "0  04   36.0  1622.0     14    1104\n",
              "1  05   15.0  1842.0     28    1579\n",
              "2  06    7.0  1179.0     23    1942\n",
              "3  07    NaN     NaN      1    1716"
            ]
          },
          "metadata": {
            "tags": []
          },
          "execution_count": 46
        }
      ]
    },
    {
      "cell_type": "code",
      "metadata": {
        "colab": {
          "base_uri": "https://localhost:8080/",
          "height": 316
        },
        "id": "MsMNPDbEibpG",
        "outputId": "c5189eb0-716a-4926-ed03-8cf5ae9831fc"
      },
      "source": [
        "df1=pd.DataFrame(np.arange(16).reshape(4,-1),\n",
        "    columns= 'c1 c2 c3 c4'.split(),\n",
        "    index= 'r1 r2 r3 r4'.split())    \n",
        "print(df1)\n"
      ],
      "execution_count": 47,
      "outputs": [
        {
          "output_type": "stream",
          "text": [
            "    c1  c2  c3  c4\n",
            "r1   0   1   2   3\n",
            "r2   4   5   6   7\n",
            "r3   8   9  10  11\n",
            "r4  12  13  14  15\n"
          ],
          "name": "stdout"
        },
        {
          "output_type": "error",
          "ename": "NameError",
          "evalue": "ignored",
          "traceback": [
            "\u001b[0;31m---------------------------------------------------------------------------\u001b[0m",
            "\u001b[0;31mNameError\u001b[0m                                 Traceback (most recent call last)",
            "\u001b[0;32m<ipython-input-47-81ed8832cd75>\u001b[0m in \u001b[0;36m<module>\u001b[0;34m()\u001b[0m\n\u001b[1;32m      4\u001b[0m \u001b[0mprint\u001b[0m\u001b[0;34m(\u001b[0m\u001b[0mdf1\u001b[0m\u001b[0;34m)\u001b[0m\u001b[0;34m\u001b[0m\u001b[0;34m\u001b[0m\u001b[0m\n\u001b[1;32m      5\u001b[0m \u001b[0;34m\u001b[0m\u001b[0m\n\u001b[0;32m----> 6\u001b[0;31m \u001b[0mprint\u001b[0m\u001b[0;34m(\u001b[0m\u001b[0mdf\u001b[0m\u001b[0;34m.\u001b[0m\u001b[0misnull\u001b[0m\u001b[0;34m(\u001b[0m\u001b[0;34m)\u001b[0m\u001b[0;34m.\u001b[0m\u001b[0msum\u001b[0m\u001b[0;34m(\u001b[0m\u001b[0;34m)\u001b[0m\u001b[0;34m.\u001b[0m\u001b[0msum\u001b[0m\u001b[0;34m(\u001b[0m\u001b[0;34m)\u001b[0m\u001b[0;34m)\u001b[0m\u001b[0;34m\u001b[0m\u001b[0;34m\u001b[0m\u001b[0m\n\u001b[0m\u001b[1;32m      7\u001b[0m \u001b[0mprint\u001b[0m\u001b[0;34m(\u001b[0m\u001b[0mdf\u001b[0m\u001b[0;34m.\u001b[0m\u001b[0misna\u001b[0m\u001b[0;34m(\u001b[0m\u001b[0;34m)\u001b[0m\u001b[0;34m.\u001b[0m\u001b[0msum\u001b[0m\u001b[0;34m(\u001b[0m\u001b[0;34m)\u001b[0m\u001b[0;34m.\u001b[0m\u001b[0msum\u001b[0m\u001b[0;34m(\u001b[0m\u001b[0;34m)\u001b[0m\u001b[0;34m)\u001b[0m\u001b[0;34m\u001b[0m\u001b[0;34m\u001b[0m\u001b[0m\n",
            "\u001b[0;31mNameError\u001b[0m: name 'df' is not defined"
          ]
        }
      ]
    },
    {
      "cell_type": "code",
      "metadata": {
        "colab": {
          "base_uri": "https://localhost:8080/"
        },
        "id": "PK07A4aV2taP",
        "outputId": "0db64406-8b92-403d-cf4b-e143c49f1ea7"
      },
      "source": [
        "df = pd.read_csv('https://raw.githubusercontent.com/Youngpyoryu/SD_academy/main/%ED%8C%8C%EC%9D%B4%EC%8D%AC/kbo.csv')\n",
        "# print(df)\n",
        "print(df.head())\n",
        "print()\n",
        "\n",
        "#결측치 존재여부 확인\n",
        "print(df.isnull().sum().sum())\n",
        "print(df.isna().sum().sum())\n",
        "\n",
        "#결측치를 어떻게 처리할 것인가?\n",
        "obj = pd.Series(['apple','mango',np.nan,None,'peach',1])\n",
        "print(obj)\n",
        "print(obj.isna().sum())\n",
        "\n",
        "#결측치 없애기\n",
        "print(obj.dropna())\n"
      ],
      "execution_count": 79,
      "outputs": [
        {
          "output_type": "stream",
          "text": [
            "     연도  순위   팀  경기수   승   패  무     승률   게임차\n",
            "0  2019   1  두산  144  88  55  1  0.615   0.0\n",
            "1  2019   2  키움  144  86  57  1  0.601   2.0\n",
            "2  2019   3  SK  144  88  55  1  0.615   0.0\n",
            "3  2019   4  LG  144  79  64  1  0.552   9.0\n",
            "4  2019   5  NC  144  73  69  2  0.514  14.5\n",
            "\n",
            "0\n",
            "0\n",
            "0    apple\n",
            "1    mango\n",
            "2      NaN\n",
            "3     None\n",
            "4    peach\n",
            "5        1\n",
            "dtype: object\n",
            "2\n",
            "0    apple\n",
            "1    mango\n",
            "4    peach\n",
            "5        1\n",
            "dtype: object\n"
          ],
          "name": "stdout"
        }
      ]
    },
    {
      "cell_type": "code",
      "metadata": {
        "colab": {
          "base_uri": "https://localhost:8080/"
        },
        "id": "jQH5ryew5Hel",
        "outputId": "57429142-db69-4c41-d530-20608e10a7f0"
      },
      "source": [
        "frame=pd.DataFrame([[np.nan,np.nan,np.nan,np.nan],\n",
        "                    [10,5,40,6],\n",
        "                    [5,2,30,8],\n",
        "                    [20,np.nan,20,6]],\n",
        "                   columns='x1 x2 x3 x4'.split())\n",
        "print(frame,'\\n')\n",
        "\n",
        "print(frame.dropna(thresh=2)) # nan이 2개 이상일때 행삭제"
      ],
      "execution_count": 59,
      "outputs": [
        {
          "output_type": "stream",
          "text": [
            "     x1   x2    x3   x4\n",
            "0   NaN  NaN   NaN  NaN\n",
            "1  10.0  5.0  40.0  6.0\n",
            "2   5.0  2.0  30.0  8.0\n",
            "3  20.0  NaN  20.0  6.0 \n",
            "\n",
            "     x1   x2    x3   x4\n",
            "1  10.0  5.0  40.0  6.0\n",
            "2   5.0  2.0  30.0  8.0\n",
            "3  20.0  NaN  20.0  6.0\n"
          ],
          "name": "stdout"
        }
      ]
    },
    {
      "cell_type": "code",
      "metadata": {
        "colab": {
          "base_uri": "https://localhost:8080/"
        },
        "id": "QniK3Uw55jzA",
        "outputId": "2cade2c7-b101-48ed-f445-34302786fec1"
      },
      "source": [
        "#결측치 값 할당하기\n",
        "print(frame.fillna(1000))"
      ],
      "execution_count": 62,
      "outputs": [
        {
          "output_type": "stream",
          "text": [
            "       x1      x2      x3      x4\n",
            "0  1000.0  1000.0  1000.0  1000.0\n",
            "1    10.0     5.0    40.0     6.0\n",
            "2     5.0     2.0    30.0     8.0\n",
            "3    20.0  1000.0    20.0     6.0\n"
          ],
          "name": "stdout"
        }
      ]
    },
    {
      "cell_type": "code",
      "metadata": {
        "colab": {
          "base_uri": "https://localhost:8080/"
        },
        "id": "OQc2Tfd06f9b",
        "outputId": "46d44fb9-5fe2-4e52-8e8a-07784d438dab"
      },
      "source": [
        "frame = pd.DataFrame({'id':['0001','0002','0003','0001'],\n",
        "                        'name':['a','b','c','c']})\n",
        "print(frame)\n",
        "\n",
        "print(frame.duplicated()) #중복확인\n",
        "\n",
        "print(frame.drop_duplicates()) #중복 된거 버림"
      ],
      "execution_count": 66,
      "outputs": [
        {
          "output_type": "stream",
          "text": [
            "     id name\n",
            "0  0001    a\n",
            "1  0002    b\n",
            "2  0003    c\n",
            "3  0001    c\n",
            "0    False\n",
            "1    False\n",
            "2    False\n",
            "3    False\n",
            "dtype: bool\n",
            "     id name\n",
            "0  0001    a\n",
            "1  0002    b\n",
            "2  0003    c\n",
            "3  0001    c\n"
          ],
          "name": "stdout"
        }
      ]
    },
    {
      "cell_type": "code",
      "metadata": {
        "colab": {
          "base_uri": "https://localhost:8080/"
        },
        "id": "ge0iqwWH_B8T",
        "outputId": "12847cac-ed02-49e8-9004-d5c65dc893f6"
      },
      "source": [
        "obj=pd.Series([10,-999,4,5,7,'n'])\n",
        "print(obj.replace(-999,np.nan))"
      ],
      "execution_count": 67,
      "outputs": [
        {
          "output_type": "stream",
          "text": [
            "0     10\n",
            "1    NaN\n",
            "2      4\n",
            "3      5\n",
            "4      7\n",
            "5      n\n",
            "dtype: object\n"
          ],
          "name": "stdout"
        }
      ]
    },
    {
      "cell_type": "code",
      "metadata": {
        "colab": {
          "base_uri": "https://localhost:8080/"
        },
        "id": "GIWRGe3c_Mah",
        "outputId": "0e2b1726-8232-434d-b1e0-3eb9dd00fa0e"
      },
      "source": [
        "print(obj.replace([-999,'n'],np.nan))"
      ],
      "execution_count": 68,
      "outputs": [
        {
          "output_type": "stream",
          "text": [
            "0    10.0\n",
            "1     NaN\n",
            "2     4.0\n",
            "3     5.0\n",
            "4     7.0\n",
            "5     NaN\n",
            "dtype: float64\n"
          ],
          "name": "stdout"
        }
      ]
    },
    {
      "cell_type": "code",
      "metadata": {
        "colab": {
          "base_uri": "https://localhost:8080/"
        },
        "id": "9ry5Ysxi_Tjo",
        "outputId": "9625822a-3d13-476a-8354-375535ba2f0d"
      },
      "source": [
        "#데이터변형\n",
        "#binning : 구간별로 자르기\n",
        "#cut \n",
        "\n",
        "#연속형 데이터를 구간으로 나누어 범주화 하는 방법\n",
        "#숫자로 되어있는걸 카테로기 구간으로 나눔\n",
        "age=[20,35,67,39,59,44,56,77,28,20,22,80,32,46,52,19,33,5,15,50,29,21,33,48,85,33,47,52,36]\n",
        "\n",
        "bins=[0,20,40,60,100]\n",
        "\n",
        "cuts=pd.cut(age,bins)\n",
        "print(cuts)\n",
        "\n",
        "print(cuts.categories)\n",
        "print(cuts.codes) #어떤 구간에 해당하나?\n",
        "\n",
        "cuts=pd.cut(age,4,precision=1).value_counts()\n",
        "print('\\n\\n',cuts)\n"
      ],
      "execution_count": 76,
      "outputs": [
        {
          "output_type": "stream",
          "text": [
            "[(0, 20], (20, 40], (60, 100], (20, 40], (40, 60], ..., (60, 100], (20, 40], (40, 60], (40, 60], (20, 40]]\n",
            "Length: 29\n",
            "Categories (4, interval[int64]): [(0, 20] < (20, 40] < (40, 60] < (60, 100]]\n",
            "IntervalIndex([(0, 20], (20, 40], (40, 60], (60, 100]],\n",
            "              closed='right',\n",
            "              dtype='interval[int64]')\n",
            "[0 1 3 1 2 2 2 3 1 0 1 3 1 2 2 0 1 0 0 2 1 1 1 2 3 1 2 2 1]\n",
            "\n",
            "\n",
            " (4.9, 25.0]      7\n",
            "(25.0, 45.0]    10\n",
            "(45.0, 65.0]     8\n",
            "(65.0, 85.0]     4\n",
            "dtype: int64\n"
          ],
          "name": "stdout"
        }
      ]
    },
    {
      "cell_type": "markdown",
      "metadata": {
        "id": "B2Ki_KiNGru8"
      },
      "source": [
        "#원핫 인코딩"
      ]
    },
    {
      "cell_type": "code",
      "metadata": {
        "colab": {
          "base_uri": "https://localhost:8080/",
          "height": 142
        },
        "id": "4T1M7lLsGV-X",
        "outputId": "36aa8156-b6c7-4eaa-9358-669e1ef267a1"
      },
      "source": [
        "#원핫 인코딩\n",
        "# get_dummies\n",
        "# 명목형 변수를 원핫 인코딩 해줌\n",
        "\n",
        "\n",
        "df=pd.DataFrame({'col1':[10,20,30],\n",
        "                 'col2':['a','b','c']})\n",
        "pd.get_dummies(df)"
      ],
      "execution_count": 77,
      "outputs": [
        {
          "output_type": "execute_result",
          "data": {
            "text/html": [
              "<div>\n",
              "<style scoped>\n",
              "    .dataframe tbody tr th:only-of-type {\n",
              "        vertical-align: middle;\n",
              "    }\n",
              "\n",
              "    .dataframe tbody tr th {\n",
              "        vertical-align: top;\n",
              "    }\n",
              "\n",
              "    .dataframe thead th {\n",
              "        text-align: right;\n",
              "    }\n",
              "</style>\n",
              "<table border=\"1\" class=\"dataframe\">\n",
              "  <thead>\n",
              "    <tr style=\"text-align: right;\">\n",
              "      <th></th>\n",
              "      <th>col1</th>\n",
              "      <th>col2_a</th>\n",
              "      <th>col2_b</th>\n",
              "      <th>col2_c</th>\n",
              "    </tr>\n",
              "  </thead>\n",
              "  <tbody>\n",
              "    <tr>\n",
              "      <th>0</th>\n",
              "      <td>10</td>\n",
              "      <td>1</td>\n",
              "      <td>0</td>\n",
              "      <td>0</td>\n",
              "    </tr>\n",
              "    <tr>\n",
              "      <th>1</th>\n",
              "      <td>20</td>\n",
              "      <td>0</td>\n",
              "      <td>1</td>\n",
              "      <td>0</td>\n",
              "    </tr>\n",
              "    <tr>\n",
              "      <th>2</th>\n",
              "      <td>30</td>\n",
              "      <td>0</td>\n",
              "      <td>0</td>\n",
              "      <td>1</td>\n",
              "    </tr>\n",
              "  </tbody>\n",
              "</table>\n",
              "</div>"
            ],
            "text/plain": [
              "   col1  col2_a  col2_b  col2_c\n",
              "0    10       1       0       0\n",
              "1    20       0       1       0\n",
              "2    30       0       0       1"
            ]
          },
          "metadata": {
            "tags": []
          },
          "execution_count": 77
        }
      ]
    },
    {
      "cell_type": "code",
      "metadata": {
        "colab": {
          "base_uri": "https://localhost:8080/",
          "height": 1000
        },
        "id": "vda7svegHX2T",
        "outputId": "086286c4-92a9-4b38-8b7b-72798cc5ce89"
      },
      "source": [
        "df = pd.read_csv('https://raw.githubusercontent.com/Youngpyoryu/SD_academy/main/%ED%8C%8C%EC%9D%B4%EC%8D%AC/kbo.csv')\n",
        "# print(df)\n",
        "# print(df.head())\n",
        "# print(df['팀'].unique())\n",
        "# print(df.shape)\n",
        "# print(df.info())\n",
        "# print(df.groupby('팀').count())\n",
        "# df.groupby('팀').count()\n",
        "# df.groupby(['연도','팀']).sum()\n",
        "df.groupby(['팀','연도']).sum()"
      ],
      "execution_count": 91,
      "outputs": [
        {
          "output_type": "execute_result",
          "data": {
            "text/html": [
              "<div>\n",
              "<style scoped>\n",
              "    .dataframe tbody tr th:only-of-type {\n",
              "        vertical-align: middle;\n",
              "    }\n",
              "\n",
              "    .dataframe tbody tr th {\n",
              "        vertical-align: top;\n",
              "    }\n",
              "\n",
              "    .dataframe thead th {\n",
              "        text-align: right;\n",
              "    }\n",
              "</style>\n",
              "<table border=\"1\" class=\"dataframe\">\n",
              "  <thead>\n",
              "    <tr style=\"text-align: right;\">\n",
              "      <th></th>\n",
              "      <th></th>\n",
              "      <th>순위</th>\n",
              "      <th>경기수</th>\n",
              "      <th>승</th>\n",
              "      <th>패</th>\n",
              "      <th>무</th>\n",
              "      <th>승률</th>\n",
              "      <th>게임차</th>\n",
              "    </tr>\n",
              "    <tr>\n",
              "      <th>팀</th>\n",
              "      <th>연도</th>\n",
              "      <th></th>\n",
              "      <th></th>\n",
              "      <th></th>\n",
              "      <th></th>\n",
              "      <th></th>\n",
              "      <th></th>\n",
              "      <th></th>\n",
              "    </tr>\n",
              "  </thead>\n",
              "  <tbody>\n",
              "    <tr>\n",
              "      <th rowspan=\"3\" valign=\"top\">KIA</th>\n",
              "      <th>2017</th>\n",
              "      <td>1</td>\n",
              "      <td>144</td>\n",
              "      <td>87</td>\n",
              "      <td>56</td>\n",
              "      <td>1</td>\n",
              "      <td>0.608</td>\n",
              "      <td>0.0</td>\n",
              "    </tr>\n",
              "    <tr>\n",
              "      <th>2018</th>\n",
              "      <td>5</td>\n",
              "      <td>144</td>\n",
              "      <td>70</td>\n",
              "      <td>74</td>\n",
              "      <td>0</td>\n",
              "      <td>0.486</td>\n",
              "      <td>8.5</td>\n",
              "    </tr>\n",
              "    <tr>\n",
              "      <th>2019</th>\n",
              "      <td>7</td>\n",
              "      <td>144</td>\n",
              "      <td>62</td>\n",
              "      <td>80</td>\n",
              "      <td>2</td>\n",
              "      <td>0.437</td>\n",
              "      <td>25.5</td>\n",
              "    </tr>\n",
              "    <tr>\n",
              "      <th rowspan=\"3\" valign=\"top\">KT</th>\n",
              "      <th>2017</th>\n",
              "      <td>10</td>\n",
              "      <td>144</td>\n",
              "      <td>50</td>\n",
              "      <td>94</td>\n",
              "      <td>0</td>\n",
              "      <td>0.347</td>\n",
              "      <td>37.5</td>\n",
              "    </tr>\n",
              "    <tr>\n",
              "      <th>2018</th>\n",
              "      <td>9</td>\n",
              "      <td>144</td>\n",
              "      <td>59</td>\n",
              "      <td>82</td>\n",
              "      <td>3</td>\n",
              "      <td>0.418</td>\n",
              "      <td>18.0</td>\n",
              "    </tr>\n",
              "    <tr>\n",
              "      <th>2019</th>\n",
              "      <td>6</td>\n",
              "      <td>144</td>\n",
              "      <td>71</td>\n",
              "      <td>71</td>\n",
              "      <td>2</td>\n",
              "      <td>0.500</td>\n",
              "      <td>16.5</td>\n",
              "    </tr>\n",
              "    <tr>\n",
              "      <th rowspan=\"3\" valign=\"top\">LG</th>\n",
              "      <th>2017</th>\n",
              "      <td>6</td>\n",
              "      <td>144</td>\n",
              "      <td>69</td>\n",
              "      <td>72</td>\n",
              "      <td>3</td>\n",
              "      <td>0.489</td>\n",
              "      <td>17.0</td>\n",
              "    </tr>\n",
              "    <tr>\n",
              "      <th>2018</th>\n",
              "      <td>8</td>\n",
              "      <td>144</td>\n",
              "      <td>68</td>\n",
              "      <td>75</td>\n",
              "      <td>1</td>\n",
              "      <td>0.476</td>\n",
              "      <td>10.0</td>\n",
              "    </tr>\n",
              "    <tr>\n",
              "      <th>2019</th>\n",
              "      <td>4</td>\n",
              "      <td>144</td>\n",
              "      <td>79</td>\n",
              "      <td>64</td>\n",
              "      <td>1</td>\n",
              "      <td>0.552</td>\n",
              "      <td>9.0</td>\n",
              "    </tr>\n",
              "    <tr>\n",
              "      <th rowspan=\"3\" valign=\"top\">NC</th>\n",
              "      <th>2017</th>\n",
              "      <td>4</td>\n",
              "      <td>144</td>\n",
              "      <td>79</td>\n",
              "      <td>62</td>\n",
              "      <td>3</td>\n",
              "      <td>0.560</td>\n",
              "      <td>7.0</td>\n",
              "    </tr>\n",
              "    <tr>\n",
              "      <th>2018</th>\n",
              "      <td>10</td>\n",
              "      <td>144</td>\n",
              "      <td>58</td>\n",
              "      <td>85</td>\n",
              "      <td>1</td>\n",
              "      <td>0.406</td>\n",
              "      <td>20.0</td>\n",
              "    </tr>\n",
              "    <tr>\n",
              "      <th>2019</th>\n",
              "      <td>5</td>\n",
              "      <td>144</td>\n",
              "      <td>73</td>\n",
              "      <td>69</td>\n",
              "      <td>2</td>\n",
              "      <td>0.514</td>\n",
              "      <td>14.5</td>\n",
              "    </tr>\n",
              "    <tr>\n",
              "      <th rowspan=\"3\" valign=\"top\">SK</th>\n",
              "      <th>2017</th>\n",
              "      <td>5</td>\n",
              "      <td>144</td>\n",
              "      <td>75</td>\n",
              "      <td>68</td>\n",
              "      <td>1</td>\n",
              "      <td>0.524</td>\n",
              "      <td>12.0</td>\n",
              "    </tr>\n",
              "    <tr>\n",
              "      <th>2018</th>\n",
              "      <td>2</td>\n",
              "      <td>144</td>\n",
              "      <td>78</td>\n",
              "      <td>65</td>\n",
              "      <td>1</td>\n",
              "      <td>0.545</td>\n",
              "      <td>0.0</td>\n",
              "    </tr>\n",
              "    <tr>\n",
              "      <th>2019</th>\n",
              "      <td>3</td>\n",
              "      <td>144</td>\n",
              "      <td>88</td>\n",
              "      <td>55</td>\n",
              "      <td>1</td>\n",
              "      <td>0.615</td>\n",
              "      <td>0.0</td>\n",
              "    </tr>\n",
              "    <tr>\n",
              "      <th rowspan=\"2\" valign=\"top\">넥센</th>\n",
              "      <th>2017</th>\n",
              "      <td>7</td>\n",
              "      <td>144</td>\n",
              "      <td>69</td>\n",
              "      <td>73</td>\n",
              "      <td>2</td>\n",
              "      <td>0.486</td>\n",
              "      <td>17.5</td>\n",
              "    </tr>\n",
              "    <tr>\n",
              "      <th>2018</th>\n",
              "      <td>4</td>\n",
              "      <td>144</td>\n",
              "      <td>75</td>\n",
              "      <td>69</td>\n",
              "      <td>0</td>\n",
              "      <td>0.521</td>\n",
              "      <td>3.5</td>\n",
              "    </tr>\n",
              "    <tr>\n",
              "      <th rowspan=\"3\" valign=\"top\">두산</th>\n",
              "      <th>2017</th>\n",
              "      <td>2</td>\n",
              "      <td>144</td>\n",
              "      <td>84</td>\n",
              "      <td>57</td>\n",
              "      <td>3</td>\n",
              "      <td>0.596</td>\n",
              "      <td>2.0</td>\n",
              "    </tr>\n",
              "    <tr>\n",
              "      <th>2018</th>\n",
              "      <td>1</td>\n",
              "      <td>144</td>\n",
              "      <td>93</td>\n",
              "      <td>51</td>\n",
              "      <td>0</td>\n",
              "      <td>0.646</td>\n",
              "      <td>-14.5</td>\n",
              "    </tr>\n",
              "    <tr>\n",
              "      <th>2019</th>\n",
              "      <td>1</td>\n",
              "      <td>144</td>\n",
              "      <td>88</td>\n",
              "      <td>55</td>\n",
              "      <td>1</td>\n",
              "      <td>0.615</td>\n",
              "      <td>0.0</td>\n",
              "    </tr>\n",
              "    <tr>\n",
              "      <th rowspan=\"3\" valign=\"top\">롯데</th>\n",
              "      <th>2017</th>\n",
              "      <td>3</td>\n",
              "      <td>144</td>\n",
              "      <td>80</td>\n",
              "      <td>62</td>\n",
              "      <td>2</td>\n",
              "      <td>0.563</td>\n",
              "      <td>6.5</td>\n",
              "    </tr>\n",
              "    <tr>\n",
              "      <th>2018</th>\n",
              "      <td>7</td>\n",
              "      <td>144</td>\n",
              "      <td>68</td>\n",
              "      <td>74</td>\n",
              "      <td>2</td>\n",
              "      <td>0.479</td>\n",
              "      <td>9.5</td>\n",
              "    </tr>\n",
              "    <tr>\n",
              "      <th>2019</th>\n",
              "      <td>10</td>\n",
              "      <td>144</td>\n",
              "      <td>48</td>\n",
              "      <td>93</td>\n",
              "      <td>3</td>\n",
              "      <td>0.340</td>\n",
              "      <td>39.0</td>\n",
              "    </tr>\n",
              "    <tr>\n",
              "      <th rowspan=\"3\" valign=\"top\">삼성</th>\n",
              "      <th>2017</th>\n",
              "      <td>9</td>\n",
              "      <td>144</td>\n",
              "      <td>55</td>\n",
              "      <td>84</td>\n",
              "      <td>5</td>\n",
              "      <td>0.396</td>\n",
              "      <td>30.0</td>\n",
              "    </tr>\n",
              "    <tr>\n",
              "      <th>2018</th>\n",
              "      <td>5</td>\n",
              "      <td>144</td>\n",
              "      <td>68</td>\n",
              "      <td>72</td>\n",
              "      <td>4</td>\n",
              "      <td>0.486</td>\n",
              "      <td>8.5</td>\n",
              "    </tr>\n",
              "    <tr>\n",
              "      <th>2019</th>\n",
              "      <td>8</td>\n",
              "      <td>144</td>\n",
              "      <td>60</td>\n",
              "      <td>83</td>\n",
              "      <td>1</td>\n",
              "      <td>0.420</td>\n",
              "      <td>28.0</td>\n",
              "    </tr>\n",
              "    <tr>\n",
              "      <th>키움</th>\n",
              "      <th>2019</th>\n",
              "      <td>2</td>\n",
              "      <td>144</td>\n",
              "      <td>86</td>\n",
              "      <td>57</td>\n",
              "      <td>1</td>\n",
              "      <td>0.601</td>\n",
              "      <td>2.0</td>\n",
              "    </tr>\n",
              "    <tr>\n",
              "      <th rowspan=\"3\" valign=\"top\">한화</th>\n",
              "      <th>2017</th>\n",
              "      <td>8</td>\n",
              "      <td>144</td>\n",
              "      <td>61</td>\n",
              "      <td>81</td>\n",
              "      <td>2</td>\n",
              "      <td>0.430</td>\n",
              "      <td>25.5</td>\n",
              "    </tr>\n",
              "    <tr>\n",
              "      <th>2018</th>\n",
              "      <td>3</td>\n",
              "      <td>144</td>\n",
              "      <td>77</td>\n",
              "      <td>67</td>\n",
              "      <td>0</td>\n",
              "      <td>0.535</td>\n",
              "      <td>1.5</td>\n",
              "    </tr>\n",
              "    <tr>\n",
              "      <th>2019</th>\n",
              "      <td>9</td>\n",
              "      <td>144</td>\n",
              "      <td>58</td>\n",
              "      <td>86</td>\n",
              "      <td>0</td>\n",
              "      <td>0.403</td>\n",
              "      <td>30.5</td>\n",
              "    </tr>\n",
              "  </tbody>\n",
              "</table>\n",
              "</div>"
            ],
            "text/plain": [
              "          순위  경기수   승   패  무     승률   게임차\n",
              "팀   연도                                   \n",
              "KIA 2017   1  144  87  56  1  0.608   0.0\n",
              "    2018   5  144  70  74  0  0.486   8.5\n",
              "    2019   7  144  62  80  2  0.437  25.5\n",
              "KT  2017  10  144  50  94  0  0.347  37.5\n",
              "    2018   9  144  59  82  3  0.418  18.0\n",
              "    2019   6  144  71  71  2  0.500  16.5\n",
              "LG  2017   6  144  69  72  3  0.489  17.0\n",
              "    2018   8  144  68  75  1  0.476  10.0\n",
              "    2019   4  144  79  64  1  0.552   9.0\n",
              "NC  2017   4  144  79  62  3  0.560   7.0\n",
              "    2018  10  144  58  85  1  0.406  20.0\n",
              "    2019   5  144  73  69  2  0.514  14.5\n",
              "SK  2017   5  144  75  68  1  0.524  12.0\n",
              "    2018   2  144  78  65  1  0.545   0.0\n",
              "    2019   3  144  88  55  1  0.615   0.0\n",
              "넥센  2017   7  144  69  73  2  0.486  17.5\n",
              "    2018   4  144  75  69  0  0.521   3.5\n",
              "두산  2017   2  144  84  57  3  0.596   2.0\n",
              "    2018   1  144  93  51  0  0.646 -14.5\n",
              "    2019   1  144  88  55  1  0.615   0.0\n",
              "롯데  2017   3  144  80  62  2  0.563   6.5\n",
              "    2018   7  144  68  74  2  0.479   9.5\n",
              "    2019  10  144  48  93  3  0.340  39.0\n",
              "삼성  2017   9  144  55  84  5  0.396  30.0\n",
              "    2018   5  144  68  72  4  0.486   8.5\n",
              "    2019   8  144  60  83  1  0.420  28.0\n",
              "키움  2019   2  144  86  57  1  0.601   2.0\n",
              "한화  2017   8  144  61  81  2  0.430  25.5\n",
              "    2018   3  144  77  67  0  0.535   1.5\n",
              "    2019   9  144  58  86  0  0.403  30.5"
            ]
          },
          "metadata": {
            "tags": []
          },
          "execution_count": 91
        }
      ]
    }
  ]
}