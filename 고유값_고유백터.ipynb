{
  "nbformat": 4,
  "nbformat_minor": 0,
  "metadata": {
    "colab": {
      "name": "고유값 고유백터.ipynb",
      "provenance": [],
      "collapsed_sections": [],
      "authorship_tag": "ABX9TyMuLWzeKfx5L9BuK9Rn4Onq",
      "include_colab_link": true
    },
    "kernelspec": {
      "name": "python3",
      "display_name": "Python 3"
    },
    "language_info": {
      "name": "python"
    }
  },
  "cells": [
    {
      "cell_type": "markdown",
      "metadata": {
        "id": "view-in-github",
        "colab_type": "text"
      },
      "source": [
        "<a href=\"https://colab.research.google.com/github/kim-hyun-ho/study/blob/main/%EA%B3%A0%EC%9C%A0%EA%B0%92_%EA%B3%A0%EC%9C%A0%EB%B0%B1%ED%84%B0.ipynb\" target=\"_parent\"><img src=\"https://colab.research.google.com/assets/colab-badge.svg\" alt=\"Open In Colab\"/></a>"
      ]
    },
    {
      "cell_type": "markdown",
      "metadata": {
        "id": "DTSXYjAXdZ7m"
      },
      "source": [
        "#고유값, 고유벡터 구하기\n",
        "행렬 A를 선형변환으로 볼 때,<p>\n",
        "A에 의한 변환 결과가 자신의 **상수배가 되는 0이 아닌 벡터**<p>\n",
        "\n",
        "$AV = \\lambda V $\n",
        "\n",
        "<br>\n",
        "고유값분해 : 정방행렬 A가 n개의 일차 독립인 고유백터를 가져야 한다.\n",
        "<br>\n",
        "$AV= \\lambda V$<br>\n",
        "$AV - \\lambda V = 0 $(0 : 영행렬)<br>\n",
        "$(A- \\lambda E)V = 0 $(E : 단위행렬)<br>\n",
        "<br>\n",
        "\n",
        "정의에 의해 영백터가 아닌 벡터이므로 $(A- \\lambda E)$의 역행렬이 없는 경우만 존재 즉 $det(A- \\lambda E) =0$이어야 한다.\n",
        "<br>\n",
        "$det(A- \\lambda E) =0$\n",
        "<br>\n",
        "<br>\n",
        "행렬식으로 $\\lambda$ 를 찾고<br>\n",
        "람다 값을 대입해서 고유백터를 찾는다.\n",
        "\n",
        "https://darkpgmr.tistory.com/105"
      ]
    },
    {
      "cell_type": "markdown",
      "metadata": {
        "id": "7UWxNoQIkv3G"
      },
      "source": [
        "#대각화\n",
        "<br>\n",
        "행렬 A의<br>\n",
        "고유백터들을 열백터로 하는 행렬 P,<br>\n",
        "고육값들을 대각원소로 하는 행렬 $\\Lambda$<br>\n",
        "라 하면<br>\n",
        "$AP=P\\Lambda $<br>\n",
        "즉, $A=P\\Lambda P^-1$<br>\n",
        "이 성립한다.\n",
        "\n",
        "#대각화하면 <br>\n",
        "**행렬식값det(A), A의 거듭제곱, 역행렬, 대각합, 행렬의 다항식 등을 쉽게 계산할 수 있다.**"
      ]
    },
    {
      "cell_type": "markdown",
      "metadata": {
        "id": "tmzqimvKo0uo"
      },
      "source": [
        "#대칭행렬\n",
        "* 모든 정방행렬이 고유값 분해가 가능한 것은 아니지만,\n",
        "* 대칭행렬은 항상 고유값 분해가 가능하며 더구나 직교행렬로 대각화가 가능하다."
      ]
    },
    {
      "cell_type": "markdown",
      "metadata": {
        "id": "jrJjecMIpFQC"
      },
      "source": [
        "#직교행렬\n",
        "* 자신의 전치행렬을 역행렬로 갖는 정방행렬\n",
        "$A^{-1}=A^t$<br>\n",
        "$AA^t=E$<br>\n",
        "* 직교행렬은 전치하면 역행렬이므로 선형대수학 계산에 편리하다.\n"
      ]
    }
  ]
}