{
  "nbformat": 4,
  "nbformat_minor": 0,
  "metadata": {
    "colab": {
      "name": "210329.ipynb",
      "provenance": [],
      "collapsed_sections": [],
      "mount_file_id": "1wI0Wx4Zs9Lksfz0XuOLANuxaW9xxx4ml",
      "authorship_tag": "ABX9TyO6YbnS8zJujhECXeEC+SKq",
      "include_colab_link": true
    },
    "kernelspec": {
      "name": "python3",
      "display_name": "Python 3"
    },
    "language_info": {
      "name": "python"
    }
  },
  "cells": [
    {
      "cell_type": "markdown",
      "metadata": {
        "id": "view-in-github",
        "colab_type": "text"
      },
      "source": [
        "<a href=\"https://colab.research.google.com/github/kim-hyun-ho/study/blob/main/210329.ipynb\" target=\"_parent\"><img src=\"https://colab.research.google.com/assets/colab-badge.svg\" alt=\"Open In Colab\"/></a>"
      ]
    },
    {
      "cell_type": "markdown",
      "metadata": {
        "id": "pnwUVS-wdwcr"
      },
      "source": [
        "#2021.03.29\n",
        "#파일읽기 딕셔너리 연습\n"
      ]
    },
    {
      "cell_type": "code",
      "metadata": {
        "id": "-h9BlJP8TPXQ"
      },
      "source": [
        "#student.txt 파일을  디셔너리로 읽는다.\n",
        "#\n",
        "\n",
        "infile = open('/content/drive/MyDrive/students.txt','r')\n",
        "filecontent = infile.read()\n",
        "infile.close()\n",
        "# print(filecontent)\n",
        "\n",
        "tline = filecontent.split('\\n')\n",
        "tdic ={}\n",
        "for i in tline:\n",
        "    tmp = i.split('\\t')\n",
        "    #딕셔너리는 명시적으로 추가, append나 insert없음\n",
        "    tdic[tmp[0]] = tmp[1:]    \n",
        "    #print(tdic)\n",
        "print(tdic)"
      ],
      "execution_count": null,
      "outputs": []
    },
    {
      "cell_type": "markdown",
      "metadata": {
        "id": "TwJfcN6olMPs"
      },
      "source": [
        "#함수 정의 하기"
      ]
    },
    {
      "cell_type": "code",
      "metadata": {
        "colab": {
          "base_uri": "https://localhost:8080/"
        },
        "id": "WYKMH7-ilUH8",
        "outputId": "32e94fee-320c-4438-d005-6cb169467618"
      },
      "source": [
        "def f(x) :\n",
        "    print(x+10)\n",
        "\n",
        "f(3)"
      ],
      "execution_count": 22,
      "outputs": [
        {
          "output_type": "stream",
          "text": [
            "13\n"
          ],
          "name": "stdout"
        }
      ]
    },
    {
      "cell_type": "code",
      "metadata": {
        "colab": {
          "base_uri": "https://localhost:8080/"
        },
        "id": "DV20gBjppMvi",
        "outputId": "982785b9-cecd-49e3-96b5-00e2d5e6a571"
      },
      "source": [
        "#연습\n",
        "def div(a,b):\n",
        "    mod = a % b #나머지 연산\n",
        "    # r = int(a/b)\n",
        "    r = a//b #몫연산\n",
        "    return (r,mod)\n",
        "\n",
        "print(div(10,3))\n",
        "print(div(8,3))"
      ],
      "execution_count": 31,
      "outputs": [
        {
          "output_type": "stream",
          "text": [
            "(3, 1)\n",
            "(2, 2)\n"
          ],
          "name": "stdout"
        }
      ]
    },
    {
      "cell_type": "code",
      "metadata": {
        "colab": {
          "base_uri": "https://localhost:8080/"
        },
        "id": "CFRoJ-5Zp1lh",
        "outputId": "90201638-61f4-4806-f7b9-1fd8a440a15c"
      },
      "source": [
        "#연습2  숫자 2개 입력 받아 앞의 숫자를 뒤의 숫자로 나눔\n",
        "# 입력은 숫자만 받는다는 가정.\n",
        "num1 = int(input('첫번째 숫자를 입력해 주세요'))\n",
        "num2 = int(input('두번째 숫자를 입력해 주세요'))\n",
        "print(div(num1,num2))"
      ],
      "execution_count": 29,
      "outputs": [
        {
          "output_type": "stream",
          "text": [
            "첫번째 숫자를 입력해 주세요12\n",
            "두번째 숫자를 입력해 주세요5\n",
            "(2, 2)\n"
          ],
          "name": "stdout"
        }
      ]
    },
    {
      "cell_type": "code",
      "metadata": {
        "colab": {
          "base_uri": "https://localhost:8080/"
        },
        "id": "K6EqARVeqfGC",
        "outputId": "6a1ac780-9c82-4225-c715-8d9a0978f2bf"
      },
      "source": [
        "#연습3 0으로 나눌수 없구 두 수중 큰 수를 작은 수로 나눈다.\n",
        "num1 = int(input('첫번째 숫자를 입력해 주세요'))\n",
        "num2 = int(input('두번째 숫자를 입력해 주세요'))\n",
        "\n",
        "if num1 ==0 or num2 == 0 :\n",
        "    print('0으로 나눌 수 없습니다.')\n",
        "elif num1 > num2:\n",
        "    print(div(num1,num2))\n",
        "else:\n",
        "    print(div(num2,num1))"
      ],
      "execution_count": 34,
      "outputs": [
        {
          "output_type": "stream",
          "text": [
            "첫번째 숫자를 입력해 주세요100\n",
            "두번째 숫자를 입력해 주세요-4\n",
            "(-25, 0)\n"
          ],
          "name": "stdout"
        }
      ]
    },
    {
      "cell_type": "code",
      "metadata": {
        "colab": {
          "base_uri": "https://localhost:8080/"
        },
        "id": "I_oseHWivm7d",
        "outputId": "2c60e610-f369-4963-b9ad-d2f6722bc3f0"
      },
      "source": [
        "#매개변수 미정된 갯수로 받기\n",
        "#튜플로만 전달 가능\n",
        "def test(*args):\n",
        "    print(args)\n",
        "\n",
        "test(1,2,3,4,5)\n",
        "test(1,2,3)"
      ],
      "execution_count": 35,
      "outputs": [
        {
          "output_type": "stream",
          "text": [
            "(1, 2, 3, 4, 5)\n",
            "(1, 2, 3)\n"
          ],
          "name": "stdout"
        }
      ]
    },
    {
      "cell_type": "code",
      "metadata": {
        "colab": {
          "base_uri": "https://localhost:8080/"
        },
        "id": "cDLZ7AlkwDrp",
        "outputId": "d7fa8bd1-333d-4b80-dd6b-3f380dc8bf03"
      },
      "source": [
        "#매개변수 딕셔너리로 받기\n",
        "def test1(**kwargs):\n",
        "    print(kwargs)\n",
        "\n",
        "test1(a=1,b=2,c=3)\n",
        "test1(a=1,b=2,c=3,d=4)"
      ],
      "execution_count": 36,
      "outputs": [
        {
          "output_type": "stream",
          "text": [
            "{'a': 1, 'b': 2, 'c': 3}\n",
            "{'a': 1, 'b': 2, 'c': 3, 'd': 4}\n"
          ],
          "name": "stdout"
        }
      ]
    },
    {
      "cell_type": "code",
      "metadata": {
        "colab": {
          "base_uri": "https://localhost:8080/"
        },
        "id": "PDt9K6hTxR98",
        "outputId": "0e6abc9d-6abd-4fab-dc18-067553189f7c"
      },
      "source": [
        "#연습 스트링을 받아서 주어진 단위로 자르기\n",
        "def strsplit(*args):\n",
        "    #print(len(args))\n",
        "    step = 2\n",
        "    if len(args)>1:\n",
        "        step=args[1]\n",
        "    else:\n",
        "        pass\n",
        "    for i in range(0,len(args[0]),step):\n",
        "        print(args[0][i:i+step])\n",
        "\n",
        "strsplit('asasdfdf')\n",
        "strsplit('asasdfasdfdfg', 3)"
      ],
      "execution_count": 48,
      "outputs": [
        {
          "output_type": "stream",
          "text": [
            "as\n",
            "as\n",
            "df\n",
            "df\n",
            "asa\n",
            "sdf\n",
            "asd\n",
            "fdf\n",
            "g\n"
          ],
          "name": "stdout"
        }
      ]
    },
    {
      "cell_type": "code",
      "metadata": {
        "colab": {
          "base_uri": "https://localhost:8080/"
        },
        "id": "TAdfO-3O0LDz",
        "outputId": "f3273e37-2118-4d1d-dc28-bfb6796b88fd"
      },
      "source": [
        "#연습\n",
        "def add_all(*args):\n",
        "    sum=0;\n",
        "    print(args)\n",
        "    for i in args:\n",
        "         sum+=i\n",
        "    return sum\n",
        "\n",
        "print(add_all(1,2,3,4,5,6,7,8,9,10))"
      ],
      "execution_count": 53,
      "outputs": [
        {
          "output_type": "stream",
          "text": [
            "(1, 2, 3, 4, 5, 6, 7, 8, 9, 10)\n",
            "55\n"
          ],
          "name": "stdout"
        }
      ]
    },
    {
      "cell_type": "code",
      "metadata": {
        "colab": {
          "base_uri": "https://localhost:8080/"
        },
        "id": "vPv2b8vn1Vf3",
        "outputId": "700e2fb9-d6c0-4312-b3a6-98ba09e1b7f0"
      },
      "source": [
        "#연습 리스트로 받기\n",
        "#매개변수 형식을 리스트로 지정\n",
        "def add_list(val :[]):\n",
        "    print(val)\n",
        "\n",
        "add_list([1,2,3,4,5,6,7,8,9,10])"
      ],
      "execution_count": 55,
      "outputs": [
        {
          "output_type": "stream",
          "text": [
            "[1, 2, 3, 4, 5, 6, 7, 8, 9, 10]\n"
          ],
          "name": "stdout"
        }
      ]
    },
    {
      "cell_type": "code",
      "metadata": {
        "colab": {
          "base_uri": "https://localhost:8080/"
        },
        "id": "Zr7yVRTN3vIJ",
        "outputId": "fb6130ea-87d9-4464-baeb-08bb6c37704c"
      },
      "source": [
        "#지역벼수 전역변수 구분\n",
        "a=1\n",
        "def myfun(a):\n",
        "    a+=1\n",
        "    print(a)\n",
        "myfun(a)\n",
        "print(a)\n",
        "#같은 변수이름이지만 메모리 공간은 다르다.\n",
        "#Global 선언은 가독성 우려하여 잘쓰지 않는편 \n",
        "#   => 함수형 프로그래밍 철학에도 안맞고, 사이드 이팩트 == 부작용 발생\n"
      ],
      "execution_count": 57,
      "outputs": [
        {
          "output_type": "stream",
          "text": [
            "2\n",
            "1\n"
          ],
          "name": "stdout"
        }
      ]
    },
    {
      "cell_type": "markdown",
      "metadata": {
        "id": "Y4Baom785CQF"
      },
      "source": [
        "#[파이썬 심화]\n",
        "##enumerate : 인덱스와, 값 으로 가져옴\n",
        "##zip : 길이가 같은 것 쌍으로 묶어줌\n",
        "##lambda : 익명함수\n",
        "##map : 각요소에 주어진 함수 적용\n",
        "##list comprehension : 리스트 표현식\n",
        "##Class\n",
        "##모듈/패키지"
      ]
    },
    {
      "cell_type": "code",
      "metadata": {
        "colab": {
          "base_uri": "https://localhost:8080/"
        },
        "id": "JJMibF_t5Vu3",
        "outputId": "71774e44-5398-4fc1-96d2-333c2723fb28"
      },
      "source": [
        "#연습\n",
        "people=['펭수','뽀로로','뚝딱이','텔레토비']\n",
        "def func1(alist : []):\n",
        "    seq=0\n",
        "    rval=[]\n",
        "    for i in alist:\n",
        "        seq+=1\n",
        "        print(f'대기번호 {seq}번 : {i}')\n",
        "        rval.append((seq,i))\n",
        "    return rval\n",
        "\n",
        "lines= func1(people)\n",
        "print(lines)\n"
      ],
      "execution_count": 59,
      "outputs": [
        {
          "output_type": "stream",
          "text": [
            "대기번호 1번 : 펭수\n",
            "대기번호 2번 : 뽀로로\n",
            "대기번호 3번 : 뚝딱이\n",
            "대기번호 4번 : 텔레토비\n",
            "[(1, '펭수'), (2, '뽀로로'), (3, '뚝딱이'), (4, '텔레토비')]\n"
          ],
          "name": "stdout"
        }
      ]
    },
    {
      "cell_type": "code",
      "metadata": {
        "colab": {
          "base_uri": "https://localhost:8080/"
        },
        "id": "kLXedXZuADbB",
        "outputId": "e28fee10-cdee-4960-eece-33338a579ef4"
      },
      "source": [
        "#enumerate()함수 써보기\n",
        "#enumerate()함수는 인덱스와 값을 짝지어 반환한다.\n",
        "people=['펭수','뽀로로','뚝딱이','텔레토비']\n",
        "def func1(alist : []):\n",
        "    rval=[]\n",
        "    for i,val in enumerate(alist):\n",
        "        print(f'대기번호 {i+1}번 : {val}')\n",
        "        rval.append((i+1,val))\n",
        "    return rval\n",
        "\n",
        "lines= func1(people)\n",
        "print(lines)\n",
        "\n",
        "#sql로 복습하자면\n",
        "# select rownum,items from items; 정도"
      ],
      "execution_count": 63,
      "outputs": [
        {
          "output_type": "stream",
          "text": [
            "대기번호 1번 : 펭수\n",
            "대기번호 2번 : 뽀로로\n",
            "대기번호 3번 : 뚝딱이\n",
            "대기번호 4번 : 텔레토비\n",
            "[(1, '펭수'), (2, '뽀로로'), (3, '뚝딱이'), (4, '텔레토비')]\n"
          ],
          "name": "stdout"
        }
      ]
    },
    {
      "cell_type": "code",
      "metadata": {
        "colab": {
          "base_uri": "https://localhost:8080/"
        },
        "id": "WsNQ-LG_A9SS",
        "outputId": "5b194101-e609-425e-95ee-8737075b5435"
      },
      "source": [
        "#zip 함수\n",
        "#길이가 같은 enum 타입 변수를 짝으로 묶어준다.\n",
        "list1=['one','two','three','four']\n",
        "e2 =(1,2,3,4)\n",
        "print(zip(e2,list1))\n",
        "aaa=list(zip(e2,list1))\n",
        "print(aaa)\n"
      ],
      "execution_count": 67,
      "outputs": [
        {
          "output_type": "stream",
          "text": [
            "<zip object at 0x7fda163c3820>\n",
            "[(1, 'one'), (2, 'two'), (3, 'three'), (4, 'four')]\n"
          ],
          "name": "stdout"
        }
      ]
    },
    {
      "cell_type": "code",
      "metadata": {
        "colab": {
          "base_uri": "https://localhost:8080/"
        },
        "id": "wHJNBFohB4eT",
        "outputId": "83b49052-2dd4-4132-afa4-b724b476c8e9"
      },
      "source": [
        "#람다 : 익명함수, 코드도 데이터\n",
        "def plus2(num):\n",
        "    return num+1\n",
        "\n",
        "a=2\n",
        "b=plus2(a)\n",
        "print(b)\n",
        "\n",
        "#람다 식\n",
        "func2 = lambda x:x+2\n",
        "c=func2(2)\n",
        "print(c)"
      ],
      "execution_count": 69,
      "outputs": [
        {
          "output_type": "stream",
          "text": [
            "3\n",
            "4\n"
          ],
          "name": "stdout"
        }
      ]
    },
    {
      "cell_type": "code",
      "metadata": {
        "colab": {
          "base_uri": "https://localhost:8080/"
        },
        "id": "bmQeJls4Cldl",
        "outputId": "98b6d366-bb4f-41d6-b471-3987ffc125b9"
      },
      "source": [
        "#map함수 : 각 요수에 특정 함수를 실행하기\n",
        "items=[1,2,3,4,5]\n",
        "squared=[]\n",
        "for i in items:\n",
        "    squared.append(i*i)\n",
        "print(squared)\n",
        "\n",
        "#map()함수와 람다식.\n",
        "squared_map = list(map(lambda x:x**2,items))\n",
        "print(squared_map)"
      ],
      "execution_count": 72,
      "outputs": [
        {
          "output_type": "stream",
          "text": [
            "[1, 4, 9, 16, 25]\n",
            "[1, 4, 9, 16, 25]\n"
          ],
          "name": "stdout"
        }
      ]
    },
    {
      "cell_type": "code",
      "metadata": {
        "colab": {
          "base_uri": "https://localhost:8080/"
        },
        "id": "XOj5EKDRDaC3",
        "outputId": "992d5300-06e7-4132-ce6f-4b6fc6bd940c"
      },
      "source": [
        "#연습문제\n",
        "items=[1,24,3,6,7]\n",
        "#요소를 스트링으로 바꾸기\n",
        "str_items=list(map(lambda x:str(x),items))\n",
        "print(items)\n",
        "print(str_items)"
      ],
      "execution_count": 75,
      "outputs": [
        {
          "output_type": "stream",
          "text": [
            "[1, 24, 3, 6, 7]\n",
            "['1', '24', '3', '6', '7']\n"
          ],
          "name": "stdout"
        }
      ]
    },
    {
      "cell_type": "code",
      "metadata": {
        "colab": {
          "base_uri": "https://localhost:8080/"
        },
        "id": "00B5yrjdFOra",
        "outputId": "f08a5176-8f49-4772-9af7-2784c0e55a15"
      },
      "source": [
        "#연습\n",
        "list1 = [ i+1 for i in range(10)]\n",
        "list2 = list(map(lambda x : x**2, list1))\n",
        "print(list1)\n",
        "print(list2)\n",
        "\n",
        "\n",
        "a = [i for i in range(10) if i % 2 == 0]    # 0~9 숫자 중 2의 배수인 숫자(짝수)로 리스트 생성\n",
        "print(a)\n",
        "a = [i * j for j in range(2, 10) for i in range(1, 10)] #중첩 for문\n",
        "print(a)"
      ],
      "execution_count": 83,
      "outputs": [
        {
          "output_type": "stream",
          "text": [
            "[1, 2, 3, 4, 5, 6, 7, 8, 9, 10]\n",
            "[1, 4, 9, 16, 25, 36, 49, 64, 81, 100]\n",
            "[0, 2, 4, 6, 8]\n",
            "[2, 4, 6, 8, 10, 12, 14, 16, 18, 3, 6, 9, 12, 15, 18, 21, 24, 27, 4, 8, 12, 16, 20, 24, 28, 32, 36, 5, 10, 15, 20, 25, 30, 35, 40, 45, 6, 12, 18, 24, 30, 36, 42, 48, 54, 7, 14, 21, 28, 35, 42, 49, 56, 63, 8, 16, 24, 32, 40, 48, 56, 64, 72, 9, 18, 27, 36, 45, 54, 63, 72, 81]\n"
          ],
          "name": "stdout"
        }
      ]
    },
    {
      "cell_type": "code",
      "metadata": {
        "colab": {
          "base_uri": "https://localhost:8080/"
        },
        "id": "nYYqsPFNREyp",
        "outputId": "caf121c8-536e-4dde-90ac-8b3b8b226871"
      },
      "source": [
        "# 연습\n",
        "a=[f'{i} x {j} = {i*j}' for i in range(2,3) for j in range(2,10) ]\n",
        "for line in a:\n",
        "    print(line)\n"
      ],
      "execution_count": 90,
      "outputs": [
        {
          "output_type": "stream",
          "text": [
            "2 x 2 = 4\n",
            "2 x 3 = 6\n",
            "2 x 4 = 8\n",
            "2 x 5 = 10\n",
            "2 x 6 = 12\n",
            "2 x 7 = 14\n",
            "2 x 8 = 16\n",
            "2 x 9 = 18\n"
          ],
          "name": "stdout"
        }
      ]
    },
    {
      "cell_type": "code",
      "metadata": {
        "colab": {
          "base_uri": "https://localhost:8080/"
        },
        "id": "Ef24bKExcQ50",
        "outputId": "4ac5c3d1-5f20-4913-abed-21eeb3216008"
      },
      "source": [
        "# 뜨어쓰기로 나누고 단어길이 5미만인것만 리스트로 저장\n",
        "val = '코로나 바이러스를 예방하기 위해 사회적 거리두기를 실천합시다. 외출 시에는 마스크를 끼고 손씻기를 생활화 합시다.'\n",
        "print(val.split(' ')) #빈칸으로 나누기\n",
        "print(val.split()) #생략하면 공백문자\n",
        "vlist = [ x for x in val.split() if len(x)<5] #길이가 5이하인것만 리스트 만듬\n",
        "print(vlist) #리스트 프린트\n",
        "for i in vlist:\n",
        "    print(i) #리스트 한줄씩 프린트"
      ],
      "execution_count": 114,
      "outputs": [
        {
          "output_type": "stream",
          "text": [
            "['코로나', '바이러스를', '예방하기', '위해', '사회적', '거리두기를', '실천합시다.', '외출', '시에는', '마스크를', '끼고', '손씻기를', '생활화', '합시다.']\n",
            "['코로나', '바이러스를', '예방하기', '위해', '사회적', '거리두기를', '실천합시다.', '외출', '시에는', '마스크를', '끼고', '손씻기를', '생활화', '합시다.']\n",
            "['코로나', '예방하기', '위해', '사회적', '외출', '시에는', '마스크를', '끼고', '손씻기를', '생활화', '합시다.']\n",
            "코로나\n",
            "예방하기\n",
            "위해\n",
            "사회적\n",
            "외출\n",
            "시에는\n",
            "마스크를\n",
            "끼고\n",
            "손씻기를\n",
            "생활화\n",
            "합시다.\n"
          ],
          "name": "stdout"
        }
      ]
    },
    {
      "cell_type": "code",
      "metadata": {
        "colab": {
          "base_uri": "https://localhost:8080/"
        },
        "id": "E7P3Gw-LetIF",
        "outputId": "fe4aaaac-815e-4468-9aed-ba47b611efb7"
      },
      "source": [
        "#연습\n",
        "list4=[ x**2 if x%2==0 else x**3 for x in range(1,11) ]\n",
        "print(list4)"
      ],
      "execution_count": 119,
      "outputs": [
        {
          "output_type": "stream",
          "text": [
            "[1, 4, 27, 16, 125, 36, 343, 64, 729, 100]\n"
          ],
          "name": "stdout"
        }
      ]
    },
    {
      "cell_type": "code",
      "metadata": {
        "colab": {
          "base_uri": "https://localhost:8080/"
        },
        "id": "0gmj06qPgSZ2",
        "outputId": "ce9f773d-859c-4e3e-9cc8-e46473d9a622"
      },
      "source": [
        "#연습\n",
        "list5=[12,67,32,48,19,57,29,49]\n",
        "lc_6 =[ x+5 if x<=40 else 41 for x in list5]\n",
        "print(lc_6)"
      ],
      "execution_count": 128,
      "outputs": [
        {
          "output_type": "stream",
          "text": [
            "[17, 41, 37, 41, 24, 41, 34, 41]\n"
          ],
          "name": "stdout"
        }
      ]
    },
    {
      "cell_type": "code",
      "metadata": {
        "colab": {
          "base_uri": "https://localhost:8080/"
        },
        "id": "Td9m47-5haPD",
        "outputId": "883300d8-40d0-4570-958b-4b9c7e97087e"
      },
      "source": [
        "#연습\n",
        "students={'보라돌이':61, '뚜비':35, '나나':78, '뽀':88}\n",
        "result = [(name,True) if score>=60 else (name,False) for name,score in students.items()]\n",
        "print(result)"
      ],
      "execution_count": 127,
      "outputs": [
        {
          "output_type": "stream",
          "text": [
            "[('보라돌이', True), ('뚜비', False), ('나나', True), ('뽀', True)]\n"
          ],
          "name": "stdout"
        }
      ]
    },
    {
      "cell_type": "markdown",
      "metadata": {
        "id": "n352NXjLixZi"
      },
      "source": [
        "#클래스Class\n"
      ]
    },
    {
      "cell_type": "code",
      "metadata": {
        "id": "guZAYHU2mLV3"
      },
      "source": [
        "class MyClass() :\n",
        "    class_var = '클래스 변수'\n",
        "    #@클래스 메소드 만드는 데코레이터\n",
        "    @classmethod\n",
        "    def class_method(cls):\n",
        "        print('클래스의 메소드')\n",
        "    def instance_method(self):\n",
        "        self.instance_var = '인스턴스 변수'\n",
        "        print('인스턴스의 메소드')\n"
      ],
      "execution_count": null,
      "outputs": []
    },
    {
      "cell_type": "code",
      "metadata": {
        "colab": {
          "base_uri": "https://localhost:8080/"
        },
        "id": "-Cti372vp38h",
        "outputId": "a48c49c5-bf19-4154-e0e9-4d70d2971dd6"
      },
      "source": [
        "class persion():\n",
        "    #생성자\n",
        "    def __init__(self):\n",
        "        self.age=17\n",
        "    #소멸자\n",
        "    def __del__(self):\n",
        "       pass \n",
        "p1=persion()\n",
        "p1.age"
      ],
      "execution_count": 131,
      "outputs": [
        {
          "output_type": "execute_result",
          "data": {
            "text/plain": [
              "17"
            ]
          },
          "metadata": {
            "tags": []
          },
          "execution_count": 131
        }
      ]
    },
    {
      "cell_type": "code",
      "metadata": {
        "colab": {
          "base_uri": "https://localhost:8080/"
        },
        "id": "8qsnLk9Kr0A0",
        "outputId": "05feb3b4-2547-4600-e11e-7a5e824d1021"
      },
      "source": [
        "class test():\n",
        "    name= '아무나'\n",
        "    age=0\n",
        "    def __init__(self,name,age):\n",
        "        # __new__ 가 생성자.\n",
        "        print('초기화자 호출')\n",
        "        self.name=name\n",
        "        self.age=age\n",
        "    def __del__(self):\n",
        "        print('소멸자 호출')\n",
        "    def info(self):\n",
        "        print('나의 이름은',self.name, '입니다.')\n",
        "        print('나이는',self.age,'입니다.')\n",
        "\n",
        "r=test('류영표',31)\n",
        "r.info()\n"
      ],
      "execution_count": 142,
      "outputs": [
        {
          "output_type": "stream",
          "text": [
            "생성자 호출\n",
            "소멸자 호출\n",
            "나의 이름은 류영표 입니다.\n",
            "나이는 31 입니다.\n"
          ],
          "name": "stdout"
        }
      ]
    },
    {
      "cell_type": "markdown",
      "metadata": {
        "id": "6J5yF3HEujuC"
      },
      "source": [
        "#파이썬 메소드 오버라이딩 안됨.\n",
        "\n",
        "## 파이썬 은 기본적으로 public\n",
        "\n",
        "## 실무 프로그래밍을 할 때도 클래스 변수보다는 객체변수를 사용하는 비율이 훨씬 높다."
      ]
    },
    {
      "cell_type": "code",
      "metadata": {
        "colab": {
          "base_uri": "https://localhost:8080/"
        },
        "id": "Uztfws96xDBK",
        "outputId": "dd025a12-0193-4eb5-bdce-f306e3a46289"
      },
      "source": [
        "#상속 받아 클래스 만들기\n",
        "class MyPhone():\n",
        "    def __init__(self,model,color):\n",
        "        self.mode=model\n",
        "        self.color=color \n",
        "    def set_name(self,name):\n",
        "        self.user=name\n",
        "        print('사용자의 이름 : ', self.user)\n",
        "    def set_number(self,number):\n",
        "        self.number=number\n",
        "\n",
        "##상속받기 (부모 클래스) 써주면 됨.\n",
        "class MyPhone2(MyPhone):\n",
        "    def has_case(self,val=False):\n",
        "        self.case=val\n",
        "\n",
        "p2=MyPhone2('iphone', 'red')\n",
        "p2.set_name('MJ')\n",
        "p2.has_case(True)\n",
        "p2.case"
      ],
      "execution_count": 145,
      "outputs": [
        {
          "output_type": "stream",
          "text": [
            "사용자의 이름 :  MJ\n"
          ],
          "name": "stdout"
        },
        {
          "output_type": "execute_result",
          "data": {
            "text/plain": [
              "True"
            ]
          },
          "metadata": {
            "tags": []
          },
          "execution_count": 145
        }
      ]
    },
    {
      "cell_type": "code",
      "metadata": {
        "colab": {
          "base_uri": "https://localhost:8080/"
        },
        "id": "hThQ0LM-3V6l",
        "outputId": "8dc80d62-c763-4f8a-e004-f643ba20de8c"
      },
      "source": [
        "#연습문제\n",
        "class Human():\n",
        "    def __init__(self,birth_date,sex,nation):\n",
        "        self.birth_date=birth_date\n",
        "        self.sex=sex\n",
        "        self.nation=nation\n",
        "    def given_name(self,name):\n",
        "        self.name =name \n",
        "        print(self.name)\n",
        "    def can_sing(self,val=False):\n",
        "        if val==True :\n",
        "            print('Sing a song')\n",
        "\n",
        "h1=Human('210329','male','kor')\n",
        "h1.given_name('honggildong')\n",
        "h1.can_sing()\n",
        "print('-------')\n",
        "h1.can_sing(False)\n",
        "print('-------')\n",
        "h1.can_sing(True)\n"
      ],
      "execution_count": 155,
      "outputs": [
        {
          "output_type": "stream",
          "text": [
            "honggildong\n",
            "-------\n",
            "-------\n",
            "Sing a song\n"
          ],
          "name": "stdout"
        }
      ]
    },
    {
      "cell_type": "code",
      "metadata": {
        "colab": {
          "base_uri": "https://localhost:8080/"
        },
        "id": "pnr74KNf5TPH",
        "outputId": "200a40aa-ff2f-4822-b8a1-38999b1c39a5"
      },
      "source": [
        "#연습\n",
        "class Child(Human):\n",
        "    def __init__(self,bd,s,n,eye):\n",
        "        #super.__init__ 아니다 super().__init__이다.\n",
        "        super().__init__(bd,s,n)\n",
        "        self.eye=eye\n",
        "    def can_sing(self):\n",
        "        print(\"Cant't sign\")\n",
        "    def can_dance(self):\n",
        "        print('Dance Time!')\n",
        "\n",
        "c1= Child('210329','female', 'us', 'red')\n",
        "print(c1)\n",
        "c1.can_sing()\n",
        "c1.can_dance()"
      ],
      "execution_count": 162,
      "outputs": [
        {
          "output_type": "stream",
          "text": [
            "<__main__.Child object at 0x7fda16342090>\n",
            "Cant't sign\n",
            "Dance Time!\n"
          ],
          "name": "stdout"
        }
      ]
    },
    {
      "cell_type": "markdown",
      "metadata": {
        "id": "D19_7Uqh6ctr"
      },
      "source": [
        "#모듈"
      ]
    },
    {
      "cell_type": "code",
      "metadata": {
        "colab": {
          "base_uri": "https://localhost:8080/"
        },
        "id": "koDOYyKqDUwq",
        "outputId": "44e68d4d-a98f-4bc1-ee14-93951ff7ba7b"
      },
      "source": [
        "import math\n",
        "\n",
        "math.factorial(4)"
      ],
      "execution_count": 163,
      "outputs": [
        {
          "output_type": "execute_result",
          "data": {
            "text/plain": [
              "24"
            ]
          },
          "metadata": {
            "tags": []
          },
          "execution_count": 163
        }
      ]
    },
    {
      "cell_type": "code",
      "metadata": {
        "colab": {
          "base_uri": "https://localhost:8080/"
        },
        "id": "0uIdd8vqHpJP",
        "outputId": "8fb7c888-931f-4384-a947-95ff9a4a5613"
      },
      "source": [
        "#numpy\n",
        "import numpy as np\n",
        "\n",
        "aa=[1,2,3,4]\n",
        "a=np.array(aa,np.int)\n",
        "print(type(a))\n",
        "print(a)\n",
        "\n",
        "c=np.array(aa, np.complex)\n",
        "print(type(c))\n",
        "print(c)"
      ],
      "execution_count": 167,
      "outputs": [
        {
          "output_type": "stream",
          "text": [
            "<class 'numpy.ndarray'>\n",
            "[1 2 3 4]\n",
            "<class 'numpy.ndarray'>\n",
            "[1.+0.j 2.+0.j 3.+0.j 4.+0.j]\n"
          ],
          "name": "stdout"
        }
      ]
    },
    {
      "cell_type": "code",
      "metadata": {
        "colab": {
          "base_uri": "https://localhost:8080/"
        },
        "id": "LYBCyFq8IfuO",
        "outputId": "6104e302-e0ae-4991-9d72-709fe3f42fad"
      },
      "source": [
        "#주소 참조 하므로 필요시 새 ndarray로 만들어 복사하여 사용\n",
        "import numpy as np\n",
        "a = np.array([1,2,3,4])\n",
        "s=a[:2]\n",
        "ss=a[:2].copy()\n",
        "s[0]=99 #주소 복사이므로 a[0]도 바뀜\n",
        "ss[0]=77\n",
        "print(a)\n",
        "print(s)\n",
        "print(ss)\n"
      ],
      "execution_count": 170,
      "outputs": [
        {
          "output_type": "stream",
          "text": [
            "[99  2  3  4]\n",
            "[99  2]\n",
            "[77  2]\n"
          ],
          "name": "stdout"
        }
      ]
    },
    {
      "cell_type": "code",
      "metadata": {
        "id": "M42z8eP8Jb31"
      },
      "source": [
        ""
      ],
      "execution_count": null,
      "outputs": []
    }
  ]
}