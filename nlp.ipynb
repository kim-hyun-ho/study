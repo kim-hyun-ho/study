{
  "nbformat": 4,
  "nbformat_minor": 0,
  "metadata": {
    "colab": {
      "name": "nlp.ipynb",
      "provenance": [],
      "collapsed_sections": [],
      "authorship_tag": "ABX9TyPMcR9XBaV0zu1uHy6LCWW7",
      "include_colab_link": true
    },
    "kernelspec": {
      "name": "python3",
      "display_name": "Python 3"
    },
    "language_info": {
      "name": "python"
    }
  },
  "cells": [
    {
      "cell_type": "markdown",
      "metadata": {
        "id": "view-in-github",
        "colab_type": "text"
      },
      "source": [
        "<a href=\"https://colab.research.google.com/github/kim-hyun-ho/study/blob/main/nlp.ipynb\" target=\"_parent\"><img src=\"https://colab.research.google.com/assets/colab-badge.svg\" alt=\"Open In Colab\"/></a>"
      ]
    },
    {
      "cell_type": "code",
      "metadata": {
        "id": "IIiSd3AMd3B3"
      },
      "source": [
        "from nltk import sent_tokenize"
      ],
      "execution_count": 2,
      "outputs": []
    },
    {
      "cell_type": "code",
      "metadata": {
        "colab": {
          "base_uri": "https://localhost:8080/"
        },
        "id": "omTKdpPzfBE0",
        "outputId": "3ade64c4-5ad3-4157-b67f-49a59698c0db"
      },
      "source": [
        "import nltk\n",
        "nltk.download('punkt')"
      ],
      "execution_count": 8,
      "outputs": [
        {
          "output_type": "stream",
          "text": [
            "[nltk_data] Downloading package punkt to /root/nltk_data...\n",
            "[nltk_data]   Unzipping tokenizers/punkt.zip.\n"
          ],
          "name": "stdout"
        },
        {
          "output_type": "execute_result",
          "data": {
            "text/plain": [
              "True"
            ]
          },
          "metadata": {
            "tags": []
          },
          "execution_count": 8
        }
      ]
    },
    {
      "cell_type": "code",
      "metadata": {
        "colab": {
          "base_uri": "https://localhost:8080/"
        },
        "id": "uwc5iEETeGAZ",
        "outputId": "91a44096-5d05-4906-b24f-95abecebdce3"
      },
      "source": [
        "test_sample ='''the matrix is everywhere its all arround us, here eve in this room.\n",
        "You can see it out your windows or on your television.\n",
        "You feel it whe you go to work, or go to church or pay your tzxes.'''\n",
        "\n",
        "sentences = sent_tokenize(text = test_sample)\n",
        "print(type(sentences),len(sentences))\n",
        "print(sentences)"
      ],
      "execution_count": 10,
      "outputs": [
        {
          "output_type": "stream",
          "text": [
            "<class 'list'> 3\n",
            "['the matrix is everywhere its all arround us, here eve in this room.', 'You can see it out your windows or on your television.', 'You feel it whe you go to work, or go to church or pay your tzxes.']\n"
          ],
          "name": "stdout"
        }
      ]
    },
    {
      "cell_type": "code",
      "metadata": {
        "colab": {
          "base_uri": "https://localhost:8080/"
        },
        "id": "sJU69TOMfSkn",
        "outputId": "349a3bb7-2814-4ebc-a912-571bb8a0ab63"
      },
      "source": [
        "from nltk import word_tokenize\n",
        "\n",
        "sentences = \"the matrix is everywhere its all arround us, here eve in this room.\"\n",
        "words = word_tokenize(sentences)\n",
        "print(type(words),len(words))\n",
        "print(words)"
      ],
      "execution_count": 13,
      "outputs": [
        {
          "output_type": "stream",
          "text": [
            "<class 'list'> 15\n",
            "['the', 'matrix', 'is', 'everywhere', 'its', 'all', 'arround', 'us', ',', 'here', 'eve', 'in', 'this', 'room', '.']\n"
          ],
          "name": "stdout"
        }
      ]
    }
  ]
}