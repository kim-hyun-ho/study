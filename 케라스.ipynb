{
  "nbformat": 4,
  "nbformat_minor": 0,
  "metadata": {
    "colab": {
      "name": "케라스.ipynb",
      "provenance": [],
      "collapsed_sections": [],
      "authorship_tag": "ABX9TyOVL8hnpZ4fRZDY64BI8Ie+",
      "include_colab_link": true
    },
    "kernelspec": {
      "name": "python3",
      "display_name": "Python 3"
    },
    "language_info": {
      "name": "python"
    }
  },
  "cells": [
    {
      "cell_type": "markdown",
      "metadata": {
        "id": "view-in-github",
        "colab_type": "text"
      },
      "source": [
        "<a href=\"https://colab.research.google.com/github/kim-hyun-ho/study/blob/main/%EC%BC%80%EB%9D%BC%EC%8A%A4.ipynb\" target=\"_parent\"><img src=\"https://colab.research.google.com/assets/colab-badge.svg\" alt=\"Open In Colab\"/></a>"
      ]
    },
    {
      "cell_type": "code",
      "metadata": {
        "id": "7jfogHuF1Vn-"
      },
      "source": [
        "#선형회귀 \n",
        "from keras.models import Sequential\n",
        "from keras.layers import Dense\n",
        "from keras import optimizers\n",
        "import numpy as np"
      ],
      "execution_count": 7,
      "outputs": []
    },
    {
      "cell_type": "code",
      "metadata": {
        "colab": {
          "base_uri": "https://localhost:8080/"
        },
        "id": "S0FJ0j1x2LgH",
        "outputId": "0548fec2-d794-48f5-aa3f-f9b12ed54f77"
      },
      "source": [
        "공부시간 = np.array([1,2,3,4,5,6])\n",
        "점수결과 = np.array([10,20,30,40,50,60])\n",
        "\n",
        "model = Sequential()\n",
        "model.add(Dense(1, input_dim=1, activation='linear'))#선형회귀\n",
        "sgd=optimizers.SGD(lr=0.01) #학습률 설정\n",
        "\n",
        "model.compile(optimizer=sgd, loss='mse', metrics=['accuracy'])\n",
        "model.fit(공부시간, 점수결과, batch_size=1, epochs=10, shuffle=False)\n",
        "\n",
        "print(model.predict([8])) #공부 8시간일때 점수 예측\n"
      ],
      "execution_count": 10,
      "outputs": [
        {
          "output_type": "stream",
          "text": [
            "Epoch 1/10\n",
            "6/6 [==============================] - 0s 2ms/step - loss: 281.2975 - accuracy: 0.0000e+00\n",
            "Epoch 2/10\n",
            "6/6 [==============================] - 0s 2ms/step - loss: 1.1914 - accuracy: 0.0000e+00\n",
            "Epoch 3/10\n",
            "6/6 [==============================] - 0s 2ms/step - loss: 1.6145 - accuracy: 0.0000e+00\n",
            "Epoch 4/10\n",
            "6/6 [==============================] - 0s 2ms/step - loss: 1.6211 - accuracy: 0.0000e+00\n",
            "Epoch 5/10\n",
            "6/6 [==============================] - 0s 3ms/step - loss: 1.5518 - accuracy: 0.0000e+00\n",
            "Epoch 6/10\n",
            "6/6 [==============================] - 0s 3ms/step - loss: 1.4811 - accuracy: 0.0000e+00\n",
            "Epoch 7/10\n",
            "6/6 [==============================] - 0s 2ms/step - loss: 1.4134 - accuracy: 0.0000e+00\n",
            "Epoch 8/10\n",
            "6/6 [==============================] - 0s 2ms/step - loss: 1.3487 - accuracy: 0.0000e+00\n",
            "Epoch 9/10\n",
            "6/6 [==============================] - 0s 2ms/step - loss: 1.2871 - accuracy: 0.0000e+00\n",
            "Epoch 10/10\n",
            "6/6 [==============================] - 0s 2ms/step - loss: 1.2282 - accuracy: 0.0000e+00\n",
            "[[79.181725]]\n"
          ],
          "name": "stdout"
        }
      ]
    }
  ]
}