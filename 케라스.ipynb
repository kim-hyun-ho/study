{
  "nbformat": 4,
  "nbformat_minor": 0,
  "metadata": {
    "colab": {
      "name": "케라스.ipynb",
      "provenance": [],
      "collapsed_sections": [],
      "authorship_tag": "ABX9TyO8FwayYfOv3yzJx+e5WbN6",
      "include_colab_link": true
    },
    "kernelspec": {
      "name": "python3",
      "display_name": "Python 3"
    },
    "language_info": {
      "name": "python"
    }
  },
  "cells": [
    {
      "cell_type": "markdown",
      "metadata": {
        "id": "view-in-github",
        "colab_type": "text"
      },
      "source": [
        "<a href=\"https://colab.research.google.com/github/kim-hyun-ho/study/blob/main/%EC%BC%80%EB%9D%BC%EC%8A%A4.ipynb\" target=\"_parent\"><img src=\"https://colab.research.google.com/assets/colab-badge.svg\" alt=\"Open In Colab\"/></a>"
      ]
    },
    {
      "cell_type": "code",
      "metadata": {
        "id": "7jfogHuF1Vn-"
      },
      "source": [
        "#선형회귀 \n",
        "from keras.models import Sequential\n",
        "from keras.layers import Dense\n",
        "from keras import optimizers\n",
        "import numpy as np\n",
        "import matplotlib.pyplot as plt"
      ],
      "execution_count": 1,
      "outputs": []
    },
    {
      "cell_type": "code",
      "metadata": {
        "colab": {
          "base_uri": "https://localhost:8080/"
        },
        "id": "S0FJ0j1x2LgH",
        "outputId": "82c50a5d-cc8a-4946-b266-fdd1723db1e1"
      },
      "source": [
        "공부시간 = np.array([1,2,3,4,5,6])\n",
        "점수결과 = np.array([10,20,30,40,50,60])\n",
        "\n",
        "model = Sequential()\n",
        "model.add(Dense(1, input_dim=1, activation='linear'))#선형회귀\n",
        "sgd=optimizers.SGD(lr=0.01) #학습률 설정\n",
        "\n",
        "model.compile(optimizer=sgd, loss='mse', metrics=['accuracy'])\n",
        "model.fit(공부시간, 점수결과, batch_size=1, epochs=10, shuffle=False)\n",
        "\n",
        "print(model.predict([8])) #공부 8시간일때 점수 예측\n"
      ],
      "execution_count": 2,
      "outputs": [
        {
          "output_type": "stream",
          "text": [
            "Epoch 1/10\n",
            "6/6 [==============================] - 0s 2ms/step - loss: 293.3665 - accuracy: 0.0000e+00\n",
            "Epoch 2/10\n",
            "6/6 [==============================] - 0s 2ms/step - loss: 1.2425 - accuracy: 0.0000e+00\n",
            "Epoch 3/10\n",
            "6/6 [==============================] - 0s 2ms/step - loss: 1.6838 - accuracy: 0.0000e+00\n",
            "Epoch 4/10\n",
            "6/6 [==============================] - 0s 2ms/step - loss: 1.6907 - accuracy: 0.0000e+00\n",
            "Epoch 5/10\n",
            "6/6 [==============================] - 0s 2ms/step - loss: 1.6183 - accuracy: 0.0000e+00\n",
            "Epoch 6/10\n",
            "6/6 [==============================] - 0s 2ms/step - loss: 1.5446 - accuracy: 0.0000e+00\n",
            "Epoch 7/10\n",
            "6/6 [==============================] - 0s 2ms/step - loss: 1.4740 - accuracy: 0.0000e+00\n",
            "Epoch 8/10\n",
            "6/6 [==============================] - 0s 3ms/step - loss: 1.4066 - accuracy: 0.0000e+00\n",
            "Epoch 9/10\n",
            "6/6 [==============================] - 0s 2ms/step - loss: 1.3423 - accuracy: 0.0000e+00\n",
            "Epoch 10/10\n",
            "6/6 [==============================] - 0s 4ms/step - loss: 1.2809 - accuracy: 0.0000e+00\n",
            "[[79.16437]]\n"
          ],
          "name": "stdout"
        }
      ]
    },
    {
      "cell_type": "code",
      "metadata": {
        "colab": {
          "base_uri": "https://localhost:8080/",
          "height": 283
        },
        "id": "d4_alWFA5Ros",
        "outputId": "b4a5e7c8-c19c-4338-e076-97b5da059219"
      },
      "source": [
        "#다중선형회귀\n",
        "X=np.array([[73,80,75],\n",
        "            [93,88,93],\n",
        "            [89,91,90],\n",
        "            [96,98,100],\n",
        "            [73,66,70]])\n",
        "y=np.array([78,88,92,100,71])\n",
        "X_test=np.array([[90,88,93]])\n",
        "\n",
        "model =Sequential()\n",
        "model.add(Dense(1,input_dim=3, activation='linear'))\n",
        "sgd=optimizers.SGD(lr=0.000001)\n",
        "\n",
        "model.compile(optimizer=sgd, loss='mse', metrics=['mse'])\n",
        "hist = model.fit(X, y, batch_size=1, epochs=100, shuffle=False, verbose=0)\n",
        "# print(hist.history['loss'])\n",
        "plt.plot(hist.history['loss'], 'r', label='train loss')\n",
        "plt.show()\n",
        "\n",
        "print(model.predict(X_test))"
      ],
      "execution_count": 3,
      "outputs": [
        {
          "output_type": "display_data",
          "data": {
            "image/png": "[encoded data removed]",
            "text/plain": [
              "<Figure size 432x288 with 1 Axes>"
            ]
          },
          "metadata": {
            "tags": [],
            "needs_background": "light"
          }
        },
        {
          "output_type": "stream",
          "text": [
            "[[91.94505]]\n"
          ],
          "name": "stdout"
        }
      ]
    },
    {
      "cell_type": "code",
      "metadata": {
        "colab": {
          "base_uri": "https://localhost:8080/",
          "height": 283
        },
        "id": "Awh8O8lOirl7",
        "outputId": "f9581676-f680-4f74-fc5c-1549d45a8e3c"
      },
      "source": [
        "#로지스틱 회귀\n",
        "#오즈비\n",
        "def odds(p):\n",
        "    return p/(1-p)\n",
        "\n",
        "p=np.arange(0.001, 0.999, 0.001)\n",
        "z=[odds(n) for n in p]\n",
        "\n",
        "plt.plot(p,z)\n",
        "plt.ylim([0,200.0])\n",
        "plt.xlabel('p')\n",
        "plt.ylabel('odds')\n",
        "plt.show()"
      ],
      "execution_count": 5,
      "outputs": [
        {
          "output_type": "display_data",
          "data": {
            "image/png": "[encoded data removed]",
            "text/plain": [
              "<Figure size 432x288 with 1 Axes>"
            ]
          },
          "metadata": {
            "tags": [],
            "needs_background": "light"
          }
        }
      ]
    },
    {
      "cell_type": "code",
      "metadata": {
        "colab": {
          "base_uri": "https://localhost:8080/",
          "height": 279
        },
        "id": "bP4ekPCRpqEc",
        "outputId": "8f301c8c-e24a-4467-e41e-8aa3c90fb883"
      },
      "source": [
        "#오즈에 로짓\n",
        "def logit1(p):\n",
        "    return np.log(p/(1-p))\n",
        "\n",
        "p=np.arange(0.001, 0.999, 0.001)\n",
        "z=[logit1(n) for n in p]\n",
        "\n",
        "plt.plot(p,z)\n",
        "plt.grid()\n",
        "# plt.ylim([0,200.0])\n",
        "plt.xlabel('p')\n",
        "plt.ylabel('logit')\n",
        "plt.show()"
      ],
      "execution_count": 7,
      "outputs": [
        {
          "output_type": "display_data",
          "data": {
            "image/png": "[encoded data removed]",
            "text/plain": [
              "<Figure size 432x288 with 1 Axes>"
            ]
          },
          "metadata": {
            "tags": [],
            "needs_background": "light"
          }
        }
      ]
    },
    {
      "cell_type": "code",
      "metadata": {
        "id": "_tkqW0tDqLLs"
      },
      "source": [
        "#로짓에 역함수를 취한것이  시그모이드\n",
        "# p = 1 / 1+e^(-Wx+b) \n"
      ],
      "execution_count": null,
      "outputs": []
    },
    {
      "cell_type": "code",
      "metadata": {
        "id": "qILE77Uir6Ox"
      },
      "source": [
        "#정보량\n",
        "# I = -log p\n",
        "# 예 : log(0.7)=-.37 , log(0.2)=-1.6, log(1)=0"
      ],
      "execution_count": null,
      "outputs": []
    },
    {
      "cell_type": "code",
      "metadata": {
        "id": "vFvPWHutsV5Z"
      },
      "source": [
        "#엔트로피\n",
        "#확률분포함수를 입력하고 숫자를 출력하는 함수\n",
        "#이산확률 E = - sum( p(xi) log_2 p(xi) ), 연속확률 E = 적분( p(xi) log_2 P(xi)dx )"
      ],
      "execution_count": 8,
      "outputs": []
    },
    {
      "cell_type": "code",
      "metadata": {
        "id": "pfbOsHkzuPI_"
      },
      "source": [
        "#크로스엔트로피 : 분류모형\n",
        "#결합사건이고 통계적으로 독립이면, 각가의 정보량을 더한다."
      ],
      "execution_count": null,
      "outputs": []
    },
    {
      "cell_type": "code",
      "metadata": {
        "colab": {
          "base_uri": "https://localhost:8080/",
          "height": 339
        },
        "id": "Cv9gibcOvBkc",
        "outputId": "9c6f4b0a-2d13-444e-d5fb-f2e8efa3c07e"
      },
      "source": [
        "#로지스틱 실습\n",
        "X=np.array([-10,1,2,3,4,5,6,7,8,9,10])\n",
        "y=np.array([0,0,0,0,0,0,0,0,1,1,1])\n",
        "\n",
        "model=Sequential()\n",
        "model.add(Dense(1, input_dim=1, activation='sigmoid'))\n",
        "sgd=optimizers.SGD(lr=0.01)\n",
        "model.compile(optimizer=sgd, loss='binary_crossentropy', metrics=['binary_accuracy'])\n",
        "model.fit(X,y,batch_size=1, epochs=1000, shuffle=False, verbose=0)\n",
        "\n",
        "print(model.predict([8.1]))\n",
        "\n",
        "plt.plot(X,model.predict(X), 'b', X, y, 'k.')\n",
        "plt.show()"
      ],
      "execution_count": 12,
      "outputs": [
        {
          "output_type": "stream",
          "text": [
            "WARNING:tensorflow:7 out of the last 7 calls to <function Model.make_predict_function.<locals>.predict_function at 0x7fb199702f80> triggered tf.function retracing. Tracing is expensive and the excessive number of tracings could be due to (1) creating @tf.function repeatedly in a loop, (2) passing tensors with different shapes, (3) passing Python objects instead of tensors. For (1), please define your @tf.function outside of the loop. For (2), @tf.function has experimental_relax_shapes=True option that relaxes argument shapes that can avoid unnecessary retracing. For (3), please refer to https://www.tensorflow.org/guide/function#controlling_retracing and https://www.tensorflow.org/api_docs/python/tf/function for  more details.\n",
            "[[0.7109586]]\n",
            "WARNING:tensorflow:8 out of the last 8 calls to <function Model.make_predict_function.<locals>.predict_function at 0x7fb199702f80> triggered tf.function retracing. Tracing is expensive and the excessive number of tracings could be due to (1) creating @tf.function repeatedly in a loop, (2) passing tensors with different shapes, (3) passing Python objects instead of tensors. For (1), please define your @tf.function outside of the loop. For (2), @tf.function has experimental_relax_shapes=True option that relaxes argument shapes that can avoid unnecessary retracing. For (3), please refer to https://www.tensorflow.org/guide/function#controlling_retracing and https://www.tensorflow.org/api_docs/python/tf/function for  more details.\n"
          ],
          "name": "stdout"
        },
        {
          "output_type": "display_data",
          "data": {
            "image/png": "[encoded data removed]",
            "text/plain": [
              "<Figure size 432x288 with 1 Axes>"
            ]
          },
          "metadata": {
            "tags": [],
            "needs_background": "light"
          }
        }
      ]
    }
  ]
}