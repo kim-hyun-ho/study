{
  "nbformat": 4,
  "nbformat_minor": 0,
  "metadata": {
    "colab": {
      "name": "코딩테스트 연습2.ipynb",
      "provenance": [],
      "collapsed_sections": [],
      "authorship_tag": "ABX9TyNjaApZEn76EADo2M9IoL/V",
      "include_colab_link": true
    },
    "kernelspec": {
      "name": "python3",
      "display_name": "Python 3"
    },
    "language_info": {
      "name": "python"
    }
  },
  "cells": [
    {
      "cell_type": "markdown",
      "metadata": {
        "id": "view-in-github",
        "colab_type": "text"
      },
      "source": [
        "<a href=\"https://colab.research.google.com/github/kim-hyun-ho/study/blob/main/%EC%BD%94%EB%94%A9%ED%85%8C%EC%8A%A4%ED%8A%B8_%EC%97%B0%EC%8A%B52.ipynb\" target=\"_parent\"><img src=\"https://colab.research.google.com/assets/colab-badge.svg\" alt=\"Open In Colab\"/></a>"
      ]
    },
    {
      "cell_type": "code",
      "metadata": {
        "colab": {
          "base_uri": "https://localhost:8080/"
        },
        "id": "0SeYci5YcYpy",
        "outputId": "1bd79985-459e-4fc9-9e15-76c3c687c6d6"
      },
      "source": [
        "#멀쩡한 사각형\n",
        "\n",
        "def solution(w,h):\n",
        "    #정사각일때\n",
        "    if w==h:return w*h-h\n",
        "        \n",
        "    l,s = max(w,h), min(w,h)\n",
        "    #직사각일때 홀수?짝수?공약수,제곱근 어떤 간단한 규칙이 있나요?\n",
        "    # return w*h-(l+s-1)\n",
        "\n",
        "    #아래는 실제 이지만 시간이 걸린다\n",
        "    dots=[]#set()\n",
        "    g=s/l\n",
        "    y,yi=0,0\n",
        "    for x in range(1,l): #레인지를 줄여볼까?\n",
        "        y=g*x #s/l*x #기울기 26>22 4초 단축\n",
        "        yi=s*x//l #정수로 내림 int()보다 빠름\n",
        "        if y > yi:\n",
        "            if (x-1,yi) not in dots: dots.append((x-1,yi))\n",
        "            if (x,yi) not in dots: dots.append((x,yi))\n",
        "            # dots.update([(x-1,yi),(x,yi)])\n",
        "            \n",
        "    print(l,s,':',len(dots),'=>',l*s-len(dots),'=',l*s,'-',len(dots))\n",
        "    return w*h-len(dots)\n",
        "\n",
        "import time\n",
        "start=time.time(); print(solution(8,12))\n",
        "\n",
        "n=100; print(solution(n,n-1))\n",
        "\n",
        "# n=4**2;for i in range(n-1,0,-1): (solution(n,i))\n",
        "# n=7**2;for i in range(n-1,0,-1): (solution(n,i))\n",
        "\n",
        "print('time :', time.time() -start)\n"
      ],
      "execution_count": 41,
      "outputs": [
        {
          "output_type": "stream",
          "text": [
            "12 8 : 16 => 80 = 96 - 16\n",
            "80\n",
            "100 99 : 198 => 9702 = 9900 - 198\n",
            "9702\n",
            "time : 0.005555868148803711\n"
          ],
          "name": "stdout"
        }
      ]
    },
    {
      "cell_type": "code",
      "metadata": {
        "colab": {
          "base_uri": "https://localhost:8080/"
        },
        "id": "iPfBwsHxedyE",
        "outputId": "14505352-5bfe-44eb-f296-efa794134902"
      },
      "source": [
        "#하루 종일 고생해서 스스로 찾은 해답\n",
        "\n",
        "from math import gcd\n",
        "\n",
        "#잘린 멀쩡하지 않은 것 구하는 \n",
        "def mysol(m,n):\n",
        "    g=gcd(m,n)\n",
        "    if(g>1):\n",
        "        return mysol(m//g,n//g) * g ###아래 코드를 보니  mysol은 결국 한번반 재귀 호출한다 왜? gcd는 한번만 구하먼 되니까\n",
        "    return m+n-1 ###한번 재귀 호출되면 식은 (m//g + n//g -1 ) * g 와 같다.\n",
        "\n",
        "def solution(m,n):\n",
        "    #전체에서 멀쩡하지 않은것 빼기\n",
        "    return m*n-mysol(m,n)\n",
        "\n",
        "'''프로그래머스 다른이의 코드\n",
        "from math import gcd\n",
        "def solution(w,h):\n",
        "    return w * h - (w/gcd(w, h) + h/gcd(w, h) - 1) * gcd(w, h)\n",
        "'''\n",
        "\n",
        "import time\n",
        "start=time.time()\n",
        "n=100000000\n",
        "print(solution(n,n-1))\n",
        "print('time :', time.time() -start)\n",
        "\n",
        "n=3#12**2\n",
        "for i in range(n-1,0,-1):\n",
        "    dots=(mysol(n,i))\n",
        "    print(n,i,':',dots,'=>',n*i-(dots),'=',n*i,'-',(dots))\n"
      ],
      "execution_count": 38,
      "outputs": [
        {
          "output_type": "stream",
          "text": [
            "9999999700000002\n",
            "time : 0.0002002716064453125\n",
            "3 2 : 4 => 2 = 6 - 4\n",
            "3 1 : 3 => 0 = 3 - 3\n"
          ],
          "name": "stdout"
        }
      ]
    },
    {
      "cell_type": "code",
      "metadata": {
        "colab": {
          "base_uri": "https://localhost:8080/",
          "height": 596
        },
        "id": "R4Zy5gWDiTTi",
        "outputId": "fe9f0608-28f1-4f55-c275-8dc753f52db3"
      },
      "source": [
        "import matplotlib.pyplot as plt\n",
        "import seaborn as sns\n",
        "\n",
        "plt.figure(figsize=(8,8))\n",
        "\n",
        "n=6\n",
        "for i in range(1,n+1):\n",
        "    plt.plot([0,n],[0,i])\n",
        "    print((n-i+1)/n)\n",
        "# sns.lineplot([1,2,3,4,5],[1,2,3,4,5])\n",
        "plt.grid()\n",
        "plt.show()"
      ],
      "execution_count": 16,
      "outputs": [
        {
          "output_type": "stream",
          "text": [
            "1.0\n",
            "0.8333333333333334\n",
            "0.6666666666666666\n",
            "0.5\n",
            "0.3333333333333333\n",
            "0.16666666666666666\n"
          ],
          "name": "stdout"
        },
        {
          "output_type": "display_data",
          "data": {
            "image/png": "[encoded data removed]",
            "text/plain": [
              "<Figure size 576x576 with 1 Axes>"
            ]
          },
          "metadata": {
            "tags": [],
            "needs_background": "light"
          }
        }
      ]
    },
    {
      "cell_type": "code",
      "metadata": {
        "id": "mtQyNDycEClh"
      },
      "source": [
        "'''\n",
        "찾은 과정 : 도표를 그리고 처음엔 직접 세어보기도 하면서\n",
        "처음 만든 반복문으로 도트 수를 세어보고\n",
        "몇 가지 예를 출력해보고\n",
        "도트 수 세는 공식을 찾아 냄\n",
        "'''\n",
        "# 12 12 : 12 => 132 = 144 - 12    1*1 의 *12 == 6x6*2 > 3x3*2*2 = 12\n",
        "# 12 11 : 22 => 110 = 132 - 22    23-1\n",
        "# 12 10 : 20 => 100 = 120 - 20\t6*5 잘린것 *2 > 6x5*2 > 10*2 >20\n",
        "\n",
        "# 12 9 : 18 => 90 = 108 - 18\t\t4*3 > 6의 *3 > 홀수 규칙은 서로 소일때?????????????????\n",
        "\n",
        "# 12 8 : 16 => 80 = 96 - 16 \t6x4*2 > 3x2*2*2>4*2*2 >16\n",
        "# 12 7 : 18 => 66 = 84 - 18 \t19-1\n",
        "# 12 6 : 12 => 60 = 72 - 12\t6x3*2 > 3x1*2*2 > 12\n",
        "# 12 5 : 16 => 44 = 60 - 16\t17-1\n",
        "# 12 4 : 12 => 36 = 48 - 12  3*1 의 *2*2\n",
        "\n",
        "# 12 3 : 12 => 24 = 36 - 12  4*1 의 * 3 \n",
        "\n",
        "# 12 2 : 12 => 12 = 24 - 12  6*1 의 * 2\n",
        "# 12 1 : 12 => 0 = 12 - 12   12*1 / 홀수규칙은 13-1\n",
        "\n",
        "\n",
        "# 16 16\t\t\t\t\t\t\t1*1의 16배\n",
        "# 16 15 : 30 => 210 = 240 - 30 : 31-1\n",
        "# 16 14 : 28 => 196 = 224 - 28 : 8x7 *2 > 14*2 = 28\n",
        "# 16 13 : 28 => 180 = 208 - 28 (29-1)\n",
        "# 16 12 : 24 => 168 = 192 - 24 짝수규칙 (4x3> 6 *2)*2 = 24\n",
        "# 16 11 : 26 => 150 = 176 - 26 (27-1)\n",
        "# 16 10 : 24 => 136 = 160 - 24 (짝,짝) 8x5 > 12 *2 = 24\n",
        "# 16 9 : 24 => 120 = 144 - 24 :25-1\n",
        "# 16 8 : 16 => 112 = 128 - 16  8x4*2 > 4x2*2*2 > 2x1*2*2*2 > 16\n",
        "# 16 7 : 22 => 90 = 112 - 22 :23-1\n",
        "# 16 6 : 20 => 76 = 96 - 20 : 8*3의 2배 >(21-1)*2 = 20\n",
        "# 16 5 : 20 => 60 = 80 - 20 : 21-1 \n",
        "# 16 4 : 16 => 48 = 64 - 16 : 8x2*2> 4*2*2 > 16\n",
        "# 16 3 : 18 => 30 = 48 - 18\t: 19-1 > 뒤집어서 홀수규칙으로 계산? (max+min-(1+(max**0.5 -1 if min%(max**0.5)==0 else 0))\n",
        "# 16 2 : 16 => 16 = 32 - 16\t8*1 의 2배\n",
        "# 16 1 : 16 => 0 = 16 - 16  \t:16\n",
        "\n",
        "# 알고리즘\n",
        "# 장단으로 구분\n",
        "# 모두 짝수이면 2로 나누고 재귀호출\n",
        "# 2로 나누어지지 않으면 홀수규칙 적용 -> 한쪽이 홀수가 되었 음\n",
        "\n",
        "# >> 3으로도 나눠지고 ,5, 7, 11 ,13 \n",
        "# 즉 최대 약수를 구해야 한다.\n",
        "# 결국은 최대 공약수가 1일 될 때까 공약수로 나눈 몫을 \n",
        "# 반복해서\n",
        "\n",
        "# 멀쩡하지 않은 것 >컴퓨터 화면에서 그려질 라인의 도트수 찾기\n",
        "\n",
        "# 홀수 규칙은 m+n-1\n",
        "\n",
        "# 최종 정답 : 라인 없는 토트수 > 멀쩡한 사각형\n",
        "# max*min - (m+n-1)*gcb(m,n)\n",
        "\n",
        "# 완성판\n",
        "# 멀쩡하지 않은 것 구하기\n",
        "# 최대 공배수를 구한다\n",
        "# 몫으로 재귀호출\n",
        "# 최대 공배수가 1이면 홀수 법칙으로 구한다것\n",
        "\n",
        "# 49 48 : 96 => 2256 = 2352 - 96\n",
        "# 49 47 : 95 => 2208 = 2303 - 95\n",
        "# 49 46 : 94 => 2160 = 2254 - 94\n",
        "# 49 45 : 93 => 2112 = 2205 - 93\n",
        "# 49 44 : 92 => 2064 = 2156 - 92\n",
        "# 49 43 : 91 => 2016 = 2107 - 91\n",
        "\n",
        "# 49 42 : 84 => 1974 = 2058 - 84\n",
        "# 49 41 : 89 => 1920 = 2009 - 89\n",
        "# 49 40 : 88 => 1872 = 1960 - 88\n",
        "# 49 39 : 87 => 1824 = 1911 - 87\n",
        "# 49 38 : 86 => 1776 = 1862 - 86\n",
        "# 49 37 : 85 => 1728 = 1813 - 85\n",
        "# 49 36 : 84 => 1680 = 1764 - 84\n",
        "\n",
        "# 49 35 : 77 => 1638 = 1715 - 77\n",
        "# 49 34 : 82 => 1584 = 1666 - 82\n",
        "# 49 33 : 81 => 1536 = 1617 - 81\n",
        "# 49 32 : 80 => 1488 = 1568 - 80\n",
        "# 49 31 : 79 => 1440 = 1519 - 79\n",
        "# 49 30 : 78 => 1392 = 1470 - 78\n",
        "# 49 29 : 77 => 1344 = 1421 - 77\n",
        "\n",
        "# 49 28 : 70 => 1302 = 1372 - 70\n",
        "# 49 27 : 75 => 1248 = 1323 - 75\n",
        "# 49 26 : 74 => 1200 = 1274 - 74\n",
        "# 49 25 : 73 => 1152 = 1225 - 73\n",
        "# 49 24 : 72 => 1104 = 1176 - 72\n",
        "# 49 23 : 71 => 1056 = 1127 - 71\n",
        "# 49 22 : 70 => 1008 = 1078 - 70\n",
        "\n",
        "# 49 21 : 63 => 966 = 1029 - 63\n",
        "\n",
        "# 49 20 : 68 => 912 = 980 - 68\n",
        "# 49 19 : 67 => 864 = 931 - 67\n",
        "# 49 18 : 66 => 816 = 882 - 66\n",
        "# 49 17 : 65 => 768 = 833 - 65\n",
        "# 49 16 : 64 => 720 = 784 - 64\n",
        "# 49 15 : 63 => 672 = 735 - 63\n",
        "\n",
        "# 49 14 : 56 => 630 = 686 - 56 : 63 - 6\n",
        "\n",
        "# 49 13 : 61 => 576 = 637 - 61\n",
        "# 49 12 : 60 => 528 = 588 - 60\n",
        "# 49 11 : 59 => 480 = 539 - 59\n",
        "# 49 10 : 58 => 432 = 490 - 58\n",
        "# 49 9 : 57 => 384 = 441 - 57\n",
        "# 49 8 : 56 => 336 = 392 - 56\n",
        "\n",
        "# 49 7 : 49 => 294 = 343 - 49 : 55 - 6\n",
        "\n",
        "# 49 6 : 54 => 240 = 294 - 54\n",
        "# 49 5 : 53 => 192 = 245 - 53\n",
        "# 49 4 : 52 => 144 = 196 - 52\n",
        "# 49 3 : 51 => 96 = 147 - 51\n",
        "# 49 2 : 50 => 48 = 98 - 50\n",
        "\n",
        "# 49 1 : 49 => 0 = 49 - 49"
      ],
      "execution_count": null,
      "outputs": []
    },
    {
      "cell_type": "markdown",
      "metadata": {
        "id": "46tOsIQxZdZS"
      },
      "source": [
        "# 참고용 : 프로그래머스 다른이의 답"
      ]
    },
    {
      "cell_type": "code",
      "metadata": {
        "colab": {
          "base_uri": "https://localhost:8080/"
        },
        "id": "YaUynvyJsDwI",
        "outputId": "06a522e3-ec51-4f14-98d7-8c1ff6fe69f0"
      },
      "source": [
        "def gcd(a,b): return b if (a==0) else gcd(b%a,a)    #유클리드 호제법 최대 공약수 구하기\n",
        "def solution(w,h): return w*h-w-h+gcd(w,h) \n",
        "#전체사각형에서 w, h 방향에서 각각 보이는 못쓰는 사각형을 뺀 후 중복으로 뺀 사각형을 더했네요.\n",
        "#중복으로 뺀 것이..규칙이 있네요\n",
        "import time\n",
        "start=time.time()\n",
        "n=100000000\n",
        "print(solution(n,n-1))\n",
        "print('time :', time.time() -start)"
      ],
      "execution_count": 42,
      "outputs": [
        {
          "output_type": "stream",
          "text": [
            "9999999700000002\n",
            "time : 0.00024700164794921875\n"
          ],
          "name": "stdout"
        }
      ]
    },
    {
      "cell_type": "code",
      "metadata": {
        "id": "vStI3L7HFQsV"
      },
      "source": [
        ""
      ],
      "execution_count": null,
      "outputs": []
    }
  ]
}