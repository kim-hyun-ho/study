{
  "nbformat": 4,
  "nbformat_minor": 0,
  "metadata": {
    "colab": {
      "name": "210413.ipynb",
      "provenance": [],
      "collapsed_sections": [],
      "authorship_tag": "ABX9TyMjFoWii+EUm54GkmRqHDEG",
      "include_colab_link": true
    },
    "kernelspec": {
      "name": "python3",
      "display_name": "Python 3"
    },
    "language_info": {
      "name": "python"
    }
  },
  "cells": [
    {
      "cell_type": "markdown",
      "metadata": {
        "id": "view-in-github",
        "colab_type": "text"
      },
      "source": [
        "<a href=\"https://colab.research.google.com/github/kim-hyun-ho/study/blob/main/210413.ipynb\" target=\"_parent\"><img src=\"https://colab.research.google.com/assets/colab-badge.svg\" alt=\"Open In Colab\"/></a>"
      ]
    },
    {
      "cell_type": "code",
      "metadata": {
        "colab": {
          "base_uri": "https://localhost:8080/"
        },
        "id": "DVMu70TnyMcG",
        "outputId": "02958c27-10b1-4fbd-d11d-ec87f8c4183e"
      },
      "source": [
        "Apart = [[101,102,103,104],[201,202,203,204],[301,302,303,304],[401,402,403,404]]\n",
        "\n",
        "Unpaid = [101,204,302,402]\n",
        "\n",
        "for dong in Apart:\n",
        "    for ho in dong:\n",
        "        if ho in Unpaid:\n",
        "            print(f'우유 배달해야 하지 말아야 할 곳 {ho}')\n",
        "        else:\n",
        "            print(f'우유 배달해야 할 곳 {ho}')"
      ],
      "execution_count": null,
      "outputs": [
        {
          "output_type": "stream",
          "text": [
            "우유 배달해야 하지 말아야 할 곳 101\n",
            "우유 배달해야 할 곳 102\n",
            "우유 배달해야 할 곳 103\n",
            "우유 배달해야 할 곳 104\n",
            "우유 배달해야 할 곳 201\n",
            "우유 배달해야 할 곳 202\n",
            "우유 배달해야 할 곳 203\n",
            "우유 배달해야 하지 말아야 할 곳 204\n",
            "우유 배달해야 할 곳 301\n",
            "우유 배달해야 하지 말아야 할 곳 302\n",
            "우유 배달해야 할 곳 303\n",
            "우유 배달해야 할 곳 304\n",
            "우유 배달해야 할 곳 401\n",
            "우유 배달해야 하지 말아야 할 곳 402\n",
            "우유 배달해야 할 곳 403\n",
            "우유 배달해야 할 곳 404\n"
          ],
          "name": "stdout"
        }
      ]
    },
    {
      "cell_type": "code",
      "metadata": {
        "colab": {
          "base_uri": "https://localhost:8080/"
        },
        "id": "UU2efcuwz3Ww",
        "outputId": "8010785a-56c0-448c-cd44-c90a0560b2d2"
      },
      "source": [
        "def add_all(*args):\n",
        "    sum=0\n",
        "    if (type(args[0]) == type(int())):\n",
        "        for i in args:\n",
        "            sum+=i\n",
        "    elif (type(args[0]) ==type(list())):\n",
        "        for i in args[0]:\n",
        "            sum+=i\n",
        "    else:\n",
        "        pass\n",
        "    return sum\n",
        "   \n",
        "print(' add_all(1,2,3,4,5) = ', add_all(1,2,3,4,5))\n",
        "print(' add_all([1,2,3,4,5]) = ', add_all([1,2,3,4,5]))"
      ],
      "execution_count": null,
      "outputs": [
        {
          "output_type": "stream",
          "text": [
            " add_all(1,2,3,4,5) =  15\n",
            " add_all([1,2,3,4,5]) =  15\n"
          ],
          "name": "stdout"
        }
      ]
    },
    {
      "cell_type": "code",
      "metadata": {
        "colab": {
          "base_uri": "https://localhost:8080/"
        },
        "id": "cnY-PH-Y3Ydo",
        "outputId": "5a486169-e244-4a6d-96c9-bf84fff3ee0c"
      },
      "source": [
        "def solution1(n):\n",
        "    if (n <0 or n>100000000 or type(n)!=type(int())):\n",
        "        print('100,000,000 이하의 자연수를 입력해 주세요')\n",
        "        return 0\n",
        "    sum=0\n",
        "    while n>10:\n",
        "        sum+=n%10\n",
        "        n=n//10\n",
        "    sum+=n\n",
        "    return sum\n",
        "\n",
        "print( 'N = 123 이면 자릿수의 합은 ',solution1(123),'\\n')\n",
        "print( 'N = 12.3 이면 자릿수의 합은 ',solution1(12.3),'\\n')\n",
        "print( 'N = 123,456,789,000 이면 자릿수의 합은 ',solution1(123456789000),'\\n')"
      ],
      "execution_count": null,
      "outputs": [
        {
          "output_type": "stream",
          "text": [
            "N = 123 이면 자릿수의 합은  6 \n",
            "\n",
            "100,000,000 이하의 자연수를 입력해 주세요\n",
            "N = 12.3 이면 자릿수의 합은  0 \n",
            "\n",
            "100,000,000 이하의 자연수를 입력해 주세요\n",
            "N = 123,456,789,000 이면 자릿수의 합은  0 \n",
            "\n"
          ],
          "name": "stdout"
        }
      ]
    },
    {
      "cell_type": "code",
      "metadata": {
        "colab": {
          "base_uri": "https://localhost:8080/"
        },
        "id": "g5tu43GF6HTP",
        "outputId": "6133a993-1a08-41cc-b897-b4b1b47b1eda"
      },
      "source": [
        "def toBin(n):\n",
        "    blist=[]\n",
        "    while n>1:\n",
        "        blist.append(str(n%2))\n",
        "        n=n//2\n",
        "    blist.append(str(n))\n",
        "    bstr= \"\".join(blist[::-1])\n",
        "    # print (blist)\n",
        "    print (bstr)\n",
        "\n",
        "toBin(73)\n",
        "toBin(15)\n",
        "toBin(12341234)"
      ],
      "execution_count": null,
      "outputs": [
        {
          "output_type": "stream",
          "text": [
            "1001001\n",
            "1111\n",
            "101111000100111111110010\n"
          ],
          "name": "stdout"
        }
      ]
    },
    {
      "cell_type": "code",
      "metadata": {
        "colab": {
          "base_uri": "https://localhost:8080/"
        },
        "id": "3x8ww80A65Hr",
        "outputId": "a09dc1e0-a7fa-485f-b5e3-c4495f3889f5"
      },
      "source": [
        "names = ['홍길동', '홍계월', '김철수', '이영희', '박첨지']\n",
        "\n",
        "for i in names:\n",
        "    print( i[0]+'*'+i[2:])"
      ],
      "execution_count": null,
      "outputs": [
        {
          "output_type": "stream",
          "text": [
            "홍*동\n",
            "홍*월\n",
            "김*수\n",
            "이*희\n",
            "박*지\n"
          ],
          "name": "stdout"
        }
      ]
    },
    {
      "cell_type": "markdown",
      "metadata": {
        "id": "ln9nhCbMIL8T"
      },
      "source": [
        "#성능지표\n",
        "<pre>\n",
        "          예측정상  예측 불량\n",
        "실제 정상    진양      위음\n",
        "실제 불량    위양      진음\n",
        "\n",
        "정확도 : 전체중 실제값\n",
        "= 전체분에 대각선 맞은것 맞다, 틀린거 틀리다\n",
        "= 진양+진음/위양+진양+위음+진음\n",
        "\n",
        "정밀도 : 예측 중에 진양\n",
        "= 맞다고 예측한 것중 맞은거 (예측 기준)\n",
        "= 진양 / 위양+진양\n",
        "\n",
        "재현율 : 감도\n",
        "= 실제 중에 참을 맞춤 ( 실제 기준)\n",
        "= 진양 / 진양+위음\n",
        "\n",
        "특이도\n",
        "= 실제 중에 거짓을 맞춤  ( 실제 기준)\n",
        "= 진음 / 진음+위양\n"
      ]
    },
    {
      "cell_type": "markdown",
      "metadata": {
        "id": "s-nG_M5ONVer"
      },
      "source": [
        "#분류\n",
        "##키워드\n",
        "<pre>\n",
        "KNN : 최근접 이웃 유클리디안 거리\n",
        "각종 거리함수, (마할노비스 거리)\n",
        "\n",
        "확률통계:\n",
        "빈도주의\n",
        "베이지안 bayesian\n",
        "\n",
        "</pre>\n"
      ]
    },
    {
      "cell_type": "markdown",
      "metadata": {
        "id": "3RFzKKcYRPF4"
      },
      "source": [
        "#파이썬 효율적인 코드 쓰기\n",
        "\n",
        "[어떤 코드가 빠른가](https://https://www.youtube.com/watch?v=Txz7K6Zc-_M)\n",
        "\n",
        "# __slots__의 마법\n",
        "https://ddanggle.gitbooks.io/interpy-kr/content/ch10-slots-magic.html"
      ]
    },
    {
      "cell_type": "markdown",
      "metadata": {
        "id": "eUG557nupa6Y"
      },
      "source": [
        "#나이브 베이즈\n",
        "#P(A|B) = P(B|A) P(A) / P(B)\n",
        "<pre>\n",
        "피처간의 독립 > 실제 적용 힘듬\n",
        "적은 계산\n",
        "정확\n",
        "빠름\n",
        "이산형 데이타\n",
        "</pre>"
      ]
    },
    {
      "cell_type": "markdown",
      "metadata": {
        "id": "cJw323oWqWHw"
      },
      "source": [
        "#막간 궁금증\n",
        "#라벨 <> 원핫 인코딩 차이\n",
        "https://azanewta.tistory.com/46\n",
        "\n",
        "##One-Hot Encoding은 언제?\n",
        "* 순서가 없을 때 (예, 국가명 )\n",
        "* 그리고 고유값의 개수가 많지 않으면 효율적\n",
        " \n",
        "\n",
        "##Label Encoding은 언제?\n",
        "* 순서의 의미가 있을때 (유치원, 초등학교, 대학교 같은 등급, 사원, 대리, 과장, 부장 같은 직급?? )\n",
        "* 고유값의 개수가 많은데 One-hot Encoding은 당연히 메모리 소비가 많으므로 효율적이진 못하다. "
      ]
    }
  ]
}