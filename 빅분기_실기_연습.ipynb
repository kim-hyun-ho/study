{
  "nbformat": 4,
  "nbformat_minor": 0,
  "metadata": {
    "colab": {
      "name": "빅분기 실기 연습.ipynb",
      "provenance": [],
      "collapsed_sections": [],
      "authorship_tag": "ABX9TyMyqVpEAr2r5UvlTJYvwerq",
      "include_colab_link": true
    },
    "kernelspec": {
      "name": "python3",
      "display_name": "Python 3"
    },
    "language_info": {
      "name": "python"
    }
  },
  "cells": [
    {
      "cell_type": "markdown",
      "metadata": {
        "id": "view-in-github",
        "colab_type": "text"
      },
      "source": [
        "<a href=\"https://colab.research.google.com/github/kim-hyun-ho/study/blob/main/%EB%B9%85%EB%B6%84%EA%B8%B0_%EC%8B%A4%EA%B8%B0_%EC%97%B0%EC%8A%B5.ipynb\" target=\"_parent\"><img src=\"https://colab.research.google.com/assets/colab-badge.svg\" alt=\"Open In Colab\"/></a>"
      ]
    },
    {
      "cell_type": "code",
      "metadata": {
        "id": "KCCZ9_d62ndf"
      },
      "source": [
        "import pandas as pd\n",
        "import numpy as np\n",
        "import matplotlib.pyplot as plt\n",
        "import seaborn as sns\n",
        "import sklearn as skl"
      ],
      "execution_count": null,
      "outputs": []
    },
    {
      "cell_type": "code",
      "metadata": {
        "id": "GQwgKnqIYckU"
      },
      "source": [
        "# dir(pd.DataFrame.sort_values)\n",
        "# help(pd.DataFrame.sort_values)"
      ],
      "execution_count": null,
      "outputs": []
    },
    {
      "cell_type": "code",
      "metadata": {
        "colab": {
          "base_uri": "https://localhost:8080/",
          "height": 259
        },
        "id": "abojdX9BkDM8",
        "outputId": "aaa91f01-1c19-41a5-cd82-ee7e9c085415"
      },
      "source": [
        "x=[-3,5,7]\n",
        "y=[10,2,5]\n",
        "\n",
        "#상태기반\n",
        "plt.figure(figsize=(15,3))\n",
        "plt.plot(x,y)\n",
        "plt.xlim(0,10)\n",
        "plt.ylim(-3,8)\n",
        "plt.xlabel('X Axis')\n",
        "plt.ylabel('Y Axis')\n",
        "plt.title('Line Plot')\n",
        "plt.suptitle('Figure Title', size=20, y=1.03)"
      ],
      "execution_count": null,
      "outputs": [
        {
          "output_type": "execute_result",
          "data": {
            "text/plain": [
              "Text(0.5, 1.03, 'Figure Title')"
            ]
          },
          "metadata": {
            "tags": []
          },
          "execution_count": 15
        },
        {
          "output_type": "display_data",
          "data": {
            "image/png": "[encoded data removed]",
            "text/plain": [
              "<Figure size 1080x216 with 1 Axes>"
            ]
          },
          "metadata": {
            "tags": [],
            "needs_background": "light"
          }
        }
      ]
    },
    {
      "cell_type": "code",
      "metadata": {
        "colab": {
          "base_uri": "https://localhost:8080/",
          "height": 259
        },
        "id": "iSSnuLGWkm1S",
        "outputId": "d8dbfea0-c5e6-4223-8b76-ff96a5041dc5"
      },
      "source": [
        "fig,ax=plt.subplots(figsize=(15,3))\n",
        "ax.plot(x,y)\n",
        "ax.set_xlim(0,10)\n",
        "ax.set_ylim(-3,8)\n",
        "ax.set_xlabel('X axis')\n",
        "ax.set_ylabel('Y axis')\n",
        "ax.set_title('Line Plot')\n",
        "fig.suptitle('Figure Title',size=20, y=1.03)"
      ],
      "execution_count": null,
      "outputs": [
        {
          "output_type": "execute_result",
          "data": {
            "text/plain": [
              "Text(0.5, 1.03, 'Figure Title')"
            ]
          },
          "metadata": {
            "tags": []
          },
          "execution_count": 18
        },
        {
          "output_type": "display_data",
          "data": {
            "image/png": "[encoded data removed]",
            "text/plain": [
              "<Figure size 1080x216 with 1 Axes>"
            ]
          },
          "metadata": {
            "tags": [],
            "needs_background": "light"
          }
        }
      ]
    },
    {
      "cell_type": "code",
      "metadata": {
        "colab": {
          "base_uri": "https://localhost:8080/",
          "height": 253
        },
        "id": "F3XBo8dPk7MH",
        "outputId": "13e4d231-9f0d-49cb-d30a-5a760fe3d015"
      },
      "source": [
        "fig,ax=plt.subplots(nrows=1,ncols=1,linewidth=5,edgecolor='.5')\n",
        "fig.get_size_inches()\n",
        "fig.set_size_inches(14,4)\n",
        "fig.set_facecolor('.9')#색은 0~1의 실수\n",
        "ax.set_facecolor('.7')\n",
        "\n",
        "ax.spines['left'].set_position(('outward',-100))\n",
        "ax.spines['right'].set_linewidth(5)\n",
        "ax.spines['top'].set_visible(False)\n",
        "\n",
        "ax.xaxis.grid(True, which='major',linewidth=2, color='black', linestyle='--')\n",
        "ax.xaxis.set_ticks([.2,.4,.55,.93])\n",
        "ax.xaxis.set_label_text('X Axis', family='Verdana', fontsize=15)\n",
        "\n",
        "ax.set_ylabel('Y Axis', family='Calibri', fontsize=20)\n",
        "ax.set_yticks([.1,.9])\n",
        "ax.set_yticklabels(['Point 1', 'point 9'], rotation=45)\n",
        "\n",
        "text_kwargs=dict(fontsize=20, family='cursive')\n",
        "ax.set_title('Median Movie Budget',**text_kwargs)\n",
        "ax.set_ylabel('Millions of Dollars', **text_kwargs)\n"
      ],
      "execution_count": 1,
      "outputs": [
        {
          "output_type": "error",
          "ename": "NameError",
          "evalue": "ignored",
          "traceback": [
            "\u001b[0;31m---------------------------------------------------------------------------\u001b[0m",
            "\u001b[0;31mNameError\u001b[0m                                 Traceback (most recent call last)",
            "\u001b[0;32m<ipython-input-1-286aceb131d3>\u001b[0m in \u001b[0;36m<module>\u001b[0;34m()\u001b[0m\n\u001b[0;32m----> 1\u001b[0;31m \u001b[0mfig\u001b[0m\u001b[0;34m,\u001b[0m\u001b[0max\u001b[0m\u001b[0;34m=\u001b[0m\u001b[0mplt\u001b[0m\u001b[0;34m.\u001b[0m\u001b[0msubplots\u001b[0m\u001b[0;34m(\u001b[0m\u001b[0mnrows\u001b[0m\u001b[0;34m=\u001b[0m\u001b[0;36m1\u001b[0m\u001b[0;34m,\u001b[0m\u001b[0mncols\u001b[0m\u001b[0;34m=\u001b[0m\u001b[0;36m1\u001b[0m\u001b[0;34m,\u001b[0m\u001b[0mlinewidth\u001b[0m\u001b[0;34m=\u001b[0m\u001b[0;36m5\u001b[0m\u001b[0;34m,\u001b[0m\u001b[0medgecolor\u001b[0m\u001b[0;34m=\u001b[0m\u001b[0;34m'.5'\u001b[0m\u001b[0;34m)\u001b[0m\u001b[0;34m\u001b[0m\u001b[0;34m\u001b[0m\u001b[0m\n\u001b[0m\u001b[1;32m      2\u001b[0m \u001b[0mfig\u001b[0m\u001b[0;34m.\u001b[0m\u001b[0mget_size_inches\u001b[0m\u001b[0;34m(\u001b[0m\u001b[0;34m)\u001b[0m\u001b[0;34m\u001b[0m\u001b[0;34m\u001b[0m\u001b[0m\n\u001b[1;32m      3\u001b[0m \u001b[0mfig\u001b[0m\u001b[0;34m.\u001b[0m\u001b[0mset_size_inches\u001b[0m\u001b[0;34m(\u001b[0m\u001b[0;36m14\u001b[0m\u001b[0;34m,\u001b[0m\u001b[0;36m4\u001b[0m\u001b[0;34m)\u001b[0m\u001b[0;34m\u001b[0m\u001b[0;34m\u001b[0m\u001b[0m\n\u001b[1;32m      4\u001b[0m \u001b[0mfig\u001b[0m\u001b[0;34m.\u001b[0m\u001b[0mset_facecolor\u001b[0m\u001b[0;34m(\u001b[0m\u001b[0;34m'.9'\u001b[0m\u001b[0;34m)\u001b[0m\u001b[0;31m#색은 0~1의 실수\u001b[0m\u001b[0;34m\u001b[0m\u001b[0;34m\u001b[0m\u001b[0m\n\u001b[1;32m      5\u001b[0m \u001b[0max\u001b[0m\u001b[0;34m.\u001b[0m\u001b[0mset_facecolor\u001b[0m\u001b[0;34m(\u001b[0m\u001b[0;34m'.7'\u001b[0m\u001b[0;34m)\u001b[0m\u001b[0;34m\u001b[0m\u001b[0;34m\u001b[0m\u001b[0m\n",
            "\u001b[0;31mNameError\u001b[0m: name 'plt' is not defined"
          ]
        }
      ]
    },
    {
      "cell_type": "code",
      "metadata": {
        "colab": {
          "base_uri": "https://localhost:8080/",
          "height": 36
        },
        "id": "VD8iFIVem-CB",
        "outputId": "0d3764e8-ea51-4876-c5b3-d3e120c5db15"
      },
      "source": [
        "import os\n",
        "os.getcwd()"
      ],
      "execution_count": 2,
      "outputs": [
        {
          "output_type": "execute_result",
          "data": {
            "application/vnd.google.colaboratory.intrinsic+json": {
              "type": "string"
            },
            "text/plain": [
              "'/content'"
            ]
          },
          "metadata": {
            "tags": []
          },
          "execution_count": 2
        }
      ]
    },
    {
      "cell_type": "code",
      "metadata": {
        "id": "hxm6ZgJkXGVR"
      },
      "source": [
        "# data = open('file path', 'r', encoding='cp949')\n",
        "# line = data.read()"
      ],
      "execution_count": null,
      "outputs": []
    },
    {
      "cell_type": "code",
      "metadata": {
        "id": "WTtBlaRsW3ed"
      },
      "source": [
        "line='1,김윤석,24,174\\n2,나문희,43,162\\n3,정준하,36,186\\n4,장동건,31,177\\n5,김혜수,27,169'"
      ],
      "execution_count": 3,
      "outputs": []
    },
    {
      "cell_type": "code",
      "metadata": {
        "colab": {
          "base_uri": "https://localhost:8080/"
        },
        "id": "LZJkT7a-W9dK",
        "outputId": "a82c1d36-c1f4-4528-e766-046e8e96c44a"
      },
      "source": [
        "line=line.split('\\n')\n",
        "line"
      ],
      "execution_count": 4,
      "outputs": [
        {
          "output_type": "execute_result",
          "data": {
            "text/plain": [
              "['1,김윤석,24,174',\n",
              " '2,나문희,43,162',\n",
              " '3,정준하,36,186',\n",
              " '4,장동건,31,177',\n",
              " '5,김혜수,27,169']"
            ]
          },
          "metadata": {
            "tags": []
          },
          "execution_count": 4
        }
      ]
    },
    {
      "cell_type": "code",
      "metadata": {
        "colab": {
          "base_uri": "https://localhost:8080/"
        },
        "id": "epqeK9xHXO1h",
        "outputId": "ee9e37c4-e887-429a-b87d-b0a9a7c13155"
      },
      "source": [
        "row=[]\n",
        "for i in line:\n",
        "    row.append(i.split(','))\n",
        "row"
      ],
      "execution_count": 5,
      "outputs": [
        {
          "output_type": "execute_result",
          "data": {
            "text/plain": [
              "[['1', '김윤석', '24', '174'],\n",
              " ['2', '나문희', '43', '162'],\n",
              " ['3', '정준하', '36', '186'],\n",
              " ['4', '장동건', '31', '177'],\n",
              " ['5', '김혜수', '27', '169']]"
            ]
          },
          "metadata": {
            "tags": []
          },
          "execution_count": 5
        }
      ]
    },
    {
      "cell_type": "code",
      "metadata": {
        "id": "Uco9MMGeXXqK"
      },
      "source": [
        "import pandas as pd\n",
        "col_name=['번호','이름','나이','키']\n",
        "df=pd.DataFrame(row, columns = col_name)"
      ],
      "execution_count": 19,
      "outputs": []
    },
    {
      "cell_type": "code",
      "metadata": {
        "colab": {
          "base_uri": "https://localhost:8080/"
        },
        "id": "5jGkKdg4Xh2y",
        "outputId": "d1188395-e382-478a-d2d7-290c411a7b31"
      },
      "source": [
        "df.info()"
      ],
      "execution_count": 16,
      "outputs": [
        {
          "output_type": "stream",
          "text": [
            "<class 'pandas.core.frame.DataFrame'>\n",
            "RangeIndex: 5 entries, 0 to 4\n",
            "Data columns (total 4 columns):\n",
            " #   Column  Non-Null Count  Dtype \n",
            "---  ------  --------------  ----- \n",
            " 0   번호      5 non-null      object\n",
            " 1   이름      5 non-null      object\n",
            " 2   나이      5 non-null      object\n",
            " 3   키       5 non-null      object\n",
            "dtypes: object(4)\n",
            "memory usage: 288.0+ bytes\n"
          ],
          "name": "stdout"
        }
      ]
    },
    {
      "cell_type": "code",
      "metadata": {
        "colab": {
          "base_uri": "https://localhost:8080/"
        },
        "id": "2-jLHSMOXpP7",
        "outputId": "c5157bb0-3b13-4049-fe8c-07c71aa492dd"
      },
      "source": [
        "df[['번호','나이','키']]=df[['번호','나이','키']].astype('int')\n",
        "df.info()"
      ],
      "execution_count": 21,
      "outputs": [
        {
          "output_type": "stream",
          "text": [
            "<class 'pandas.core.frame.DataFrame'>\n",
            "RangeIndex: 5 entries, 0 to 4\n",
            "Data columns (total 4 columns):\n",
            " #   Column  Non-Null Count  Dtype \n",
            "---  ------  --------------  ----- \n",
            " 0   번호      5 non-null      int64 \n",
            " 1   이름      5 non-null      object\n",
            " 2   나이      5 non-null      int64 \n",
            " 3   키       5 non-null      int64 \n",
            "dtypes: int64(3), object(1)\n",
            "memory usage: 288.0+ bytes\n"
          ],
          "name": "stdout"
        }
      ]
    },
    {
      "cell_type": "code",
      "metadata": {
        "colab": {
          "base_uri": "https://localhost:8080/"
        },
        "id": "X65HzXyGYR2Z",
        "outputId": "03693b09-2cf8-44f7-fe20-ef830673aff6"
      },
      "source": [
        "df.dtypes"
      ],
      "execution_count": 22,
      "outputs": [
        {
          "output_type": "execute_result",
          "data": {
            "text/plain": [
              "번호     int64\n",
              "이름    object\n",
              "나이     int64\n",
              "키      int64\n",
              "dtype: object"
            ]
          },
          "metadata": {
            "tags": []
          },
          "execution_count": 22
        }
      ]
    },
    {
      "cell_type": "code",
      "metadata": {
        "colab": {
          "base_uri": "https://localhost:8080/"
        },
        "id": "6qpjiwYrYyWo",
        "outputId": "213655e4-c159-4401-d92c-3040a530ec7c"
      },
      "source": [
        "df.values.reshape(-1,2)"
      ],
      "execution_count": 24,
      "outputs": [
        {
          "output_type": "execute_result",
          "data": {
            "text/plain": [
              "array([[1, '김윤석'],\n",
              "       [24, 174],\n",
              "       [2, '나문희'],\n",
              "       [43, 162],\n",
              "       [3, '정준하'],\n",
              "       [36, 186],\n",
              "       [4, '장동건'],\n",
              "       [31, 177],\n",
              "       [5, '김혜수'],\n",
              "       [27, 169]], dtype=object)"
            ]
          },
          "metadata": {
            "tags": []
          },
          "execution_count": 24
        }
      ]
    },
    {
      "cell_type": "code",
      "metadata": {
        "colab": {
          "base_uri": "https://localhost:8080/",
          "height": 363
        },
        "id": "ZJNZ-5KBY5c6",
        "outputId": "5f80ee00-45a8-476a-ab80-5bb0ee0ce5bb"
      },
      "source": [
        "aaa=pd.DataFrame(df.values.reshape(-1,2))\n",
        "aaa"
      ],
      "execution_count": 25,
      "outputs": [
        {
          "output_type": "execute_result",
          "data": {
            "text/html": [
              "<div>\n",
              "<style scoped>\n",
              "    .dataframe tbody tr th:only-of-type {\n",
              "        vertical-align: middle;\n",
              "    }\n",
              "\n",
              "    .dataframe tbody tr th {\n",
              "        vertical-align: top;\n",
              "    }\n",
              "\n",
              "    .dataframe thead th {\n",
              "        text-align: right;\n",
              "    }\n",
              "</style>\n",
              "<table border=\"1\" class=\"dataframe\">\n",
              "  <thead>\n",
              "    <tr style=\"text-align: right;\">\n",
              "      <th></th>\n",
              "      <th>0</th>\n",
              "      <th>1</th>\n",
              "    </tr>\n",
              "  </thead>\n",
              "  <tbody>\n",
              "    <tr>\n",
              "      <th>0</th>\n",
              "      <td>1</td>\n",
              "      <td>김윤석</td>\n",
              "    </tr>\n",
              "    <tr>\n",
              "      <th>1</th>\n",
              "      <td>24</td>\n",
              "      <td>174</td>\n",
              "    </tr>\n",
              "    <tr>\n",
              "      <th>2</th>\n",
              "      <td>2</td>\n",
              "      <td>나문희</td>\n",
              "    </tr>\n",
              "    <tr>\n",
              "      <th>3</th>\n",
              "      <td>43</td>\n",
              "      <td>162</td>\n",
              "    </tr>\n",
              "    <tr>\n",
              "      <th>4</th>\n",
              "      <td>3</td>\n",
              "      <td>정준하</td>\n",
              "    </tr>\n",
              "    <tr>\n",
              "      <th>5</th>\n",
              "      <td>36</td>\n",
              "      <td>186</td>\n",
              "    </tr>\n",
              "    <tr>\n",
              "      <th>6</th>\n",
              "      <td>4</td>\n",
              "      <td>장동건</td>\n",
              "    </tr>\n",
              "    <tr>\n",
              "      <th>7</th>\n",
              "      <td>31</td>\n",
              "      <td>177</td>\n",
              "    </tr>\n",
              "    <tr>\n",
              "      <th>8</th>\n",
              "      <td>5</td>\n",
              "      <td>김혜수</td>\n",
              "    </tr>\n",
              "    <tr>\n",
              "      <th>9</th>\n",
              "      <td>27</td>\n",
              "      <td>169</td>\n",
              "    </tr>\n",
              "  </tbody>\n",
              "</table>\n",
              "</div>"
            ],
            "text/plain": [
              "    0    1\n",
              "0   1  김윤석\n",
              "1  24  174\n",
              "2   2  나문희\n",
              "3  43  162\n",
              "4   3  정준하\n",
              "5  36  186\n",
              "6   4  장동건\n",
              "7  31  177\n",
              "8   5  김혜수\n",
              "9  27  169"
            ]
          },
          "metadata": {
            "tags": []
          },
          "execution_count": 25
        }
      ]
    },
    {
      "cell_type": "code",
      "metadata": {
        "colab": {
          "base_uri": "https://localhost:8080/"
        },
        "id": "R9U6zz9IZB7p",
        "outputId": "b6ab118a-74e5-4d71-d2e0-478cd11bec08"
      },
      "source": [
        "word = '홍길동'.encode('utf-8')\n",
        "word"
      ],
      "execution_count": 28,
      "outputs": [
        {
          "output_type": "execute_result",
          "data": {
            "text/plain": [
              "b'\\xed\\x99\\x8d\\xea\\xb8\\xb8\\xeb\\x8f\\x99'"
            ]
          },
          "metadata": {
            "tags": []
          },
          "execution_count": 28
        }
      ]
    },
    {
      "cell_type": "code",
      "metadata": {
        "colab": {
          "base_uri": "https://localhost:8080/",
          "height": 36
        },
        "id": "zdGPz4zAZZei",
        "outputId": "a1bc9cb8-4160-40e5-c729-cf1c0bd3abb4"
      },
      "source": [
        "word.decode('utf-8')"
      ],
      "execution_count": 29,
      "outputs": [
        {
          "output_type": "execute_result",
          "data": {
            "application/vnd.google.colaboratory.intrinsic+json": {
              "type": "string"
            },
            "text/plain": [
              "'홍길동'"
            ]
          },
          "metadata": {
            "tags": []
          },
          "execution_count": 29
        }
      ]
    },
    {
      "cell_type": "code",
      "metadata": {
        "colab": {
          "base_uri": "https://localhost:8080/"
        },
        "id": "PYrfVOouaRKq",
        "outputId": "1b04ffd1-cfae-4e67-dcee-9088fcbd4e93"
      },
      "source": [
        "a='abc'\n",
        "dir(a)\n",
        "help(a.upper)"
      ],
      "execution_count": 31,
      "outputs": [
        {
          "output_type": "stream",
          "text": [
            "Help on built-in function upper:\n",
            "\n",
            "upper() method of builtins.str instance\n",
            "    Return a copy of the string converted to uppercase.\n",
            "\n"
          ],
          "name": "stdout"
        }
      ]
    },
    {
      "cell_type": "code",
      "metadata": {
        "id": "Spe5SEWWbpLL"
      },
      "source": [
        "import pickle\n",
        "data = ['a','b','c']\n",
        "with open('list.txt','wb') as f:\n",
        "    pickle.dump(data,f)"
      ],
      "execution_count": 32,
      "outputs": []
    },
    {
      "cell_type": "code",
      "metadata": {
        "colab": {
          "base_uri": "https://localhost:8080/"
        },
        "id": "kfRFln4Ab4GR",
        "outputId": "5be78013-5331-4df2-d861-60bc39cf5bed"
      },
      "source": [
        "with open('list.txt', 'rb') as f:\n",
        "    data=pickle.load(f)\n",
        "data"
      ],
      "execution_count": 33,
      "outputs": [
        {
          "output_type": "execute_result",
          "data": {
            "text/plain": [
              "['a', 'b', 'c']"
            ]
          },
          "metadata": {
            "tags": []
          },
          "execution_count": 33
        }
      ]
    },
    {
      "cell_type": "markdown",
      "metadata": {
        "id": "pjhJ_xqUcixK"
      },
      "source": [
        "# numpy"
      ]
    },
    {
      "cell_type": "code",
      "metadata": {
        "colab": {
          "base_uri": "https://localhost:8080/"
        },
        "id": "wrffU-mXck4x",
        "outputId": "e709e26b-84ad-4d7d-803e-2b14b21041b2"
      },
      "source": [
        "import numpy as np\n",
        "\n",
        "a=np.array([1,2,3,4])\n",
        "b=np.zeros((3,3)); print(b)\n",
        "c=np.ones((3,4)); print(c)\n",
        "d=np.full((2,2),7); print(d)\n",
        "e=np.eye(3,3); print(e)\n",
        "f=np.random.random((2,2)); print(f)\n",
        "# f=np.random.randint((20,20)); print(f)\n",
        "g=np.arange(5); print(g)\n",
        "# dir(np.random)"
      ],
      "execution_count": 52,
      "outputs": [
        {
          "output_type": "stream",
          "text": [
            "[[0. 0. 0.]\n",
            " [0. 0. 0.]\n",
            " [0. 0. 0.]]\n",
            "[[1. 1. 1. 1.]\n",
            " [1. 1. 1. 1.]\n",
            " [1. 1. 1. 1.]]\n",
            "[[7 7]\n",
            " [7 7]]\n",
            "[[1. 0. 0.]\n",
            " [0. 1. 0.]\n",
            " [0. 0. 1.]]\n",
            "[[0.01447161 0.33524486]\n",
            " [0.92808611 0.70897338]]\n",
            "[0 1 2 3 4]\n"
          ],
          "name": "stdout"
        }
      ]
    },
    {
      "cell_type": "code",
      "metadata": {
        "colab": {
          "base_uri": "https://localhost:8080/"
        },
        "id": "WZmpwCtPdqKR",
        "outputId": "74607f29-f43b-4abf-f07d-f02c107703c5"
      },
      "source": [
        "import math\n",
        "a=np.array([math.e,2,3])\n",
        "print(np.sqrt(a))\n",
        "print(np.log(a))\n",
        "print(np.ceil(a))\n",
        "print(np.rint(a))"
      ],
      "execution_count": 53,
      "outputs": [
        {
          "output_type": "stream",
          "text": [
            "[1.64872127 1.41421356 1.73205081]\n",
            "[1.         0.69314718 1.09861229]\n",
            "[3. 2. 3.]\n",
            "[3. 2. 3.]\n"
          ],
          "name": "stdout"
        }
      ]
    },
    {
      "cell_type": "code",
      "metadata": {
        "id": "ZcaGt4kTeatZ"
      },
      "source": [
        "# 평균값, 중앙값으로 대치\n",
        "# df.loc[19,'Leaflets'] = df['Leaflets'].mean() # 평균값으로 \n",
        "# df.loc[19,'Leaflets'] = df['Leaflets'].median # 중앙값으로"
      ],
      "execution_count": 55,
      "outputs": []
    },
    {
      "cell_type": "code",
      "metadata": {
        "colab": {
          "base_uri": "https://localhost:8080/"
        },
        "id": "RJIqHWpqfUfJ",
        "outputId": "f2c1bc1c-0b8d-46e1-f19d-eeb2f5a98d0a"
      },
      "source": [
        "help(df.drop_duplicates)"
      ],
      "execution_count": 57,
      "outputs": [
        {
          "output_type": "stream",
          "text": [
            "Help on method drop_duplicates in module pandas.core.frame:\n",
            "\n",
            "drop_duplicates(subset: Union[Hashable, Sequence[Hashable], NoneType] = None, keep: Union[str, bool] = 'first', inplace: bool = False, ignore_index: bool = False) -> Union[ForwardRef('DataFrame'), NoneType] method of pandas.core.frame.DataFrame instance\n",
            "    Return DataFrame with duplicate rows removed.\n",
            "    \n",
            "    Considering certain columns is optional. Indexes, including time indexes\n",
            "    are ignored.\n",
            "    \n",
            "    Parameters\n",
            "    ----------\n",
            "    subset : column label or sequence of labels, optional\n",
            "        Only consider certain columns for identifying duplicates, by\n",
            "        default use all of the columns.\n",
            "    keep : {'first', 'last', False}, default 'first'\n",
            "        Determines which duplicates (if any) to keep.\n",
            "        - ``first`` : Drop duplicates except for the first occurrence.\n",
            "        - ``last`` : Drop duplicates except for the last occurrence.\n",
            "        - False : Drop all duplicates.\n",
            "    inplace : bool, default False\n",
            "        Whether to drop duplicates in place or to return a copy.\n",
            "    ignore_index : bool, default False\n",
            "        If True, the resulting axis will be labeled 0, 1, …, n - 1.\n",
            "    \n",
            "        .. versionadded:: 1.0.0\n",
            "    \n",
            "    Returns\n",
            "    -------\n",
            "    DataFrame\n",
            "        DataFrame with duplicates removed or None if ``inplace=True``.\n",
            "    \n",
            "    See Also\n",
            "    --------\n",
            "    DataFrame.value_counts: Count unique combinations of columns.\n",
            "    \n",
            "    Examples\n",
            "    --------\n",
            "    Consider dataset containing ramen rating.\n",
            "    \n",
            "    >>> df = pd.DataFrame({\n",
            "    ...     'brand': ['Yum Yum', 'Yum Yum', 'Indomie', 'Indomie', 'Indomie'],\n",
            "    ...     'style': ['cup', 'cup', 'cup', 'pack', 'pack'],\n",
            "    ...     'rating': [4, 4, 3.5, 15, 5]\n",
            "    ... })\n",
            "    >>> df\n",
            "        brand style  rating\n",
            "    0  Yum Yum   cup     4.0\n",
            "    1  Yum Yum   cup     4.0\n",
            "    2  Indomie   cup     3.5\n",
            "    3  Indomie  pack    15.0\n",
            "    4  Indomie  pack     5.0\n",
            "    \n",
            "    By default, it removes duplicate rows based on all columns.\n",
            "    \n",
            "    >>> df.drop_duplicates()\n",
            "        brand style  rating\n",
            "    0  Yum Yum   cup     4.0\n",
            "    2  Indomie   cup     3.5\n",
            "    3  Indomie  pack    15.0\n",
            "    4  Indomie  pack     5.0\n",
            "    \n",
            "    To remove duplicates on specific column(s), use ``subset``.\n",
            "    \n",
            "    >>> df.drop_duplicates(subset=['brand'])\n",
            "        brand style  rating\n",
            "    0  Yum Yum   cup     4.0\n",
            "    2  Indomie   cup     3.5\n",
            "    \n",
            "    To remove duplicates and keep last occurences, use ``keep``.\n",
            "    \n",
            "    >>> df.drop_duplicates(subset=['brand', 'style'], keep='last')\n",
            "        brand style  rating\n",
            "    1  Yum Yum   cup     4.0\n",
            "    2  Indomie   cup     3.5\n",
            "    4  Indomie  pack     5.0\n",
            "\n"
          ],
          "name": "stdout"
        }
      ]
    },
    {
      "cell_type": "markdown",
      "metadata": {
        "id": "4NEZuIN4fh8B"
      },
      "source": [
        "\n",
        "#문자를 변수명으로 사용하기\n",
        "\n",
        "```\n",
        "# 중요 - For loop에 쓸 수 있는 좋은 함수\n",
        "# var()은 문자열에 변수를 담을 때 사용하고,\n",
        "# locals()는 문자열을 변수로 인식하여 method를 사용할 수 있다.\n",
        "\n",
        "vars()['df_{}_{}'.format(19, 4)] = pd.read_excel('./data/{}({}).xlsx'.format(19, 4))\n",
        "# 'df_19_4'라는 문자열을 df_19_4라는 변수로 만들고, 여기에 19(4).xlsx를 담음\n",
        "\n",
        "dfl = 'df_19_4'\n",
        "locals()[dfl].columns\n",
        "# 'df_19_4'라는 문자열을 변수화하고,columns method를 조회\n",
        "```\n",
        "\n"
      ]
    },
    {
      "cell_type": "code",
      "metadata": {
        "colab": {
          "base_uri": "https://localhost:8080/",
          "height": 238
        },
        "id": "CermHBobmJLQ",
        "outputId": "9427b4ee-f522-44bc-b57c-e0f647bc6c9c"
      },
      "source": [
        "# 다중 인덱스\n",
        "np.random.seed(0)\n",
        "df3 = pd.DataFrame(np.round(np.random.randn(5, 4), 2),\n",
        "                   columns=[[\"A\", \"A\", \"B\", \"B\"],\n",
        "                            [\"C1\", \"C2\", \"C1\", \"C2\"]])\n",
        "df3"
      ],
      "execution_count": 62,
      "outputs": [
        {
          "output_type": "execute_result",
          "data": {
            "text/html": [
              "<div>\n",
              "<style scoped>\n",
              "    .dataframe tbody tr th:only-of-type {\n",
              "        vertical-align: middle;\n",
              "    }\n",
              "\n",
              "    .dataframe tbody tr th {\n",
              "        vertical-align: top;\n",
              "    }\n",
              "\n",
              "    .dataframe thead tr th {\n",
              "        text-align: left;\n",
              "    }\n",
              "</style>\n",
              "<table border=\"1\" class=\"dataframe\">\n",
              "  <thead>\n",
              "    <tr>\n",
              "      <th></th>\n",
              "      <th colspan=\"2\" halign=\"left\">A</th>\n",
              "      <th colspan=\"2\" halign=\"left\">B</th>\n",
              "    </tr>\n",
              "    <tr>\n",
              "      <th></th>\n",
              "      <th>C1</th>\n",
              "      <th>C2</th>\n",
              "      <th>C1</th>\n",
              "      <th>C2</th>\n",
              "    </tr>\n",
              "  </thead>\n",
              "  <tbody>\n",
              "    <tr>\n",
              "      <th>0</th>\n",
              "      <td>1.76</td>\n",
              "      <td>0.40</td>\n",
              "      <td>0.98</td>\n",
              "      <td>2.24</td>\n",
              "    </tr>\n",
              "    <tr>\n",
              "      <th>1</th>\n",
              "      <td>1.87</td>\n",
              "      <td>-0.98</td>\n",
              "      <td>0.95</td>\n",
              "      <td>-0.15</td>\n",
              "    </tr>\n",
              "    <tr>\n",
              "      <th>2</th>\n",
              "      <td>-0.10</td>\n",
              "      <td>0.41</td>\n",
              "      <td>0.14</td>\n",
              "      <td>1.45</td>\n",
              "    </tr>\n",
              "    <tr>\n",
              "      <th>3</th>\n",
              "      <td>0.76</td>\n",
              "      <td>0.12</td>\n",
              "      <td>0.44</td>\n",
              "      <td>0.33</td>\n",
              "    </tr>\n",
              "    <tr>\n",
              "      <th>4</th>\n",
              "      <td>1.49</td>\n",
              "      <td>-0.21</td>\n",
              "      <td>0.31</td>\n",
              "      <td>-0.85</td>\n",
              "    </tr>\n",
              "  </tbody>\n",
              "</table>\n",
              "</div>"
            ],
            "text/plain": [
              "      A           B      \n",
              "     C1    C2    C1    C2\n",
              "0  1.76  0.40  0.98  2.24\n",
              "1  1.87 -0.98  0.95 -0.15\n",
              "2 -0.10  0.41  0.14  1.45\n",
              "3  0.76  0.12  0.44  0.33\n",
              "4  1.49 -0.21  0.31 -0.85"
            ]
          },
          "metadata": {
            "tags": []
          },
          "execution_count": 62
        }
      ]
    },
    {
      "cell_type": "markdown",
      "metadata": {
        "id": "TeWFWhknmpJo"
      },
      "source": [
        "# 다중 인덱스를 단일 인덱스로 바꾸기\n",
        "```\n",
        "# 인덱스(행방향)가 다중일 때 : reset_index()를 사용한다 -- 끝\n",
        "# 컬럼명(열방향)이 다중일 때\n",
        "level0 = df.columns.get_level_values(0)\n",
        "level1 = df.columns.get_level_values(1)\n",
        "df.columns = level0 + '_' + level1\n",
        "```"
      ]
    },
    {
      "cell_type": "code",
      "metadata": {
        "colab": {
          "base_uri": "https://localhost:8080/"
        },
        "id": "c1C1Ky9SnDfR",
        "outputId": "b3a27f88-3548-4b61-db42-6e6817b8e658"
      },
      "source": [
        "# 다중인덱스에 이름 붙이기\n",
        "df3.columns.names = [\"Cidx1\", \"Cidx2\"]\n",
        "df3\n",
        "# 상위 레벨에서 조회\n",
        "df3[(\"B\", \"C1\")]\n",
        "df3.loc[0, (\"B\", \"C1\")]  # 0.98\n",
        "\n",
        "# iloc는 가장 하위 레벨에서 조회함\n",
        "df3.iloc[0,2] # 0.98"
      ],
      "execution_count": 63,
      "outputs": [
        {
          "output_type": "execute_result",
          "data": {
            "text/plain": [
              "0.98"
            ]
          },
          "metadata": {
            "tags": []
          },
          "execution_count": 63
        }
      ]
    },
    {
      "cell_type": "code",
      "metadata": {
        "colab": {
          "base_uri": "https://localhost:8080/",
          "height": 300
        },
        "id": "kyxJ79H_ng-x",
        "outputId": "738bbbf5-8676-4966-d5c6-e05d95dca472"
      },
      "source": [
        "# 다중 행 인덱스 + 이름 붙이기\n",
        "np.random.seed(0)\n",
        "df4 = pd.DataFrame(np.round(np.random.randn(6, 4), 2),\n",
        "                   columns=[[\"A\", \"A\", \"B\", \"B\"],\n",
        "                            [\"C\", \"D\", \"C\", \"D\"]],\n",
        "                   index=[[\"M\", \"M\", \"M\", \"F\", \"F\", \"F\"],\n",
        "                          [\"id_\" + str(i + 1) for i in range(3)] * 2])\n",
        "df4.columns.names = [\"Cidx1\", \"Cidx2\"]\n",
        "df4.index.names = [\"Ridx1\", \"Ridx2\"]\n",
        "df4"
      ],
      "execution_count": 64,
      "outputs": [
        {
          "output_type": "execute_result",
          "data": {
            "text/html": [
              "<div>\n",
              "<style scoped>\n",
              "    .dataframe tbody tr th:only-of-type {\n",
              "        vertical-align: middle;\n",
              "    }\n",
              "\n",
              "    .dataframe tbody tr th {\n",
              "        vertical-align: top;\n",
              "    }\n",
              "\n",
              "    .dataframe thead tr th {\n",
              "        text-align: left;\n",
              "    }\n",
              "\n",
              "    .dataframe thead tr:last-of-type th {\n",
              "        text-align: right;\n",
              "    }\n",
              "</style>\n",
              "<table border=\"1\" class=\"dataframe\">\n",
              "  <thead>\n",
              "    <tr>\n",
              "      <th></th>\n",
              "      <th>Cidx1</th>\n",
              "      <th colspan=\"2\" halign=\"left\">A</th>\n",
              "      <th colspan=\"2\" halign=\"left\">B</th>\n",
              "    </tr>\n",
              "    <tr>\n",
              "      <th></th>\n",
              "      <th>Cidx2</th>\n",
              "      <th>C</th>\n",
              "      <th>D</th>\n",
              "      <th>C</th>\n",
              "      <th>D</th>\n",
              "    </tr>\n",
              "    <tr>\n",
              "      <th>Ridx1</th>\n",
              "      <th>Ridx2</th>\n",
              "      <th></th>\n",
              "      <th></th>\n",
              "      <th></th>\n",
              "      <th></th>\n",
              "    </tr>\n",
              "  </thead>\n",
              "  <tbody>\n",
              "    <tr>\n",
              "      <th rowspan=\"3\" valign=\"top\">M</th>\n",
              "      <th>id_1</th>\n",
              "      <td>1.76</td>\n",
              "      <td>0.40</td>\n",
              "      <td>0.98</td>\n",
              "      <td>2.24</td>\n",
              "    </tr>\n",
              "    <tr>\n",
              "      <th>id_2</th>\n",
              "      <td>1.87</td>\n",
              "      <td>-0.98</td>\n",
              "      <td>0.95</td>\n",
              "      <td>-0.15</td>\n",
              "    </tr>\n",
              "    <tr>\n",
              "      <th>id_3</th>\n",
              "      <td>-0.10</td>\n",
              "      <td>0.41</td>\n",
              "      <td>0.14</td>\n",
              "      <td>1.45</td>\n",
              "    </tr>\n",
              "    <tr>\n",
              "      <th rowspan=\"3\" valign=\"top\">F</th>\n",
              "      <th>id_1</th>\n",
              "      <td>0.76</td>\n",
              "      <td>0.12</td>\n",
              "      <td>0.44</td>\n",
              "      <td>0.33</td>\n",
              "    </tr>\n",
              "    <tr>\n",
              "      <th>id_2</th>\n",
              "      <td>1.49</td>\n",
              "      <td>-0.21</td>\n",
              "      <td>0.31</td>\n",
              "      <td>-0.85</td>\n",
              "    </tr>\n",
              "    <tr>\n",
              "      <th>id_3</th>\n",
              "      <td>-2.55</td>\n",
              "      <td>0.65</td>\n",
              "      <td>0.86</td>\n",
              "      <td>-0.74</td>\n",
              "    </tr>\n",
              "  </tbody>\n",
              "</table>\n",
              "</div>"
            ],
            "text/plain": [
              "Cidx1           A           B      \n",
              "Cidx2           C     D     C     D\n",
              "Ridx1 Ridx2                        \n",
              "M     id_1   1.76  0.40  0.98  2.24\n",
              "      id_2   1.87 -0.98  0.95 -0.15\n",
              "      id_3  -0.10  0.41  0.14  1.45\n",
              "F     id_1   0.76  0.12  0.44  0.33\n",
              "      id_2   1.49 -0.21  0.31 -0.85\n",
              "      id_3  -2.55  0.65  0.86 -0.74"
            ]
          },
          "metadata": {
            "tags": []
          },
          "execution_count": 64
        }
      ]
    },
    {
      "cell_type": "code",
      "metadata": {
        "colab": {
          "base_uri": "https://localhost:8080/",
          "height": 300
        },
        "id": "xBvOOejlnj7P",
        "outputId": "5106aec7-93c1-4109-f17d-53320a761754"
      },
      "source": [
        "\n",
        "\n",
        "# 다중 인덱스의 인덱스 순서(레벨) 교체 \n",
        "# swaplevel(i, j, axis)\n",
        "df5 = df4.swaplevel(\"Ridx1\", \"Ridx2\", 0) ; df5\n",
        "\n"
      ],
      "execution_count": 65,
      "outputs": [
        {
          "output_type": "execute_result",
          "data": {
            "text/html": [
              "<div>\n",
              "<style scoped>\n",
              "    .dataframe tbody tr th:only-of-type {\n",
              "        vertical-align: middle;\n",
              "    }\n",
              "\n",
              "    .dataframe tbody tr th {\n",
              "        vertical-align: top;\n",
              "    }\n",
              "\n",
              "    .dataframe thead tr th {\n",
              "        text-align: left;\n",
              "    }\n",
              "\n",
              "    .dataframe thead tr:last-of-type th {\n",
              "        text-align: right;\n",
              "    }\n",
              "</style>\n",
              "<table border=\"1\" class=\"dataframe\">\n",
              "  <thead>\n",
              "    <tr>\n",
              "      <th></th>\n",
              "      <th>Cidx1</th>\n",
              "      <th colspan=\"2\" halign=\"left\">A</th>\n",
              "      <th colspan=\"2\" halign=\"left\">B</th>\n",
              "    </tr>\n",
              "    <tr>\n",
              "      <th></th>\n",
              "      <th>Cidx2</th>\n",
              "      <th>C</th>\n",
              "      <th>D</th>\n",
              "      <th>C</th>\n",
              "      <th>D</th>\n",
              "    </tr>\n",
              "    <tr>\n",
              "      <th>Ridx2</th>\n",
              "      <th>Ridx1</th>\n",
              "      <th></th>\n",
              "      <th></th>\n",
              "      <th></th>\n",
              "      <th></th>\n",
              "    </tr>\n",
              "  </thead>\n",
              "  <tbody>\n",
              "    <tr>\n",
              "      <th>id_1</th>\n",
              "      <th>M</th>\n",
              "      <td>1.76</td>\n",
              "      <td>0.40</td>\n",
              "      <td>0.98</td>\n",
              "      <td>2.24</td>\n",
              "    </tr>\n",
              "    <tr>\n",
              "      <th>id_2</th>\n",
              "      <th>M</th>\n",
              "      <td>1.87</td>\n",
              "      <td>-0.98</td>\n",
              "      <td>0.95</td>\n",
              "      <td>-0.15</td>\n",
              "    </tr>\n",
              "    <tr>\n",
              "      <th>id_3</th>\n",
              "      <th>M</th>\n",
              "      <td>-0.10</td>\n",
              "      <td>0.41</td>\n",
              "      <td>0.14</td>\n",
              "      <td>1.45</td>\n",
              "    </tr>\n",
              "    <tr>\n",
              "      <th>id_1</th>\n",
              "      <th>F</th>\n",
              "      <td>0.76</td>\n",
              "      <td>0.12</td>\n",
              "      <td>0.44</td>\n",
              "      <td>0.33</td>\n",
              "    </tr>\n",
              "    <tr>\n",
              "      <th>id_2</th>\n",
              "      <th>F</th>\n",
              "      <td>1.49</td>\n",
              "      <td>-0.21</td>\n",
              "      <td>0.31</td>\n",
              "      <td>-0.85</td>\n",
              "    </tr>\n",
              "    <tr>\n",
              "      <th>id_3</th>\n",
              "      <th>F</th>\n",
              "      <td>-2.55</td>\n",
              "      <td>0.65</td>\n",
              "      <td>0.86</td>\n",
              "      <td>-0.74</td>\n",
              "    </tr>\n",
              "  </tbody>\n",
              "</table>\n",
              "</div>"
            ],
            "text/plain": [
              "Cidx1           A           B      \n",
              "Cidx2           C     D     C     D\n",
              "Ridx2 Ridx1                        \n",
              "id_1  M      1.76  0.40  0.98  2.24\n",
              "id_2  M      1.87 -0.98  0.95 -0.15\n",
              "id_3  M     -0.10  0.41  0.14  1.45\n",
              "id_1  F      0.76  0.12  0.44  0.33\n",
              "id_2  F      1.49 -0.21  0.31 -0.85\n",
              "id_3  F     -2.55  0.65  0.86 -0.74"
            ]
          },
          "metadata": {
            "tags": []
          },
          "execution_count": 65
        }
      ]
    },
    {
      "cell_type": "markdown",
      "metadata": {
        "id": "l_VnnCn7oUqQ"
      },
      "source": [
        "# Stack, Unstack"
      ]
    },
    {
      "cell_type": "code",
      "metadata": {
        "colab": {
          "base_uri": "https://localhost:8080/",
          "height": 457
        },
        "id": "TfU6m2TFn8A5",
        "outputId": "446bd38f-1db4-4549-fef7-4c9ec4b153bc"
      },
      "source": [
        "\n",
        "\n",
        "# 행 인덱스 -> 열 인덱스 : stack()\n",
        "df4.stack() # 가장 안쪽 인덱스가 stack 됨\n",
        "df4.stack(\"Cidx1\") # 특정 인덱스를 stack\n",
        "# df4.stack(1) # 번호로 특정(바깥부터 0, 1... -1)\n",
        "\n",
        "# # 열 인덱스 -> 행 인덱스 : unstack()\n",
        "# df4.unstack() # 가장 안쪽 인덱스가 unstack 됨\n",
        "# df4.unstack(\"Ridx2\") # 특정 인덱스를 unstack\n",
        "# df4.unstack(0) # 번호로 특정(바깥부터 0, 1... -1)"
      ],
      "execution_count": 69,
      "outputs": [
        {
          "output_type": "execute_result",
          "data": {
            "text/html": [
              "<div>\n",
              "<style scoped>\n",
              "    .dataframe tbody tr th:only-of-type {\n",
              "        vertical-align: middle;\n",
              "    }\n",
              "\n",
              "    .dataframe tbody tr th {\n",
              "        vertical-align: top;\n",
              "    }\n",
              "\n",
              "    .dataframe thead th {\n",
              "        text-align: right;\n",
              "    }\n",
              "</style>\n",
              "<table border=\"1\" class=\"dataframe\">\n",
              "  <thead>\n",
              "    <tr style=\"text-align: right;\">\n",
              "      <th></th>\n",
              "      <th></th>\n",
              "      <th>Cidx2</th>\n",
              "      <th>C</th>\n",
              "      <th>D</th>\n",
              "    </tr>\n",
              "    <tr>\n",
              "      <th>Ridx1</th>\n",
              "      <th>Ridx2</th>\n",
              "      <th>Cidx1</th>\n",
              "      <th></th>\n",
              "      <th></th>\n",
              "    </tr>\n",
              "  </thead>\n",
              "  <tbody>\n",
              "    <tr>\n",
              "      <th rowspan=\"6\" valign=\"top\">M</th>\n",
              "      <th rowspan=\"2\" valign=\"top\">id_1</th>\n",
              "      <th>A</th>\n",
              "      <td>1.76</td>\n",
              "      <td>0.40</td>\n",
              "    </tr>\n",
              "    <tr>\n",
              "      <th>B</th>\n",
              "      <td>0.98</td>\n",
              "      <td>2.24</td>\n",
              "    </tr>\n",
              "    <tr>\n",
              "      <th rowspan=\"2\" valign=\"top\">id_2</th>\n",
              "      <th>A</th>\n",
              "      <td>1.87</td>\n",
              "      <td>-0.98</td>\n",
              "    </tr>\n",
              "    <tr>\n",
              "      <th>B</th>\n",
              "      <td>0.95</td>\n",
              "      <td>-0.15</td>\n",
              "    </tr>\n",
              "    <tr>\n",
              "      <th rowspan=\"2\" valign=\"top\">id_3</th>\n",
              "      <th>A</th>\n",
              "      <td>-0.10</td>\n",
              "      <td>0.41</td>\n",
              "    </tr>\n",
              "    <tr>\n",
              "      <th>B</th>\n",
              "      <td>0.14</td>\n",
              "      <td>1.45</td>\n",
              "    </tr>\n",
              "    <tr>\n",
              "      <th rowspan=\"6\" valign=\"top\">F</th>\n",
              "      <th rowspan=\"2\" valign=\"top\">id_1</th>\n",
              "      <th>A</th>\n",
              "      <td>0.76</td>\n",
              "      <td>0.12</td>\n",
              "    </tr>\n",
              "    <tr>\n",
              "      <th>B</th>\n",
              "      <td>0.44</td>\n",
              "      <td>0.33</td>\n",
              "    </tr>\n",
              "    <tr>\n",
              "      <th rowspan=\"2\" valign=\"top\">id_2</th>\n",
              "      <th>A</th>\n",
              "      <td>1.49</td>\n",
              "      <td>-0.21</td>\n",
              "    </tr>\n",
              "    <tr>\n",
              "      <th>B</th>\n",
              "      <td>0.31</td>\n",
              "      <td>-0.85</td>\n",
              "    </tr>\n",
              "    <tr>\n",
              "      <th rowspan=\"2\" valign=\"top\">id_3</th>\n",
              "      <th>A</th>\n",
              "      <td>-2.55</td>\n",
              "      <td>0.65</td>\n",
              "    </tr>\n",
              "    <tr>\n",
              "      <th>B</th>\n",
              "      <td>0.86</td>\n",
              "      <td>-0.74</td>\n",
              "    </tr>\n",
              "  </tbody>\n",
              "</table>\n",
              "</div>"
            ],
            "text/plain": [
              "Cidx2                 C     D\n",
              "Ridx1 Ridx2 Cidx1            \n",
              "M     id_1  A      1.76  0.40\n",
              "            B      0.98  2.24\n",
              "      id_2  A      1.87 -0.98\n",
              "            B      0.95 -0.15\n",
              "      id_3  A     -0.10  0.41\n",
              "            B      0.14  1.45\n",
              "F     id_1  A      0.76  0.12\n",
              "            B      0.44  0.33\n",
              "      id_2  A      1.49 -0.21\n",
              "            B      0.31 -0.85\n",
              "      id_3  A     -2.55  0.65\n",
              "            B      0.86 -0.74"
            ]
          },
          "metadata": {
            "tags": []
          },
          "execution_count": 69
        }
      ]
    },
    {
      "cell_type": "markdown",
      "metadata": {
        "id": "PRqeppfApB94"
      },
      "source": [
        "#Apply , map\n",
        "```\n",
        "# apply, map 함수\n",
        "\n",
        "# map은 Dataframe Series의 값 하나하나에 함수를 적용할 때 사용\n",
        "df['B']  = df['A'].map(lambda x : my_func(x)) # x는 df['A']의 값\n",
        "\n",
        "# apply는 Datafram 각 행의 여러 컬럼에 함수를 적용할 때 사용\n",
        "df['C'] = df.apply(lambda x: my_func(x['A'], x['B']), axis=1)\n",
        "# x는 df의 각 행, A, B는 컬럼\n",
        "```\n",
        "* 하지만 느리니까 꼭 필요할 때만 사용"
      ]
    }
  ]
}