{
  "nbformat": 4,
  "nbformat_minor": 0,
  "metadata": {
    "colab": {
      "name": "빅분기 실기 연습.ipynb",
      "provenance": [],
      "collapsed_sections": [],
      "authorship_tag": "ABX9TyNa2NCasc8O/rhYUCqA3XXU",
      "include_colab_link": true
    },
    "kernelspec": {
      "name": "python3",
      "display_name": "Python 3"
    },
    "language_info": {
      "name": "python"
    }
  },
  "cells": [
    {
      "cell_type": "markdown",
      "metadata": {
        "id": "view-in-github",
        "colab_type": "text"
      },
      "source": [
        "<a href=\"https://colab.research.google.com/github/kim-hyun-ho/study/blob/main/%EB%B9%85%EB%B6%84%EA%B8%B0_%EC%8B%A4%EA%B8%B0_%EC%97%B0%EC%8A%B5.ipynb\" target=\"_parent\"><img src=\"https://colab.research.google.com/assets/colab-badge.svg\" alt=\"Open In Colab\"/></a>"
      ]
    },
    {
      "cell_type": "code",
      "metadata": {
        "id": "KCCZ9_d62ndf"
      },
      "source": [
        "import pandas as pd\n",
        "import numpy as np\n",
        "import matplotlib.pyplot as plt\n",
        "import seaborn as sns\n",
        "import sklearn as skl"
      ],
      "execution_count": null,
      "outputs": []
    },
    {
      "cell_type": "code",
      "metadata": {
        "id": "GQwgKnqIYckU"
      },
      "source": [
        "# dir(pd.DataFrame.sort_values)\n",
        "# help(pd.DataFrame.sort_values)"
      ],
      "execution_count": null,
      "outputs": []
    },
    {
      "cell_type": "code",
      "metadata": {
        "colab": {
          "base_uri": "https://localhost:8080/",
          "height": 259
        },
        "id": "abojdX9BkDM8",
        "outputId": "aaa91f01-1c19-41a5-cd82-ee7e9c085415"
      },
      "source": [
        "x=[-3,5,7]\n",
        "y=[10,2,5]\n",
        "\n",
        "#상태기반\n",
        "plt.figure(figsize=(15,3))\n",
        "plt.plot(x,y)\n",
        "plt.xlim(0,10)\n",
        "plt.ylim(-3,8)\n",
        "plt.xlabel('X Axis')\n",
        "plt.ylabel('Y Axis')\n",
        "plt.title('Line Plot')\n",
        "plt.suptitle('Figure Title', size=20, y=1.03)"
      ],
      "execution_count": null,
      "outputs": [
        {
          "output_type": "execute_result",
          "data": {
            "text/plain": [
              "Text(0.5, 1.03, 'Figure Title')"
            ]
          },
          "metadata": {
            "tags": []
          },
          "execution_count": 15
        },
        {
          "output_type": "display_data",
          "data": {
            "image/png": "[encoded data removed]",
            "text/plain": [
              "<Figure size 1080x216 with 1 Axes>"
            ]
          },
          "metadata": {
            "tags": [],
            "needs_background": "light"
          }
        }
      ]
    },
    {
      "cell_type": "code",
      "metadata": {
        "colab": {
          "base_uri": "https://localhost:8080/",
          "height": 259
        },
        "id": "iSSnuLGWkm1S",
        "outputId": "d8dbfea0-c5e6-4223-8b76-ff96a5041dc5"
      },
      "source": [
        "fig,ax=plt.subplots(figsize=(15,3))\n",
        "ax.plot(x,y)\n",
        "ax.set_xlim(0,10)\n",
        "ax.set_ylim(-3,8)\n",
        "ax.set_xlabel('X axis')\n",
        "ax.set_ylabel('Y axis')\n",
        "ax.set_title('Line Plot')\n",
        "fig.suptitle('Figure Title',size=20, y=1.03)"
      ],
      "execution_count": null,
      "outputs": [
        {
          "output_type": "execute_result",
          "data": {
            "text/plain": [
              "Text(0.5, 1.03, 'Figure Title')"
            ]
          },
          "metadata": {
            "tags": []
          },
          "execution_count": 18
        },
        {
          "output_type": "display_data",
          "data": {
            "image/png": "[encoded data removed]",
            "text/plain": [
              "<Figure size 1080x216 with 1 Axes>"
            ]
          },
          "metadata": {
            "tags": [],
            "needs_background": "light"
          }
        }
      ]
    },
    {
      "cell_type": "code",
      "metadata": {
        "colab": {
          "base_uri": "https://localhost:8080/",
          "height": 253
        },
        "id": "F3XBo8dPk7MH",
        "outputId": "13e4d231-9f0d-49cb-d30a-5a760fe3d015"
      },
      "source": [
        "fig,ax=plt.subplots(nrows=1,ncols=1,linewidth=5,edgecolor='.5')\n",
        "fig.get_size_inches()\n",
        "fig.set_size_inches(14,4)\n",
        "fig.set_facecolor('.9')#색은 0~1의 실수\n",
        "ax.set_facecolor('.7')\n",
        "\n",
        "ax.spines['left'].set_position(('outward',-100))\n",
        "ax.spines['right'].set_linewidth(5)\n",
        "ax.spines['top'].set_visible(False)\n",
        "\n",
        "ax.xaxis.grid(True, which='major',linewidth=2, color='black', linestyle='--')\n",
        "ax.xaxis.set_ticks([.2,.4,.55,.93])\n",
        "ax.xaxis.set_label_text('X Axis', family='Verdana', fontsize=15)\n",
        "\n",
        "ax.set_ylabel('Y Axis', family='Calibri', fontsize=20)\n",
        "ax.set_yticks([.1,.9])\n",
        "ax.set_yticklabels(['Point 1', 'point 9'], rotation=45)\n",
        "\n",
        "text_kwargs=dict(fontsize=20, family='cursive')\n",
        "ax.set_title('Median Movie Budget',**text_kwargs)\n",
        "ax.set_ylabel('Millions of Dollars', **text_kwargs)\n"
      ],
      "execution_count": null,
      "outputs": [
        {
          "output_type": "error",
          "ename": "NameError",
          "evalue": "ignored",
          "traceback": [
            "\u001b[0;31m---------------------------------------------------------------------------\u001b[0m",
            "\u001b[0;31mNameError\u001b[0m                                 Traceback (most recent call last)",
            "\u001b[0;32m<ipython-input-1-286aceb131d3>\u001b[0m in \u001b[0;36m<module>\u001b[0;34m()\u001b[0m\n\u001b[0;32m----> 1\u001b[0;31m \u001b[0mfig\u001b[0m\u001b[0;34m,\u001b[0m\u001b[0max\u001b[0m\u001b[0;34m=\u001b[0m\u001b[0mplt\u001b[0m\u001b[0;34m.\u001b[0m\u001b[0msubplots\u001b[0m\u001b[0;34m(\u001b[0m\u001b[0mnrows\u001b[0m\u001b[0;34m=\u001b[0m\u001b[0;36m1\u001b[0m\u001b[0;34m,\u001b[0m\u001b[0mncols\u001b[0m\u001b[0;34m=\u001b[0m\u001b[0;36m1\u001b[0m\u001b[0;34m,\u001b[0m\u001b[0mlinewidth\u001b[0m\u001b[0;34m=\u001b[0m\u001b[0;36m5\u001b[0m\u001b[0;34m,\u001b[0m\u001b[0medgecolor\u001b[0m\u001b[0;34m=\u001b[0m\u001b[0;34m'.5'\u001b[0m\u001b[0;34m)\u001b[0m\u001b[0;34m\u001b[0m\u001b[0;34m\u001b[0m\u001b[0m\n\u001b[0m\u001b[1;32m      2\u001b[0m \u001b[0mfig\u001b[0m\u001b[0;34m.\u001b[0m\u001b[0mget_size_inches\u001b[0m\u001b[0;34m(\u001b[0m\u001b[0;34m)\u001b[0m\u001b[0;34m\u001b[0m\u001b[0;34m\u001b[0m\u001b[0m\n\u001b[1;32m      3\u001b[0m \u001b[0mfig\u001b[0m\u001b[0;34m.\u001b[0m\u001b[0mset_size_inches\u001b[0m\u001b[0;34m(\u001b[0m\u001b[0;36m14\u001b[0m\u001b[0;34m,\u001b[0m\u001b[0;36m4\u001b[0m\u001b[0;34m)\u001b[0m\u001b[0;34m\u001b[0m\u001b[0;34m\u001b[0m\u001b[0m\n\u001b[1;32m      4\u001b[0m \u001b[0mfig\u001b[0m\u001b[0;34m.\u001b[0m\u001b[0mset_facecolor\u001b[0m\u001b[0;34m(\u001b[0m\u001b[0;34m'.9'\u001b[0m\u001b[0;34m)\u001b[0m\u001b[0;31m#색은 0~1의 실수\u001b[0m\u001b[0;34m\u001b[0m\u001b[0;34m\u001b[0m\u001b[0m\n\u001b[1;32m      5\u001b[0m \u001b[0max\u001b[0m\u001b[0;34m.\u001b[0m\u001b[0mset_facecolor\u001b[0m\u001b[0;34m(\u001b[0m\u001b[0;34m'.7'\u001b[0m\u001b[0;34m)\u001b[0m\u001b[0;34m\u001b[0m\u001b[0;34m\u001b[0m\u001b[0m\n",
            "\u001b[0;31mNameError\u001b[0m: name 'plt' is not defined"
          ]
        }
      ]
    },
    {
      "cell_type": "code",
      "metadata": {
        "colab": {
          "base_uri": "https://localhost:8080/",
          "height": 36
        },
        "id": "VD8iFIVem-CB",
        "outputId": "0d3764e8-ea51-4876-c5b3-d3e120c5db15"
      },
      "source": [
        "import os\n",
        "os.getcwd()"
      ],
      "execution_count": null,
      "outputs": [
        {
          "output_type": "execute_result",
          "data": {
            "application/vnd.google.colaboratory.intrinsic+json": {
              "type": "string"
            },
            "text/plain": [
              "'/content'"
            ]
          },
          "metadata": {
            "tags": []
          },
          "execution_count": 2
        }
      ]
    },
    {
      "cell_type": "code",
      "metadata": {
        "id": "hxm6ZgJkXGVR"
      },
      "source": [
        "# data = open('file path', 'r', encoding='cp949')\n",
        "# line = data.read()"
      ],
      "execution_count": null,
      "outputs": []
    },
    {
      "cell_type": "code",
      "metadata": {
        "id": "WTtBlaRsW3ed"
      },
      "source": [
        "line='1,김윤석,24,174\\n2,나문희,43,162\\n3,정준하,36,186\\n4,장동건,31,177\\n5,김혜수,27,169'"
      ],
      "execution_count": null,
      "outputs": []
    },
    {
      "cell_type": "code",
      "metadata": {
        "colab": {
          "base_uri": "https://localhost:8080/"
        },
        "id": "LZJkT7a-W9dK",
        "outputId": "a82c1d36-c1f4-4528-e766-046e8e96c44a"
      },
      "source": [
        "line=line.split('\\n')\n",
        "line"
      ],
      "execution_count": null,
      "outputs": [
        {
          "output_type": "execute_result",
          "data": {
            "text/plain": [
              "['1,김윤석,24,174',\n",
              " '2,나문희,43,162',\n",
              " '3,정준하,36,186',\n",
              " '4,장동건,31,177',\n",
              " '5,김혜수,27,169']"
            ]
          },
          "metadata": {
            "tags": []
          },
          "execution_count": 4
        }
      ]
    },
    {
      "cell_type": "code",
      "metadata": {
        "colab": {
          "base_uri": "https://localhost:8080/"
        },
        "id": "epqeK9xHXO1h",
        "outputId": "ee9e37c4-e887-429a-b87d-b0a9a7c13155"
      },
      "source": [
        "row=[]\n",
        "for i in line:\n",
        "    row.append(i.split(','))\n",
        "row"
      ],
      "execution_count": null,
      "outputs": [
        {
          "output_type": "execute_result",
          "data": {
            "text/plain": [
              "[['1', '김윤석', '24', '174'],\n",
              " ['2', '나문희', '43', '162'],\n",
              " ['3', '정준하', '36', '186'],\n",
              " ['4', '장동건', '31', '177'],\n",
              " ['5', '김혜수', '27', '169']]"
            ]
          },
          "metadata": {
            "tags": []
          },
          "execution_count": 5
        }
      ]
    },
    {
      "cell_type": "code",
      "metadata": {
        "id": "Uco9MMGeXXqK"
      },
      "source": [
        "import pandas as pd\n",
        "col_name=['번호','이름','나이','키']\n",
        "df=pd.DataFrame(row, columns = col_name)"
      ],
      "execution_count": null,
      "outputs": []
    },
    {
      "cell_type": "code",
      "metadata": {
        "colab": {
          "base_uri": "https://localhost:8080/"
        },
        "id": "5jGkKdg4Xh2y",
        "outputId": "d1188395-e382-478a-d2d7-290c411a7b31"
      },
      "source": [
        "df.info()"
      ],
      "execution_count": null,
      "outputs": [
        {
          "output_type": "stream",
          "text": [
            "<class 'pandas.core.frame.DataFrame'>\n",
            "RangeIndex: 5 entries, 0 to 4\n",
            "Data columns (total 4 columns):\n",
            " #   Column  Non-Null Count  Dtype \n",
            "---  ------  --------------  ----- \n",
            " 0   번호      5 non-null      object\n",
            " 1   이름      5 non-null      object\n",
            " 2   나이      5 non-null      object\n",
            " 3   키       5 non-null      object\n",
            "dtypes: object(4)\n",
            "memory usage: 288.0+ bytes\n"
          ],
          "name": "stdout"
        }
      ]
    },
    {
      "cell_type": "code",
      "metadata": {
        "colab": {
          "base_uri": "https://localhost:8080/"
        },
        "id": "2-jLHSMOXpP7",
        "outputId": "c5157bb0-3b13-4049-fe8c-07c71aa492dd"
      },
      "source": [
        "df[['번호','나이','키']]=df[['번호','나이','키']].astype('int')\n",
        "df.info()"
      ],
      "execution_count": null,
      "outputs": [
        {
          "output_type": "stream",
          "text": [
            "<class 'pandas.core.frame.DataFrame'>\n",
            "RangeIndex: 5 entries, 0 to 4\n",
            "Data columns (total 4 columns):\n",
            " #   Column  Non-Null Count  Dtype \n",
            "---  ------  --------------  ----- \n",
            " 0   번호      5 non-null      int64 \n",
            " 1   이름      5 non-null      object\n",
            " 2   나이      5 non-null      int64 \n",
            " 3   키       5 non-null      int64 \n",
            "dtypes: int64(3), object(1)\n",
            "memory usage: 288.0+ bytes\n"
          ],
          "name": "stdout"
        }
      ]
    },
    {
      "cell_type": "code",
      "metadata": {
        "colab": {
          "base_uri": "https://localhost:8080/"
        },
        "id": "X65HzXyGYR2Z",
        "outputId": "03693b09-2cf8-44f7-fe20-ef830673aff6"
      },
      "source": [
        "df.dtypes"
      ],
      "execution_count": null,
      "outputs": [
        {
          "output_type": "execute_result",
          "data": {
            "text/plain": [
              "번호     int64\n",
              "이름    object\n",
              "나이     int64\n",
              "키      int64\n",
              "dtype: object"
            ]
          },
          "metadata": {
            "tags": []
          },
          "execution_count": 22
        }
      ]
    },
    {
      "cell_type": "code",
      "metadata": {
        "colab": {
          "base_uri": "https://localhost:8080/"
        },
        "id": "6qpjiwYrYyWo",
        "outputId": "213655e4-c159-4401-d92c-3040a530ec7c"
      },
      "source": [
        "df.values.reshape(-1,2)"
      ],
      "execution_count": null,
      "outputs": [
        {
          "output_type": "execute_result",
          "data": {
            "text/plain": [
              "array([[1, '김윤석'],\n",
              "       [24, 174],\n",
              "       [2, '나문희'],\n",
              "       [43, 162],\n",
              "       [3, '정준하'],\n",
              "       [36, 186],\n",
              "       [4, '장동건'],\n",
              "       [31, 177],\n",
              "       [5, '김혜수'],\n",
              "       [27, 169]], dtype=object)"
            ]
          },
          "metadata": {
            "tags": []
          },
          "execution_count": 24
        }
      ]
    },
    {
      "cell_type": "code",
      "metadata": {
        "colab": {
          "base_uri": "https://localhost:8080/",
          "height": 363
        },
        "id": "ZJNZ-5KBY5c6",
        "outputId": "5f80ee00-45a8-476a-ab80-5bb0ee0ce5bb"
      },
      "source": [
        "aaa=pd.DataFrame(df.values.reshape(-1,2))\n",
        "aaa"
      ],
      "execution_count": null,
      "outputs": [
        {
          "output_type": "execute_result",
          "data": {
            "text/html": [
              "<div>\n",
              "<style scoped>\n",
              "    .dataframe tbody tr th:only-of-type {\n",
              "        vertical-align: middle;\n",
              "    }\n",
              "\n",
              "    .dataframe tbody tr th {\n",
              "        vertical-align: top;\n",
              "    }\n",
              "\n",
              "    .dataframe thead th {\n",
              "        text-align: right;\n",
              "    }\n",
              "</style>\n",
              "<table border=\"1\" class=\"dataframe\">\n",
              "  <thead>\n",
              "    <tr style=\"text-align: right;\">\n",
              "      <th></th>\n",
              "      <th>0</th>\n",
              "      <th>1</th>\n",
              "    </tr>\n",
              "  </thead>\n",
              "  <tbody>\n",
              "    <tr>\n",
              "      <th>0</th>\n",
              "      <td>1</td>\n",
              "      <td>김윤석</td>\n",
              "    </tr>\n",
              "    <tr>\n",
              "      <th>1</th>\n",
              "      <td>24</td>\n",
              "      <td>174</td>\n",
              "    </tr>\n",
              "    <tr>\n",
              "      <th>2</th>\n",
              "      <td>2</td>\n",
              "      <td>나문희</td>\n",
              "    </tr>\n",
              "    <tr>\n",
              "      <th>3</th>\n",
              "      <td>43</td>\n",
              "      <td>162</td>\n",
              "    </tr>\n",
              "    <tr>\n",
              "      <th>4</th>\n",
              "      <td>3</td>\n",
              "      <td>정준하</td>\n",
              "    </tr>\n",
              "    <tr>\n",
              "      <th>5</th>\n",
              "      <td>36</td>\n",
              "      <td>186</td>\n",
              "    </tr>\n",
              "    <tr>\n",
              "      <th>6</th>\n",
              "      <td>4</td>\n",
              "      <td>장동건</td>\n",
              "    </tr>\n",
              "    <tr>\n",
              "      <th>7</th>\n",
              "      <td>31</td>\n",
              "      <td>177</td>\n",
              "    </tr>\n",
              "    <tr>\n",
              "      <th>8</th>\n",
              "      <td>5</td>\n",
              "      <td>김혜수</td>\n",
              "    </tr>\n",
              "    <tr>\n",
              "      <th>9</th>\n",
              "      <td>27</td>\n",
              "      <td>169</td>\n",
              "    </tr>\n",
              "  </tbody>\n",
              "</table>\n",
              "</div>"
            ],
            "text/plain": [
              "    0    1\n",
              "0   1  김윤석\n",
              "1  24  174\n",
              "2   2  나문희\n",
              "3  43  162\n",
              "4   3  정준하\n",
              "5  36  186\n",
              "6   4  장동건\n",
              "7  31  177\n",
              "8   5  김혜수\n",
              "9  27  169"
            ]
          },
          "metadata": {
            "tags": []
          },
          "execution_count": 25
        }
      ]
    },
    {
      "cell_type": "code",
      "metadata": {
        "colab": {
          "base_uri": "https://localhost:8080/"
        },
        "id": "R9U6zz9IZB7p",
        "outputId": "b6ab118a-74e5-4d71-d2e0-478cd11bec08"
      },
      "source": [
        "word = '홍길동'.encode('utf-8')\n",
        "word"
      ],
      "execution_count": null,
      "outputs": [
        {
          "output_type": "execute_result",
          "data": {
            "text/plain": [
              "b'\\xed\\x99\\x8d\\xea\\xb8\\xb8\\xeb\\x8f\\x99'"
            ]
          },
          "metadata": {
            "tags": []
          },
          "execution_count": 28
        }
      ]
    },
    {
      "cell_type": "code",
      "metadata": {
        "colab": {
          "base_uri": "https://localhost:8080/",
          "height": 36
        },
        "id": "zdGPz4zAZZei",
        "outputId": "a1bc9cb8-4160-40e5-c729-cf1c0bd3abb4"
      },
      "source": [
        "word.decode('utf-8')"
      ],
      "execution_count": null,
      "outputs": [
        {
          "output_type": "execute_result",
          "data": {
            "application/vnd.google.colaboratory.intrinsic+json": {
              "type": "string"
            },
            "text/plain": [
              "'홍길동'"
            ]
          },
          "metadata": {
            "tags": []
          },
          "execution_count": 29
        }
      ]
    },
    {
      "cell_type": "code",
      "metadata": {
        "colab": {
          "base_uri": "https://localhost:8080/"
        },
        "id": "PYrfVOouaRKq",
        "outputId": "1b04ffd1-cfae-4e67-dcee-9088fcbd4e93"
      },
      "source": [
        "a='abc'\n",
        "dir(a)\n",
        "help(a.upper)"
      ],
      "execution_count": null,
      "outputs": [
        {
          "output_type": "stream",
          "text": [
            "Help on built-in function upper:\n",
            "\n",
            "upper() method of builtins.str instance\n",
            "    Return a copy of the string converted to uppercase.\n",
            "\n"
          ],
          "name": "stdout"
        }
      ]
    },
    {
      "cell_type": "code",
      "metadata": {
        "id": "Spe5SEWWbpLL"
      },
      "source": [
        "import pickle\n",
        "data = ['a','b','c']\n",
        "with open('list.txt','wb') as f:\n",
        "    pickle.dump(data,f)"
      ],
      "execution_count": null,
      "outputs": []
    },
    {
      "cell_type": "code",
      "metadata": {
        "colab": {
          "base_uri": "https://localhost:8080/"
        },
        "id": "kfRFln4Ab4GR",
        "outputId": "5be78013-5331-4df2-d861-60bc39cf5bed"
      },
      "source": [
        "with open('list.txt', 'rb') as f:\n",
        "    data=pickle.load(f)\n",
        "data"
      ],
      "execution_count": null,
      "outputs": [
        {
          "output_type": "execute_result",
          "data": {
            "text/plain": [
              "['a', 'b', 'c']"
            ]
          },
          "metadata": {
            "tags": []
          },
          "execution_count": 33
        }
      ]
    },
    {
      "cell_type": "markdown",
      "metadata": {
        "id": "pjhJ_xqUcixK"
      },
      "source": [
        "# numpy"
      ]
    },
    {
      "cell_type": "code",
      "metadata": {
        "colab": {
          "base_uri": "https://localhost:8080/"
        },
        "id": "wrffU-mXck4x",
        "outputId": "e709e26b-84ad-4d7d-803e-2b14b21041b2"
      },
      "source": [
        "import numpy as np\n",
        "\n",
        "a=np.array([1,2,3,4])\n",
        "b=np.zeros((3,3)); print(b)\n",
        "c=np.ones((3,4)); print(c)\n",
        "d=np.full((2,2),7); print(d)\n",
        "e=np.eye(3,3); print(e)\n",
        "f=np.random.random((2,2)); print(f)\n",
        "# f=np.random.randint((20,20)); print(f)\n",
        "g=np.arange(5); print(g)\n",
        "# dir(np.random)"
      ],
      "execution_count": null,
      "outputs": [
        {
          "output_type": "stream",
          "text": [
            "[[0. 0. 0.]\n",
            " [0. 0. 0.]\n",
            " [0. 0. 0.]]\n",
            "[[1. 1. 1. 1.]\n",
            " [1. 1. 1. 1.]\n",
            " [1. 1. 1. 1.]]\n",
            "[[7 7]\n",
            " [7 7]]\n",
            "[[1. 0. 0.]\n",
            " [0. 1. 0.]\n",
            " [0. 0. 1.]]\n",
            "[[0.01447161 0.33524486]\n",
            " [0.92808611 0.70897338]]\n",
            "[0 1 2 3 4]\n"
          ],
          "name": "stdout"
        }
      ]
    },
    {
      "cell_type": "code",
      "metadata": {
        "colab": {
          "base_uri": "https://localhost:8080/"
        },
        "id": "WZmpwCtPdqKR",
        "outputId": "74607f29-f43b-4abf-f07d-f02c107703c5"
      },
      "source": [
        "import math\n",
        "a=np.array([math.e,2,3])\n",
        "print(np.sqrt(a))\n",
        "print(np.log(a))\n",
        "print(np.ceil(a))\n",
        "print(np.rint(a))"
      ],
      "execution_count": null,
      "outputs": [
        {
          "output_type": "stream",
          "text": [
            "[1.64872127 1.41421356 1.73205081]\n",
            "[1.         0.69314718 1.09861229]\n",
            "[3. 2. 3.]\n",
            "[3. 2. 3.]\n"
          ],
          "name": "stdout"
        }
      ]
    },
    {
      "cell_type": "code",
      "metadata": {
        "id": "ZcaGt4kTeatZ"
      },
      "source": [
        "# 평균값, 중앙값으로 대치\n",
        "# df.loc[19,'Leaflets'] = df['Leaflets'].mean() # 평균값으로 \n",
        "# df.loc[19,'Leaflets'] = df['Leaflets'].median # 중앙값으로"
      ],
      "execution_count": null,
      "outputs": []
    },
    {
      "cell_type": "code",
      "metadata": {
        "colab": {
          "base_uri": "https://localhost:8080/"
        },
        "id": "RJIqHWpqfUfJ",
        "outputId": "f2c1bc1c-0b8d-46e1-f19d-eeb2f5a98d0a"
      },
      "source": [
        "help(df.drop_duplicates)"
      ],
      "execution_count": null,
      "outputs": [
        {
          "output_type": "stream",
          "text": [
            "Help on method drop_duplicates in module pandas.core.frame:\n",
            "\n",
            "drop_duplicates(subset: Union[Hashable, Sequence[Hashable], NoneType] = None, keep: Union[str, bool] = 'first', inplace: bool = False, ignore_index: bool = False) -> Union[ForwardRef('DataFrame'), NoneType] method of pandas.core.frame.DataFrame instance\n",
            "    Return DataFrame with duplicate rows removed.\n",
            "    \n",
            "    Considering certain columns is optional. Indexes, including time indexes\n",
            "    are ignored.\n",
            "    \n",
            "    Parameters\n",
            "    ----------\n",
            "    subset : column label or sequence of labels, optional\n",
            "        Only consider certain columns for identifying duplicates, by\n",
            "        default use all of the columns.\n",
            "    keep : {'first', 'last', False}, default 'first'\n",
            "        Determines which duplicates (if any) to keep.\n",
            "        - ``first`` : Drop duplicates except for the first occurrence.\n",
            "        - ``last`` : Drop duplicates except for the last occurrence.\n",
            "        - False : Drop all duplicates.\n",
            "    inplace : bool, default False\n",
            "        Whether to drop duplicates in place or to return a copy.\n",
            "    ignore_index : bool, default False\n",
            "        If True, the resulting axis will be labeled 0, 1, …, n - 1.\n",
            "    \n",
            "        .. versionadded:: 1.0.0\n",
            "    \n",
            "    Returns\n",
            "    -------\n",
            "    DataFrame\n",
            "        DataFrame with duplicates removed or None if ``inplace=True``.\n",
            "    \n",
            "    See Also\n",
            "    --------\n",
            "    DataFrame.value_counts: Count unique combinations of columns.\n",
            "    \n",
            "    Examples\n",
            "    --------\n",
            "    Consider dataset containing ramen rating.\n",
            "    \n",
            "    >>> df = pd.DataFrame({\n",
            "    ...     'brand': ['Yum Yum', 'Yum Yum', 'Indomie', 'Indomie', 'Indomie'],\n",
            "    ...     'style': ['cup', 'cup', 'cup', 'pack', 'pack'],\n",
            "    ...     'rating': [4, 4, 3.5, 15, 5]\n",
            "    ... })\n",
            "    >>> df\n",
            "        brand style  rating\n",
            "    0  Yum Yum   cup     4.0\n",
            "    1  Yum Yum   cup     4.0\n",
            "    2  Indomie   cup     3.5\n",
            "    3  Indomie  pack    15.0\n",
            "    4  Indomie  pack     5.0\n",
            "    \n",
            "    By default, it removes duplicate rows based on all columns.\n",
            "    \n",
            "    >>> df.drop_duplicates()\n",
            "        brand style  rating\n",
            "    0  Yum Yum   cup     4.0\n",
            "    2  Indomie   cup     3.5\n",
            "    3  Indomie  pack    15.0\n",
            "    4  Indomie  pack     5.0\n",
            "    \n",
            "    To remove duplicates on specific column(s), use ``subset``.\n",
            "    \n",
            "    >>> df.drop_duplicates(subset=['brand'])\n",
            "        brand style  rating\n",
            "    0  Yum Yum   cup     4.0\n",
            "    2  Indomie   cup     3.5\n",
            "    \n",
            "    To remove duplicates and keep last occurences, use ``keep``.\n",
            "    \n",
            "    >>> df.drop_duplicates(subset=['brand', 'style'], keep='last')\n",
            "        brand style  rating\n",
            "    1  Yum Yum   cup     4.0\n",
            "    2  Indomie   cup     3.5\n",
            "    4  Indomie  pack     5.0\n",
            "\n"
          ],
          "name": "stdout"
        }
      ]
    },
    {
      "cell_type": "markdown",
      "metadata": {
        "id": "4NEZuIN4fh8B"
      },
      "source": [
        "\n",
        "#문자를 변수명으로 사용하기\n",
        "\n",
        "```\n",
        "# 중요 - For loop에 쓸 수 있는 좋은 함수\n",
        "# var()은 문자열에 변수를 담을 때 사용하고,\n",
        "# locals()는 문자열을 변수로 인식하여 method를 사용할 수 있다.\n",
        "\n",
        "vars()['df_{}_{}'.format(19, 4)] = pd.read_excel('./data/{}({}).xlsx'.format(19, 4))\n",
        "# 'df_19_4'라는 문자열을 df_19_4라는 변수로 만들고, 여기에 19(4).xlsx를 담음\n",
        "\n",
        "dfl = 'df_19_4'\n",
        "locals()[dfl].columns\n",
        "# 'df_19_4'라는 문자열을 변수화하고,columns method를 조회\n",
        "```\n",
        "\n"
      ]
    },
    {
      "cell_type": "code",
      "metadata": {
        "colab": {
          "base_uri": "https://localhost:8080/",
          "height": 238
        },
        "id": "CermHBobmJLQ",
        "outputId": "9427b4ee-f522-44bc-b57c-e0f647bc6c9c"
      },
      "source": [
        "# 다중 인덱스\n",
        "np.random.seed(0)\n",
        "df3 = pd.DataFrame(np.round(np.random.randn(5, 4), 2),\n",
        "                   columns=[[\"A\", \"A\", \"B\", \"B\"],\n",
        "                            [\"C1\", \"C2\", \"C1\", \"C2\"]])\n",
        "df3"
      ],
      "execution_count": null,
      "outputs": [
        {
          "output_type": "execute_result",
          "data": {
            "text/html": [
              "<div>\n",
              "<style scoped>\n",
              "    .dataframe tbody tr th:only-of-type {\n",
              "        vertical-align: middle;\n",
              "    }\n",
              "\n",
              "    .dataframe tbody tr th {\n",
              "        vertical-align: top;\n",
              "    }\n",
              "\n",
              "    .dataframe thead tr th {\n",
              "        text-align: left;\n",
              "    }\n",
              "</style>\n",
              "<table border=\"1\" class=\"dataframe\">\n",
              "  <thead>\n",
              "    <tr>\n",
              "      <th></th>\n",
              "      <th colspan=\"2\" halign=\"left\">A</th>\n",
              "      <th colspan=\"2\" halign=\"left\">B</th>\n",
              "    </tr>\n",
              "    <tr>\n",
              "      <th></th>\n",
              "      <th>C1</th>\n",
              "      <th>C2</th>\n",
              "      <th>C1</th>\n",
              "      <th>C2</th>\n",
              "    </tr>\n",
              "  </thead>\n",
              "  <tbody>\n",
              "    <tr>\n",
              "      <th>0</th>\n",
              "      <td>1.76</td>\n",
              "      <td>0.40</td>\n",
              "      <td>0.98</td>\n",
              "      <td>2.24</td>\n",
              "    </tr>\n",
              "    <tr>\n",
              "      <th>1</th>\n",
              "      <td>1.87</td>\n",
              "      <td>-0.98</td>\n",
              "      <td>0.95</td>\n",
              "      <td>-0.15</td>\n",
              "    </tr>\n",
              "    <tr>\n",
              "      <th>2</th>\n",
              "      <td>-0.10</td>\n",
              "      <td>0.41</td>\n",
              "      <td>0.14</td>\n",
              "      <td>1.45</td>\n",
              "    </tr>\n",
              "    <tr>\n",
              "      <th>3</th>\n",
              "      <td>0.76</td>\n",
              "      <td>0.12</td>\n",
              "      <td>0.44</td>\n",
              "      <td>0.33</td>\n",
              "    </tr>\n",
              "    <tr>\n",
              "      <th>4</th>\n",
              "      <td>1.49</td>\n",
              "      <td>-0.21</td>\n",
              "      <td>0.31</td>\n",
              "      <td>-0.85</td>\n",
              "    </tr>\n",
              "  </tbody>\n",
              "</table>\n",
              "</div>"
            ],
            "text/plain": [
              "      A           B      \n",
              "     C1    C2    C1    C2\n",
              "0  1.76  0.40  0.98  2.24\n",
              "1  1.87 -0.98  0.95 -0.15\n",
              "2 -0.10  0.41  0.14  1.45\n",
              "3  0.76  0.12  0.44  0.33\n",
              "4  1.49 -0.21  0.31 -0.85"
            ]
          },
          "metadata": {
            "tags": []
          },
          "execution_count": 62
        }
      ]
    },
    {
      "cell_type": "markdown",
      "metadata": {
        "id": "TeWFWhknmpJo"
      },
      "source": [
        "# 다중 인덱스를 단일 인덱스로 바꾸기\n",
        "```\n",
        "# 인덱스(행방향)가 다중일 때 : reset_index()를 사용한다 -- 끝\n",
        "# 컬럼명(열방향)이 다중일 때\n",
        "level0 = df.columns.get_level_values(0)\n",
        "level1 = df.columns.get_level_values(1)\n",
        "df.columns = level0 + '_' + level1\n",
        "```"
      ]
    },
    {
      "cell_type": "code",
      "metadata": {
        "colab": {
          "base_uri": "https://localhost:8080/"
        },
        "id": "c1C1Ky9SnDfR",
        "outputId": "b3a27f88-3548-4b61-db42-6e6817b8e658"
      },
      "source": [
        "# 다중인덱스에 이름 붙이기\n",
        "df3.columns.names = [\"Cidx1\", \"Cidx2\"]\n",
        "df3\n",
        "# 상위 레벨에서 조회\n",
        "df3[(\"B\", \"C1\")]\n",
        "df3.loc[0, (\"B\", \"C1\")]  # 0.98\n",
        "\n",
        "# iloc는 가장 하위 레벨에서 조회함\n",
        "df3.iloc[0,2] # 0.98"
      ],
      "execution_count": null,
      "outputs": [
        {
          "output_type": "execute_result",
          "data": {
            "text/plain": [
              "0.98"
            ]
          },
          "metadata": {
            "tags": []
          },
          "execution_count": 63
        }
      ]
    },
    {
      "cell_type": "code",
      "metadata": {
        "colab": {
          "base_uri": "https://localhost:8080/",
          "height": 300
        },
        "id": "kyxJ79H_ng-x",
        "outputId": "738bbbf5-8676-4966-d5c6-e05d95dca472"
      },
      "source": [
        "# 다중 행 인덱스 + 이름 붙이기\n",
        "np.random.seed(0)\n",
        "df4 = pd.DataFrame(np.round(np.random.randn(6, 4), 2),\n",
        "                   columns=[[\"A\", \"A\", \"B\", \"B\"],\n",
        "                            [\"C\", \"D\", \"C\", \"D\"]],\n",
        "                   index=[[\"M\", \"M\", \"M\", \"F\", \"F\", \"F\"],\n",
        "                          [\"id_\" + str(i + 1) for i in range(3)] * 2])\n",
        "df4.columns.names = [\"Cidx1\", \"Cidx2\"]\n",
        "df4.index.names = [\"Ridx1\", \"Ridx2\"]\n",
        "df4"
      ],
      "execution_count": null,
      "outputs": [
        {
          "output_type": "execute_result",
          "data": {
            "text/html": [
              "<div>\n",
              "<style scoped>\n",
              "    .dataframe tbody tr th:only-of-type {\n",
              "        vertical-align: middle;\n",
              "    }\n",
              "\n",
              "    .dataframe tbody tr th {\n",
              "        vertical-align: top;\n",
              "    }\n",
              "\n",
              "    .dataframe thead tr th {\n",
              "        text-align: left;\n",
              "    }\n",
              "\n",
              "    .dataframe thead tr:last-of-type th {\n",
              "        text-align: right;\n",
              "    }\n",
              "</style>\n",
              "<table border=\"1\" class=\"dataframe\">\n",
              "  <thead>\n",
              "    <tr>\n",
              "      <th></th>\n",
              "      <th>Cidx1</th>\n",
              "      <th colspan=\"2\" halign=\"left\">A</th>\n",
              "      <th colspan=\"2\" halign=\"left\">B</th>\n",
              "    </tr>\n",
              "    <tr>\n",
              "      <th></th>\n",
              "      <th>Cidx2</th>\n",
              "      <th>C</th>\n",
              "      <th>D</th>\n",
              "      <th>C</th>\n",
              "      <th>D</th>\n",
              "    </tr>\n",
              "    <tr>\n",
              "      <th>Ridx1</th>\n",
              "      <th>Ridx2</th>\n",
              "      <th></th>\n",
              "      <th></th>\n",
              "      <th></th>\n",
              "      <th></th>\n",
              "    </tr>\n",
              "  </thead>\n",
              "  <tbody>\n",
              "    <tr>\n",
              "      <th rowspan=\"3\" valign=\"top\">M</th>\n",
              "      <th>id_1</th>\n",
              "      <td>1.76</td>\n",
              "      <td>0.40</td>\n",
              "      <td>0.98</td>\n",
              "      <td>2.24</td>\n",
              "    </tr>\n",
              "    <tr>\n",
              "      <th>id_2</th>\n",
              "      <td>1.87</td>\n",
              "      <td>-0.98</td>\n",
              "      <td>0.95</td>\n",
              "      <td>-0.15</td>\n",
              "    </tr>\n",
              "    <tr>\n",
              "      <th>id_3</th>\n",
              "      <td>-0.10</td>\n",
              "      <td>0.41</td>\n",
              "      <td>0.14</td>\n",
              "      <td>1.45</td>\n",
              "    </tr>\n",
              "    <tr>\n",
              "      <th rowspan=\"3\" valign=\"top\">F</th>\n",
              "      <th>id_1</th>\n",
              "      <td>0.76</td>\n",
              "      <td>0.12</td>\n",
              "      <td>0.44</td>\n",
              "      <td>0.33</td>\n",
              "    </tr>\n",
              "    <tr>\n",
              "      <th>id_2</th>\n",
              "      <td>1.49</td>\n",
              "      <td>-0.21</td>\n",
              "      <td>0.31</td>\n",
              "      <td>-0.85</td>\n",
              "    </tr>\n",
              "    <tr>\n",
              "      <th>id_3</th>\n",
              "      <td>-2.55</td>\n",
              "      <td>0.65</td>\n",
              "      <td>0.86</td>\n",
              "      <td>-0.74</td>\n",
              "    </tr>\n",
              "  </tbody>\n",
              "</table>\n",
              "</div>"
            ],
            "text/plain": [
              "Cidx1           A           B      \n",
              "Cidx2           C     D     C     D\n",
              "Ridx1 Ridx2                        \n",
              "M     id_1   1.76  0.40  0.98  2.24\n",
              "      id_2   1.87 -0.98  0.95 -0.15\n",
              "      id_3  -0.10  0.41  0.14  1.45\n",
              "F     id_1   0.76  0.12  0.44  0.33\n",
              "      id_2   1.49 -0.21  0.31 -0.85\n",
              "      id_3  -2.55  0.65  0.86 -0.74"
            ]
          },
          "metadata": {
            "tags": []
          },
          "execution_count": 64
        }
      ]
    },
    {
      "cell_type": "code",
      "metadata": {
        "colab": {
          "base_uri": "https://localhost:8080/",
          "height": 300
        },
        "id": "xBvOOejlnj7P",
        "outputId": "5106aec7-93c1-4109-f17d-53320a761754"
      },
      "source": [
        "\n",
        "\n",
        "# 다중 인덱스의 인덱스 순서(레벨) 교체 \n",
        "# swaplevel(i, j, axis)\n",
        "df5 = df4.swaplevel(\"Ridx1\", \"Ridx2\", 0) ; df5\n",
        "\n"
      ],
      "execution_count": null,
      "outputs": [
        {
          "output_type": "execute_result",
          "data": {
            "text/html": [
              "<div>\n",
              "<style scoped>\n",
              "    .dataframe tbody tr th:only-of-type {\n",
              "        vertical-align: middle;\n",
              "    }\n",
              "\n",
              "    .dataframe tbody tr th {\n",
              "        vertical-align: top;\n",
              "    }\n",
              "\n",
              "    .dataframe thead tr th {\n",
              "        text-align: left;\n",
              "    }\n",
              "\n",
              "    .dataframe thead tr:last-of-type th {\n",
              "        text-align: right;\n",
              "    }\n",
              "</style>\n",
              "<table border=\"1\" class=\"dataframe\">\n",
              "  <thead>\n",
              "    <tr>\n",
              "      <th></th>\n",
              "      <th>Cidx1</th>\n",
              "      <th colspan=\"2\" halign=\"left\">A</th>\n",
              "      <th colspan=\"2\" halign=\"left\">B</th>\n",
              "    </tr>\n",
              "    <tr>\n",
              "      <th></th>\n",
              "      <th>Cidx2</th>\n",
              "      <th>C</th>\n",
              "      <th>D</th>\n",
              "      <th>C</th>\n",
              "      <th>D</th>\n",
              "    </tr>\n",
              "    <tr>\n",
              "      <th>Ridx2</th>\n",
              "      <th>Ridx1</th>\n",
              "      <th></th>\n",
              "      <th></th>\n",
              "      <th></th>\n",
              "      <th></th>\n",
              "    </tr>\n",
              "  </thead>\n",
              "  <tbody>\n",
              "    <tr>\n",
              "      <th>id_1</th>\n",
              "      <th>M</th>\n",
              "      <td>1.76</td>\n",
              "      <td>0.40</td>\n",
              "      <td>0.98</td>\n",
              "      <td>2.24</td>\n",
              "    </tr>\n",
              "    <tr>\n",
              "      <th>id_2</th>\n",
              "      <th>M</th>\n",
              "      <td>1.87</td>\n",
              "      <td>-0.98</td>\n",
              "      <td>0.95</td>\n",
              "      <td>-0.15</td>\n",
              "    </tr>\n",
              "    <tr>\n",
              "      <th>id_3</th>\n",
              "      <th>M</th>\n",
              "      <td>-0.10</td>\n",
              "      <td>0.41</td>\n",
              "      <td>0.14</td>\n",
              "      <td>1.45</td>\n",
              "    </tr>\n",
              "    <tr>\n",
              "      <th>id_1</th>\n",
              "      <th>F</th>\n",
              "      <td>0.76</td>\n",
              "      <td>0.12</td>\n",
              "      <td>0.44</td>\n",
              "      <td>0.33</td>\n",
              "    </tr>\n",
              "    <tr>\n",
              "      <th>id_2</th>\n",
              "      <th>F</th>\n",
              "      <td>1.49</td>\n",
              "      <td>-0.21</td>\n",
              "      <td>0.31</td>\n",
              "      <td>-0.85</td>\n",
              "    </tr>\n",
              "    <tr>\n",
              "      <th>id_3</th>\n",
              "      <th>F</th>\n",
              "      <td>-2.55</td>\n",
              "      <td>0.65</td>\n",
              "      <td>0.86</td>\n",
              "      <td>-0.74</td>\n",
              "    </tr>\n",
              "  </tbody>\n",
              "</table>\n",
              "</div>"
            ],
            "text/plain": [
              "Cidx1           A           B      \n",
              "Cidx2           C     D     C     D\n",
              "Ridx2 Ridx1                        \n",
              "id_1  M      1.76  0.40  0.98  2.24\n",
              "id_2  M      1.87 -0.98  0.95 -0.15\n",
              "id_3  M     -0.10  0.41  0.14  1.45\n",
              "id_1  F      0.76  0.12  0.44  0.33\n",
              "id_2  F      1.49 -0.21  0.31 -0.85\n",
              "id_3  F     -2.55  0.65  0.86 -0.74"
            ]
          },
          "metadata": {
            "tags": []
          },
          "execution_count": 65
        }
      ]
    },
    {
      "cell_type": "markdown",
      "metadata": {
        "id": "l_VnnCn7oUqQ"
      },
      "source": [
        "# Stack, Unstack"
      ]
    },
    {
      "cell_type": "code",
      "metadata": {
        "colab": {
          "base_uri": "https://localhost:8080/",
          "height": 457
        },
        "id": "TfU6m2TFn8A5",
        "outputId": "446bd38f-1db4-4549-fef7-4c9ec4b153bc"
      },
      "source": [
        "\n",
        "\n",
        "# 행 인덱스 -> 열 인덱스 : stack()\n",
        "df4.stack() # 가장 안쪽 인덱스가 stack 됨\n",
        "df4.stack(\"Cidx1\") # 특정 인덱스를 stack\n",
        "# df4.stack(1) # 번호로 특정(바깥부터 0, 1... -1)\n",
        "\n",
        "# # 열 인덱스 -> 행 인덱스 : unstack()\n",
        "# df4.unstack() # 가장 안쪽 인덱스가 unstack 됨\n",
        "# df4.unstack(\"Ridx2\") # 특정 인덱스를 unstack\n",
        "# df4.unstack(0) # 번호로 특정(바깥부터 0, 1... -1)"
      ],
      "execution_count": null,
      "outputs": [
        {
          "output_type": "execute_result",
          "data": {
            "text/html": [
              "<div>\n",
              "<style scoped>\n",
              "    .dataframe tbody tr th:only-of-type {\n",
              "        vertical-align: middle;\n",
              "    }\n",
              "\n",
              "    .dataframe tbody tr th {\n",
              "        vertical-align: top;\n",
              "    }\n",
              "\n",
              "    .dataframe thead th {\n",
              "        text-align: right;\n",
              "    }\n",
              "</style>\n",
              "<table border=\"1\" class=\"dataframe\">\n",
              "  <thead>\n",
              "    <tr style=\"text-align: right;\">\n",
              "      <th></th>\n",
              "      <th></th>\n",
              "      <th>Cidx2</th>\n",
              "      <th>C</th>\n",
              "      <th>D</th>\n",
              "    </tr>\n",
              "    <tr>\n",
              "      <th>Ridx1</th>\n",
              "      <th>Ridx2</th>\n",
              "      <th>Cidx1</th>\n",
              "      <th></th>\n",
              "      <th></th>\n",
              "    </tr>\n",
              "  </thead>\n",
              "  <tbody>\n",
              "    <tr>\n",
              "      <th rowspan=\"6\" valign=\"top\">M</th>\n",
              "      <th rowspan=\"2\" valign=\"top\">id_1</th>\n",
              "      <th>A</th>\n",
              "      <td>1.76</td>\n",
              "      <td>0.40</td>\n",
              "    </tr>\n",
              "    <tr>\n",
              "      <th>B</th>\n",
              "      <td>0.98</td>\n",
              "      <td>2.24</td>\n",
              "    </tr>\n",
              "    <tr>\n",
              "      <th rowspan=\"2\" valign=\"top\">id_2</th>\n",
              "      <th>A</th>\n",
              "      <td>1.87</td>\n",
              "      <td>-0.98</td>\n",
              "    </tr>\n",
              "    <tr>\n",
              "      <th>B</th>\n",
              "      <td>0.95</td>\n",
              "      <td>-0.15</td>\n",
              "    </tr>\n",
              "    <tr>\n",
              "      <th rowspan=\"2\" valign=\"top\">id_3</th>\n",
              "      <th>A</th>\n",
              "      <td>-0.10</td>\n",
              "      <td>0.41</td>\n",
              "    </tr>\n",
              "    <tr>\n",
              "      <th>B</th>\n",
              "      <td>0.14</td>\n",
              "      <td>1.45</td>\n",
              "    </tr>\n",
              "    <tr>\n",
              "      <th rowspan=\"6\" valign=\"top\">F</th>\n",
              "      <th rowspan=\"2\" valign=\"top\">id_1</th>\n",
              "      <th>A</th>\n",
              "      <td>0.76</td>\n",
              "      <td>0.12</td>\n",
              "    </tr>\n",
              "    <tr>\n",
              "      <th>B</th>\n",
              "      <td>0.44</td>\n",
              "      <td>0.33</td>\n",
              "    </tr>\n",
              "    <tr>\n",
              "      <th rowspan=\"2\" valign=\"top\">id_2</th>\n",
              "      <th>A</th>\n",
              "      <td>1.49</td>\n",
              "      <td>-0.21</td>\n",
              "    </tr>\n",
              "    <tr>\n",
              "      <th>B</th>\n",
              "      <td>0.31</td>\n",
              "      <td>-0.85</td>\n",
              "    </tr>\n",
              "    <tr>\n",
              "      <th rowspan=\"2\" valign=\"top\">id_3</th>\n",
              "      <th>A</th>\n",
              "      <td>-2.55</td>\n",
              "      <td>0.65</td>\n",
              "    </tr>\n",
              "    <tr>\n",
              "      <th>B</th>\n",
              "      <td>0.86</td>\n",
              "      <td>-0.74</td>\n",
              "    </tr>\n",
              "  </tbody>\n",
              "</table>\n",
              "</div>"
            ],
            "text/plain": [
              "Cidx2                 C     D\n",
              "Ridx1 Ridx2 Cidx1            \n",
              "M     id_1  A      1.76  0.40\n",
              "            B      0.98  2.24\n",
              "      id_2  A      1.87 -0.98\n",
              "            B      0.95 -0.15\n",
              "      id_3  A     -0.10  0.41\n",
              "            B      0.14  1.45\n",
              "F     id_1  A      0.76  0.12\n",
              "            B      0.44  0.33\n",
              "      id_2  A      1.49 -0.21\n",
              "            B      0.31 -0.85\n",
              "      id_3  A     -2.55  0.65\n",
              "            B      0.86 -0.74"
            ]
          },
          "metadata": {
            "tags": []
          },
          "execution_count": 69
        }
      ]
    },
    {
      "cell_type": "markdown",
      "metadata": {
        "id": "PRqeppfApB94"
      },
      "source": [
        "#Apply , map\n",
        "```\n",
        "# apply, map 함수\n",
        "\n",
        "# map은 Dataframe Series의 값 하나하나에 함수를 적용할 때 사용\n",
        "df['B']  = df['A'].map(lambda x : my_func(x)) # x는 df['A']의 값\n",
        "\n",
        "# apply는 Datafram 각 행의 여러 컬럼에 함수를 적용할 때 사용\n",
        "df['C'] = df.apply(lambda x: my_func(x['A'], x['B']), axis=1)\n",
        "# x는 df의 각 행, A, B는 컬럼\n",
        "```\n",
        "* 하지만 느리니까 꼭 필요할 때만 사용"
      ]
    },
    {
      "cell_type": "markdown",
      "metadata": {
        "id": "zyvYiLwPpprY"
      },
      "source": [
        "# 숫자 표기\n"
      ]
    },
    {
      "cell_type": "code",
      "metadata": {
        "id": "RuM2VOGbpvCg"
      },
      "source": [
        "# Pandas 숫자 출력 포맷팅\n",
        "# https://financedata.github.io/posts/pandas-display-format.html\n",
        "\n",
        "# 과학적 표기법(Scientific notation)을 사용하지 않는 경우\n",
        "pd.set_option('display.float_format', '{:.2f}'.format)\n",
        "\n",
        "# 과학적 표기법(Scientific notation)\n",
        "pd.set_option('display.float_format', '{:.2e}'.format)\n",
        "pd.set_option('display.float_format', '${:.2g}'.format) # 적당히 알아서\n",
        "pd.set_option('display.float_format', None) # 원상복귀"
      ],
      "execution_count": null,
      "outputs": []
    },
    {
      "cell_type": "markdown",
      "metadata": {
        "id": "zoyHcfAGqVZf"
      },
      "source": [
        "# 원핫 인코딩\n",
        "```\n",
        "# dummy 변수 만들고 합치기\n",
        "df_rank = pd.get_dummies(df['col3']) # dummy\n",
        "df_new = pd.concat([df, df_rank], axis=1) # 합치기\n",
        "df_new.drop(['col3'], axis=1, inplace=True) # drop\n",
        "df_new\n",
        "```"
      ]
    },
    {
      "cell_type": "code",
      "metadata": {
        "id": "oGZW8fIwucsH"
      },
      "source": [
        "# help(pd.concat)"
      ],
      "execution_count": null,
      "outputs": []
    },
    {
      "cell_type": "code",
      "metadata": {
        "colab": {
          "base_uri": "https://localhost:8080/",
          "height": 36
        },
        "id": "s3aEC73fux5O",
        "outputId": "f513c5d3-9d34-4fc1-8ec3-5fbc8cd834e4"
      },
      "source": [
        "'zz'.zfill(5)"
      ],
      "execution_count": null,
      "outputs": [
        {
          "output_type": "execute_result",
          "data": {
            "application/vnd.google.colaboratory.intrinsic+json": {
              "type": "string"
            },
            "text/plain": [
              "'000zz'"
            ]
          },
          "metadata": {
            "tags": []
          },
          "execution_count": 73
        }
      ]
    },
    {
      "cell_type": "markdown",
      "metadata": {
        "id": "mNmu4dKtwCg_"
      },
      "source": [
        "# 정규표현식\n",
        "```\n",
        "\\d - 숫자와 매치, [0-9]와 동일한 표현식이다.\n",
        "\n",
        "\\D - 숫자가 아닌 것과 매치, [^0-9]와 동일한 표현식이다.\n",
        "\n",
        "\\s - whitespace 문자와 매치, [ \\t\\n\\r\\f\\v]와 동일한 표현식이다. 맨 앞의 빈 칸은 공백문자(space)를 의미한다.\n",
        "\n",
        "\\S - whitespace 문자가 아닌 것과 매치, [^ \\t\\n\\r\\f\\v]와 동일한 표현식이다.\n",
        "\n",
        "\\w - 문자+숫자(alphanumeric)와 매치, [a-zA-Z0-9_]와 동일한 표현식이다.\n",
        "\n",
        "\\W - 문자+숫자(alphanumeric)가 아닌 문자와 매치, [^a-zA-Z0-9_]와 동일한 표현식이다.\n",
        "```"
      ]
    },
    {
      "cell_type": "markdown",
      "metadata": {
        "id": "x_W2fE5mwkL-"
      },
      "source": [
        "# EDA + 시각화\n"
      ]
    },
    {
      "cell_type": "code",
      "metadata": {
        "id": "c0lln2zrwnZW"
      },
      "source": [
        "import matplotlib.pyplot as plt\n",
        "import matplotlib.image as mpimg\n",
        "import pandas as pd\n",
        "import numpy as np"
      ],
      "execution_count": null,
      "outputs": []
    },
    {
      "cell_type": "code",
      "metadata": {
        "id": "YNY_hAmgwwp1"
      },
      "source": [
        "#저장\n",
        "# plt.savefig('lemon.png')"
      ],
      "execution_count": null,
      "outputs": []
    },
    {
      "cell_type": "code",
      "metadata": {
        "colab": {
          "base_uri": "https://localhost:8080/",
          "height": 281
        },
        "id": "_alHAidkw0nx",
        "outputId": "e69fe30f-45f4-4fcf-a0b8-551310fc06d8"
      },
      "source": [
        "year=[1950, 1970, 1990, 2010]\n",
        "pop =[2.519, 3.692, 5.263, 6.972]\n",
        "plt.plot(year, pop)\n",
        "plt.title('Matplotlib 1')\n",
        "plt.show()"
      ],
      "execution_count": null,
      "outputs": [
        {
          "output_type": "display_data",
          "data": {
            "image/png": "[encoded data removed]",
            "text/plain": [
              "<Figure size 432x288 with 1 Axes>"
            ]
          },
          "metadata": {
            "tags": [],
            "needs_background": "light"
          }
        }
      ]
    },
    {
      "cell_type": "code",
      "metadata": {
        "colab": {
          "base_uri": "https://localhost:8080/",
          "height": 300
        },
        "id": "mgrMkh4-xPL1",
        "outputId": "9fffb3e4-c64a-49c0-f225-b43d80d01a72"
      },
      "source": [
        "fig,ax=plt.subplots(nrows=1, ncols=1)\n",
        "ax.set_title('Matplotlib 2')\n",
        "ax.plot(year,pop)"
      ],
      "execution_count": null,
      "outputs": [
        {
          "output_type": "execute_result",
          "data": {
            "text/plain": [
              "[<matplotlib.lines.Line2D at 0x7f892fc726d0>]"
            ]
          },
          "metadata": {
            "tags": []
          },
          "execution_count": 78
        },
        {
          "output_type": "display_data",
          "data": {
            "image/png": "[encoded data removed]",
            "text/plain": [
              "<Figure size 432x288 with 1 Axes>"
            ]
          },
          "metadata": {
            "tags": [],
            "needs_background": "light"
          }
        }
      ]
    },
    {
      "cell_type": "code",
      "metadata": {
        "colab": {
          "base_uri": "https://localhost:8080/",
          "height": 314
        },
        "id": "BCDi7hfFxfVm",
        "outputId": "6c79e456-38ae-414a-9fcb-f5ed7e914e64"
      },
      "source": [
        "df=pd.DataFrame(dict(year=year,pop=pop))\n",
        "df.plot(x='year',y='pop', kind='line')\n",
        "plt.title('Pandas')"
      ],
      "execution_count": null,
      "outputs": [
        {
          "output_type": "execute_result",
          "data": {
            "text/plain": [
              "Text(0.5, 1.0, 'Pandas')"
            ]
          },
          "metadata": {
            "tags": []
          },
          "execution_count": 80
        },
        {
          "output_type": "display_data",
          "data": {
            "image/png": "[encoded data removed]",
            "text/plain": [
              "<Figure size 432x288 with 1 Axes>"
            ]
          },
          "metadata": {
            "tags": [],
            "needs_background": "light"
          }
        }
      ]
    },
    {
      "cell_type": "code",
      "metadata": {
        "colab": {
          "base_uri": "https://localhost:8080/",
          "height": 175
        },
        "id": "GTxKaWa7x_bm",
        "outputId": "1eb91969-5b52-4279-82a2-ec1f15493d1e"
      },
      "source": [
        "df"
      ],
      "execution_count": null,
      "outputs": [
        {
          "output_type": "execute_result",
          "data": {
            "text/html": [
              "<div>\n",
              "<style scoped>\n",
              "    .dataframe tbody tr th:only-of-type {\n",
              "        vertical-align: middle;\n",
              "    }\n",
              "\n",
              "    .dataframe tbody tr th {\n",
              "        vertical-align: top;\n",
              "    }\n",
              "\n",
              "    .dataframe thead th {\n",
              "        text-align: right;\n",
              "    }\n",
              "</style>\n",
              "<table border=\"1\" class=\"dataframe\">\n",
              "  <thead>\n",
              "    <tr style=\"text-align: right;\">\n",
              "      <th></th>\n",
              "      <th>year</th>\n",
              "      <th>pop</th>\n",
              "    </tr>\n",
              "  </thead>\n",
              "  <tbody>\n",
              "    <tr>\n",
              "      <th>0</th>\n",
              "      <td>1950</td>\n",
              "      <td>2.519</td>\n",
              "    </tr>\n",
              "    <tr>\n",
              "      <th>1</th>\n",
              "      <td>1970</td>\n",
              "      <td>3.692</td>\n",
              "    </tr>\n",
              "    <tr>\n",
              "      <th>2</th>\n",
              "      <td>1990</td>\n",
              "      <td>5.263</td>\n",
              "    </tr>\n",
              "    <tr>\n",
              "      <th>3</th>\n",
              "      <td>2010</td>\n",
              "      <td>6.972</td>\n",
              "    </tr>\n",
              "  </tbody>\n",
              "</table>\n",
              "</div>"
            ],
            "text/plain": [
              "   year    pop\n",
              "0  1950  2.519\n",
              "1  1970  3.692\n",
              "2  1990  5.263\n",
              "3  2010  6.972"
            ]
          },
          "metadata": {
            "tags": []
          },
          "execution_count": 81
        }
      ]
    },
    {
      "cell_type": "code",
      "metadata": {
        "colab": {
          "base_uri": "https://localhost:8080/",
          "height": 265
        },
        "id": "oex985rKyCOs",
        "outputId": "1885899d-a0a8-406c-b0e4-8abcb109746a"
      },
      "source": [
        "plt.scatter(year,pop);plt.show()"
      ],
      "execution_count": null,
      "outputs": [
        {
          "output_type": "display_data",
          "data": {
            "image/png": "[encoded data removed]",
            "text/plain": [
              "<Figure size 432x288 with 1 Axes>"
            ]
          },
          "metadata": {
            "tags": [],
            "needs_background": "light"
          }
        }
      ]
    },
    {
      "cell_type": "code",
      "metadata": {
        "colab": {
          "base_uri": "https://localhost:8080/",
          "height": 265
        },
        "id": "fClLIlo-yF0J",
        "outputId": "fe6c50ea-6b3f-493e-c2e7-4988e1f4b4ec"
      },
      "source": [
        "values=[0,1.6,1.4,2.2,2.5,2.6,3.2,3.5,3,3.9,4.2,6]\n",
        "plt.hist(values, bins=6, color='green'); plt.show()"
      ],
      "execution_count": null,
      "outputs": [
        {
          "output_type": "display_data",
          "data": {
            "image/png": "[encoded data removed]",
            "text/plain": [
              "<Figure size 432x288 with 1 Axes>"
            ]
          },
          "metadata": {
            "tags": [],
            "needs_background": "light"
          }
        }
      ]
    },
    {
      "cell_type": "code",
      "metadata": {
        "colab": {
          "base_uri": "https://localhost:8080/",
          "height": 513
        },
        "id": "dIZF9KIHypEu",
        "outputId": "056a8e64-ab77-42aa-e039-aca07412c55b"
      },
      "source": [
        "plt.boxplot(values); plt.show()\n",
        "plt.boxplot(values, vert=0);plt.show()"
      ],
      "execution_count": null,
      "outputs": [
        {
          "output_type": "display_data",
          "data": {
            "image/png": "[encoded data removed]",
            "text/plain": [
              "<Figure size 432x288 with 1 Axes>"
            ]
          },
          "metadata": {
            "tags": [],
            "needs_background": "light"
          }
        },
        {
          "output_type": "display_data",
          "data": {
            "image/png": "[encoded data removed]",
            "text/plain": [
              "<Figure size 432x288 with 1 Axes>"
            ]
          },
          "metadata": {
            "tags": [],
            "needs_background": "light"
          }
        }
      ]
    },
    {
      "cell_type": "code",
      "metadata": {
        "colab": {
          "base_uri": "https://localhost:8080/",
          "height": 265
        },
        "id": "pehplZW_y51K",
        "outputId": "ec9cd5a9-60f0-4273-9c41-8d001e31a75d"
      },
      "source": [
        "objects=['Python', 'C++','Java','Perl','Scla','Lisp']\n",
        "performance=[10,8,6,4,2,1]\n",
        "plt.bar(objects,performance); plt.show()"
      ],
      "execution_count": null,
      "outputs": [
        {
          "output_type": "display_data",
          "data": {
            "image/png": "[encoded data removed]",
            "text/plain": [
              "<Figure size 432x288 with 1 Axes>"
            ]
          },
          "metadata": {
            "tags": [],
            "needs_background": "light"
          }
        }
      ]
    },
    {
      "cell_type": "code",
      "metadata": {
        "colab": {
          "base_uri": "https://localhost:8080/",
          "height": 248
        },
        "id": "FpJavkQDzRns",
        "outputId": "59d27d69-9977-4cad-d197-199b330a76e9"
      },
      "source": [
        "plt.pie(performance, labels=objects); plt.show()"
      ],
      "execution_count": null,
      "outputs": [
        {
          "output_type": "display_data",
          "data": {
            "image/png": "[encoded data removed]",
            "text/plain": [
              "<Figure size 432x288 with 1 Axes>"
            ]
          },
          "metadata": {
            "tags": []
          }
        }
      ]
    },
    {
      "cell_type": "code",
      "metadata": {
        "colab": {
          "base_uri": "https://localhost:8080/",
          "height": 295
        },
        "id": "mGDDRMxczdHx",
        "outputId": "39e34147-7fff-4e2d-c079-95197c090596"
      },
      "source": [
        "plt.plot(year,pop)\n",
        "plt.xlabel('Year')\n",
        "plt.ylabel('Populations')\n",
        "plt.title('World Population Projections')\n",
        "plt.yticks([0,2,4,6,8,20],['a','bT','cT','dT','eT','fT']);plt.show()"
      ],
      "execution_count": null,
      "outputs": [
        {
          "output_type": "display_data",
          "data": {
            "image/png": "[encoded data removed]",
            "text/plain": [
              "<Figure size 432x288 with 1 Axes>"
            ]
          },
          "metadata": {
            "tags": [],
            "needs_background": "light"
          }
        }
      ]
    },
    {
      "cell_type": "markdown",
      "metadata": {
        "id": "WvShDIW50I2-"
      },
      "source": [
        "# Joint, Pair plot\n",
        "```\n",
        "sns.jointplot(x=\"Fare\", y=\"Age\", data=ti)\n",
        "sns.jointplot(x=\"Temp\", y=\"Ozone\", data=aq, kind = 'kde')\n",
        "# pairplot는 NaN값을 사용할 수 없기 때문에 사전 제거\n",
        "ti2 = ti[ti['Age'].notnull()]\n",
        "sns.pairplot(ti2, vars = ['Age','Fare'], hue = \"Survived\") ; \n",
        "plt.show()\n",
        "```"
      ]
    },
    {
      "cell_type": "markdown",
      "metadata": {
        "id": "2fGRKN712cCu"
      },
      "source": [
        "# CDA : 우연인지 확인\n"
      ]
    },
    {
      "cell_type": "code",
      "metadata": {
        "id": "zW85cVjk2hYT"
      },
      "source": [
        "import scipy.stats as spst\n",
        "import numpy as np\n",
        "import matplotlib.pyplot as plt\n",
        "import pandas as pd\n",
        "import seaborn as sns"
      ],
      "execution_count": null,
      "outputs": []
    },
    {
      "cell_type": "code",
      "metadata": {
        "id": "pPdJypoa3B6G"
      },
      "source": [
        "# spst.ttest_1samp(A,popmean=5)"
      ],
      "execution_count": null,
      "outputs": []
    },
    {
      "cell_type": "code",
      "metadata": {
        "colab": {
          "base_uri": "https://localhost:8080/",
          "height": 363
        },
        "id": "lJBqGJVy5YCA",
        "outputId": "6a1d78c4-68b3-4e6c-d0ee-e008962c7642"
      },
      "source": [
        "shirts=[0,0,0,0,0,0,1,1,0,0]\n",
        "pants =[0,0,1,0,0,0,1,0,1,1]\n",
        "df = pd.DataFrame(dict(shirts=shirts, pants=pants))\n",
        "df"
      ],
      "execution_count": null,
      "outputs": [
        {
          "output_type": "execute_result",
          "data": {
            "text/html": [
              "<div>\n",
              "<style scoped>\n",
              "    .dataframe tbody tr th:only-of-type {\n",
              "        vertical-align: middle;\n",
              "    }\n",
              "\n",
              "    .dataframe tbody tr th {\n",
              "        vertical-align: top;\n",
              "    }\n",
              "\n",
              "    .dataframe thead th {\n",
              "        text-align: right;\n",
              "    }\n",
              "</style>\n",
              "<table border=\"1\" class=\"dataframe\">\n",
              "  <thead>\n",
              "    <tr style=\"text-align: right;\">\n",
              "      <th></th>\n",
              "      <th>shirts</th>\n",
              "      <th>pants</th>\n",
              "    </tr>\n",
              "  </thead>\n",
              "  <tbody>\n",
              "    <tr>\n",
              "      <th>0</th>\n",
              "      <td>0</td>\n",
              "      <td>0</td>\n",
              "    </tr>\n",
              "    <tr>\n",
              "      <th>1</th>\n",
              "      <td>0</td>\n",
              "      <td>0</td>\n",
              "    </tr>\n",
              "    <tr>\n",
              "      <th>2</th>\n",
              "      <td>0</td>\n",
              "      <td>1</td>\n",
              "    </tr>\n",
              "    <tr>\n",
              "      <th>3</th>\n",
              "      <td>0</td>\n",
              "      <td>0</td>\n",
              "    </tr>\n",
              "    <tr>\n",
              "      <th>4</th>\n",
              "      <td>0</td>\n",
              "      <td>0</td>\n",
              "    </tr>\n",
              "    <tr>\n",
              "      <th>5</th>\n",
              "      <td>0</td>\n",
              "      <td>0</td>\n",
              "    </tr>\n",
              "    <tr>\n",
              "      <th>6</th>\n",
              "      <td>1</td>\n",
              "      <td>1</td>\n",
              "    </tr>\n",
              "    <tr>\n",
              "      <th>7</th>\n",
              "      <td>1</td>\n",
              "      <td>0</td>\n",
              "    </tr>\n",
              "    <tr>\n",
              "      <th>8</th>\n",
              "      <td>0</td>\n",
              "      <td>1</td>\n",
              "    </tr>\n",
              "    <tr>\n",
              "      <th>9</th>\n",
              "      <td>0</td>\n",
              "      <td>1</td>\n",
              "    </tr>\n",
              "  </tbody>\n",
              "</table>\n",
              "</div>"
            ],
            "text/plain": [
              "   shirts  pants\n",
              "0       0      0\n",
              "1       0      0\n",
              "2       0      1\n",
              "3       0      0\n",
              "4       0      0\n",
              "5       0      0\n",
              "6       1      1\n",
              "7       1      0\n",
              "8       0      1\n",
              "9       0      1"
            ]
          },
          "metadata": {
            "tags": []
          },
          "execution_count": 94
        }
      ]
    },
    {
      "cell_type": "code",
      "metadata": {
        "colab": {
          "base_uri": "https://localhost:8080/",
          "height": 143
        },
        "id": "H-lpcs3U5_LE",
        "outputId": "7f88baf9-197f-4acb-b851-bffc58c616f2"
      },
      "source": [
        "contingency = pd.crosstab(df['shirts'], df['pants'])\n",
        "contingency"
      ],
      "execution_count": null,
      "outputs": [
        {
          "output_type": "execute_result",
          "data": {
            "text/html": [
              "<div>\n",
              "<style scoped>\n",
              "    .dataframe tbody tr th:only-of-type {\n",
              "        vertical-align: middle;\n",
              "    }\n",
              "\n",
              "    .dataframe tbody tr th {\n",
              "        vertical-align: top;\n",
              "    }\n",
              "\n",
              "    .dataframe thead th {\n",
              "        text-align: right;\n",
              "    }\n",
              "</style>\n",
              "<table border=\"1\" class=\"dataframe\">\n",
              "  <thead>\n",
              "    <tr style=\"text-align: right;\">\n",
              "      <th>pants</th>\n",
              "      <th>0</th>\n",
              "      <th>1</th>\n",
              "    </tr>\n",
              "    <tr>\n",
              "      <th>shirts</th>\n",
              "      <th></th>\n",
              "      <th></th>\n",
              "    </tr>\n",
              "  </thead>\n",
              "  <tbody>\n",
              "    <tr>\n",
              "      <th>0</th>\n",
              "      <td>5</td>\n",
              "      <td>3</td>\n",
              "    </tr>\n",
              "    <tr>\n",
              "      <th>1</th>\n",
              "      <td>1</td>\n",
              "      <td>1</td>\n",
              "    </tr>\n",
              "  </tbody>\n",
              "</table>\n",
              "</div>"
            ],
            "text/plain": [
              "pants   0  1\n",
              "shirts      \n",
              "0       5  3\n",
              "1       1  1"
            ]
          },
          "metadata": {
            "tags": []
          },
          "execution_count": 100
        }
      ]
    },
    {
      "cell_type": "code",
      "metadata": {
        "colab": {
          "base_uri": "https://localhost:8080/"
        },
        "id": "C9K4DmTD6qaO",
        "outputId": "a8680d2f-c2fd-47b2-a8be-716fd3db5853"
      },
      "source": [
        "chiresult = spst.chi2_contingency(contingency)\n",
        "chiresult"
      ],
      "execution_count": null,
      "outputs": [
        {
          "output_type": "execute_result",
          "data": {
            "text/plain": [
              "(0.234375, 0.6282986371759213, 1, array([[4.8, 3.2],\n",
              "        [1.2, 0.8]]))"
            ]
          },
          "metadata": {
            "tags": []
          },
          "execution_count": 105
        }
      ]
    },
    {
      "cell_type": "code",
      "metadata": {
        "colab": {
          "base_uri": "https://localhost:8080/"
        },
        "id": "eCIdzGB07Fi-",
        "outputId": "1ee91ab3-448f-4b7c-94d5-72b6aa557d5f"
      },
      "source": [
        "for a,b in zip(['카이제곱통계량:','p_value:','자유도:','기대 빈도 분할표\\n'],chiresult):\n",
        "    print(a,b)"
      ],
      "execution_count": null,
      "outputs": [
        {
          "output_type": "stream",
          "text": [
            "카이제곱통계량: 0.234375\n",
            "p_value: 0.6282986371759213\n",
            "자유도: 1\n",
            "기대 빈도 분할표\n",
            " [[4.8 3.2]\n",
            " [1.2 0.8]]\n"
          ],
          "name": "stdout"
        }
      ]
    },
    {
      "cell_type": "code",
      "metadata": {
        "colab": {
          "base_uri": "https://localhost:8080/"
        },
        "id": "grnb7YKh-NlD",
        "outputId": "8fd4db09-89ae-44aa-beba-51f7a95638f8"
      },
      "source": [
        "#피셔의 직접확률 검정 : 빈도 5미만일때\n",
        "import scipy.stats as spst\n",
        "oddsratio, pvalue=spst.fisher_exact([[8,2],[1,5]])\n",
        "pvalue"
      ],
      "execution_count": null,
      "outputs": [
        {
          "output_type": "execute_result",
          "data": {
            "text/plain": [
              "0.03496503496503495"
            ]
          },
          "metadata": {
            "tags": []
          },
          "execution_count": 112
        }
      ]
    },
    {
      "cell_type": "markdown",
      "metadata": {
        "id": "9RmrUPy_-zrY"
      },
      "source": [
        "* 해석\n",
        "    - 우연히 관찰할 확률은 3.5%, 유의수준은 통상 5%, 채택하면 통계적으로 유의하다는 결론 > 고래는 대서양을 선호하고, 상어는 인도양을 선호한다."
      ]
    },
    {
      "cell_type": "code",
      "metadata": {
        "colab": {
          "base_uri": "https://localhost:8080/",
          "height": 112
        },
        "id": "EGlUFabx_frF",
        "outputId": "413d7b81-dd31-4b27-826d-e5ae63f316d8"
      },
      "source": [
        "#맥네마의 검정\n",
        "#같은 샘플의 전후상태, 상태는 1,0 또는 good,bad처럼 명목형\n",
        "\n",
        "data=pd.DataFrame([[40,6],[2,11]],columns=['After:Good','After:Bad'])\n",
        "data.index=['Before:Good','Before:Bad']\n",
        "data"
      ],
      "execution_count": null,
      "outputs": [
        {
          "output_type": "execute_result",
          "data": {
            "text/html": [
              "<div>\n",
              "<style scoped>\n",
              "    .dataframe tbody tr th:only-of-type {\n",
              "        vertical-align: middle;\n",
              "    }\n",
              "\n",
              "    .dataframe tbody tr th {\n",
              "        vertical-align: top;\n",
              "    }\n",
              "\n",
              "    .dataframe thead th {\n",
              "        text-align: right;\n",
              "    }\n",
              "</style>\n",
              "<table border=\"1\" class=\"dataframe\">\n",
              "  <thead>\n",
              "    <tr style=\"text-align: right;\">\n",
              "      <th></th>\n",
              "      <th>After:Good</th>\n",
              "      <th>After:Bad</th>\n",
              "    </tr>\n",
              "  </thead>\n",
              "  <tbody>\n",
              "    <tr>\n",
              "      <th>Before:Good</th>\n",
              "      <td>40</td>\n",
              "      <td>6</td>\n",
              "    </tr>\n",
              "    <tr>\n",
              "      <th>Before:Bad</th>\n",
              "      <td>2</td>\n",
              "      <td>11</td>\n",
              "    </tr>\n",
              "  </tbody>\n",
              "</table>\n",
              "</div>"
            ],
            "text/plain": [
              "             After:Good  After:Bad\n",
              "Before:Good          40          6\n",
              "Before:Bad            2         11"
            ]
          },
          "metadata": {
            "tags": []
          },
          "execution_count": 113
        }
      ]
    },
    {
      "cell_type": "code",
      "metadata": {
        "colab": {
          "base_uri": "https://localhost:8080/"
        },
        "id": "ZEs5YSJc_6Xg",
        "outputId": "d68d7fff-e803-4b2d-9d01-8d7be429f675"
      },
      "source": [
        "from statsmodels.stats.contingency_tables import mcnemar\n",
        "result= mcnemar(data.values, exact=True)\n",
        "print(result)"
      ],
      "execution_count": null,
      "outputs": [
        {
          "output_type": "stream",
          "text": [
            "pvalue      0.2890624999999999\n",
            "statistic   2.0\n"
          ],
          "name": "stdout"
        }
      ]
    },
    {
      "cell_type": "markdown",
      "metadata": {
        "id": "WHiWfGoTAcfM"
      },
      "source": [
        "* p_value가 0.05보다 크므로 귀무가설을 기각하지 않아, 전후 차이가 있다고 보기 어렵다."
      ]
    },
    {
      "cell_type": "code",
      "metadata": {
        "colab": {
          "base_uri": "https://localhost:8080/"
        },
        "id": "PuSQDFtfE2Dl",
        "outputId": "e757f71c-fa1d-4681-eeef-968e13d703c9"
      },
      "source": [
        "import sklearn.linear_model as lm\n",
        "help(lm.LinearRegression.fit)"
      ],
      "execution_count": null,
      "outputs": [
        {
          "output_type": "stream",
          "text": [
            "Help on function fit in module sklearn.linear_model._base:\n",
            "\n",
            "fit(self, X, y, sample_weight=None)\n",
            "    Fit linear model.\n",
            "    \n",
            "    Parameters\n",
            "    ----------\n",
            "    X : {array-like, sparse matrix} of shape (n_samples, n_features)\n",
            "        Training data\n",
            "    \n",
            "    y : array-like of shape (n_samples,) or (n_samples, n_targets)\n",
            "        Target values. Will be cast to X's dtype if necessary\n",
            "    \n",
            "    sample_weight : array-like of shape (n_samples,), default=None\n",
            "        Individual weights for each sample\n",
            "    \n",
            "        .. versionadded:: 0.17\n",
            "           parameter *sample_weight* support to LinearRegression.\n",
            "    \n",
            "    Returns\n",
            "    -------\n",
            "    self : returns an instance of self.\n",
            "\n"
          ],
          "name": "stdout"
        }
      ]
    },
    {
      "cell_type": "code",
      "metadata": {
        "id": "FNFv3alOHPPQ"
      },
      "source": [
        "from sklearn.datasets import load_boston\n",
        "from sklearn.model_selection import cross_val_score\n",
        "from sklearn.ensemble import RandomForestRegressor\n",
        "import pandas as pd\n",
        "import numpy as np\n",
        "\n",
        "#보스턴 데이터\n",
        "boston = load_boston()\n",
        "df=pd.DataFrame(boston.data, columns=boston.feature_names)"
      ],
      "execution_count": null,
      "outputs": []
    },
    {
      "cell_type": "code",
      "metadata": {
        "colab": {
          "base_uri": "https://localhost:8080/",
          "height": 424
        },
        "id": "lvNIyc-0Hr7K",
        "outputId": "64c4f527-b5d9-4920-bdf9-db575895b03f"
      },
      "source": [
        "df['PRICE']=boston.target\n",
        "y_target=df.PRICE\n",
        "X_data = df.drop(['PRICE'],axis=1, inplace=False)\n",
        "X_data"
      ],
      "execution_count": null,
      "outputs": [
        {
          "output_type": "execute_result",
          "data": {
            "text/html": [
              "<div>\n",
              "<style scoped>\n",
              "    .dataframe tbody tr th:only-of-type {\n",
              "        vertical-align: middle;\n",
              "    }\n",
              "\n",
              "    .dataframe tbody tr th {\n",
              "        vertical-align: top;\n",
              "    }\n",
              "\n",
              "    .dataframe thead th {\n",
              "        text-align: right;\n",
              "    }\n",
              "</style>\n",
              "<table border=\"1\" class=\"dataframe\">\n",
              "  <thead>\n",
              "    <tr style=\"text-align: right;\">\n",
              "      <th></th>\n",
              "      <th>CRIM</th>\n",
              "      <th>ZN</th>\n",
              "      <th>INDUS</th>\n",
              "      <th>CHAS</th>\n",
              "      <th>NOX</th>\n",
              "      <th>RM</th>\n",
              "      <th>AGE</th>\n",
              "      <th>DIS</th>\n",
              "      <th>RAD</th>\n",
              "      <th>TAX</th>\n",
              "      <th>PTRATIO</th>\n",
              "      <th>B</th>\n",
              "      <th>LSTAT</th>\n",
              "    </tr>\n",
              "  </thead>\n",
              "  <tbody>\n",
              "    <tr>\n",
              "      <th>0</th>\n",
              "      <td>0.00632</td>\n",
              "      <td>18.0</td>\n",
              "      <td>2.31</td>\n",
              "      <td>0.0</td>\n",
              "      <td>0.538</td>\n",
              "      <td>6.575</td>\n",
              "      <td>65.2</td>\n",
              "      <td>4.0900</td>\n",
              "      <td>1.0</td>\n",
              "      <td>296.0</td>\n",
              "      <td>15.3</td>\n",
              "      <td>396.90</td>\n",
              "      <td>4.98</td>\n",
              "    </tr>\n",
              "    <tr>\n",
              "      <th>1</th>\n",
              "      <td>0.02731</td>\n",
              "      <td>0.0</td>\n",
              "      <td>7.07</td>\n",
              "      <td>0.0</td>\n",
              "      <td>0.469</td>\n",
              "      <td>6.421</td>\n",
              "      <td>78.9</td>\n",
              "      <td>4.9671</td>\n",
              "      <td>2.0</td>\n",
              "      <td>242.0</td>\n",
              "      <td>17.8</td>\n",
              "      <td>396.90</td>\n",
              "      <td>9.14</td>\n",
              "    </tr>\n",
              "    <tr>\n",
              "      <th>2</th>\n",
              "      <td>0.02729</td>\n",
              "      <td>0.0</td>\n",
              "      <td>7.07</td>\n",
              "      <td>0.0</td>\n",
              "      <td>0.469</td>\n",
              "      <td>7.185</td>\n",
              "      <td>61.1</td>\n",
              "      <td>4.9671</td>\n",
              "      <td>2.0</td>\n",
              "      <td>242.0</td>\n",
              "      <td>17.8</td>\n",
              "      <td>392.83</td>\n",
              "      <td>4.03</td>\n",
              "    </tr>\n",
              "    <tr>\n",
              "      <th>3</th>\n",
              "      <td>0.03237</td>\n",
              "      <td>0.0</td>\n",
              "      <td>2.18</td>\n",
              "      <td>0.0</td>\n",
              "      <td>0.458</td>\n",
              "      <td>6.998</td>\n",
              "      <td>45.8</td>\n",
              "      <td>6.0622</td>\n",
              "      <td>3.0</td>\n",
              "      <td>222.0</td>\n",
              "      <td>18.7</td>\n",
              "      <td>394.63</td>\n",
              "      <td>2.94</td>\n",
              "    </tr>\n",
              "    <tr>\n",
              "      <th>4</th>\n",
              "      <td>0.06905</td>\n",
              "      <td>0.0</td>\n",
              "      <td>2.18</td>\n",
              "      <td>0.0</td>\n",
              "      <td>0.458</td>\n",
              "      <td>7.147</td>\n",
              "      <td>54.2</td>\n",
              "      <td>6.0622</td>\n",
              "      <td>3.0</td>\n",
              "      <td>222.0</td>\n",
              "      <td>18.7</td>\n",
              "      <td>396.90</td>\n",
              "      <td>5.33</td>\n",
              "    </tr>\n",
              "    <tr>\n",
              "      <th>...</th>\n",
              "      <td>...</td>\n",
              "      <td>...</td>\n",
              "      <td>...</td>\n",
              "      <td>...</td>\n",
              "      <td>...</td>\n",
              "      <td>...</td>\n",
              "      <td>...</td>\n",
              "      <td>...</td>\n",
              "      <td>...</td>\n",
              "      <td>...</td>\n",
              "      <td>...</td>\n",
              "      <td>...</td>\n",
              "      <td>...</td>\n",
              "    </tr>\n",
              "    <tr>\n",
              "      <th>501</th>\n",
              "      <td>0.06263</td>\n",
              "      <td>0.0</td>\n",
              "      <td>11.93</td>\n",
              "      <td>0.0</td>\n",
              "      <td>0.573</td>\n",
              "      <td>6.593</td>\n",
              "      <td>69.1</td>\n",
              "      <td>2.4786</td>\n",
              "      <td>1.0</td>\n",
              "      <td>273.0</td>\n",
              "      <td>21.0</td>\n",
              "      <td>391.99</td>\n",
              "      <td>9.67</td>\n",
              "    </tr>\n",
              "    <tr>\n",
              "      <th>502</th>\n",
              "      <td>0.04527</td>\n",
              "      <td>0.0</td>\n",
              "      <td>11.93</td>\n",
              "      <td>0.0</td>\n",
              "      <td>0.573</td>\n",
              "      <td>6.120</td>\n",
              "      <td>76.7</td>\n",
              "      <td>2.2875</td>\n",
              "      <td>1.0</td>\n",
              "      <td>273.0</td>\n",
              "      <td>21.0</td>\n",
              "      <td>396.90</td>\n",
              "      <td>9.08</td>\n",
              "    </tr>\n",
              "    <tr>\n",
              "      <th>503</th>\n",
              "      <td>0.06076</td>\n",
              "      <td>0.0</td>\n",
              "      <td>11.93</td>\n",
              "      <td>0.0</td>\n",
              "      <td>0.573</td>\n",
              "      <td>6.976</td>\n",
              "      <td>91.0</td>\n",
              "      <td>2.1675</td>\n",
              "      <td>1.0</td>\n",
              "      <td>273.0</td>\n",
              "      <td>21.0</td>\n",
              "      <td>396.90</td>\n",
              "      <td>5.64</td>\n",
              "    </tr>\n",
              "    <tr>\n",
              "      <th>504</th>\n",
              "      <td>0.10959</td>\n",
              "      <td>0.0</td>\n",
              "      <td>11.93</td>\n",
              "      <td>0.0</td>\n",
              "      <td>0.573</td>\n",
              "      <td>6.794</td>\n",
              "      <td>89.3</td>\n",
              "      <td>2.3889</td>\n",
              "      <td>1.0</td>\n",
              "      <td>273.0</td>\n",
              "      <td>21.0</td>\n",
              "      <td>393.45</td>\n",
              "      <td>6.48</td>\n",
              "    </tr>\n",
              "    <tr>\n",
              "      <th>505</th>\n",
              "      <td>0.04741</td>\n",
              "      <td>0.0</td>\n",
              "      <td>11.93</td>\n",
              "      <td>0.0</td>\n",
              "      <td>0.573</td>\n",
              "      <td>6.030</td>\n",
              "      <td>80.8</td>\n",
              "      <td>2.5050</td>\n",
              "      <td>1.0</td>\n",
              "      <td>273.0</td>\n",
              "      <td>21.0</td>\n",
              "      <td>396.90</td>\n",
              "      <td>7.88</td>\n",
              "    </tr>\n",
              "  </tbody>\n",
              "</table>\n",
              "<p>506 rows × 13 columns</p>\n",
              "</div>"
            ],
            "text/plain": [
              "        CRIM    ZN  INDUS  CHAS    NOX  ...  RAD    TAX  PTRATIO       B  LSTAT\n",
              "0    0.00632  18.0   2.31   0.0  0.538  ...  1.0  296.0     15.3  396.90   4.98\n",
              "1    0.02731   0.0   7.07   0.0  0.469  ...  2.0  242.0     17.8  396.90   9.14\n",
              "2    0.02729   0.0   7.07   0.0  0.469  ...  2.0  242.0     17.8  392.83   4.03\n",
              "3    0.03237   0.0   2.18   0.0  0.458  ...  3.0  222.0     18.7  394.63   2.94\n",
              "4    0.06905   0.0   2.18   0.0  0.458  ...  3.0  222.0     18.7  396.90   5.33\n",
              "..       ...   ...    ...   ...    ...  ...  ...    ...      ...     ...    ...\n",
              "501  0.06263   0.0  11.93   0.0  0.573  ...  1.0  273.0     21.0  391.99   9.67\n",
              "502  0.04527   0.0  11.93   0.0  0.573  ...  1.0  273.0     21.0  396.90   9.08\n",
              "503  0.06076   0.0  11.93   0.0  0.573  ...  1.0  273.0     21.0  396.90   5.64\n",
              "504  0.10959   0.0  11.93   0.0  0.573  ...  1.0  273.0     21.0  393.45   6.48\n",
              "505  0.04741   0.0  11.93   0.0  0.573  ...  1.0  273.0     21.0  396.90   7.88\n",
              "\n",
              "[506 rows x 13 columns]"
            ]
          },
          "metadata": {
            "tags": []
          },
          "execution_count": 131
        }
      ]
    },
    {
      "cell_type": "code",
      "metadata": {
        "colab": {
          "base_uri": "https://localhost:8080/"
        },
        "id": "kEBdnBYbIuKd",
        "outputId": "6ea9a98e-753c-4546-a144-95d585bdb9f7"
      },
      "source": [
        "rf=RandomForestRegressor(random_state=42, n_estimators=1000)\n",
        "nmse_scores= cross_val_score(rf, X_data, y_target, scoring='neg_mean_squared_error',cv=5)\n",
        "rmse_scores= np.sqrt(-1*nmse_scores)\n",
        "avg_rmse=np.mean(rmse_scores)\n",
        "for i in [nmse_scores, rmse_scores, avg_rmse]:\n",
        "    print(i)"
      ],
      "execution_count": null,
      "outputs": [
        {
          "output_type": "stream",
          "text": [
            "[ -8.05971503 -12.65827048 -21.3150073  -46.28824847 -18.79684213]\n",
            "[2.83896372 3.55784633 4.61681788 6.80354676 4.33553251]\n",
            "4.430541438400857\n"
          ],
          "name": "stdout"
        }
      ]
    },
    {
      "cell_type": "code",
      "metadata": {
        "colab": {
          "base_uri": "https://localhost:8080/"
        },
        "id": "UjI05BTjKWyO",
        "outputId": "20d4347d-ba64-409a-a902-790ec5ced2d4"
      },
      "source": [
        "from sklearn.tree import DecisionTreeRegressor\n",
        "from sklearn.ensemble import GradientBoostingRegressor\n",
        "from xgboost import XGBRegressor\n",
        "from lightgbm import LGBMRegressor\n",
        "\n",
        "m1=DecisionTreeRegressor(random_state=42, max_depth=4)\n",
        "m2=RandomForestRegressor(random_state=42, n_estimators=1000)\n",
        "m3=GradientBoostingRegressor(random_state=42, n_estimators=1000)\n",
        "m4=XGBRegressor(random_state=42, n_estimators=1000)\n",
        "m5=LGBMRegressor(random_state=42, n_estimators=1000)\n",
        "\n",
        "for i in [m1,m2,m3,m4,m5]:\n",
        "    nmse_scores= cross_val_score(i, X_data, y_target, scoring='neg_mean_squared_error',cv=5)\n",
        "    rmse_scores= np.sqrt(-1*nmse_scores)\n",
        "    avg_rmse=np.mean(rmse_scores)\n",
        "    print(i.__class__.__name__,'의 평균 RMSE : ',np.round(avg_rmse,2))"
      ],
      "execution_count": null,
      "outputs": [
        {
          "output_type": "stream",
          "text": [
            "DecisionTreeRegressor 의 평균 RMS :  6.07\n",
            "RandomForestRegressor 의 평균 RMS :  4.43\n",
            "GradientBoostingRegressor 의 평균 RMS :  4.23\n",
            "[10:26:13] WARNING: /workspace/src/objective/regression_obj.cu:152: reg:linear is now deprecated in favor of reg:squarederror.\n",
            "[10:26:13] WARNING: /workspace/src/objective/regression_obj.cu:152: reg:linear is now deprecated in favor of reg:squarederror.\n",
            "[10:26:13] WARNING: /workspace/src/objective/regression_obj.cu:152: reg:linear is now deprecated in favor of reg:squarederror.\n",
            "[10:26:14] WARNING: /workspace/src/objective/regression_obj.cu:152: reg:linear is now deprecated in favor of reg:squarederror.\n",
            "[10:26:14] WARNING: /workspace/src/objective/regression_obj.cu:152: reg:linear is now deprecated in favor of reg:squarederror.\n",
            "XGBRegressor 의 평균 RMS :  4.09\n",
            "LGBMRegressor 의 평균 RMS :  4.65\n"
          ],
          "name": "stdout"
        }
      ]
    },
    {
      "cell_type": "code",
      "metadata": {
        "id": "De5FszxvOH2V"
      },
      "source": [
        "import seaborn as sns\n",
        "model = RandomForestRegressor(random_state=42, n_estimators=1000)\n",
        "model.fit(X_data,y_target)\n"
      ],
      "execution_count": null,
      "outputs": []
    },
    {
      "cell_type": "code",
      "metadata": {
        "colab": {
          "base_uri": "https://localhost:8080/",
          "height": 284
        },
        "id": "WQ1MW96MPEGE",
        "outputId": "50038b0d-38da-43ac-fb8a-2bcd881d88d4"
      },
      "source": [
        "fs = pd.Series(data=model.feature_importances_, index=X_data.columns)\n",
        "fs = fs.sort_values(ascending=False)\n",
        "sns.barplot(x=fs, y=fs.index)"
      ],
      "execution_count": null,
      "outputs": [
        {
          "output_type": "execute_result",
          "data": {
            "text/plain": [
              "<matplotlib.axes._subplots.AxesSubplot at 0x7f89115022d0>"
            ]
          },
          "metadata": {
            "tags": []
          },
          "execution_count": 143
        },
        {
          "output_type": "display_data",
          "data": {
            "image/png": "[encoded data removed]",
            "text/plain": [
              "<Figure size 432x288 with 1 Axes>"
            ]
          },
          "metadata": {
            "tags": [],
            "needs_background": "light"
          }
        }
      ]
    },
    {
      "cell_type": "code",
      "metadata": {
        "colab": {
          "base_uri": "https://localhost:8080/"
        },
        "id": "PzNm67PuPLk8",
        "outputId": "b2f9bdd8-efb9-4dbe-bf1c-22876f767e71"
      },
      "source": [
        "# dir(model)"
      ],
      "execution_count": null,
      "outputs": [
        {
          "output_type": "execute_result",
          "data": {
            "text/plain": [
              "['__abstractmethods__',\n",
              " '__class__',\n",
              " '__delattr__',\n",
              " '__dict__',\n",
              " '__dir__',\n",
              " '__doc__',\n",
              " '__eq__',\n",
              " '__format__',\n",
              " '__ge__',\n",
              " '__getattribute__',\n",
              " '__getitem__',\n",
              " '__getstate__',\n",
              " '__gt__',\n",
              " '__hash__',\n",
              " '__init__',\n",
              " '__init_subclass__',\n",
              " '__iter__',\n",
              " '__le__',\n",
              " '__len__',\n",
              " '__lt__',\n",
              " '__module__',\n",
              " '__ne__',\n",
              " '__new__',\n",
              " '__reduce__',\n",
              " '__reduce_ex__',\n",
              " '__repr__',\n",
              " '__setattr__',\n",
              " '__setstate__',\n",
              " '__sizeof__',\n",
              " '__str__',\n",
              " '__subclasshook__',\n",
              " '__weakref__',\n",
              " '_abc_impl',\n",
              " '_estimator_type',\n",
              " '_get_param_names',\n",
              " '_get_tags',\n",
              " '_make_estimator',\n",
              " '_more_tags',\n",
              " '_required_parameters',\n",
              " '_set_oob_score',\n",
              " '_validate_X_predict',\n",
              " '_validate_estimator',\n",
              " '_validate_y_class_weight',\n",
              " 'apply',\n",
              " 'base_estimator',\n",
              " 'base_estimator_',\n",
              " 'bootstrap',\n",
              " 'ccp_alpha',\n",
              " 'class_weight',\n",
              " 'criterion',\n",
              " 'decision_path',\n",
              " 'estimator_params',\n",
              " 'estimators_',\n",
              " 'feature_importances_',\n",
              " 'fit',\n",
              " 'get_params',\n",
              " 'max_depth',\n",
              " 'max_features',\n",
              " 'max_leaf_nodes',\n",
              " 'max_samples',\n",
              " 'min_impurity_decrease',\n",
              " 'min_impurity_split',\n",
              " 'min_samples_leaf',\n",
              " 'min_samples_split',\n",
              " 'min_weight_fraction_leaf',\n",
              " 'n_estimators',\n",
              " 'n_features_',\n",
              " 'n_jobs',\n",
              " 'n_outputs_',\n",
              " 'oob_score',\n",
              " 'predict',\n",
              " 'random_state',\n",
              " 'score',\n",
              " 'set_params',\n",
              " 'verbose',\n",
              " 'warm_start']"
            ]
          },
          "metadata": {
            "tags": []
          },
          "execution_count": 144
        }
      ]
    },
    {
      "cell_type": "markdown",
      "metadata": {
        "id": "ZVhi5AQuQWAM"
      },
      "source": [
        "# 피쳐 선택"
      ]
    },
    {
      "cell_type": "code",
      "metadata": {
        "id": "yfQD-jw3QZiu"
      },
      "source": [
        "from sklearn.feature_selection import VarianceThreshold,SelectKBest,chi2\n",
        "\n",
        "s1=VarianceThreshold(threshold=0.2)\n",
        "xr= s1.fit_transform(X_data) "
      ],
      "execution_count": null,
      "outputs": []
    },
    {
      "cell_type": "code",
      "metadata": {
        "colab": {
          "base_uri": "https://localhost:8080/"
        },
        "id": "EAp2ZOwZQyyI",
        "outputId": "2d6a1dcb-b78e-4c7a-a87b-c1fa1e06fd53"
      },
      "source": [
        "print(X_data.shape)\n",
        "print(xr.shape)"
      ],
      "execution_count": null,
      "outputs": [
        {
          "output_type": "stream",
          "text": [
            "(506, 13)\n",
            "(506, 11)\n"
          ],
          "name": "stdout"
        }
      ]
    },
    {
      "cell_type": "code",
      "metadata": {
        "colab": {
          "base_uri": "https://localhost:8080/",
          "height": 112
        },
        "id": "KP4mNlEeQ6zZ",
        "outputId": "f9a29948-a732-404f-d691-9a5918a4afa4"
      },
      "source": [
        "X_data.head(2)"
      ],
      "execution_count": null,
      "outputs": [
        {
          "output_type": "execute_result",
          "data": {
            "text/html": [
              "<div>\n",
              "<style scoped>\n",
              "    .dataframe tbody tr th:only-of-type {\n",
              "        vertical-align: middle;\n",
              "    }\n",
              "\n",
              "    .dataframe tbody tr th {\n",
              "        vertical-align: top;\n",
              "    }\n",
              "\n",
              "    .dataframe thead th {\n",
              "        text-align: right;\n",
              "    }\n",
              "</style>\n",
              "<table border=\"1\" class=\"dataframe\">\n",
              "  <thead>\n",
              "    <tr style=\"text-align: right;\">\n",
              "      <th></th>\n",
              "      <th>CRIM</th>\n",
              "      <th>ZN</th>\n",
              "      <th>INDUS</th>\n",
              "      <th>CHAS</th>\n",
              "      <th>NOX</th>\n",
              "      <th>RM</th>\n",
              "      <th>AGE</th>\n",
              "      <th>DIS</th>\n",
              "      <th>RAD</th>\n",
              "      <th>TAX</th>\n",
              "      <th>PTRATIO</th>\n",
              "      <th>B</th>\n",
              "      <th>LSTAT</th>\n",
              "    </tr>\n",
              "  </thead>\n",
              "  <tbody>\n",
              "    <tr>\n",
              "      <th>0</th>\n",
              "      <td>0.00632</td>\n",
              "      <td>18.0</td>\n",
              "      <td>2.31</td>\n",
              "      <td>0.0</td>\n",
              "      <td>0.538</td>\n",
              "      <td>6.575</td>\n",
              "      <td>65.2</td>\n",
              "      <td>4.0900</td>\n",
              "      <td>1.0</td>\n",
              "      <td>296.0</td>\n",
              "      <td>15.3</td>\n",
              "      <td>396.9</td>\n",
              "      <td>4.98</td>\n",
              "    </tr>\n",
              "    <tr>\n",
              "      <th>1</th>\n",
              "      <td>0.02731</td>\n",
              "      <td>0.0</td>\n",
              "      <td>7.07</td>\n",
              "      <td>0.0</td>\n",
              "      <td>0.469</td>\n",
              "      <td>6.421</td>\n",
              "      <td>78.9</td>\n",
              "      <td>4.9671</td>\n",
              "      <td>2.0</td>\n",
              "      <td>242.0</td>\n",
              "      <td>17.8</td>\n",
              "      <td>396.9</td>\n",
              "      <td>9.14</td>\n",
              "    </tr>\n",
              "  </tbody>\n",
              "</table>\n",
              "</div>"
            ],
            "text/plain": [
              "      CRIM    ZN  INDUS  CHAS    NOX  ...  RAD    TAX  PTRATIO      B  LSTAT\n",
              "0  0.00632  18.0   2.31   0.0  0.538  ...  1.0  296.0     15.3  396.9   4.98\n",
              "1  0.02731   0.0   7.07   0.0  0.469  ...  2.0  242.0     17.8  396.9   9.14\n",
              "\n",
              "[2 rows x 13 columns]"
            ]
          },
          "metadata": {
            "tags": []
          },
          "execution_count": 159
        }
      ]
    },
    {
      "cell_type": "code",
      "metadata": {
        "colab": {
          "base_uri": "https://localhost:8080/",
          "height": 112
        },
        "id": "EN6mItkvSEp4",
        "outputId": "a19cd145-67e8-4bc6-c7ff-6d4a4b6e6f4a"
      },
      "source": [
        "pd.DataFrame(np.round(xr,1)[:2,:])"
      ],
      "execution_count": null,
      "outputs": [
        {
          "output_type": "execute_result",
          "data": {
            "text/html": [
              "<div>\n",
              "<style scoped>\n",
              "    .dataframe tbody tr th:only-of-type {\n",
              "        vertical-align: middle;\n",
              "    }\n",
              "\n",
              "    .dataframe tbody tr th {\n",
              "        vertical-align: top;\n",
              "    }\n",
              "\n",
              "    .dataframe thead th {\n",
              "        text-align: right;\n",
              "    }\n",
              "</style>\n",
              "<table border=\"1\" class=\"dataframe\">\n",
              "  <thead>\n",
              "    <tr style=\"text-align: right;\">\n",
              "      <th></th>\n",
              "      <th>0</th>\n",
              "      <th>1</th>\n",
              "      <th>2</th>\n",
              "      <th>3</th>\n",
              "      <th>4</th>\n",
              "      <th>5</th>\n",
              "      <th>6</th>\n",
              "      <th>7</th>\n",
              "      <th>8</th>\n",
              "      <th>9</th>\n",
              "      <th>10</th>\n",
              "    </tr>\n",
              "  </thead>\n",
              "  <tbody>\n",
              "    <tr>\n",
              "      <th>0</th>\n",
              "      <td>0.0</td>\n",
              "      <td>18.0</td>\n",
              "      <td>2.3</td>\n",
              "      <td>6.6</td>\n",
              "      <td>65.2</td>\n",
              "      <td>4.1</td>\n",
              "      <td>1.0</td>\n",
              "      <td>296.0</td>\n",
              "      <td>15.3</td>\n",
              "      <td>396.9</td>\n",
              "      <td>5.0</td>\n",
              "    </tr>\n",
              "    <tr>\n",
              "      <th>1</th>\n",
              "      <td>0.0</td>\n",
              "      <td>0.0</td>\n",
              "      <td>7.1</td>\n",
              "      <td>6.4</td>\n",
              "      <td>78.9</td>\n",
              "      <td>5.0</td>\n",
              "      <td>2.0</td>\n",
              "      <td>242.0</td>\n",
              "      <td>17.8</td>\n",
              "      <td>396.9</td>\n",
              "      <td>9.1</td>\n",
              "    </tr>\n",
              "  </tbody>\n",
              "</table>\n",
              "</div>"
            ],
            "text/plain": [
              "    0     1    2    3     4    5    6      7     8      9    10\n",
              "0  0.0  18.0  2.3  6.6  65.2  4.1  1.0  296.0  15.3  396.9  5.0\n",
              "1  0.0   0.0  7.1  6.4  78.9  5.0  2.0  242.0  17.8  396.9  9.1"
            ]
          },
          "metadata": {
            "tags": []
          },
          "execution_count": 164
        }
      ]
    },
    {
      "cell_type": "code",
      "metadata": {
        "id": "2RpMs9dzSdyd"
      },
      "source": [
        "#chi2\n",
        "# s1=SelectKBest(chi2, k='all')\n",
        "# xr = s1.fit_transform(X_data,y_target)"
      ],
      "execution_count": null,
      "outputs": []
    },
    {
      "cell_type": "code",
      "metadata": {
        "id": "6IYK3K55TK-p"
      },
      "source": [
        "# from sklearn.feature_selection import RFECV\n",
        "# from sklearn.svm import SVC\n",
        "# from sklearn.model_selection import StratifiedKFold\n",
        "\n",
        "# svc = SVC(kernel='linear')\n",
        "# rfecv = RFECV(estimator=svc, step=1, cv=StratifiedKFold(n_splits=2), scoring='accuracy', verbose=1)\n",
        "# rfecv.fit(X_data, y_target)\n",
        "\n",
        "# print(rfecv.n_features_)\n",
        "# print(rfecv.support_)\n",
        "\n",
        "# X_data.columns"
      ],
      "execution_count": null,
      "outputs": []
    },
    {
      "cell_type": "markdown",
      "metadata": {
        "id": "mAyQxXevnf8N"
      },
      "source": [
        "# 판별분석 QDA(Quadratic Discriminant Analysis)\n",
        "    * LDA는 선형 판별분석\n",
        "    * 이차 판별번숙으로 분류의 예시"
      ]
    },
    {
      "cell_type": "code",
      "metadata": {
        "colab": {
          "base_uri": "https://localhost:8080/"
        },
        "id": "Nil7EdNjn097",
        "outputId": "2359a393-6c83-4dae-8925-129d6c76e094"
      },
      "source": [
        "import numpy as np\n",
        "X=np.array([-1,-1,-2,-1,-3,-2,1,1,2,1,3,2]).reshape(-1,2)\n",
        "y=np.array([1,1,1,2,2,2])\n",
        "X.shape\n",
        "X"
      ],
      "execution_count": null,
      "outputs": [
        {
          "output_type": "execute_result",
          "data": {
            "text/plain": [
              "array([[-1, -1],\n",
              "       [-2, -1],\n",
              "       [-3, -2],\n",
              "       [ 1,  1],\n",
              "       [ 2,  1],\n",
              "       [ 3,  2]])"
            ]
          },
          "metadata": {
            "tags": []
          },
          "execution_count": 2
        }
      ]
    },
    {
      "cell_type": "code",
      "metadata": {
        "colab": {
          "base_uri": "https://localhost:8080/"
        },
        "id": "Xzsj4XR2oWKI",
        "outputId": "457602ca-78ba-40ce-e874-9cce896f4ae0"
      },
      "source": [
        "from sklearn.discriminant_analysis import QuadraticDiscriminantAnalysis\n",
        "clf2=QuadraticDiscriminantAnalysis()\n",
        "clf2.fit(X,y)"
      ],
      "execution_count": null,
      "outputs": [
        {
          "output_type": "execute_result",
          "data": {
            "text/plain": [
              "QuadraticDiscriminantAnalysis(priors=None, reg_param=0.0,\n",
              "                              store_covariance=False, tol=0.0001)"
            ]
          },
          "metadata": {
            "tags": []
          },
          "execution_count": 3
        }
      ]
    },
    {
      "cell_type": "code",
      "metadata": {
        "colab": {
          "base_uri": "https://localhost:8080/"
        },
        "id": "C6l_arvXomC2",
        "outputId": "03869315-dd24-4930-c199-b6a3fd5ad3d5"
      },
      "source": [
        "clf2.predict([[-0.8,-1]])"
      ],
      "execution_count": null,
      "outputs": [
        {
          "output_type": "execute_result",
          "data": {
            "text/plain": [
              "array([1])"
            ]
          },
          "metadata": {
            "tags": []
          },
          "execution_count": 4
        }
      ]
    },
    {
      "cell_type": "markdown",
      "metadata": {
        "id": "fDFUiochozoq"
      },
      "source": [
        "#다차원 척도법 MDS - 계량적(구간척도,비율척도)"
      ]
    },
    {
      "cell_type": "code",
      "metadata": {
        "colab": {
          "base_uri": "https://localhost:8080/"
        },
        "id": "yc0geqnyo6yT",
        "outputId": "6b7f4ab7-69a8-47af-b004-31ee73d8e1f1"
      },
      "source": [
        "from sklearn.datasets import load_digits\n",
        "X,_ = load_digits(return_X_y=True)\n",
        "X.shape"
      ],
      "execution_count": null,
      "outputs": [
        {
          "output_type": "execute_result",
          "data": {
            "text/plain": [
              "(1797, 64)"
            ]
          },
          "metadata": {
            "tags": []
          },
          "execution_count": 5
        }
      ]
    },
    {
      "cell_type": "code",
      "metadata": {
        "colab": {
          "base_uri": "https://localhost:8080/"
        },
        "id": "VjHKmoS1pGbJ",
        "outputId": "ccb63364-fdf4-4d93-9267-1f4ecc7155de"
      },
      "source": [
        "X"
      ],
      "execution_count": null,
      "outputs": [
        {
          "output_type": "execute_result",
          "data": {
            "text/plain": [
              "array([[ 0.,  0.,  5., ...,  0.,  0.,  0.],\n",
              "       [ 0.,  0.,  0., ..., 10.,  0.,  0.],\n",
              "       [ 0.,  0.,  0., ..., 16.,  9.,  0.],\n",
              "       ...,\n",
              "       [ 0.,  0.,  1., ...,  6.,  0.,  0.],\n",
              "       [ 0.,  0.,  2., ..., 12.,  0.,  0.],\n",
              "       [ 0.,  0., 10., ..., 12.,  1.,  0.]])"
            ]
          },
          "metadata": {
            "tags": []
          },
          "execution_count": 6
        }
      ]
    },
    {
      "cell_type": "code",
      "metadata": {
        "colab": {
          "base_uri": "https://localhost:8080/"
        },
        "id": "M1S56UprpHb2",
        "outputId": "e6ef1f4c-ec13-4dda-f1e0-da76588756b2"
      },
      "source": [
        "from sklearn.manifold import MDS\n",
        "mds=MDS(n_components=2)\n",
        "X_transformed=mds.fit_transform(X[:100])\n",
        "X_transformed[:5]"
      ],
      "execution_count": null,
      "outputs": [
        {
          "output_type": "execute_result",
          "data": {
            "text/plain": [
              "array([[ -0.53655329, -30.23753487],\n",
              "       [-13.45128862,  16.29315446],\n",
              "       [-25.91047008,  20.18416188],\n",
              "       [ 23.64386231, -15.64179902],\n",
              "       [-40.20071624,   3.60695965]])"
            ]
          },
          "metadata": {
            "tags": []
          },
          "execution_count": 7
        }
      ]
    },
    {
      "cell_type": "markdown",
      "metadata": {
        "id": "B9z6xVRDpcC5"
      },
      "source": [
        "# MDS - 비계량적(순서척도)"
      ]
    },
    {
      "cell_type": "code",
      "metadata": {
        "colab": {
          "base_uri": "https://localhost:8080/"
        },
        "id": "ZP8CbRSfpj5_",
        "outputId": "c802b0a9-3236-406d-8b79-d6e787e408ae"
      },
      "source": [
        "from sklearn.manifold import MDS\n",
        "nmds = MDS(n_components=2, metric=False)\n",
        "X_transformed = nmds.fit_transform(X[:100])\n",
        "X_transformed.shape"
      ],
      "execution_count": null,
      "outputs": [
        {
          "output_type": "execute_result",
          "data": {
            "text/plain": [
              "(100, 2)"
            ]
          },
          "metadata": {
            "tags": []
          },
          "execution_count": 8
        }
      ]
    },
    {
      "cell_type": "code",
      "metadata": {
        "colab": {
          "base_uri": "https://localhost:8080/"
        },
        "id": "B9gEz9d6p0Ht",
        "outputId": "a896cfb6-076e-4d69-a161-9f8a920993a7"
      },
      "source": [
        "X_transformed[:5]"
      ],
      "execution_count": null,
      "outputs": [
        {
          "output_type": "execute_result",
          "data": {
            "text/plain": [
              "array([[ 0.36303455,  0.17934479],\n",
              "       [-0.4215309 , -0.11286106],\n",
              "       [-0.33625961,  0.14254615],\n",
              "       [ 0.2962893 ,  0.10979697],\n",
              "       [-0.4260946 ,  0.0529056 ]])"
            ]
          },
          "metadata": {
            "tags": []
          },
          "execution_count": 9
        }
      ]
    },
    {
      "cell_type": "markdown",
      "metadata": {
        "id": "Cy8np4n8p3l4"
      },
      "source": [
        "# 대응분석\n",
        "    * 카이제곱 검정은 두 범주형 변수의 연관성 여부를 결정하는 것이며,    \n",
        "        구체적으로 두 변수가 가지고 있는 범주들 사이의 관계를 살펴볼 수는 없다.    \n",
        "        이러한 문제점을 해결해 주는 통계적 기법이 대응분석이다.\n",
        "    * 대응분석은 두 개 이상의 범주 군 사이의 상관성을 분석하는 기법이라 할 수 있다."
      ]
    },
    {
      "cell_type": "code",
      "metadata": {
        "id": "B6oJc6KZqbvf"
      },
      "source": [
        "from sklearn.cross_decomposition import CCA\n",
        "X=np.array([0,0,1,1,0,0,2,2,2,3,5,4]).reshape(-1,3)\n",
        "Y=np.array([.1,-.2,.9,1.1,6.2,5.9,11.9,12.3]).reshape(-1,2)\n",
        "cca=CCA(n_components=1)\n",
        "cca.fit(X,Y)\n",
        "\n",
        "X_c,Y_c=cca.transform(X,Y)"
      ],
      "execution_count": null,
      "outputs": []
    },
    {
      "cell_type": "code",
      "metadata": {
        "colab": {
          "base_uri": "https://localhost:8080/"
        },
        "id": "e-ef0QTnrG8p",
        "outputId": "b6698c41-5184-4722-a108-3f5e16785c90"
      },
      "source": [
        "X_c"
      ],
      "execution_count": null,
      "outputs": [
        {
          "output_type": "execute_result",
          "data": {
            "text/plain": [
              "array([[-1.3373174 ],\n",
              "       [-1.10847164],\n",
              "       [ 0.40763151],\n",
              "       [ 2.03815753]])"
            ]
          },
          "metadata": {
            "tags": []
          },
          "execution_count": 11
        }
      ]
    },
    {
      "cell_type": "code",
      "metadata": {
        "colab": {
          "base_uri": "https://localhost:8080/"
        },
        "id": "fRtabkY-rJQA",
        "outputId": "d9575da8-20f0-4287-9d58-3aef821080df"
      },
      "source": [
        "Y_c"
      ],
      "execution_count": null,
      "outputs": [
        {
          "output_type": "execute_result",
          "data": {
            "text/plain": [
              "array([[-0.85511537],\n",
              "       [-0.70878547],\n",
              "       [ 0.26065014],\n",
              "       [ 1.3032507 ]])"
            ]
          },
          "metadata": {
            "tags": []
          },
          "execution_count": 12
        }
      ]
    },
    {
      "cell_type": "code",
      "metadata": {
        "colab": {
          "base_uri": "https://localhost:8080/"
        },
        "id": "LsOy_d6HrLzb",
        "outputId": "5d66a997-80d4-40e9-e2a8-066295b79deb"
      },
      "source": [
        "X_test=[[2,4,5]]\n",
        "Y_test=[[.4,5.5]]\n",
        "cca.predict(X_test,Y_test)"
      ],
      "execution_count": null,
      "outputs": [
        {
          "output_type": "execute_result",
          "data": {
            "text/plain": [
              "array([[14.04112465, 14.35630774]])"
            ]
          },
          "metadata": {
            "tags": []
          },
          "execution_count": 14
        }
      ]
    },
    {
      "cell_type": "markdown",
      "metadata": {
        "id": "kBH4Z9l6reCG"
      },
      "source": [
        "# 시계열 분석 - fbprophet   \n",
        "        prophet은 페이스북에서 만듬 - ARIMA같은    \n",
        "        확률론적이로 이론적 모형이 아니라.   \n",
        "        몇 가지 경험적 규칙(heuristic rule)을 사용하는   \n",
        "        단순 회구모형이지만 단기적 예측에서는 큰 문제 없이 사용할 수 있다."
      ]
    },
    {
      "cell_type": "code",
      "metadata": {
        "colab": {
          "base_uri": "https://localhost:8080/",
          "height": 206
        },
        "id": "T0-HhT6xsGaq",
        "outputId": "0408c24b-5c7b-4865-b1eb-8056c6a771c6"
      },
      "source": [
        "import pandas as pd\n",
        "\n",
        "url = \"https://raw.githubusercontent.com/facebook/prophet/master/examples/example_wp_log_peyton_manning.csv\"\n",
        "df = pd.read_csv(url)\n",
        "df.tail()"
      ],
      "execution_count": null,
      "outputs": [
        {
          "output_type": "execute_result",
          "data": {
            "text/html": [
              "<div>\n",
              "<style scoped>\n",
              "    .dataframe tbody tr th:only-of-type {\n",
              "        vertical-align: middle;\n",
              "    }\n",
              "\n",
              "    .dataframe tbody tr th {\n",
              "        vertical-align: top;\n",
              "    }\n",
              "\n",
              "    .dataframe thead th {\n",
              "        text-align: right;\n",
              "    }\n",
              "</style>\n",
              "<table border=\"1\" class=\"dataframe\">\n",
              "  <thead>\n",
              "    <tr style=\"text-align: right;\">\n",
              "      <th></th>\n",
              "      <th>ds</th>\n",
              "      <th>y</th>\n",
              "    </tr>\n",
              "  </thead>\n",
              "  <tbody>\n",
              "    <tr>\n",
              "      <th>2900</th>\n",
              "      <td>2016-01-16</td>\n",
              "      <td>7.817223</td>\n",
              "    </tr>\n",
              "    <tr>\n",
              "      <th>2901</th>\n",
              "      <td>2016-01-17</td>\n",
              "      <td>9.273878</td>\n",
              "    </tr>\n",
              "    <tr>\n",
              "      <th>2902</th>\n",
              "      <td>2016-01-18</td>\n",
              "      <td>10.333775</td>\n",
              "    </tr>\n",
              "    <tr>\n",
              "      <th>2903</th>\n",
              "      <td>2016-01-19</td>\n",
              "      <td>9.125871</td>\n",
              "    </tr>\n",
              "    <tr>\n",
              "      <th>2904</th>\n",
              "      <td>2016-01-20</td>\n",
              "      <td>8.891374</td>\n",
              "    </tr>\n",
              "  </tbody>\n",
              "</table>\n",
              "</div>"
            ],
            "text/plain": [
              "              ds          y\n",
              "2900  2016-01-16   7.817223\n",
              "2901  2016-01-17   9.273878\n",
              "2902  2016-01-18  10.333775\n",
              "2903  2016-01-19   9.125871\n",
              "2904  2016-01-20   8.891374"
            ]
          },
          "metadata": {
            "tags": []
          },
          "execution_count": 15
        }
      ]
    },
    {
      "cell_type": "code",
      "metadata": {
        "colab": {
          "base_uri": "https://localhost:8080/"
        },
        "id": "Hig38p-IsZuK",
        "outputId": "2eb95e56-998f-4d47-d78c-9c415ff8d2de"
      },
      "source": [
        "from fbprophet import Prophet\n",
        "m = Prophet()\n",
        "m.fit(df)"
      ],
      "execution_count": null,
      "outputs": [
        {
          "output_type": "stream",
          "text": [
            "INFO:numexpr.utils:NumExpr defaulting to 2 threads.\n",
            "INFO:fbprophet:Disabling daily seasonality. Run prophet with daily_seasonality=True to override this.\n"
          ],
          "name": "stderr"
        },
        {
          "output_type": "execute_result",
          "data": {
            "text/plain": [
              "<fbprophet.forecaster.Prophet at 0x7fe4cbfdad50>"
            ]
          },
          "metadata": {
            "tags": []
          },
          "execution_count": 16
        }
      ]
    },
    {
      "cell_type": "code",
      "metadata": {
        "colab": {
          "base_uri": "https://localhost:8080/",
          "height": 206
        },
        "id": "BgM4Q-T4sgIA",
        "outputId": "cfd9f3f0-8562-46b0-8ac2-242016ccda80"
      },
      "source": [
        "future = m.make_future_dataframe(periods=365)\n",
        "future.tail()"
      ],
      "execution_count": null,
      "outputs": [
        {
          "output_type": "execute_result",
          "data": {
            "text/html": [
              "<div>\n",
              "<style scoped>\n",
              "    .dataframe tbody tr th:only-of-type {\n",
              "        vertical-align: middle;\n",
              "    }\n",
              "\n",
              "    .dataframe tbody tr th {\n",
              "        vertical-align: top;\n",
              "    }\n",
              "\n",
              "    .dataframe thead th {\n",
              "        text-align: right;\n",
              "    }\n",
              "</style>\n",
              "<table border=\"1\" class=\"dataframe\">\n",
              "  <thead>\n",
              "    <tr style=\"text-align: right;\">\n",
              "      <th></th>\n",
              "      <th>ds</th>\n",
              "    </tr>\n",
              "  </thead>\n",
              "  <tbody>\n",
              "    <tr>\n",
              "      <th>3265</th>\n",
              "      <td>2017-01-15</td>\n",
              "    </tr>\n",
              "    <tr>\n",
              "      <th>3266</th>\n",
              "      <td>2017-01-16</td>\n",
              "    </tr>\n",
              "    <tr>\n",
              "      <th>3267</th>\n",
              "      <td>2017-01-17</td>\n",
              "    </tr>\n",
              "    <tr>\n",
              "      <th>3268</th>\n",
              "      <td>2017-01-18</td>\n",
              "    </tr>\n",
              "    <tr>\n",
              "      <th>3269</th>\n",
              "      <td>2017-01-19</td>\n",
              "    </tr>\n",
              "  </tbody>\n",
              "</table>\n",
              "</div>"
            ],
            "text/plain": [
              "             ds\n",
              "3265 2017-01-15\n",
              "3266 2017-01-16\n",
              "3267 2017-01-17\n",
              "3268 2017-01-18\n",
              "3269 2017-01-19"
            ]
          },
          "metadata": {
            "tags": []
          },
          "execution_count": 17
        }
      ]
    },
    {
      "cell_type": "code",
      "metadata": {
        "colab": {
          "base_uri": "https://localhost:8080/",
          "height": 206
        },
        "id": "IqMowRrfsp0w",
        "outputId": "0ccf1ff2-3ac5-46e1-a9fb-b4a9eda27b78"
      },
      "source": [
        "forecast = m.predict(future)\n",
        "forecast[['ds', 'yhat', 'yhat_lower', 'yhat_upper']].tail()"
      ],
      "execution_count": null,
      "outputs": [
        {
          "output_type": "execute_result",
          "data": {
            "text/html": [
              "<div>\n",
              "<style scoped>\n",
              "    .dataframe tbody tr th:only-of-type {\n",
              "        vertical-align: middle;\n",
              "    }\n",
              "\n",
              "    .dataframe tbody tr th {\n",
              "        vertical-align: top;\n",
              "    }\n",
              "\n",
              "    .dataframe thead th {\n",
              "        text-align: right;\n",
              "    }\n",
              "</style>\n",
              "<table border=\"1\" class=\"dataframe\">\n",
              "  <thead>\n",
              "    <tr style=\"text-align: right;\">\n",
              "      <th></th>\n",
              "      <th>ds</th>\n",
              "      <th>yhat</th>\n",
              "      <th>yhat_lower</th>\n",
              "      <th>yhat_upper</th>\n",
              "    </tr>\n",
              "  </thead>\n",
              "  <tbody>\n",
              "    <tr>\n",
              "      <th>3265</th>\n",
              "      <td>2017-01-15</td>\n",
              "      <td>8.200924</td>\n",
              "      <td>7.467369</td>\n",
              "      <td>8.978660</td>\n",
              "    </tr>\n",
              "    <tr>\n",
              "      <th>3266</th>\n",
              "      <td>2017-01-16</td>\n",
              "      <td>8.525932</td>\n",
              "      <td>7.814714</td>\n",
              "      <td>9.201929</td>\n",
              "    </tr>\n",
              "    <tr>\n",
              "      <th>3267</th>\n",
              "      <td>2017-01-17</td>\n",
              "      <td>8.313330</td>\n",
              "      <td>7.592536</td>\n",
              "      <td>9.017791</td>\n",
              "    </tr>\n",
              "    <tr>\n",
              "      <th>3268</th>\n",
              "      <td>2017-01-18</td>\n",
              "      <td>8.145923</td>\n",
              "      <td>7.417185</td>\n",
              "      <td>8.813524</td>\n",
              "    </tr>\n",
              "    <tr>\n",
              "      <th>3269</th>\n",
              "      <td>2017-01-19</td>\n",
              "      <td>8.157831</td>\n",
              "      <td>7.400262</td>\n",
              "      <td>8.840800</td>\n",
              "    </tr>\n",
              "  </tbody>\n",
              "</table>\n",
              "</div>"
            ],
            "text/plain": [
              "             ds      yhat  yhat_lower  yhat_upper\n",
              "3265 2017-01-15  8.200924    7.467369    8.978660\n",
              "3266 2017-01-16  8.525932    7.814714    9.201929\n",
              "3267 2017-01-17  8.313330    7.592536    9.017791\n",
              "3268 2017-01-18  8.145923    7.417185    8.813524\n",
              "3269 2017-01-19  8.157831    7.400262    8.840800"
            ]
          },
          "metadata": {
            "tags": []
          },
          "execution_count": 18
        }
      ]
    },
    {
      "cell_type": "code",
      "metadata": {
        "colab": {
          "base_uri": "https://localhost:8080/",
          "height": 441
        },
        "id": "_yRSbVMOswDC",
        "outputId": "ed7315f9-31e3-4160-a075-b0468c9995ee"
      },
      "source": [
        "fig1=m.plot(forecast)"
      ],
      "execution_count": null,
      "outputs": [
        {
          "output_type": "display_data",
          "data": {
            "image/png": "[encoded data removed]",
            "text/plain": [
              "<Figure size 720x432 with 1 Axes>"
            ]
          },
          "metadata": {
            "tags": []
          }
        }
      ]
    },
    {
      "cell_type": "code",
      "metadata": {
        "colab": {
          "base_uri": "https://localhost:8080/",
          "height": 657
        },
        "id": "ET3JIoshtEQo",
        "outputId": "57c3d60f-15c2-4930-b5cd-9f6dcdc3ea11"
      },
      "source": [
        "fig2=m.plot_components(forecast)"
      ],
      "execution_count": null,
      "outputs": [
        {
          "output_type": "display_data",
          "data": {
            "image/png": "[encoded data removed]",
            "text/plain": [
              "<Figure size 648x648 with 3 Axes>"
            ]
          },
          "metadata": {
            "tags": []
          }
        }
      ]
    },
    {
      "cell_type": "markdown",
      "metadata": {
        "id": "_Z7PP0EdtgHa"
      },
      "source": [
        "# 연관분석 == 장바구니분석"
      ]
    },
    {
      "cell_type": "code",
      "metadata": {
        "id": "BnuC-J-Gt-yi"
      },
      "source": [
        "import pandas as pd\n",
        "from mlxtend.preprocessing import TransactionEncoder\n",
        "from mlxtend.frequent_patterns import apriori, association_rules"
      ],
      "execution_count": null,
      "outputs": []
    },
    {
      "cell_type": "code",
      "metadata": {
        "id": "tJO4dYHsujVu"
      },
      "source": [
        "#구매 물건\n",
        "dataset = [['Milk', 'Onion', 'Nutmeg', 'Eggs', 'Yogurt'],\n",
        "           ['Onion', 'Nutmeg', 'Eggs', 'Yogurt'],\n",
        "           ['Milk', 'Apple', 'Eggs'],\n",
        "           ['Milk', 'Unicorn', 'Corn', 'Yogurt'],\n",
        "           ['Corn', 'Onion', 'Onion', 'Ice cream', 'Eggs']]"
      ],
      "execution_count": null,
      "outputs": []
    },
    {
      "cell_type": "code",
      "metadata": {
        "id": "9j0v2LfhuqhT"
      },
      "source": [
        "#인코딩 : 인스턴스 > fit > transform\n",
        "te = TransactionEncoder()\n",
        "te_ary = te.fit(dataset).transform(dataset)\n",
        "df = pd.DataFrame(te_ary, columns=te.columns_)"
      ],
      "execution_count": null,
      "outputs": []
    },
    {
      "cell_type": "code",
      "metadata": {
        "id": "GL3g8ySIuyiu"
      },
      "source": [
        "frequent_itemsets = apriori(df, min_support=0.5, use_colnames=True)\n",
        "## parameter\n",
        "# max_len=3 : 아이템 조합이 3개까지 제한"
      ],
      "execution_count": null,
      "outputs": []
    },
    {
      "cell_type": "code",
      "metadata": {
        "colab": {
          "base_uri": "https://localhost:8080/",
          "height": 206
        },
        "id": "Kj09VT_mu2M7",
        "outputId": "ffcb339a-4f1f-48e6-9601-d2e31d238a9a"
      },
      "source": [
        "frequent_itemsets # 전체 구매 데이터 중 해당 itemset이 포함된 확률"
      ],
      "execution_count": null,
      "outputs": [
        {
          "output_type": "execute_result",
          "data": {
            "text/html": [
              "<div>\n",
              "<style scoped>\n",
              "    .dataframe tbody tr th:only-of-type {\n",
              "        vertical-align: middle;\n",
              "    }\n",
              "\n",
              "    .dataframe tbody tr th {\n",
              "        vertical-align: top;\n",
              "    }\n",
              "\n",
              "    .dataframe thead th {\n",
              "        text-align: right;\n",
              "    }\n",
              "</style>\n",
              "<table border=\"1\" class=\"dataframe\">\n",
              "  <thead>\n",
              "    <tr style=\"text-align: right;\">\n",
              "      <th></th>\n",
              "      <th>support</th>\n",
              "      <th>itemsets</th>\n",
              "    </tr>\n",
              "  </thead>\n",
              "  <tbody>\n",
              "    <tr>\n",
              "      <th>0</th>\n",
              "      <td>0.8</td>\n",
              "      <td>(Eggs)</td>\n",
              "    </tr>\n",
              "    <tr>\n",
              "      <th>1</th>\n",
              "      <td>0.6</td>\n",
              "      <td>(Milk)</td>\n",
              "    </tr>\n",
              "    <tr>\n",
              "      <th>2</th>\n",
              "      <td>0.6</td>\n",
              "      <td>(Onion)</td>\n",
              "    </tr>\n",
              "    <tr>\n",
              "      <th>3</th>\n",
              "      <td>0.6</td>\n",
              "      <td>(Yogurt)</td>\n",
              "    </tr>\n",
              "    <tr>\n",
              "      <th>4</th>\n",
              "      <td>0.6</td>\n",
              "      <td>(Eggs, Onion)</td>\n",
              "    </tr>\n",
              "  </tbody>\n",
              "</table>\n",
              "</div>"
            ],
            "text/plain": [
              "   support       itemsets\n",
              "0      0.8         (Eggs)\n",
              "1      0.6         (Milk)\n",
              "2      0.6        (Onion)\n",
              "3      0.6       (Yogurt)\n",
              "4      0.6  (Eggs, Onion)"
            ]
          },
          "metadata": {
            "tags": []
          },
          "execution_count": 26
        }
      ]
    },
    {
      "cell_type": "code",
      "metadata": {
        "colab": {
          "base_uri": "https://localhost:8080/",
          "height": 112
        },
        "id": "bOYTmH7ku6c_",
        "outputId": "14275385-ef94-4f63-db45-314acfc8f7a9"
      },
      "source": [
        "association_rules(frequent_itemsets, metric=\"lift\", min_threshold=1) # metric 기준 min_threshold 이상"
      ],
      "execution_count": null,
      "outputs": [
        {
          "output_type": "execute_result",
          "data": {
            "text/html": [
              "<div>\n",
              "<style scoped>\n",
              "    .dataframe tbody tr th:only-of-type {\n",
              "        vertical-align: middle;\n",
              "    }\n",
              "\n",
              "    .dataframe tbody tr th {\n",
              "        vertical-align: top;\n",
              "    }\n",
              "\n",
              "    .dataframe thead th {\n",
              "        text-align: right;\n",
              "    }\n",
              "</style>\n",
              "<table border=\"1\" class=\"dataframe\">\n",
              "  <thead>\n",
              "    <tr style=\"text-align: right;\">\n",
              "      <th></th>\n",
              "      <th>antecedents</th>\n",
              "      <th>consequents</th>\n",
              "      <th>antecedent support</th>\n",
              "      <th>consequent support</th>\n",
              "      <th>support</th>\n",
              "      <th>confidence</th>\n",
              "      <th>lift</th>\n",
              "      <th>leverage</th>\n",
              "      <th>conviction</th>\n",
              "    </tr>\n",
              "  </thead>\n",
              "  <tbody>\n",
              "    <tr>\n",
              "      <th>0</th>\n",
              "      <td>(Eggs)</td>\n",
              "      <td>(Onion)</td>\n",
              "      <td>0.8</td>\n",
              "      <td>0.6</td>\n",
              "      <td>0.6</td>\n",
              "      <td>0.75</td>\n",
              "      <td>1.25</td>\n",
              "      <td>0.12</td>\n",
              "      <td>1.6</td>\n",
              "    </tr>\n",
              "    <tr>\n",
              "      <th>1</th>\n",
              "      <td>(Onion)</td>\n",
              "      <td>(Eggs)</td>\n",
              "      <td>0.6</td>\n",
              "      <td>0.8</td>\n",
              "      <td>0.6</td>\n",
              "      <td>1.00</td>\n",
              "      <td>1.25</td>\n",
              "      <td>0.12</td>\n",
              "      <td>inf</td>\n",
              "    </tr>\n",
              "  </tbody>\n",
              "</table>\n",
              "</div>"
            ],
            "text/plain": [
              "  antecedents consequents  antecedent support  ...  lift  leverage  conviction\n",
              "0      (Eggs)     (Onion)                 0.8  ...  1.25      0.12         1.6\n",
              "1     (Onion)      (Eggs)                 0.6  ...  1.25      0.12         inf\n",
              "\n",
              "[2 rows x 9 columns]"
            ]
          },
          "metadata": {
            "tags": []
          },
          "execution_count": 27
        }
      ]
    },
    {
      "cell_type": "markdown",
      "metadata": {
        "id": "zxI1R-jSu-O2"
      },
      "source": [
        "\n",
        "\n",
        "첫 줄 해석\n",
        "\n",
        "    antencedents와 consequents가 있는데 각각의 support를 보여줌.\n",
        "    그리고 조합의 support, confidence, lift를 보여주는데\n",
        "    confidence : Onion을 사는 고객 중 Eggs+Onion이 75%\n",
        "    lift: 1이면 서로 영향이 없는 것. 그냥 Onion을 사는 것보다 Egg를 샀을 때 구매율이 1.25배 높아진다는 소리\n",
        "\n"
      ]
    },
    {
      "cell_type": "markdown",
      "metadata": {
        "id": "Kea7Nsb5vTxL"
      },
      "source": [
        "# 요인분석\n"
      ]
    },
    {
      "cell_type": "code",
      "metadata": {
        "id": "ufQZ1MqjvWgA"
      },
      "source": [
        "from sklearn.datasets import load_digits\n",
        "X,_ =load_digits(return_X_y=True)"
      ],
      "execution_count": null,
      "outputs": []
    },
    {
      "cell_type": "code",
      "metadata": {
        "colab": {
          "base_uri": "https://localhost:8080/"
        },
        "id": "tY0iNh6ivhE4",
        "outputId": "a98a2430-8daa-4787-c32d-d2f2642db2aa"
      },
      "source": [
        "X.shape"
      ],
      "execution_count": null,
      "outputs": [
        {
          "output_type": "execute_result",
          "data": {
            "text/plain": [
              "(1797, 64)"
            ]
          },
          "metadata": {
            "tags": []
          },
          "execution_count": 30
        }
      ]
    },
    {
      "cell_type": "code",
      "metadata": {
        "colab": {
          "base_uri": "https://localhost:8080/"
        },
        "id": "Nn0V3oQsvjGh",
        "outputId": "0cea1406-ee70-4ad6-87ea-eb0f729189f4"
      },
      "source": [
        "X"
      ],
      "execution_count": null,
      "outputs": [
        {
          "output_type": "execute_result",
          "data": {
            "text/plain": [
              "array([[ 0.,  0.,  5., ...,  0.,  0.,  0.],\n",
              "       [ 0.,  0.,  0., ..., 10.,  0.,  0.],\n",
              "       [ 0.,  0.,  0., ..., 16.,  9.,  0.],\n",
              "       ...,\n",
              "       [ 0.,  0.,  1., ...,  6.,  0.,  0.],\n",
              "       [ 0.,  0.,  2., ..., 12.,  0.,  0.],\n",
              "       [ 0.,  0., 10., ..., 12.,  1.,  0.]])"
            ]
          },
          "metadata": {
            "tags": []
          },
          "execution_count": 31
        }
      ]
    },
    {
      "cell_type": "code",
      "metadata": {
        "colab": {
          "base_uri": "https://localhost:8080/"
        },
        "id": "FFc-a_r6vj4G",
        "outputId": "387daa4a-c89b-4d6f-ea68-9c7c45a9c938"
      },
      "source": [
        "from sklearn.decomposition import FactorAnalysis\n",
        "ft = FactorAnalysis(n_components=5, random_state=42)\n",
        "X_t = ft.fit_transform(X)\n",
        "X_t"
      ],
      "execution_count": null,
      "outputs": [
        {
          "output_type": "execute_result",
          "data": {
            "text/plain": [
              "array([[-0.15971676,  0.30024762,  1.93961672,  0.77306143, -0.17996553],\n",
              "       [-0.87214545,  0.14385161, -1.80623588, -0.73048277, -0.73497527],\n",
              "       [-0.9980844 , -0.43304767, -1.27722328, -0.73557485, -0.75555864],\n",
              "       ...,\n",
              "       [-0.69888389,  0.10064298, -1.003107  , -0.08107047, -0.62019213],\n",
              "       [-0.37227655, -0.18675238,  1.03074721, -0.72763741, -0.28985209],\n",
              "       [ 0.63837199, -0.87427374, -0.02546921,  0.33151922, -0.50415054]])"
            ]
          },
          "metadata": {
            "tags": []
          },
          "execution_count": 33
        }
      ]
    },
    {
      "cell_type": "markdown",
      "metadata": {
        "id": "TmvwdkXgv8gV"
      },
      "source": [
        "# 기계학습 "
      ]
    },
    {
      "cell_type": "code",
      "metadata": {
        "id": "6uQ77PxFjoce"
      },
      "source": [
        "from sklearn.preprocessing import StandardScaler, MinMaxScaler, PolynomialFeatures\n",
        "from sklearn.model_selection import train_test_split\n",
        "\n",
        "# X_train, X_test, y_train, y_test = train_test_split(X,y,test_size=0.3, random_state=0, stratify=y_target)\n"
      ],
      "execution_count": null,
      "outputs": []
    },
    {
      "cell_type": "code",
      "metadata": {
        "id": "qG0OU30HkcX_"
      },
      "source": [
        "import numpy as np\n",
        "\n",
        "# y_log = np.log1p(y)\n",
        "\n",
        "# y_test_exp=np.expm1(y_test)\n",
        "# y_pred_exp=np.expm1(y_pred)\n"
      ],
      "execution_count": null,
      "outputs": []
    },
    {
      "cell_type": "markdown",
      "metadata": {
        "id": "o_2UZDcWksvO"
      },
      "source": [
        "# 오버 / 언더 샘플링\n",
        "        train set에만 사용\n",
        "        오버샘플링이 우선, smote를 주로 쓴다.\n",
        "        "
      ]
    },
    {
      "cell_type": "code",
      "metadata": {
        "id": "BEd21Cvnlkst"
      },
      "source": [
        "from imblearn.over_sampling import SMOTE\n",
        "\n",
        "# smote=SMOTE(random_state=42)\n",
        "# X_Train_over, y_train_over = smote.fit_sample(X_train,y_train)"
      ],
      "execution_count": null,
      "outputs": []
    },
    {
      "cell_type": "markdown",
      "metadata": {
        "id": "yoLOZvKImWrA"
      },
      "source": [
        "# 회귀 모델 성능 평가\n",
        "    R2\n",
        "    MAE mean absolute error\n",
        "    Mse mean Squared error\n",
        "    RMSE Root mse\n",
        "    Rmsle (Root Mean Square Log Error)\n",
        "#    MAPE mean absolute percentage error"
      ]
    },
    {
      "cell_type": "code",
      "metadata": {
        "id": "KSrQGf-uoFhC"
      },
      "source": [
        "from sklearn.metrics import mean_absolute_error, mean_squared_error, r2_score\n",
        "\n",
        "r2=r2_score(y_test,ypreds) #R2: 0~1, 1에 가까울수로 설명력이 높음, 음수는 망한거\n",
        "mae=mean_absolute_error(true,pred)\n",
        "mse=mean_squared_error(y_test,y_preds)\n",
        "rmse=np.sqrt(mse)"
      ],
      "execution_count": null,
      "outputs": []
    },
    {
      "cell_type": "code",
      "metadata": {
        "id": "cEImhlvlvJKI"
      },
      "source": [
        "#mape \n",
        "# np.mean(np.abs((y_test - y_preds)/y_test))*100"
      ],
      "execution_count": null,
      "outputs": []
    },
    {
      "cell_type": "code",
      "metadata": {
        "id": "WJLxdH_8vaam"
      },
      "source": [
        "#CV\n",
        "from sklearn.model_selection import cross_val_score\n",
        "nmse = cross_val_score(model, X_data, y_target, scoring='neg_mean_squared_error', cv=5)\n",
        "rmse = np.sqrt(-1*nmse)\n",
        "avg_rmse = np.mean(rmse)"
      ],
      "execution_count": null,
      "outputs": []
    },
    {
      "cell_type": "markdown",
      "metadata": {
        "id": "FWfqmk-7weeA"
      },
      "source": [
        "# 분류모델 성능평가\n",
        "        오차행렬\n",
        "        정확도\n",
        "        정밀도\n",
        "        재현율=민감도\n",
        "        F1\n",
        "        AUC\n",
        "        특이도\n",
        "        ROC - x축: 1-특이성 = FP/(FP+TN)\n",
        "        y축: 민감도(재현율)=TP/(FN+TP)\n",
        "        "
      ]
    },
    {
      "cell_type": "code",
      "metadata": {
        "id": "oaivoeVGw5aM"
      },
      "source": [
        "from sklearn.metrics import accuracy_score\n",
        "from sklearn.metrics import confusion_matrix\n",
        "from sklearn.metrics import precision_score, recall_socre\n",
        "from sklearn.metrics import f1_score, roc_auc_score\n",
        "\n",
        "confusion=confusion_matrix(y_test, pred)\n",
        "accuracy_score(y_test, lr_preds) #정확도 : 0~1, 1에 가까울수록 좋음\n",
        "precision_score(y_test, pred) #정밀도 : TP / (FP+TP) 예측(정답+오답)중에 실제 맞은것\n",
        "recall_score(y_test, pred) #재현율 : TP /(FN+TP) 실제 중에 예특으로 맞은것\n",
        "f1_score(y_test,pred)\n",
        "roc_auc_score(y_test, lr_preds) #auc : 0~1, 1에 가까울 수록 좋다."
      ],
      "execution_count": null,
      "outputs": []
    },
    {
      "cell_type": "code",
      "metadata": {
        "id": "3GEeLB00yL_E"
      },
      "source": [
        "#특이도는 직접 코딩해야함\n",
        "from sklearn.metrics import confusion_matrix\n",
        "tn,fp,fn,tp = confusion_matrix(y_true, y_pred).ravle()\n",
        "specificity = tn /(tn+fp)"
      ],
      "execution_count": null,
      "outputs": []
    },
    {
      "cell_type": "markdown",
      "metadata": {
        "id": "gVYqa028y_Kw"
      },
      "source": [
        "# 분류\n",
        "        로지스틱 회귀"
      ]
    },
    {
      "cell_type": "code",
      "metadata": {
        "id": "9bNmSekPzFDf"
      },
      "source": [
        "import pandas as pd\n",
        "import matplotlib.pyplot as plt\n",
        "%matplotlib inline\n",
        "\n",
        "from sklearn.datasets import load_breast_cancer\n",
        "from sklearn.linear_model import LogisticRegression\n",
        "\n",
        "cancer = load_breast_cancer()"
      ],
      "execution_count": null,
      "outputs": []
    },
    {
      "cell_type": "code",
      "metadata": {
        "id": "xoiVdra4zZxi"
      },
      "source": [
        "from sklearn.preprocessing import StandardScaler\n",
        "from sklearn.model_selection import train_test_split\n",
        "\n",
        "scaler = StandardScaler()\n",
        "data_scaled = scaler.fit_transform(cancer.data)\n",
        "X_train, X_test, y_train, y_test = train_test_split(\n",
        "    data_scaled, cancer.target, \n",
        "    test_size=0.3, random_state=42)"
      ],
      "execution_count": null,
      "outputs": []
    },
    {
      "cell_type": "code",
      "metadata": {
        "colab": {
          "base_uri": "https://localhost:8080/"
        },
        "id": "tLt-Cpv10brz",
        "outputId": "0ed0181a-a67b-42ae-f2f3-06b639119d84"
      },
      "source": [
        "from sklearn.metrics import accuracy_score, roc_auc_score\n",
        "\n",
        "lr_model = LogisticRegression(solver='liblinear',C=0.1, penalty='l2')\n",
        "lr_model.fit(X_train, y_train)\n",
        "lr_preds = lr_model.predict(X_test)\n",
        "\n",
        "print('accuracy: {:0.3f}'.format(accuracy_score(y_test, lr_preds)))\n",
        "print('roc_auc: {:0.3f}'.format(roc_auc_score(y_test, lr_preds)))\n",
        "\n",
        "#gridCV로 찾은 값을 주니 roc_auc:0.983 > 0.992"
      ],
      "execution_count": null,
      "outputs": [
        {
          "output_type": "stream",
          "text": [
            "accuracy: 0.994\n",
            "roc_auc: 0.992\n"
          ],
          "name": "stdout"
        }
      ]
    },
    {
      "cell_type": "code",
      "metadata": {
        "colab": {
          "base_uri": "https://localhost:8080/"
        },
        "id": "QFhCxjPt1voP",
        "outputId": "87e65de8-65b4-40a5-a3b2-32c8d256b878"
      },
      "source": [
        "from sklearn.model_selection import GridSearchCV\n",
        "\n",
        "params={'penalty':['l2', 'l1'],\n",
        "       'C':[0.01, 0.1, 1, 5, 10]} #C = 1/alpha 작을수로 큰규제\n",
        "\n",
        "grid_model = GridSearchCV(lr_model, param_grid=params, scoring='accuracy', cv=3)\n",
        "grid_model.fit(data_scaled, cancer.target)\n",
        "print('최적 하이퍼 파라미터 : {0},\\n 최적 평균 정확도: {1:.3f}'.format(grid_model.best_params_,\n",
        "                                                       grid_model.best_score_))"
      ],
      "execution_count": null,
      "outputs": [
        {
          "output_type": "stream",
          "text": [
            "최적 하이퍼 파라미터 : {'C': 0.1, 'penalty': 'l2'},\n",
            " 최적 평균 정확도: 0.979\n"
          ],
          "name": "stdout"
        }
      ]
    },
    {
      "cell_type": "markdown",
      "metadata": {
        "id": "cLIP1T8E4_vG"
      },
      "source": [
        "# 결정트리\n"
      ]
    },
    {
      "cell_type": "code",
      "metadata": {
        "colab": {
          "base_uri": "https://localhost:8080/"
        },
        "id": "R0HRHhnn5KBD",
        "outputId": "655859a2-cabf-48a7-dcb2-4e6a4cde2115"
      },
      "source": [
        "from sklearn.tree import DecisionTreeClassifier\n",
        "import sklearn as skl\n",
        "from sklearn.datasets import load_iris\n",
        "from sklearn.model_selection import train_test_split\n",
        "\n",
        "dt_model = DecisionTreeClassifier(random_state=42)\n",
        "\n",
        "iris_data = load_iris()\n",
        "X_train,X_test,y_train,y_test =  train_test_split(iris_data.data, iris_data.target,\n",
        "                                                  test_size=0.2, random_state=42)\n",
        "\n",
        "dt_model.fit(X_train,y_train)\n"
      ],
      "execution_count": null,
      "outputs": [
        {
          "output_type": "execute_result",
          "data": {
            "text/plain": [
              "DecisionTreeClassifier(ccp_alpha=0.0, class_weight=None, criterion='gini',\n",
              "                       max_depth=None, max_features=None, max_leaf_nodes=None,\n",
              "                       min_impurity_decrease=0.0, min_impurity_split=None,\n",
              "                       min_samples_leaf=1, min_samples_split=2,\n",
              "                       min_weight_fraction_leaf=0.0, presort='deprecated',\n",
              "                       random_state=42, splitter='best')"
            ]
          },
          "metadata": {
            "tags": []
          },
          "execution_count": 24
        }
      ]
    },
    {
      "cell_type": "code",
      "metadata": {
        "colab": {
          "base_uri": "https://localhost:8080/"
        },
        "id": "FNeS-tB46Jnp",
        "outputId": "8c5b51eb-2bff-4505-baa4-10d628a52ddd"
      },
      "source": [
        "y_pred= dt_model.predict(X_test)\n",
        "y_pred"
      ],
      "execution_count": null,
      "outputs": [
        {
          "output_type": "execute_result",
          "data": {
            "text/plain": [
              "array([1, 0, 2, 1, 1, 0, 1, 2, 1, 1, 2, 0, 0, 0, 0, 1, 2, 1, 1, 2, 0, 2,\n",
              "       0, 2, 2, 2, 2, 2, 0, 0])"
            ]
          },
          "metadata": {
            "tags": []
          },
          "execution_count": 27
        }
      ]
    },
    {
      "cell_type": "code",
      "metadata": {
        "colab": {
          "base_uri": "https://localhost:8080/"
        },
        "id": "6RK4xhDi6Qz3",
        "outputId": "21a5f0a3-8113-486d-a56f-c5ca1d24b1ec"
      },
      "source": [
        "print('accuracy: {:0.3f}'.format(accuracy_score(y_test, y_pred)))"
      ],
      "execution_count": null,
      "outputs": [
        {
          "output_type": "stream",
          "text": [
            "accuracy: 1.000\n"
          ],
          "name": "stdout"
        }
      ]
    },
    {
      "cell_type": "code",
      "metadata": {
        "colab": {
          "base_uri": "https://localhost:8080/"
        },
        "id": "ZT12NgTZ9mcG",
        "outputId": "a2db88b9-e1fd-4ab2-ad69-da1cd4a0d162"
      },
      "source": [
        "dt_model.get_params"
      ],
      "execution_count": null,
      "outputs": [
        {
          "output_type": "execute_result",
          "data": {
            "text/plain": [
              "<bound method BaseEstimator.get_params of DecisionTreeClassifier(ccp_alpha=0.0, class_weight=None, criterion='gini',\n",
              "                       max_depth=None, max_features=None, max_leaf_nodes=None,\n",
              "                       min_impurity_decrease=0.0, min_impurity_split=None,\n",
              "                       min_samples_leaf=1, min_samples_split=2,\n",
              "                       min_weight_fraction_leaf=0.0, presort='deprecated',\n",
              "                       random_state=42, splitter='best')>"
            ]
          },
          "metadata": {
            "tags": []
          },
          "execution_count": 40
        }
      ]
    },
    {
      "cell_type": "code",
      "metadata": {
        "colab": {
          "base_uri": "https://localhost:8080/"
        },
        "id": "FsPpUkYI7ETh",
        "outputId": "8fd87628-b845-44bc-988c-259ff40d6ed1"
      },
      "source": [
        "# 피쳐 중요도 시각화\n",
        "import seaborn as sns\n",
        "import numpy as np\n",
        "\n",
        "print('Featuer importances:\\n',np.round(dt_model.feature_importances_,3))\n",
        "\n",
        "#피쳐 이름 달아서 출럭\n",
        "for n,v in zip(iris_data.feature_names, dt_model.feature_importances_):\n",
        "    print(f'{n} : {v:.3f}')"
      ],
      "execution_count": null,
      "outputs": [
        {
          "output_type": "stream",
          "text": [
            "Featuer importances:\n",
            " [0.    0.017 0.906 0.077]\n",
            "sepal length (cm) : 0.000\n",
            "sepal width (cm) : 0.017\n",
            "petal length (cm) : 0.906\n",
            "petal width (cm) : 0.077\n"
          ],
          "name": "stdout"
        }
      ]
    },
    {
      "cell_type": "code",
      "metadata": {
        "colab": {
          "base_uri": "https://localhost:8080/",
          "height": 284
        },
        "id": "eMZhdNKm6XvZ",
        "outputId": "623a53b2-81fb-45a1-af73-ed7bd0e773ca"
      },
      "source": [
        "sns.barplot(x=dt_model.feature_importances_, y=iris_data.feature_names)"
      ],
      "execution_count": null,
      "outputs": [
        {
          "output_type": "execute_result",
          "data": {
            "text/plain": [
              "<matplotlib.axes._subplots.AxesSubplot at 0x7f0b7e836ad0>"
            ]
          },
          "metadata": {
            "tags": []
          },
          "execution_count": 36
        },
        {
          "output_type": "display_data",
          "data": {
            "image/png": "[encoded data removed]",
            "text/plain": [
              "<Figure size 432x288 with 1 Axes>"
            ]
          },
          "metadata": {
            "tags": [],
            "needs_background": "light"
          }
        }
      ]
    },
    {
      "cell_type": "markdown",
      "metadata": {
        "id": "q-rtY_hA8sWl"
      },
      "source": [
        "# 결정 트리 GridSearch CV"
      ]
    },
    {
      "cell_type": "code",
      "metadata": {
        "colab": {
          "base_uri": "https://localhost:8080/"
        },
        "id": "S--zamyx80gk",
        "outputId": "79985024-2ca8-41ba-b889-087715785d8d"
      },
      "source": [
        "from sklearn.model_selection import GridSearchCV\n",
        "params={\n",
        "    'max_depth':[8,12,16,20],\n",
        "    'min_samples_split':[16,24]\n",
        "}\n",
        "\n",
        "gCV=GridSearchCV(dt_model, param_grid=params, scoring='accuracy', cv=5, verbose=1)\n",
        "gCV.fit(X_train,y_train)\n",
        "print('평균 정확도',gCV.best_score_)\n",
        "print('최적 설정값',gCV.best_params_)"
      ],
      "execution_count": null,
      "outputs": [
        {
          "output_type": "stream",
          "text": [
            "Fitting 5 folds for each of 8 candidates, totalling 40 fits\n",
            "평균 정확도 0.9333333333333333\n",
            "최적 설정값 {'max_depth': 8, 'min_samples_split': 16}\n"
          ],
          "name": "stdout"
        },
        {
          "output_type": "stream",
          "text": [
            "[Parallel(n_jobs=1)]: Using backend SequentialBackend with 1 concurrent workers.\n",
            "[Parallel(n_jobs=1)]: Done  40 out of  40 | elapsed:    0.1s finished\n"
          ],
          "name": "stderr"
        }
      ]
    },
    {
      "cell_type": "code",
      "metadata": {
        "colab": {
          "base_uri": "https://localhost:8080/"
        },
        "id": "HMXx4lg8-SX4",
        "outputId": "839d650a-5393-4556-a8e6-97ac116c0230"
      },
      "source": [
        "best_model = gCV.best_estimator_\n",
        "pred1 = best_model.predict(X_test)\n",
        "print('예측 정확도 {:.4f}'.format(accuracy_score(y_test,pred1)))"
      ],
      "execution_count": null,
      "outputs": [
        {
          "output_type": "stream",
          "text": [
            "예측 정확도 1.0000\n"
          ],
          "name": "stdout"
        }
      ]
    },
    {
      "cell_type": "code",
      "metadata": {
        "colab": {
          "base_uri": "https://localhost:8080/",
          "height": 390
        },
        "id": "6OZHIbzU-F9e",
        "outputId": "93a77e00-c69b-4969-dc7b-0cc53b0c9d3f"
      },
      "source": [
        "import seaborn as sns\n",
        "\n",
        "fi_values = best_model.feature_importances_\n",
        "# X_train.\n",
        "fiSeries = pd.Series(fi_values, iris_data.feature_names)# index=X_train.columns)\n",
        "\n",
        "top20=fiSeries.sort_values(ascending=False)[:20]\n",
        "plt.figure(figsize=(8,6))\n",
        "plt.title('Feature importances Top 20')\n",
        "sns.barplot(x=top20, y=top20.index)\n",
        "plt.show()"
      ],
      "execution_count": null,
      "outputs": [
        {
          "output_type": "display_data",
          "data": {
            "image/png": "[encoded data removed]",
            "text/plain": [
              "<Figure size 576x432 with 1 Axes>"
            ]
          },
          "metadata": {
            "tags": [],
            "needs_background": "light"
          }
        }
      ]
    },
    {
      "cell_type": "markdown",
      "metadata": {
        "id": "S11N6yE6YCVK"
      },
      "source": [
        "# Voting"
      ]
    },
    {
      "cell_type": "code",
      "metadata": {
        "colab": {
          "base_uri": "https://localhost:8080/",
          "height": 198
        },
        "id": "gq2oH-U6YGi6",
        "outputId": "c5c78fc1-724f-4ebc-a9e9-869dc564d13a"
      },
      "source": [
        "import pandas as pd\n",
        "from sklearn.ensemble import VotingClassifier\n",
        "from sklearn.linear_model import LogisticRegression\n",
        "from sklearn.neighbors import KNeighborsClassifier\n",
        "from sklearn.datasets import load_breast_cancer\n",
        "from sklearn.model_selection import train_test_split\n",
        "from sklearn.metrics import accuracy_score\n",
        "\n",
        "cancer=load_breast_cancer()\n",
        "data_df= pd.DataFrame(cancer.data, columns=cancer.feature_names)\n",
        "data_df.head(3)"
      ],
      "execution_count": 1,
      "outputs": [
        {
          "output_type": "execute_result",
          "data": {
            "text/html": [
              "<div>\n",
              "<style scoped>\n",
              "    .dataframe tbody tr th:only-of-type {\n",
              "        vertical-align: middle;\n",
              "    }\n",
              "\n",
              "    .dataframe tbody tr th {\n",
              "        vertical-align: top;\n",
              "    }\n",
              "\n",
              "    .dataframe thead th {\n",
              "        text-align: right;\n",
              "    }\n",
              "</style>\n",
              "<table border=\"1\" class=\"dataframe\">\n",
              "  <thead>\n",
              "    <tr style=\"text-align: right;\">\n",
              "      <th></th>\n",
              "      <th>mean radius</th>\n",
              "      <th>mean texture</th>\n",
              "      <th>mean perimeter</th>\n",
              "      <th>mean area</th>\n",
              "      <th>mean smoothness</th>\n",
              "      <th>mean compactness</th>\n",
              "      <th>mean concavity</th>\n",
              "      <th>mean concave points</th>\n",
              "      <th>mean symmetry</th>\n",
              "      <th>mean fractal dimension</th>\n",
              "      <th>radius error</th>\n",
              "      <th>texture error</th>\n",
              "      <th>perimeter error</th>\n",
              "      <th>area error</th>\n",
              "      <th>smoothness error</th>\n",
              "      <th>compactness error</th>\n",
              "      <th>concavity error</th>\n",
              "      <th>concave points error</th>\n",
              "      <th>symmetry error</th>\n",
              "      <th>fractal dimension error</th>\n",
              "      <th>worst radius</th>\n",
              "      <th>worst texture</th>\n",
              "      <th>worst perimeter</th>\n",
              "      <th>worst area</th>\n",
              "      <th>worst smoothness</th>\n",
              "      <th>worst compactness</th>\n",
              "      <th>worst concavity</th>\n",
              "      <th>worst concave points</th>\n",
              "      <th>worst symmetry</th>\n",
              "      <th>worst fractal dimension</th>\n",
              "    </tr>\n",
              "  </thead>\n",
              "  <tbody>\n",
              "    <tr>\n",
              "      <th>0</th>\n",
              "      <td>17.99</td>\n",
              "      <td>10.38</td>\n",
              "      <td>122.8</td>\n",
              "      <td>1001.0</td>\n",
              "      <td>0.11840</td>\n",
              "      <td>0.27760</td>\n",
              "      <td>0.3001</td>\n",
              "      <td>0.14710</td>\n",
              "      <td>0.2419</td>\n",
              "      <td>0.07871</td>\n",
              "      <td>1.0950</td>\n",
              "      <td>0.9053</td>\n",
              "      <td>8.589</td>\n",
              "      <td>153.40</td>\n",
              "      <td>0.006399</td>\n",
              "      <td>0.04904</td>\n",
              "      <td>0.05373</td>\n",
              "      <td>0.01587</td>\n",
              "      <td>0.03003</td>\n",
              "      <td>0.006193</td>\n",
              "      <td>25.38</td>\n",
              "      <td>17.33</td>\n",
              "      <td>184.6</td>\n",
              "      <td>2019.0</td>\n",
              "      <td>0.1622</td>\n",
              "      <td>0.6656</td>\n",
              "      <td>0.7119</td>\n",
              "      <td>0.2654</td>\n",
              "      <td>0.4601</td>\n",
              "      <td>0.11890</td>\n",
              "    </tr>\n",
              "    <tr>\n",
              "      <th>1</th>\n",
              "      <td>20.57</td>\n",
              "      <td>17.77</td>\n",
              "      <td>132.9</td>\n",
              "      <td>1326.0</td>\n",
              "      <td>0.08474</td>\n",
              "      <td>0.07864</td>\n",
              "      <td>0.0869</td>\n",
              "      <td>0.07017</td>\n",
              "      <td>0.1812</td>\n",
              "      <td>0.05667</td>\n",
              "      <td>0.5435</td>\n",
              "      <td>0.7339</td>\n",
              "      <td>3.398</td>\n",
              "      <td>74.08</td>\n",
              "      <td>0.005225</td>\n",
              "      <td>0.01308</td>\n",
              "      <td>0.01860</td>\n",
              "      <td>0.01340</td>\n",
              "      <td>0.01389</td>\n",
              "      <td>0.003532</td>\n",
              "      <td>24.99</td>\n",
              "      <td>23.41</td>\n",
              "      <td>158.8</td>\n",
              "      <td>1956.0</td>\n",
              "      <td>0.1238</td>\n",
              "      <td>0.1866</td>\n",
              "      <td>0.2416</td>\n",
              "      <td>0.1860</td>\n",
              "      <td>0.2750</td>\n",
              "      <td>0.08902</td>\n",
              "    </tr>\n",
              "    <tr>\n",
              "      <th>2</th>\n",
              "      <td>19.69</td>\n",
              "      <td>21.25</td>\n",
              "      <td>130.0</td>\n",
              "      <td>1203.0</td>\n",
              "      <td>0.10960</td>\n",
              "      <td>0.15990</td>\n",
              "      <td>0.1974</td>\n",
              "      <td>0.12790</td>\n",
              "      <td>0.2069</td>\n",
              "      <td>0.05999</td>\n",
              "      <td>0.7456</td>\n",
              "      <td>0.7869</td>\n",
              "      <td>4.585</td>\n",
              "      <td>94.03</td>\n",
              "      <td>0.006150</td>\n",
              "      <td>0.04006</td>\n",
              "      <td>0.03832</td>\n",
              "      <td>0.02058</td>\n",
              "      <td>0.02250</td>\n",
              "      <td>0.004571</td>\n",
              "      <td>23.57</td>\n",
              "      <td>25.53</td>\n",
              "      <td>152.5</td>\n",
              "      <td>1709.0</td>\n",
              "      <td>0.1444</td>\n",
              "      <td>0.4245</td>\n",
              "      <td>0.4504</td>\n",
              "      <td>0.2430</td>\n",
              "      <td>0.3613</td>\n",
              "      <td>0.08758</td>\n",
              "    </tr>\n",
              "  </tbody>\n",
              "</table>\n",
              "</div>"
            ],
            "text/plain": [
              "   mean radius  mean texture  ...  worst symmetry  worst fractal dimension\n",
              "0        17.99         10.38  ...          0.4601                  0.11890\n",
              "1        20.57         17.77  ...          0.2750                  0.08902\n",
              "2        19.69         21.25  ...          0.3613                  0.08758\n",
              "\n",
              "[3 rows x 30 columns]"
            ]
          },
          "metadata": {
            "tags": []
          },
          "execution_count": 1
        }
      ]
    },
    {
      "cell_type": "code",
      "metadata": {
        "colab": {
          "base_uri": "https://localhost:8080/"
        },
        "id": "2VifYK1HY5re",
        "outputId": "2683c521-4c51-4a02-9451-cc9a3612507f"
      },
      "source": [
        "lr_clf = LogisticRegression()#solver='liblinear')\n",
        "knn_clf = KNeighborsClassifier(n_neighbors=8)\n",
        "\n",
        "#소프트 보팅\n",
        "vo_clf = VotingClassifier(estimators=[('LR',lr_clf),('KNN',knn_clf)], voting='soft')\n",
        "\n",
        "X_train,X_test, y_train,y_test = train_test_split(cancer.data, cancer.target, test_size=0.2, random_state=42)\n",
        "\n",
        "vo_clf.fit(X_train,y_train)\n",
        "pred=vo_clf.predict(X_test)\n",
        "print('Voting 분류기 정확도 : {0:.4f}'.format(accuracy_score(y_test,pred)))\n",
        "\n",
        "#개별 모델의 학습/예측/평가\n",
        "classifiers = [lr_clf, knn_clf]\n",
        "for c in classifiers:\n",
        "    c.fit(X_train,y_train)\n",
        "    pred= c.predict(X_test)\n",
        "    cname=c.__class__.__name__\n",
        "    print('{0} 정확도: {1:.4f}'.format(cname, accuracy_score(y_test, pred)))\n"
      ],
      "execution_count": 16,
      "outputs": [
        {
          "output_type": "stream",
          "text": [
            "Voting 분류기 정확도 : 0.9474\n",
            "LogisticRegression 정확도: 0.9649\n",
            "KNeighborsClassifier 정확도: 0.9561\n"
          ],
          "name": "stdout"
        },
        {
          "output_type": "stream",
          "text": [
            "/usr/local/lib/python3.7/dist-packages/sklearn/linear_model/_logistic.py:940: ConvergenceWarning: lbfgs failed to converge (status=1):\n",
            "STOP: TOTAL NO. of ITERATIONS REACHED LIMIT.\n",
            "\n",
            "Increase the number of iterations (max_iter) or scale the data as shown in:\n",
            "    https://scikit-learn.org/stable/modules/preprocessing.html\n",
            "Please also refer to the documentation for alternative solver options:\n",
            "    https://scikit-learn.org/stable/modules/linear_model.html#logistic-regression\n",
            "  extra_warning_msg=_LOGISTIC_SOLVER_CONVERGENCE_MSG)\n",
            "/usr/local/lib/python3.7/dist-packages/sklearn/linear_model/_logistic.py:940: ConvergenceWarning: lbfgs failed to converge (status=1):\n",
            "STOP: TOTAL NO. of ITERATIONS REACHED LIMIT.\n",
            "\n",
            "Increase the number of iterations (max_iter) or scale the data as shown in:\n",
            "    https://scikit-learn.org/stable/modules/preprocessing.html\n",
            "Please also refer to the documentation for alternative solver options:\n",
            "    https://scikit-learn.org/stable/modules/linear_model.html#logistic-regression\n",
            "  extra_warning_msg=_LOGISTIC_SOLVER_CONVERGENCE_MSG)\n"
          ],
          "name": "stderr"
        }
      ]
    },
    {
      "cell_type": "markdown",
      "metadata": {
        "id": "O968TsKbbWtd"
      },
      "source": [
        "# Random Forest Classifier\n"
      ]
    },
    {
      "cell_type": "code",
      "metadata": {
        "colab": {
          "base_uri": "https://localhost:8080/"
        },
        "id": "iS_x5lNbgYa_",
        "outputId": "a170e8d4-48d8-4910-c309-a81d5e10d55f"
      },
      "source": [
        "from sklearn.ensemble import RandomForestClassifier\n",
        "from sklearn.metrics import accuracy_score\n",
        "# from sklearn.datasets import ge\n",
        "import pandas as pd\n",
        "# import warnings\n",
        "# warnings.filterwarnings('ignore')\n",
        "\n",
        "rf_clf = RandomForestClassifier(random_state=42)\n",
        "rf_clf.fit(X_train, y_train)\n",
        "pred=rf_clf.predict(X_test)\n",
        "\n",
        "accuracy=accuracy_score(y_test,pred)\n",
        "print('랜덤 포레스트 정확도: {:.4f}'.format(accuracy))"
      ],
      "execution_count": 17,
      "outputs": [
        {
          "output_type": "stream",
          "text": [
            "랜덤 포레스트 정확도: 0.9649\n"
          ],
          "name": "stdout"
        }
      ]
    },
    {
      "cell_type": "code",
      "metadata": {
        "colab": {
          "base_uri": "https://localhost:8080/"
        },
        "id": "BmMpARJ2ixwK",
        "outputId": "6bc819ad-7146-4ab6-a1d7-6176cc879b34"
      },
      "source": [
        "#GridSearchCV로 파라미터 튜닝\n",
        "\n",
        "from sklearn.model_selection import GridSearchCV\n",
        "params={\n",
        "    'n_estimators':[100],\n",
        "    'max_depth' : [6,8,10,12],\n",
        "    'min_samples_leaf':[8,12,18],\n",
        "    'min_samples_split':[8,16,20]\n",
        "}\n",
        "\n",
        "rf_clf=RandomForestClassifier(random_state=42, n_jobs=-1)\n",
        "grid_cv = GridSearchCV(rf_clf, param_grid=params, cv=2, n_jobs=-1)\n",
        "grid_cv.fit(X_train, y_train)\n",
        "\n",
        "print('최적 하이퍼 파라미터: \\n',grid_cv.best_params_)\n",
        "print('최고 예측 정확도: {:.4f}'.format(grid_cv.best_score_))"
      ],
      "execution_count": 18,
      "outputs": [
        {
          "output_type": "stream",
          "text": [
            "최적 하이퍼 파라미터: \n",
            " {'max_depth': 6, 'min_samples_leaf': 8, 'min_samples_split': 8, 'n_estimators': 100}\n",
            "최고 예측 정확도: 0.9319\n"
          ],
          "name": "stdout"
        }
      ]
    },
    {
      "cell_type": "code",
      "metadata": {
        "colab": {
          "base_uri": "https://localhost:8080/"
        },
        "id": "Em06ey3wlm1x",
        "outputId": "61e557d8-3d70-4e26-8edd-d4496f35581e"
      },
      "source": [
        "rf_clf1 = RandomForestClassifier(n_estimators=300, max_depth=10, min_samples_leaf=8,\n",
        "                                 min_samples_split=8, random_state=42)\n",
        "rf_clf1.fit(X_train, y_train)\n",
        "pred=rf_clf1.predict(X_test)\n",
        "print('예측 정확도 : {:.4f}'.format(accuracy_score(y_test,pred)))"
      ],
      "execution_count": 21,
      "outputs": [
        {
          "output_type": "stream",
          "text": [
            "예측 정확도 : 0.9649\n"
          ],
          "name": "stdout"
        }
      ]
    },
    {
      "cell_type": "code",
      "metadata": {
        "colab": {
          "base_uri": "https://localhost:8080/",
          "height": 390
        },
        "id": "s04udzywmSIJ",
        "outputId": "af23ffb6-444d-43bb-8ed4-29046943ef69"
      },
      "source": [
        "import matplotlib.pyplot as plt\n",
        "import seaborn as sns\n",
        "\n",
        "fiv = rf_clf1.feature_importances_\n",
        "fis = pd.Series(fiv, index=cancer.feature_names)#X_train.columns)\n",
        "top20 = fis.sort_values(ascending=False)[:20]\n",
        "\n",
        "plt.figure(figsize=(8,6))\n",
        "plt.title('Feature importances Top 20')\n",
        "sns.barplot(x=top20, y=top20.index)\n",
        "plt.show()"
      ],
      "execution_count": 25,
      "outputs": [
        {
          "output_type": "display_data",
          "data": {
            "image/png": "[encoded data removed]",
            "text/plain": [
              "<Figure size 576x432 with 1 Axes>"
            ]
          },
          "metadata": {
            "tags": [],
            "needs_background": "light"
          }
        }
      ]
    },
    {
      "cell_type": "markdown",
      "metadata": {
        "id": "fagenA51nFnV"
      },
      "source": [
        "# GBM (Gradient Boosting Machine)"
      ]
    },
    {
      "cell_type": "code",
      "metadata": {
        "colab": {
          "base_uri": "https://localhost:8080/"
        },
        "id": "okplm8N5nLS8",
        "outputId": "fc8444ed-9014-4329-a592-ed0767043ee1"
      },
      "source": [
        "from sklearn.ensemble import GradientBoostingClassifier\n",
        "import time\n",
        "\n",
        "s=time.time()\n",
        "gb_clf = GradientBoostingClassifier(random_state=42)\n",
        "gb_clf.fit(X_train, y_train)\n",
        "pred= gb_clf.predict(X_test)\n",
        "acc= accuracy_score(y_test, pred)\n",
        "\n",
        "print('GBM 정확도: {:.4f}'.format(acc))\n",
        "print('GBM 수행 시간 : {:.1f} 초'.format(time.time() - s))"
      ],
      "execution_count": 28,
      "outputs": [
        {
          "output_type": "stream",
          "text": [
            "GBM 정확도: 0.9561\n",
            "GBM 수행 시간 : 0.4 초\n"
          ],
          "name": "stdout"
        }
      ]
    },
    {
      "cell_type": "code",
      "metadata": {
        "colab": {
          "base_uri": "https://localhost:8080/"
        },
        "id": "eo8emMXZoR_N",
        "outputId": "5d8f1b77-ca5b-44a3-e9a5-7d42c582490c"
      },
      "source": [
        "from sklearn.model_selection import GridSearchCV\n",
        "params={\n",
        "    'n_estimators':[100,500],\n",
        "    'learning_rate':[0.05,0.1]\n",
        "}\n",
        "grid_cv = GridSearchCV(gb_clf, param_grid=params, cv=2, verbose=1)\n",
        "grid_cv.fit(X_train, y_train)\n",
        "print('최적 하이퍼 파라미터: \\n', grid_cv.best_params_)\n",
        "print('최고 예측 정확도 : {:.4f}'.format(grid_cv.best_score_))"
      ],
      "execution_count": 32,
      "outputs": [
        {
          "output_type": "stream",
          "text": [
            "Fitting 2 folds for each of 4 candidates, totalling 8 fits\n"
          ],
          "name": "stdout"
        },
        {
          "output_type": "stream",
          "text": [
            "[Parallel(n_jobs=1)]: Using backend SequentialBackend with 1 concurrent workers.\n",
            "[Parallel(n_jobs=1)]: Done   8 out of   8 | elapsed:    2.7s finished\n"
          ],
          "name": "stderr"
        },
        {
          "output_type": "stream",
          "text": [
            "최적 하이퍼 파라미터: \n",
            " {'learning_rate': 0.1, 'n_estimators': 500}\n",
            "최고 예측 정확도 : 0.9516\n"
          ],
          "name": "stdout"
        }
      ]
    },
    {
      "cell_type": "code",
      "metadata": {
        "colab": {
          "base_uri": "https://localhost:8080/",
          "height": 244
        },
        "id": "UNllwWctpKDN",
        "outputId": "eef0c151-a721-44a9-ae9e-4e7b7ff2fc41"
      },
      "source": [
        "scores_df = pd.DataFrame(grid_cv.cv_results_)\n",
        "scores_df[['params','mean_test_score','rank_test_score','split0_test_score','split1_test_score']]"
      ],
      "execution_count": 35,
      "outputs": [
        {
          "output_type": "execute_result",
          "data": {
            "text/html": [
              "<div>\n",
              "<style scoped>\n",
              "    .dataframe tbody tr th:only-of-type {\n",
              "        vertical-align: middle;\n",
              "    }\n",
              "\n",
              "    .dataframe tbody tr th {\n",
              "        vertical-align: top;\n",
              "    }\n",
              "\n",
              "    .dataframe thead th {\n",
              "        text-align: right;\n",
              "    }\n",
              "</style>\n",
              "<table border=\"1\" class=\"dataframe\">\n",
              "  <thead>\n",
              "    <tr style=\"text-align: right;\">\n",
              "      <th></th>\n",
              "      <th>params</th>\n",
              "      <th>mean_test_score</th>\n",
              "      <th>rank_test_score</th>\n",
              "      <th>split0_test_score</th>\n",
              "      <th>split1_test_score</th>\n",
              "    </tr>\n",
              "  </thead>\n",
              "  <tbody>\n",
              "    <tr>\n",
              "      <th>0</th>\n",
              "      <td>{'learning_rate': 0.05, 'n_estimators': 100}</td>\n",
              "      <td>0.945011</td>\n",
              "      <td>3</td>\n",
              "      <td>0.964912</td>\n",
              "      <td>0.92511</td>\n",
              "    </tr>\n",
              "    <tr>\n",
              "      <th>1</th>\n",
              "      <td>{'learning_rate': 0.05, 'n_estimators': 500}</td>\n",
              "      <td>0.942818</td>\n",
              "      <td>4</td>\n",
              "      <td>0.960526</td>\n",
              "      <td>0.92511</td>\n",
              "    </tr>\n",
              "    <tr>\n",
              "      <th>2</th>\n",
              "      <td>{'learning_rate': 0.1, 'n_estimators': 100}</td>\n",
              "      <td>0.947204</td>\n",
              "      <td>2</td>\n",
              "      <td>0.969298</td>\n",
              "      <td>0.92511</td>\n",
              "    </tr>\n",
              "    <tr>\n",
              "      <th>3</th>\n",
              "      <td>{'learning_rate': 0.1, 'n_estimators': 500}</td>\n",
              "      <td>0.951590</td>\n",
              "      <td>1</td>\n",
              "      <td>0.978070</td>\n",
              "      <td>0.92511</td>\n",
              "    </tr>\n",
              "  </tbody>\n",
              "</table>\n",
              "</div>"
            ],
            "text/plain": [
              "                                         params  ...  split1_test_score\n",
              "0  {'learning_rate': 0.05, 'n_estimators': 100}  ...            0.92511\n",
              "1  {'learning_rate': 0.05, 'n_estimators': 500}  ...            0.92511\n",
              "2   {'learning_rate': 0.1, 'n_estimators': 100}  ...            0.92511\n",
              "3   {'learning_rate': 0.1, 'n_estimators': 500}  ...            0.92511\n",
              "\n",
              "[4 rows x 5 columns]"
            ]
          },
          "metadata": {
            "tags": []
          },
          "execution_count": 35
        }
      ]
    },
    {
      "cell_type": "code",
      "metadata": {
        "colab": {
          "base_uri": "https://localhost:8080/"
        },
        "id": "UezxY_0_ps2i",
        "outputId": "f951d0f2-709b-4065-b9c8-8a89f4162f61"
      },
      "source": [
        "pred=grid_cv.best_estimator_.predict(X_test)\n",
        "acc = accuracy_score(y_test,pred)\n",
        "print('GBM 정확도 : {:.4f}'.format(acc))"
      ],
      "execution_count": 36,
      "outputs": [
        {
          "output_type": "stream",
          "text": [
            "GBM 정확도 : 0.9561\n"
          ],
          "name": "stdout"
        }
      ]
    },
    {
      "cell_type": "markdown",
      "metadata": {
        "id": "fKjRoiTuqIl4"
      },
      "source": [
        "#XGB (eXtra Gradient Boost)\n"
      ]
    },
    {
      "cell_type": "code",
      "metadata": {
        "id": "Z-z3xvlAqRPR"
      },
      "source": [
        "from xgboost import XGBClassifier\n",
        "\n",
        "evals = [(X_test, y_test)]\n",
        "xgb_clf = XGBClassifier(n_estimators=400, learning_rate=0.1, max_depth=3)\n",
        "xgb_clf.fit(X_train, y_train, early_stopping_rounds=100, eval_set=evals,\n",
        "            eval_metric='logloss', verbose=False)#True)\n",
        "pred=xgb_clf.predict(X_test)"
      ],
      "execution_count": 40,
      "outputs": []
    },
    {
      "cell_type": "code",
      "metadata": {
        "colab": {
          "base_uri": "https://localhost:8080/"
        },
        "id": "4pnFPLaxrLXJ",
        "outputId": "f36e9eb2-d5cc-432a-da17-5b294712279d"
      },
      "source": [
        "accuracy_score(y_test,pred)"
      ],
      "execution_count": 41,
      "outputs": [
        {
          "output_type": "execute_result",
          "data": {
            "text/plain": [
              "0.9736842105263158"
            ]
          },
          "metadata": {
            "tags": []
          },
          "execution_count": 41
        }
      ]
    },
    {
      "cell_type": "code",
      "metadata": {
        "colab": {
          "base_uri": "https://localhost:8080/",
          "height": 749
        },
        "id": "O4IBOtpMrXTf",
        "outputId": "9d435cd5-dcd0-4fd6-ade4-a90ebad735e3"
      },
      "source": [
        "from xgboost import plot_importance\n",
        "import matplotlib.pyplot as plt\n",
        "\n",
        "fig, ax= plt.subplots(figsize=(10,12))\n",
        "plot_importance(xgb_clf,ax=ax)"
      ],
      "execution_count": 45,
      "outputs": [
        {
          "output_type": "execute_result",
          "data": {
            "text/plain": [
              "<matplotlib.axes._subplots.AxesSubplot at 0x7f7ba52f0490>"
            ]
          },
          "metadata": {
            "tags": []
          },
          "execution_count": 45
        },
        {
          "output_type": "display_data",
          "data": {
            "image/png": "[encoded data removed]",
            "text/plain": [
              "<Figure size 720x864 with 1 Axes>"
            ]
          },
          "metadata": {
            "tags": [],
            "needs_background": "light"
          }
        }
      ]
    },
    {
      "cell_type": "code",
      "metadata": {
        "colab": {
          "base_uri": "https://localhost:8080/"
        },
        "id": "qcuKDtfesGM-",
        "outputId": "616f4364-1d08-4f00-e61d-f4a6ef054d22"
      },
      "source": [
        "from sklearn.model_selection import GridSearchCV\n",
        "from sklearn.metrics import roc_auc_score\n",
        "\n",
        "xgb_clf = XGBClassifier(n_estimators=100)\n",
        "params = {\n",
        "    'max_depth':[5,7],\n",
        "    'min_child_weight':[1,3],\n",
        "    'colsample_bytree':[0.5,0.75]\n",
        "}\n",
        "g_cv =GridSearchCV(xgb_clf, param_grid=params)\n",
        "g_cv.fit(X_train, y_train, early_stopping_rounds=30, eval_metric='auc',\n",
        "         eval_set=[(X_train,y_train),(X_test,y_test)], verbose=False)\n",
        "print('GridSearchCV 최적 파라미터',g_cv.best_params_)\n",
        "roc_score=roc_auc_score(y_test, g_cv.predict_proba(X_test)[:,1],average='macro')\n",
        "print('ROC AUC : {:.4f}'.format(roc_score))"
      ],
      "execution_count": 48,
      "outputs": [
        {
          "output_type": "stream",
          "text": [
            "GridSearchCV 최적 파라미터 {'colsample_bytree': 0.75, 'max_depth': 5, 'min_child_weight': 1}\n",
            "ROC AUC : 0.9918\n"
          ],
          "name": "stdout"
        }
      ]
    },
    {
      "cell_type": "markdown",
      "metadata": {
        "id": "Yz2PUyvMuCn_"
      },
      "source": [
        "# LGB (LightGBM)"
      ]
    },
    {
      "cell_type": "code",
      "metadata": {
        "colab": {
          "base_uri": "https://localhost:8080/"
        },
        "id": "sMPETXzpuGcj",
        "outputId": "ed0dd951-979c-4781-a4ef-4a322c5f028f"
      },
      "source": [
        "from lightgbm import LGBMClassifier\n",
        "import pandas as pd\n",
        "import numpy as np\n",
        "from sklearn.model_selection import train_test_split\n",
        "\n",
        "lgbm_clf = LGBMClassifier(n_estimators=400)\n",
        "evals=[(X_test,y_test)]\n",
        "lgbm_clf.fit(X_train, y_train, early_stopping_rounds=100, eval_metric='logloss',\n",
        "             eval_set=evals, verbose=False)\n",
        "pred = lgbm_clf.predict(X_test)\n",
        "\n",
        "print('ACC', accuracy_score(y_test,pred))"
      ],
      "execution_count": 50,
      "outputs": [
        {
          "output_type": "stream",
          "text": [
            "ACC 0.9649122807017544\n"
          ],
          "name": "stdout"
        }
      ]
    },
    {
      "cell_type": "code",
      "metadata": {
        "colab": {
          "base_uri": "https://localhost:8080/",
          "height": 749
        },
        "id": "a9piIaZgu_VM",
        "outputId": "cf32fb04-4185-40f2-dd57-a1eb7d4f8e4f"
      },
      "source": [
        "from lightgbm import plot_importance\n",
        "import matplotlib.pyplot as plt\n",
        "\n",
        "fig, ax = plt.subplots(figsize=(10,12))\n",
        "plot_importance(lgbm_clf, ax=ax)#, feature_names=cancer.feature_names)"
      ],
      "execution_count": 54,
      "outputs": [
        {
          "output_type": "execute_result",
          "data": {
            "text/plain": [
              "<matplotlib.axes._subplots.AxesSubplot at 0x7f7ba4b16ad0>"
            ]
          },
          "metadata": {
            "tags": []
          },
          "execution_count": 54
        },
        {
          "output_type": "display_data",
          "data": {
            "image/png": "[encoded data removed]",
            "text/plain": [
              "<Figure size 720x864 with 1 Axes>"
            ]
          },
          "metadata": {
            "tags": [],
            "needs_background": "light"
          }
        }
      ]
    },
    {
      "cell_type": "code",
      "metadata": {
        "colab": {
          "base_uri": "https://localhost:8080/"
        },
        "id": "mHVE4BDBvo72",
        "outputId": "f7d09af3-9159-43aa-ab72-0f3af635e545"
      },
      "source": [
        "from sklearn.model_selection import GridSearchCV\n",
        "\n",
        "lgbm_clf = LGBMClassifier(n_estimators=200)\n",
        "params={\n",
        "    'num_leaves':[32,64],\n",
        "    'max_depth':[128,160],\n",
        "    'min_child_samples':[60,100],\n",
        "    'subsample':[.8,1]\n",
        "}\n",
        "\n",
        "cv_clf = GridSearchCV(lgbm_clf, param_grid=params)\n",
        "cv_clf.fit(X_train,y_train, early_stopping_rounds=30, eval_metric='auc',\n",
        "           eval_set=[(X_train,y_train),(X_test,y_test)], verbose=False)\n",
        "print('GridSearchCV 최적 파라미터:', cv_clf.best_params_)\n",
        "roc_score = roc_auc_score(y_test, cv_clf.predict_proba(X_test)[:,1], average='macro')\n",
        "print('ROC AUC: {:.4f}'.format(roc_score))"
      ],
      "execution_count": 57,
      "outputs": [
        {
          "output_type": "stream",
          "text": [
            "GridSearchCV 최적 파라미터: {'max_depth': 128, 'min_child_samples': 60, 'num_leaves': 32, 'subsample': 0.8}\n",
            "ROC AUC: 0.9974\n"
          ],
          "name": "stdout"
        }
      ]
    }
  ]
}