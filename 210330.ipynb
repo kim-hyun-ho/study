{
  "nbformat": 4,
  "nbformat_minor": 0,
  "metadata": {
    "colab": {
      "name": "210330.ipynb",
      "provenance": [],
      "collapsed_sections": [],
      "authorship_tag": "ABX9TyPmIbFWTpo4ngA56W75f9JB",
      "include_colab_link": true
    },
    "kernelspec": {
      "name": "python3",
      "display_name": "Python 3"
    },
    "language_info": {
      "name": "python"
    }
  },
  "cells": [
    {
      "cell_type": "markdown",
      "metadata": {
        "id": "view-in-github",
        "colab_type": "text"
      },
      "source": [
        "<a href=\"https://colab.research.google.com/github/kim-hyun-ho/study/blob/main/210330.ipynb\" target=\"_parent\"><img src=\"https://colab.research.google.com/assets/colab-badge.svg\" alt=\"Open In Colab\"/></a>"
      ]
    },
    {
      "cell_type": "markdown",
      "metadata": {
        "id": "IF2-yfbwgsQE"
      },
      "source": [
        "#numpy"
      ]
    },
    {
      "cell_type": "code",
      "metadata": {
        "colab": {
          "base_uri": "https://localhost:8080/"
        },
        "id": "R3VetyXxg3Bw",
        "outputId": "a1466469-541c-4b6f-a651-64716e89eb79"
      },
      "source": [
        "import numpy as np\n",
        "\n",
        "A = [1,2,3,4]\n",
        "a = np.array(A,np.int)\n",
        "\n",
        "print('a의 차원 :',a.ndim)\n",
        "print(a)\n",
        "b=np.array([1])\n",
        "print('b의 차원 : ',b.ndim)\n",
        "print(b)"
      ],
      "execution_count": 6,
      "outputs": [
        {
          "output_type": "stream",
          "text": [
            "a의 차원 : 1\n",
            "[1 2 3 4]\n",
            "b의 차원 :  1\n",
            "[1]\n"
          ],
          "name": "stdout"
        }
      ]
    },
    {
      "cell_type": "code",
      "metadata": {
        "colab": {
          "base_uri": "https://localhost:8080/"
        },
        "id": "aNoP0kpEy4I3",
        "outputId": "31e33ff1-7ef1-40b4-eb1f-3ec883a03b8c"
      },
      "source": [
        "arr6 = np.array([[1,2],[3,4]])\n",
        "arr6 = np.array(((1,2),(3,4)))\n",
        "print(arr6)"
      ],
      "execution_count": 16,
      "outputs": [
        {
          "output_type": "stream",
          "text": [
            "[[1 2]\n",
            " [3 4]]\n"
          ],
          "name": "stdout"
        }
      ]
    },
    {
      "cell_type": "code",
      "metadata": {
        "id": "8t3LWlOM7Y0g"
      },
      "source": [
        "#주요 함수\n",
        "#zero : 0으로 초기화\n",
        "#ones : 1로 초기화\n",
        "#full : 특정 값으로 초기화\n",
        "#empty : 초기화 되지 않은 배열을 생성\n",
        "#identity, eye : NxN의 단위행렬 : 대각선 값 1\n",
        "#_likes : 주어진 배열과 같은 shape의 배열 생성\n",
        "#arange : range와 유사 범위와 setpsize\n",
        "#linspace : range와 유사 sample 갯수"
      ],
      "execution_count": null,
      "outputs": []
    },
    {
      "cell_type": "code",
      "metadata": {
        "colab": {
          "base_uri": "https://localhost:8080/"
        },
        "id": "1lXmeW5U77fQ",
        "outputId": "e09b5456-8b56-4530-9462-882485f3f5fd"
      },
      "source": [
        "np.zeros((5))\n",
        "np.zeros((2,4),dtype=np.int8)\n",
        "np.ones((3,3))\n",
        "np.full((4),5)\n",
        "np.full((2,5),-1.0)\n",
        "np.empty((2,3),dtype=np.float64)\n",
        "\n",
        "np.identity(5,dtype=int) #단위행렬 : 정방행렬만 가능\n",
        "\n",
        "np.eye(5,dtype=int)\n",
        "\n",
        "np.eye(5,10,dtype=int,k=5) #eye는 NxM 행렬 가능\n",
        "\n",
        "\n",
        "np.arange(5)"
      ],
      "execution_count": 28,
      "outputs": [
        {
          "output_type": "execute_result",
          "data": {
            "text/plain": [
              "array([0, 1, 2, 3, 4])"
            ]
          },
          "metadata": {
            "tags": []
          },
          "execution_count": 28
        }
      ]
    },
    {
      "cell_type": "code",
      "metadata": {
        "colab": {
          "base_uri": "https://localhost:8080/"
        },
        "id": "WYWde7HF-Zua",
        "outputId": "4ff9bfa0-7817-4730-d84d-cb4df9dd9305"
      },
      "source": [
        "#배열 결합함수\n",
        "#Hstack, concatenate(axis=0)\n",
        "\n",
        "a=np.array((1,2,3))\n",
        "b=np.array((4,5,6))\n",
        "np.hstack((a,b)) #열로 붙임\n",
        "np.vstack((a,b)) #행으로 붙임\n",
        "\n",
        "np.concatenate((a,b),axis=0) #열로 붙임\n",
        "# np.concatenate((a,b),axis=1) #에러 1차원은 지원 안함. 2차원은 됨.\n"
      ],
      "execution_count": 39,
      "outputs": [
        {
          "output_type": "execute_result",
          "data": {
            "text/plain": [
              "array([1, 2, 3, 4, 5, 6])"
            ]
          },
          "metadata": {
            "tags": []
          },
          "execution_count": 39
        }
      ]
    },
    {
      "cell_type": "code",
      "metadata": {
        "colab": {
          "base_uri": "https://localhost:8080/"
        },
        "id": "tE_46lqFBvMs",
        "outputId": "caf5b3e0-df87-4697-acda-6e0491076068"
      },
      "source": [
        "np.column_stack([a,b]) # 1차원 행렬을 컬럼으로 붙임.\n"
      ],
      "execution_count": 42,
      "outputs": [
        {
          "output_type": "execute_result",
          "data": {
            "text/plain": [
              "array([[1, 4],\n",
              "       [2, 5],\n",
              "       [3, 6]])"
            ]
          },
          "metadata": {
            "tags": []
          },
          "execution_count": 42
        }
      ]
    },
    {
      "cell_type": "code",
      "metadata": {
        "colab": {
          "base_uri": "https://localhost:8080/"
        },
        "id": "9qNo6gMECHEs",
        "outputId": "24cff45b-5018-487a-e3e0-6b4e7d080fba"
      },
      "source": [
        "#랜덤\n",
        "import random\n",
        "random.random() # 0<=리턴<1.0\n",
        "\n",
        "#시드 넘버 지정, 같은 난수 나오게 하기 위해.\n",
        "#재현가능성.\n",
        "\n",
        "np.random.randn(10000)\n",
        "#정규분포로 나옴.\n"
      ],
      "execution_count": 45,
      "outputs": [
        {
          "output_type": "execute_result",
          "data": {
            "text/plain": [
              "array([ 0.0220252 ,  0.0543001 , -1.00192861, ..., -0.94113509,\n",
              "        0.59173379, -0.05725877])"
            ]
          },
          "metadata": {
            "tags": []
          },
          "execution_count": 45
        }
      ]
    },
    {
      "cell_type": "code",
      "metadata": {
        "colab": {
          "base_uri": "https://localhost:8080/"
        },
        "id": "afwM0amyHu9s",
        "outputId": "9598e13c-f14b-4766-e95b-2a5259a46012"
      },
      "source": [
        "#연습\n",
        "val = int(input('로또 번호를 몇개 생성 할까요? '))\n",
        "for i in range(val):\n",
        "    lnum = [ np.random.randint(1,46) for x in range(6)]\n",
        "    lnum.sort()\n",
        "    #print(lnum)\n",
        "    snum = [ ' '+str(x) if x<10 else ''+str(x) for x in lnum]\n",
        "    print(snum)\n"
      ],
      "execution_count": 57,
      "outputs": [
        {
          "output_type": "stream",
          "text": [
            "로또 번호를 몇개 생성 할까요? 5\n",
            "[' 4', ' 8', '13', '13', '17', '40']\n",
            "[' 3', '11', '15', '22', '24', '44']\n",
            "[' 7', ' 9', '23', '34', '40', '45']\n",
            "[' 1', ' 9', '21', '24', '36', '44']\n",
            "[' 8', '19', '19', '22', '29', '45']\n"
          ],
          "name": "stdout"
        }
      ]
    },
    {
      "cell_type": "code",
      "metadata": {
        "colab": {
          "base_uri": "https://localhost:8080/"
        },
        "id": "pRBWxu7UM2Da",
        "outputId": "1c3b1a86-05ee-45df-c289-3249c0551cf0"
      },
      "source": [
        "#flatten 납작하게 1차원으로 만들어 버림.\n",
        "arr = np.zeros((3,2))\n",
        "arr.flatten()"
      ],
      "execution_count": 59,
      "outputs": [
        {
          "output_type": "execute_result",
          "data": {
            "text/plain": [
              "array([0., 0., 0., 0., 0., 0.])"
            ]
          },
          "metadata": {
            "tags": []
          },
          "execution_count": 59
        }
      ]
    },
    {
      "cell_type": "code",
      "metadata": {
        "id": "8PC9682MmEHZ"
      },
      "source": [
        ""
      ],
      "execution_count": null,
      "outputs": []
    },
    {
      "cell_type": "code",
      "metadata": {
        "colab": {
          "base_uri": "https://localhost:8080/"
        },
        "id": "_I-wpyVvlijQ",
        "outputId": "5f27d2c5-5259-49f3-9731-1b49f745b81b"
      },
      "source": [
        "#reshape 모양 변경 , 약수로 가능\n",
        "arr=np.arange(12)\n",
        "arr.reshape(3,4)\n",
        "# arr.reshape(1,3,4)\n",
        "\n",
        "arr.reshape(2,-1) #한쪽만 선언해줘도 된다.\n",
        "arr.reshape(-1,4) #한쪽만 선언해줘도 된다."
      ],
      "execution_count": 72,
      "outputs": [
        {
          "output_type": "execute_result",
          "data": {
            "text/plain": [
              "array([[ 0,  1,  2,  3],\n",
              "       [ 4,  5,  6,  7],\n",
              "       [ 8,  9, 10, 11]])"
            ]
          },
          "metadata": {
            "tags": []
          },
          "execution_count": 72
        }
      ]
    },
    {
      "cell_type": "code",
      "metadata": {
        "colab": {
          "base_uri": "https://localhost:8080/"
        },
        "id": "88s7_263nhOi",
        "outputId": "090ff9e1-2b3a-4a4e-9189-9cbcc255a4e2"
      },
      "source": [
        "#transpose :행렬 뒤바꿈\n",
        "\n",
        "#swapaxes\n",
        "\n",
        "a=np.arange(3).reshape(1,3)\n",
        "print(a)\n",
        "y=np.swapaxes(a,0,1) #0은 가장 높은 차수의 축, 2차원 / 1은 그다음, 즉 원소의 행과 열을 바꿈\n",
        "print(y)\n"
      ],
      "execution_count": 83,
      "outputs": [
        {
          "output_type": "stream",
          "text": [
            "[[0 1 2]]\n",
            "[[0]\n",
            " [1]\n",
            " [2]]\n"
          ],
          "name": "stdout"
        }
      ]
    },
    {
      "cell_type": "code",
      "metadata": {
        "colab": {
          "base_uri": "https://localhost:8080/"
        },
        "id": "0OfKiEsnsk1u",
        "outputId": "39fd3930-8832-4a99-e757-de62339cce4c"
      },
      "source": [
        "a=np.arange(6).reshape(1,2,3)\n",
        "print(a)\n",
        "print(a.shape)\n",
        "\n",
        "x=np.swapaxes(a,1,2)#2차원 축과 1차원 축을 바꿔라.\n",
        "print(x)"
      ],
      "execution_count": 85,
      "outputs": [
        {
          "output_type": "stream",
          "text": [
            "[[[0 1 2]\n",
            "  [3 4 5]]]\n",
            "(1, 2, 3)\n",
            "[[[0 3]\n",
            "  [1 4]\n",
            "  [2 5]]]\n"
          ],
          "name": "stdout"
        }
      ]
    },
    {
      "cell_type": "code",
      "metadata": {
        "id": "2VZ9ty1zvfP_"
      },
      "source": [
        "#transpose 다차원 연습할까?\n",
        "#transpose  축(axis) 건드리지 마세요.\n",
        "arr.transpose()\n",
        "arr.T #위와 동일"
      ],
      "execution_count": null,
      "outputs": []
    },
    {
      "cell_type": "code",
      "metadata": {
        "colab": {
          "base_uri": "https://localhost:8080/"
        },
        "id": "_-sNC1-Av8sK",
        "outputId": "718d70b0-54ef-450e-9b5d-3adb1d8b1f17"
      },
      "source": [
        "#연습\n",
        "#리스트로\n",
        "list1=[x for x in range(21)]\n",
        "print(list1)\n",
        "arr1 = [ x for x in list1 if x%2==0 ]\n",
        "print(arr1)\n",
        "arr2 = [ x for x in list1 if x%2==1 ]\n",
        "print(arr2)\n"
      ],
      "execution_count": 93,
      "outputs": [
        {
          "output_type": "stream",
          "text": [
            "[0, 1, 2, 3, 4, 5, 6, 7, 8, 9, 10, 11, 12, 13, 14, 15, 16, 17, 18, 19, 20]\n",
            "[0, 2, 4, 6, 8, 10, 12, 14, 16, 18, 20]\n",
            "[1, 3, 5, 7, 9, 11, 13, 15, 17, 19]\n"
          ],
          "name": "stdout"
        }
      ]
    },
    {
      "cell_type": "code",
      "metadata": {
        "colab": {
          "base_uri": "https://localhost:8080/"
        },
        "id": "EUaCUCAZw3RZ",
        "outputId": "7818f7fa-4c0c-4d1b-d96d-95a26aa0d0db"
      },
      "source": [
        "#연습 np 어레이.\n",
        "arr1 = np.arange(0,21,2)\n",
        "print(arr1)\n",
        "arr2 = np.arange(1,21,2)\n",
        "print(arr2)\n",
        "\n",
        "##다른방법\n",
        "arr0 = np.arange(0,21)\n",
        "print(arr0)\n",
        "#문법 스타일???? 요소중 조건에 맞는 것만 뽑기.\n",
        "arr1=arr0[arr0%2==0]\n",
        "arr2=arr0[arr0%2!=0]\n",
        "print(arr1)\n",
        "print(arr2)"
      ],
      "execution_count": 105,
      "outputs": [
        {
          "output_type": "stream",
          "text": [
            "[ 0  2  4  6  8 10 12 14 16 18 20]\n",
            "[ 1  3  5  7  9 11 13 15 17 19]\n",
            "[ 0  1  2  3  4  5  6  7  8  9 10 11 12 13 14 15 16 17 18 19 20]\n",
            "[ 0  2  4  6  8 10 12 14 16 18 20]\n",
            "[ 1  3  5  7  9 11 13 15 17 19]\n"
          ],
          "name": "stdout"
        }
      ]
    },
    {
      "cell_type": "code",
      "metadata": {
        "colab": {
          "base_uri": "https://localhost:8080/"
        },
        "id": "25Wo-agAy8v_",
        "outputId": "c09245f2-1f64-473b-a184-1b56e0695012"
      },
      "source": [
        "#모양을 바꿔 보자\n",
        "arr = np.arange(30).reshape(2,3,5)\n",
        "print(arr)\n",
        "print()\n",
        "print(arr.flatten())\n",
        "print()\n",
        "print(arr.reshape(6,5).transpose())"
      ],
      "execution_count": 111,
      "outputs": [
        {
          "output_type": "stream",
          "text": [
            "[[[ 0  1  2  3  4]\n",
            "  [ 5  6  7  8  9]\n",
            "  [10 11 12 13 14]]\n",
            "\n",
            " [[15 16 17 18 19]\n",
            "  [20 21 22 23 24]\n",
            "  [25 26 27 28 29]]]\n",
            "\n",
            "[ 0  1  2  3  4  5  6  7  8  9 10 11 12 13 14 15 16 17 18 19 20 21 22 23\n",
            " 24 25 26 27 28 29]\n",
            "\n",
            "[[ 0  5 10 15 20 25]\n",
            " [ 1  6 11 16 21 26]\n",
            " [ 2  7 12 17 22 27]\n",
            " [ 3  8 13 18 23 28]\n",
            " [ 4  9 14 19 24 29]]\n"
          ],
          "name": "stdout"
        }
      ]
    },
    {
      "cell_type": "code",
      "metadata": {
        "colab": {
          "base_uri": "https://localhost:8080/"
        },
        "id": "hwLv-S2d0E6w",
        "outputId": "ab955044-6d57-4d5f-ca70-ad92f9c7316a"
      },
      "source": [
        "##연습\n",
        "arr = np.arange(24).reshape(2,4,3)\n",
        "arr"
      ],
      "execution_count": 112,
      "outputs": [
        {
          "output_type": "execute_result",
          "data": {
            "text/plain": [
              "array([[[ 0,  1,  2],\n",
              "        [ 3,  4,  5],\n",
              "        [ 6,  7,  8],\n",
              "        [ 9, 10, 11]],\n",
              "\n",
              "       [[12, 13, 14],\n",
              "        [15, 16, 17],\n",
              "        [18, 19, 20],\n",
              "        [21, 22, 23]]])"
            ]
          },
          "metadata": {
            "tags": []
          },
          "execution_count": 112
        }
      ]
    },
    {
      "cell_type": "code",
      "metadata": {
        "colab": {
          "base_uri": "https://localhost:8080/"
        },
        "id": "iwqlCC600-qh",
        "outputId": "6149cacc-e122-46cf-9125-9450a1d820bd"
      },
      "source": [
        "arr=np.arange(30).reshape(3,2,5)\n",
        "print(arr)\n",
        "print('-------------------')\n",
        "cond=np.array(['a','b','c'])\n",
        "#arr = arr[cond!='b']\n",
        "arr = arr[(cond=='a') | (cond=='c')] #cond 인덱스가 1 이것 먼저 오고, c인것 오고\n",
        "# arr = arr[cond=='a' | cond=='c'] #cond 이건 에러 위와 같이해야#\n",
        "print(arr)"
      ],
      "execution_count": 162,
      "outputs": [
        {
          "output_type": "stream",
          "text": [
            "[[[ 0  1  2  3  4]\n",
            "  [ 5  6  7  8  9]]\n",
            "\n",
            " [[10 11 12 13 14]\n",
            "  [15 16 17 18 19]]\n",
            "\n",
            " [[20 21 22 23 24]\n",
            "  [25 26 27 28 29]]]\n",
            "-------------------\n",
            "[[[ 0  1  2  3  4]\n",
            "  [ 5  6  7  8  9]]\n",
            "\n",
            " [[20 21 22 23 24]\n",
            "  [25 26 27 28 29]]]\n"
          ],
          "name": "stdout"
        }
      ]
    },
    {
      "cell_type": "code",
      "metadata": {
        "id": "reDe-M5W4J6A"
      },
      "source": [
        "#단항 유니버셜 함수\n",
        "#exp 나 log 많이 쓰임\n"
      ],
      "execution_count": null,
      "outputs": []
    },
    {
      "cell_type": "code",
      "metadata": {
        "id": "og4Y7qSB1H-o"
      },
      "source": [
        "#이항 유니버셜함수\n",
        "arr1=np.arange(8).reshape(2,-1)\n",
        "arr2=np.arange(-40,40,10).reshape(2,-1)"
      ],
      "execution_count": 167,
      "outputs": []
    },
    {
      "cell_type": "code",
      "metadata": {
        "colab": {
          "base_uri": "https://localhost:8080/"
        },
        "id": "2JTMjQaPAnKE",
        "outputId": "5cbd1848-6198-4861-bb77-86c80e0ff7a4"
      },
      "source": [
        "arr1  "
      ],
      "execution_count": 168,
      "outputs": [
        {
          "output_type": "execute_result",
          "data": {
            "text/plain": [
              "array([[0, 1, 2, 3],\n",
              "       [4, 5, 6, 7]])"
            ]
          },
          "metadata": {
            "tags": []
          },
          "execution_count": 168
        }
      ]
    },
    {
      "cell_type": "code",
      "metadata": {
        "colab": {
          "base_uri": "https://localhost:8080/"
        },
        "id": "NTwzyCUwAqRQ",
        "outputId": "acf2e105-e77a-470e-82eb-19a918c59262"
      },
      "source": [
        "arr2"
      ],
      "execution_count": 169,
      "outputs": [
        {
          "output_type": "execute_result",
          "data": {
            "text/plain": [
              "array([[-40, -30, -20, -10],\n",
              "       [  0,  10,  20,  30]])"
            ]
          },
          "metadata": {
            "tags": []
          },
          "execution_count": 169
        }
      ]
    },
    {
      "cell_type": "code",
      "metadata": {
        "colab": {
          "base_uri": "https://localhost:8080/"
        },
        "id": "XEHGNb46Ar-5",
        "outputId": "db99029e-da3b-41ac-990c-cdd9b3d7aea6"
      },
      "source": [
        "np.subtract(arr1,arr2) ###각원소 차"
      ],
      "execution_count": 170,
      "outputs": [
        {
          "output_type": "execute_result",
          "data": {
            "text/plain": [
              "array([[ 40,  31,  22,  13],\n",
              "       [  4,  -5, -14, -23]])"
            ]
          },
          "metadata": {
            "tags": []
          },
          "execution_count": 170
        }
      ]
    },
    {
      "cell_type": "code",
      "metadata": {
        "colab": {
          "base_uri": "https://localhost:8080/"
        },
        "id": "zUWvC8tcBVwH",
        "outputId": "a8c6851e-5f11-4b3c-cf3c-fda728c6f33f"
      },
      "source": [
        "np.multiply(arr1,arr2) #### 각원소를 곱"
      ],
      "execution_count": 173,
      "outputs": [
        {
          "output_type": "execute_result",
          "data": {
            "text/plain": [
              "array([[  0, -30, -40, -30],\n",
              "       [  0,  50, 120, 210]])"
            ]
          },
          "metadata": {
            "tags": []
          },
          "execution_count": 173
        }
      ]
    },
    {
      "cell_type": "code",
      "metadata": {
        "colab": {
          "base_uri": "https://localhost:8080/"
        },
        "id": "Dr1U-8dBCFki",
        "outputId": "1f4394f6-d599-465f-adbe-938309548f5b"
      },
      "source": [
        "arr = np.arange(4).reshape(2,-1)\n",
        "arr"
      ],
      "execution_count": 175,
      "outputs": [
        {
          "output_type": "execute_result",
          "data": {
            "text/plain": [
              "array([[0, 1],\n",
              "       [2, 3]])"
            ]
          },
          "metadata": {
            "tags": []
          },
          "execution_count": 175
        }
      ]
    },
    {
      "cell_type": "code",
      "metadata": {
        "id": "pHkXxYIvCXK0"
      },
      "source": [
        "#sum\n",
        "#mean\n",
        "#std 표준편차 , var 분산\n",
        "#min,max\n",
        "#argmin,argmax\n",
        "#cumsum\n",
        "#cumprod\n",
        "\n",
        "#any\n",
        "#all\n",
        "#where\n",
        "#sort"
      ],
      "execution_count": null,
      "outputs": []
    },
    {
      "cell_type": "markdown",
      "metadata": {
        "id": "lOqY2p_7D520"
      },
      "source": [
        "#선형대수"
      ]
    },
    {
      "cell_type": "code",
      "metadata": {
        "colab": {
          "base_uri": "https://localhost:8080/"
        },
        "id": "98QEGUiPD8wm",
        "outputId": "b970d1a2-62e0-4d9d-b3be-300300af0366"
      },
      "source": [
        "#dot : 내적\n",
        "#dialog : \n",
        "#trace :\n",
        "#linalg.det\n",
        "#linalg.eig\n",
        "#linalg.inv\n",
        "#linalg.solve\n",
        "#linalg.svd\n",
        "\n",
        "a = np.arange(12).reshape(3,-1)\n",
        "b = np.arange(28).reshape(4,-1)\n",
        "print(a,'\\n\\n',b,'\\n\\n',np.dot(a,b))"
      ],
      "execution_count": 181,
      "outputs": [
        {
          "output_type": "stream",
          "text": [
            "[[ 0  1  2  3]\n",
            " [ 4  5  6  7]\n",
            " [ 8  9 10 11]] \n",
            "\n",
            " [[ 0  1  2  3  4  5  6]\n",
            " [ 7  8  9 10 11 12 13]\n",
            " [14 15 16 17 18 19 20]\n",
            " [21 22 23 24 25 26 27]] \n",
            "\n",
            " [[ 98 104 110 116 122 128 134]\n",
            " [266 288 310 332 354 376 398]\n",
            " [434 472 510 548 586 624 662]]\n"
          ],
          "name": "stdout"
        }
      ]
    },
    {
      "cell_type": "code",
      "metadata": {
        "id": "5NzWGc_WFsXj"
      },
      "source": [
        "#판별식, 역행렬,\n",
        "\n",
        "#고유값 eigen value\n",
        "#고유벡터 eigen vector\n",
        "#AX = 고유값x고유백터\n",
        "#차원 축소 , 디콤포지션\n"
      ],
      "execution_count": null,
      "outputs": []
    },
    {
      "cell_type": "code",
      "metadata": {
        "colab": {
          "base_uri": "https://localhost:8080/"
        },
        "id": "2V9vFxY8MbRz",
        "outputId": "6a34e526-e1d5-40f6-85df-ac584bc57ed2"
      },
      "source": [
        "i = np.eye(4)\n",
        "print(i)"
      ],
      "execution_count": 182,
      "outputs": [
        {
          "output_type": "stream",
          "text": [
            "[[1. 0. 0. 0.]\n",
            " [0. 1. 0. 0.]\n",
            " [0. 0. 1. 0.]\n",
            " [0. 0. 0. 1.]]\n"
          ],
          "name": "stdout"
        }
      ]
    },
    {
      "cell_type": "code",
      "metadata": {
        "colab": {
          "base_uri": "https://localhost:8080/"
        },
        "id": "cbarvt2lMgC9",
        "outputId": "0369b090-6687-4317-fe0a-ef2d0cc79376"
      },
      "source": [
        "i=np.eye(3,5)\n",
        "print(i)"
      ],
      "execution_count": 183,
      "outputs": [
        {
          "output_type": "stream",
          "text": [
            "[[1. 0. 0. 0. 0.]\n",
            " [0. 1. 0. 0. 0.]\n",
            " [0. 0. 1. 0. 0.]]\n"
          ],
          "name": "stdout"
        }
      ]
    },
    {
      "cell_type": "code",
      "metadata": {
        "colab": {
          "base_uri": "https://localhost:8080/"
        },
        "id": "YtFChNRlMkJ2",
        "outputId": "905e1420-1586-4436-fc5a-574754f13004"
      },
      "source": [
        "x=np.arange(9).reshape(3,-1)\n",
        "print(x)"
      ],
      "execution_count": 184,
      "outputs": [
        {
          "output_type": "stream",
          "text": [
            "[[0 1 2]\n",
            " [3 4 5]\n",
            " [6 7 8]]\n"
          ],
          "name": "stdout"
        }
      ]
    },
    {
      "cell_type": "code",
      "metadata": {
        "colab": {
          "base_uri": "https://localhost:8080/"
        },
        "id": "JR1tRsViMq3_",
        "outputId": "833dd66e-a5fb-4def-9d30-dc2bcc35751e"
      },
      "source": [
        "np.diag(x)"
      ],
      "execution_count": 185,
      "outputs": [
        {
          "output_type": "execute_result",
          "data": {
            "text/plain": [
              "array([0, 4, 8])"
            ]
          },
          "metadata": {
            "tags": []
          },
          "execution_count": 185
        }
      ]
    },
    {
      "cell_type": "code",
      "metadata": {
        "colab": {
          "base_uri": "https://localhost:8080/"
        },
        "id": "b3bPoWrzMwRZ",
        "outputId": "a6027a9f-e91b-4ecf-8a50-e0d1d7af6d5d"
      },
      "source": [
        "np.diag(np.diag(x))"
      ],
      "execution_count": 186,
      "outputs": [
        {
          "output_type": "execute_result",
          "data": {
            "text/plain": [
              "array([[0, 0, 0],\n",
              "       [0, 4, 0],\n",
              "       [0, 0, 8]])"
            ]
          },
          "metadata": {
            "tags": []
          },
          "execution_count": 186
        }
      ]
    },
    {
      "cell_type": "code",
      "metadata": {
        "colab": {
          "base_uri": "https://localhost:8080/"
        },
        "id": "yuttPid2NDFp",
        "outputId": "a7c91813-1c03-4ef7-c704-db851fa9db16"
      },
      "source": [
        "a=np.arange(4).reshape(-1,2)\n",
        "print(a)"
      ],
      "execution_count": 187,
      "outputs": [
        {
          "output_type": "stream",
          "text": [
            "[[0 1]\n",
            " [2 3]]\n"
          ],
          "name": "stdout"
        }
      ]
    },
    {
      "cell_type": "code",
      "metadata": {
        "colab": {
          "base_uri": "https://localhost:8080/"
        },
        "id": "RxaoBvTXNL8E",
        "outputId": "fdde2334-1144-4eba-d557-3a20074ebc95"
      },
      "source": [
        "print(a*a)\n",
        "\n",
        "print(np.dot(a,a)) #내적은 b벡터는 a벡터 크기 곱하기 코사인 세타 : 정보 유사도 평가.\n",
        "\n",
        "#3차이상 에서는 매트릭스 곱의 쓴다.\n",
        "#np.matmul(a,b)\n",
        "\n",
        "\n",
        "#단위행열 영행렬 역행렬 빼고는 교환법칙 성립하지 않는다.\n",
        "#행렬 a dot b  != b dot a"
      ],
      "execution_count": 188,
      "outputs": [
        {
          "output_type": "stream",
          "text": [
            "[[0 1]\n",
            " [4 9]]\n",
            "[[ 2  3]\n",
            " [ 6 11]]\n"
          ],
          "name": "stdout"
        }
      ]
    },
    {
      "cell_type": "code",
      "metadata": {
        "id": "_SMWK4YmPD99"
      },
      "source": [
        "#trace 정방행렬의 대각에 위취하 원소를 전부더해줌"
      ],
      "execution_count": null,
      "outputs": []
    },
    {
      "cell_type": "code",
      "metadata": {
        "id": "nJM_ZKeSQZVv"
      },
      "source": [
        "#determin\n",
        "#역행렬이 있는지\n"
      ],
      "execution_count": null,
      "outputs": []
    }
  ]
}