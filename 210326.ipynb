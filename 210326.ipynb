{
  "nbformat": 4,
  "nbformat_minor": 0,
  "metadata": {
    "colab": {
      "name": "210326.ipynb",
      "provenance": [],
      "collapsed_sections": [],
      "mount_file_id": "1rdNyf8ocogiXVijyslgAZzmunitIvDqY",
      "authorship_tag": "ABX9TyNufku7DXl3RzYJSsHXVY4g",
      "include_colab_link": true
    },
    "kernelspec": {
      "name": "python3",
      "display_name": "Python 3"
    },
    "language_info": {
      "name": "python"
    }
  },
  "cells": [
    {
      "cell_type": "markdown",
      "metadata": {
        "id": "view-in-github",
        "colab_type": "text"
      },
      "source": [
        "<a href=\"https://colab.research.google.com/github/kim-hyun-ho/study/blob/main/210326.ipynb\" target=\"_parent\"><img src=\"https://colab.research.google.com/assets/colab-badge.svg\" alt=\"Open In Colab\"/></a>"
      ]
    },
    {
      "cell_type": "markdown",
      "metadata": {
        "id": "dsKUKqtJ0sYM"
      },
      "source": [
        "#복습\n",
        "####리스트 : 중괄호 [,,] =>삽입,수정,삭제\n",
        "\n",
        "####튜플 : 소괄호 (,,) => 삽입,수정,삭제 불가, 리드온리 리스트?\n",
        "\n",
        "####딕셔너리 : 대괄호{키1:값1, 키2:값2, ....} => 접근편의 위해 컬럼이름을 키로 할당 키로만 접근 가능 \n",
        "\n",
        "#2021.03.26 파이썬 기초\n"
      ]
    },
    {
      "cell_type": "code",
      "metadata": {
        "colab": {
          "base_uri": "https://localhost:8080/"
        },
        "id": "su3_o9ps3q60",
        "outputId": "59d2d7ca-f2b6-46f7-ecec-c74cad504613"
      },
      "source": [
        "#리스트 소트 복습\n",
        "a=[13,4,2,2,3,4]\n",
        "print(a)\n",
        "\n",
        "print(sorted(a)) #sorted는 정렬한 새로운 리스트 반환한다.\n",
        "print(a)\n",
        "\n",
        "a.sort()\n",
        "print(a)"
      ],
      "execution_count": null,
      "outputs": [
        {
          "output_type": "stream",
          "text": [
            "[13, 4, 2, 2, 3, 4]\n",
            "[2, 2, 3, 4, 4, 13]\n",
            "[13, 4, 2, 2, 3, 4]\n",
            "[2, 2, 3, 4, 4, 13]\n"
          ],
          "name": "stdout"
        }
      ]
    },
    {
      "cell_type": "code",
      "metadata": {
        "colab": {
          "base_uri": "https://localhost:8080/"
        },
        "id": "C3AEYUZL9viL",
        "outputId": "f2964034-2de7-485c-a8f0-7a62c2b040a9"
      },
      "source": [
        "a=1\n",
        "b=2\n",
        "c=3\n",
        "\n",
        "d=[a,b,c]\n",
        "print(d)"
      ],
      "execution_count": null,
      "outputs": [
        {
          "output_type": "stream",
          "text": [
            "[1, 2, 3]\n"
          ],
          "name": "stdout"
        }
      ]
    },
    {
      "cell_type": "code",
      "metadata": {
        "colab": {
          "base_uri": "https://localhost:8080/"
        },
        "id": "ynXN1gEfAzgm",
        "outputId": "a9723adc-9656-44bc-f2d6-eec5d2d996ab"
      },
      "source": [
        "#조건문\n",
        "#과학적 문제해결 방법\n",
        "# 문제인식 > 가설설정 > 실증 > 해법규명\n",
        "\n",
        "#if else\n",
        "money = True\n",
        "if money :\n",
        "  print(\"여행을 간다\")\n",
        "else :\n",
        "  print(\"집에서 쉰다\")\n",
        "  \n"
      ],
      "execution_count": null,
      "outputs": [
        {
          "output_type": "stream",
          "text": [
            "여행을 간다\n"
          ],
          "name": "stdout"
        }
      ]
    },
    {
      "cell_type": "code",
      "metadata": {
        "colab": {
          "base_uri": "https://localhost:8080/"
        },
        "id": "E-7MdoS6B2kU",
        "outputId": "04ef7629-ac50-48d0-c46b-5d9368de143c"
      },
      "source": [
        "#elif 추가\n",
        "\n",
        "money = 25000\n",
        "if money <= 5000 :\n",
        "  print('라면을 먹는다')\n",
        "elif 5000 < money <= 25000 :\n",
        "  print('치킨을 먹는다')\n",
        "elif 25000 < money <= 50000 :\n",
        "  print('삼겹살을 먹는다')\n",
        "else :\n",
        "  print('소고기를 먹는다')"
      ],
      "execution_count": null,
      "outputs": [
        {
          "output_type": "stream",
          "text": [
            "치킨을 먹는다\n"
          ],
          "name": "stdout"
        }
      ]
    },
    {
      "cell_type": "code",
      "metadata": {
        "colab": {
          "base_uri": "https://localhost:8080/"
        },
        "id": "sXzKt7Y1CAT0",
        "outputId": "98c278e9-380f-4929-8994-d3fe307035f8"
      },
      "source": [
        "#불연산 특별한 함수\n",
        "\n",
        "boolean_list=[True, False, True, False]\n",
        "print(all(boolean_list)) #sql에서 서브쿼리 결과 다수일때 비슷한 사용 예 있음\n",
        "print(any(boolean_list))\n"
      ],
      "execution_count": null,
      "outputs": [
        {
          "output_type": "stream",
          "text": [
            "False\n",
            "True\n"
          ],
          "name": "stdout"
        }
      ]
    },
    {
      "cell_type": "code",
      "metadata": {
        "colab": {
          "base_uri": "https://localhost:8080/"
        },
        "id": "6Y92zaOII5do",
        "outputId": "ef30afa5-424f-445e-ff8d-fc1d4f4bcddc"
      },
      "source": [
        "#if연습\n",
        "money =20000\n",
        "card =True\n",
        "\n",
        "if card :\n",
        "  if money < 30000 :\n",
        "    print('삼겹살을 먹는다')\n",
        "  else :\n",
        "    print (\"소고기를 먹는다\")\n",
        "else:\n",
        "  if money <=1000 :\n",
        "    pass #아무것도 하지않고 지나가라.\n",
        "  else:\n",
        "    print('라면을 먹느다')"
      ],
      "execution_count": null,
      "outputs": [
        {
          "output_type": "stream",
          "text": [
            "삼겹살을 먹는다\n"
          ],
          "name": "stdout"
        }
      ]
    },
    {
      "cell_type": "code",
      "metadata": {
        "colab": {
          "base_uri": "https://localhost:8080/"
        },
        "id": "ei8EJ1J-LJAD",
        "outputId": "853da08c-ff47-442f-cae2-e911908f2f09"
      },
      "source": [
        "#삼항 연산자\n",
        "#%%timeit \n",
        "#함수나 코드 시간 측정\n",
        "value = 20\n",
        "is_even = True if value%2 == 0 else Fasel #\n",
        "#print(is_even)\n",
        "\n",
        "#막간을 이용한 sql 복습\n",
        "#select decode(mod(20,2),0,'True','False') from dual;\n",
        "#select decode(mod(21,2),0,'True','False') from dual;"
      ],
      "execution_count": null,
      "outputs": [
        {
          "output_type": "stream",
          "text": [
            "The slowest run took 14.65 times longer than the fastest. This could mean that an intermediate result is being cached.\n",
            "10000000 loops, best of 5: 92.1 ns per loop\n"
          ],
          "name": "stdout"
        }
      ]
    },
    {
      "cell_type": "code",
      "metadata": {
        "colab": {
          "base_uri": "https://localhost:8080/"
        },
        "id": "PqgYW8g1QlKS",
        "outputId": "04b395cf-15bb-4aa6-e908-17036ae0705b"
      },
      "source": [
        "#포멧팅\n",
        "# %d int, %f float, %s 스트링, %c 문자1개 , %% %자체\n",
        "num=1\n",
        "print('문자열 포메팅 하기 예시 %d' %num)\n",
        "print('문자열 포메팅 하기 예시 {}'.format(num)) #포멧함수\n",
        "print(f'문자열 포메팅 하기 예시 {num}') #f스트링=============================********========= 자주쓴다.\n",
        "ch='이름'\n",
        "print('내이름은 : %s' %ch)\n",
        "print('내이름은 : {}'.format(ch))\n",
        "print(f'내이름은 : {ch}')\n",
        "fl = 2.566132\n",
        "print('반올림 하기 : %0.1f' %fl)\n",
        "\n",
        "#이름으로도 포멧팅\n",
        "print('나는 오늘 {음료}를 {개수} 잔이나 마셨다'.format(음료='커피', 개수=3))"
      ],
      "execution_count": null,
      "outputs": [
        {
          "output_type": "stream",
          "text": [
            "문자열 포메팅 하기 예시 1\n",
            "문자열 포메팅 하기 예시 1\n",
            "문자열 포메팅 하기 예시 1\n",
            "내이름은 : 이름\n",
            "내이름은 : 이름\n",
            "내이름은 : 이름\n",
            "반올림 하기 : 2.6\n",
            "나는 오늘 커피를 3 잔이나 마셨다\n"
          ],
          "name": "stdout"
        }
      ]
    },
    {
      "cell_type": "code",
      "metadata": {
        "colab": {
          "base_uri": "https://localhost:8080/"
        },
        "id": "9Y8CJ52GTetS",
        "outputId": "08583208-10e3-49e0-ad60-2b51a832dae5"
      },
      "source": [
        "#연습\n",
        "a=34\n",
        "b=4\n",
        "if (a%b) < 3:\n",
        "  print('성공')\n",
        "elif (a%b) ==3:\n",
        "  print('무승부')\n",
        "else :\n",
        "  print('실패')"
      ],
      "execution_count": null,
      "outputs": [
        {
          "output_type": "stream",
          "text": [
            "성공\n"
          ],
          "name": "stdout"
        }
      ]
    },
    {
      "cell_type": "code",
      "metadata": {
        "colab": {
          "base_uri": "https://localhost:8080/"
        },
        "id": "3DCKsIQ1UCTa",
        "outputId": "fb57598b-ec7e-44b3-a6b9-968bda39417a"
      },
      "source": [
        "#연습\n",
        "def inputnum() :\n",
        "  try :\n",
        "    val = input(\"숫자를 입력해 주세요 :\")\n",
        "    val = int(val)\n",
        "    return val\n",
        "  except ValueError:\n",
        "    try:\n",
        "      val = float(val)\n",
        "      return val\n",
        "    except ValueError:\n",
        "      return val\n",
        "      #정수 실수 아니면 문자열 그대로 반환\n",
        "\n",
        "# a = inputnum()\n",
        "# print(type(a))\n",
        "# b = inputnum()\n",
        "# print(type(b))\n",
        "# c = inputnum()\n",
        "# print(type(c))\n",
        "a=0\n",
        "b=0\n",
        "c=0\n",
        "\n",
        "while True:\n",
        " print('첫번째 숫자를 입력해 줏세요')\n",
        " a=inputnum()\n",
        " if type(a) == str: continue\n",
        " break\n",
        "\n",
        "while True:\n",
        " print('두번째 숫자를 입력해 줏세요')\n",
        " b=inputnum()\n",
        " if type(b) == str: continue\n",
        " break\n",
        "\n",
        "while True:\n",
        " print('세번째 숫자를 입력해 줏세요')\n",
        " c=inputnum()\n",
        " if type(c) == str: continue\n",
        " break\n",
        "\n",
        "if a>65 and b>65 and c>65:\n",
        "  print(\"합격\")\n",
        "else:\n",
        "  print(\"불합격\")  \n"
      ],
      "execution_count": null,
      "outputs": [
        {
          "output_type": "stream",
          "text": [
            "첫번째 숫자를 입력해 줏세요\n",
            "숫자를 입력해 주세요 :123\n",
            "두번째 숫자를 입력해 줏세요\n",
            "숫자를 입력해 주세요 :123\n",
            "세번째 숫자를 입력해 줏세요\n",
            "숫자를 입력해 주세요 :123\n",
            "합격\n"
          ],
          "name": "stdout"
        }
      ]
    },
    {
      "cell_type": "code",
      "metadata": {
        "colab": {
          "base_uri": "https://localhost:8080/"
        },
        "id": "MnuKgNlldMa5",
        "outputId": "cfba9b08-501b-4dda-c190-6b9649367373"
      },
      "source": [
        "#홀짝구분\n",
        "a = inputnum()\n",
        "if type(a)==str:\n",
        "  print('문자를 입력하셨네요')\n",
        "else:\n",
        "  if a%2 ==0:\n",
        "    print(f'{a}는 짝수')\n",
        "  else:\n",
        "    print(f'{a}는 홀수')"
      ],
      "execution_count": null,
      "outputs": [
        {
          "output_type": "stream",
          "text": [
            "0~100의 숫자를 입력해 주세요 :5\n",
            "5는 홀수\n"
          ],
          "name": "stdout"
        }
      ]
    },
    {
      "cell_type": "code",
      "metadata": {
        "colab": {
          "base_uri": "https://localhost:8080/"
        },
        "id": "tn2gWIRHd_aY",
        "outputId": "1162e5df-d835-4939-bb79-698a25eae4da"
      },
      "source": [
        "#2와 3의배수인지 검사\n",
        "print('양의 정수를 입력해 주세요')\n",
        "a=inputnum()\n",
        "if type(a) == str:\n",
        "  print('문자를 입력하셨네요')\n",
        "elif type(a) == float:\n",
        "  print('실수를 입력하셨네요')\n",
        "elif a <=0:\n",
        "  print('양의 정수가 아니에요')\n",
        "else:\n",
        "  if a%2==0 and a%3==0:\n",
        "    print(f'{a}는 2와 3의 공배수입니다.')\n",
        "  elif a%2==0:\n",
        "    print(f'{a}는 2의 배수입니다.')\n",
        "  elif a%3==0:\n",
        "    print(f'{a}는 3의 배수입니다.')\n",
        "  else:\n",
        "    print(f'{a}는 2나 3의 배수가 아닙니다.')\n"
      ],
      "execution_count": null,
      "outputs": [
        {
          "output_type": "stream",
          "text": [
            "양의 정수를 입력해 주세요\n",
            "0~100의 숫자를 입력해 주세요 :1234234236\n",
            "1234234236는 2와 3의 공배수입니다.\n"
          ],
          "name": "stdout"
        }
      ]
    },
    {
      "cell_type": "markdown",
      "metadata": {
        "id": "O4ndjWRnj-PS"
      },
      "source": [
        "#파이썬 반복문 while 문\n",
        "##while 조건:\n",
        "##continue \n",
        "##break\n",
        "####파이썬에는 do~ while이 없으니까 while Treu: 로 놓고 조건에 따라 break or continue 하는 것으로 활용"
      ]
    },
    {
      "cell_type": "code",
      "metadata": {
        "id": "OkM1v0hThptg"
      },
      "source": [
        "#파이썬 반복문 while 문\n",
        "#while 조건:\n",
        " #continue\n",
        " #break\n",
        "###########\n",
        "#파이썬에는 do~ while이 없으니까 while Treu: 로 놓고 조건에 따라 break or continue 하는 것으로 활용\n",
        "\n"
      ],
      "execution_count": null,
      "outputs": []
    },
    {
      "cell_type": "code",
      "metadata": {
        "colab": {
          "base_uri": "https://localhost:8080/"
        },
        "id": "7KyICnGtk2LP",
        "outputId": "91a4ceae-2e91-40d2-fe25-7ef97c44cc2f"
      },
      "source": [
        "#for i in rage(): 문\n",
        "\n",
        "for i in range(5):\n",
        "  print(i)\n",
        "print()\n",
        "\n",
        "#\n",
        "word = 'Hello'\n",
        "for w in word:\n",
        "  print(w)\n",
        "\n",
        "#이중으로 들어있을 때.\n",
        "for a,b in [(2,1),(2,2),(2,3)]:\n",
        "  print(f'{a} * {b} = {a*b}')"
      ],
      "execution_count": null,
      "outputs": [
        {
          "output_type": "stream",
          "text": [
            "0\n",
            "1\n",
            "2\n",
            "3\n",
            "4\n",
            "\n",
            "H\n",
            "e\n",
            "l\n",
            "l\n",
            "o\n",
            "2 * 1 = 2\n",
            "2 * 2 = 4\n",
            "2 * 3 = 6\n"
          ],
          "name": "stdout"
        }
      ]
    },
    {
      "cell_type": "code",
      "metadata": {
        "colab": {
          "base_uri": "https://localhost:8080/"
        },
        "id": "WVdQk4PSnXjC",
        "outputId": "8468e194-f0b0-49d0-e9bf-d898c147a8ce"
      },
      "source": [
        "#구구단\n",
        "for x in range(2,4):\n",
        "  for y in range(2,10):\n",
        "    print(f'{x} * {y} = {x*y}')\n",
        "  print()"
      ],
      "execution_count": null,
      "outputs": [
        {
          "output_type": "stream",
          "text": [
            "2 * 2 = 4\n",
            "2 * 3 = 6\n",
            "2 * 4 = 8\n",
            "2 * 5 = 10\n",
            "2 * 6 = 12\n",
            "2 * 7 = 14\n",
            "2 * 8 = 16\n",
            "2 * 9 = 18\n",
            "\n",
            "3 * 2 = 6\n",
            "3 * 3 = 9\n",
            "3 * 4 = 12\n",
            "3 * 5 = 15\n",
            "3 * 6 = 18\n",
            "3 * 7 = 21\n",
            "3 * 8 = 24\n",
            "3 * 9 = 27\n",
            "\n"
          ],
          "name": "stdout"
        }
      ]
    },
    {
      "cell_type": "code",
      "metadata": {
        "colab": {
          "base_uri": "https://localhost:8080/"
        },
        "id": "uA180WBvn5TF",
        "outputId": "55e7fd05-d093-48b3-9afd-66336541b7a0"
      },
      "source": [
        "for x in range(1,21):\n",
        "  print(f'{x}단 ===============')\n",
        "  for y in range(2,10):\n",
        "    print(f'{x} * {y} = {x*y}')\n",
        "  print()"
      ],
      "execution_count": null,
      "outputs": [
        {
          "output_type": "stream",
          "text": [
            "1단 ===============\n",
            "1 * 2 = 2\n",
            "1 * 3 = 3\n",
            "1 * 4 = 4\n",
            "1 * 5 = 5\n",
            "1 * 6 = 6\n",
            "1 * 7 = 7\n",
            "1 * 8 = 8\n",
            "1 * 9 = 9\n",
            "\n",
            "2단 ===============\n",
            "2 * 2 = 4\n",
            "2 * 3 = 6\n",
            "2 * 4 = 8\n",
            "2 * 5 = 10\n",
            "2 * 6 = 12\n",
            "2 * 7 = 14\n",
            "2 * 8 = 16\n",
            "2 * 9 = 18\n",
            "\n",
            "3단 ===============\n",
            "3 * 2 = 6\n",
            "3 * 3 = 9\n",
            "3 * 4 = 12\n",
            "3 * 5 = 15\n",
            "3 * 6 = 18\n",
            "3 * 7 = 21\n",
            "3 * 8 = 24\n",
            "3 * 9 = 27\n",
            "\n",
            "4단 ===============\n",
            "4 * 2 = 8\n",
            "4 * 3 = 12\n",
            "4 * 4 = 16\n",
            "4 * 5 = 20\n",
            "4 * 6 = 24\n",
            "4 * 7 = 28\n",
            "4 * 8 = 32\n",
            "4 * 9 = 36\n",
            "\n",
            "5단 ===============\n",
            "5 * 2 = 10\n",
            "5 * 3 = 15\n",
            "5 * 4 = 20\n",
            "5 * 5 = 25\n",
            "5 * 6 = 30\n",
            "5 * 7 = 35\n",
            "5 * 8 = 40\n",
            "5 * 9 = 45\n",
            "\n",
            "6단 ===============\n",
            "6 * 2 = 12\n",
            "6 * 3 = 18\n",
            "6 * 4 = 24\n",
            "6 * 5 = 30\n",
            "6 * 6 = 36\n",
            "6 * 7 = 42\n",
            "6 * 8 = 48\n",
            "6 * 9 = 54\n",
            "\n",
            "7단 ===============\n",
            "7 * 2 = 14\n",
            "7 * 3 = 21\n",
            "7 * 4 = 28\n",
            "7 * 5 = 35\n",
            "7 * 6 = 42\n",
            "7 * 7 = 49\n",
            "7 * 8 = 56\n",
            "7 * 9 = 63\n",
            "\n",
            "8단 ===============\n",
            "8 * 2 = 16\n",
            "8 * 3 = 24\n",
            "8 * 4 = 32\n",
            "8 * 5 = 40\n",
            "8 * 6 = 48\n",
            "8 * 7 = 56\n",
            "8 * 8 = 64\n",
            "8 * 9 = 72\n",
            "\n",
            "9단 ===============\n",
            "9 * 2 = 18\n",
            "9 * 3 = 27\n",
            "9 * 4 = 36\n",
            "9 * 5 = 45\n",
            "9 * 6 = 54\n",
            "9 * 7 = 63\n",
            "9 * 8 = 72\n",
            "9 * 9 = 81\n",
            "\n",
            "10단 ===============\n",
            "10 * 2 = 20\n",
            "10 * 3 = 30\n",
            "10 * 4 = 40\n",
            "10 * 5 = 50\n",
            "10 * 6 = 60\n",
            "10 * 7 = 70\n",
            "10 * 8 = 80\n",
            "10 * 9 = 90\n",
            "\n",
            "11단 ===============\n",
            "11 * 2 = 22\n",
            "11 * 3 = 33\n",
            "11 * 4 = 44\n",
            "11 * 5 = 55\n",
            "11 * 6 = 66\n",
            "11 * 7 = 77\n",
            "11 * 8 = 88\n",
            "11 * 9 = 99\n",
            "\n",
            "12단 ===============\n",
            "12 * 2 = 24\n",
            "12 * 3 = 36\n",
            "12 * 4 = 48\n",
            "12 * 5 = 60\n",
            "12 * 6 = 72\n",
            "12 * 7 = 84\n",
            "12 * 8 = 96\n",
            "12 * 9 = 108\n",
            "\n",
            "13단 ===============\n",
            "13 * 2 = 26\n",
            "13 * 3 = 39\n",
            "13 * 4 = 52\n",
            "13 * 5 = 65\n",
            "13 * 6 = 78\n",
            "13 * 7 = 91\n",
            "13 * 8 = 104\n",
            "13 * 9 = 117\n",
            "\n",
            "14단 ===============\n",
            "14 * 2 = 28\n",
            "14 * 3 = 42\n",
            "14 * 4 = 56\n",
            "14 * 5 = 70\n",
            "14 * 6 = 84\n",
            "14 * 7 = 98\n",
            "14 * 8 = 112\n",
            "14 * 9 = 126\n",
            "\n",
            "15단 ===============\n",
            "15 * 2 = 30\n",
            "15 * 3 = 45\n",
            "15 * 4 = 60\n",
            "15 * 5 = 75\n",
            "15 * 6 = 90\n",
            "15 * 7 = 105\n",
            "15 * 8 = 120\n",
            "15 * 9 = 135\n",
            "\n",
            "16단 ===============\n",
            "16 * 2 = 32\n",
            "16 * 3 = 48\n",
            "16 * 4 = 64\n",
            "16 * 5 = 80\n",
            "16 * 6 = 96\n",
            "16 * 7 = 112\n",
            "16 * 8 = 128\n",
            "16 * 9 = 144\n",
            "\n",
            "17단 ===============\n",
            "17 * 2 = 34\n",
            "17 * 3 = 51\n",
            "17 * 4 = 68\n",
            "17 * 5 = 85\n",
            "17 * 6 = 102\n",
            "17 * 7 = 119\n",
            "17 * 8 = 136\n",
            "17 * 9 = 153\n",
            "\n",
            "18단 ===============\n",
            "18 * 2 = 36\n",
            "18 * 3 = 54\n",
            "18 * 4 = 72\n",
            "18 * 5 = 90\n",
            "18 * 6 = 108\n",
            "18 * 7 = 126\n",
            "18 * 8 = 144\n",
            "18 * 9 = 162\n",
            "\n",
            "19단 ===============\n",
            "19 * 2 = 38\n",
            "19 * 3 = 57\n",
            "19 * 4 = 76\n",
            "19 * 5 = 95\n",
            "19 * 6 = 114\n",
            "19 * 7 = 133\n",
            "19 * 8 = 152\n",
            "19 * 9 = 171\n",
            "\n",
            "20단 ===============\n",
            "20 * 2 = 40\n",
            "20 * 3 = 60\n",
            "20 * 4 = 80\n",
            "20 * 5 = 100\n",
            "20 * 6 = 120\n",
            "20 * 7 = 140\n",
            "20 * 8 = 160\n",
            "20 * 9 = 180\n",
            "\n"
          ],
          "name": "stdout"
        }
      ]
    },
    {
      "cell_type": "code",
      "metadata": {
        "colab": {
          "base_uri": "https://localhost:8080/"
        },
        "id": "odv-mqTuo9H_",
        "outputId": "e288d272-6c18-4255-c5a2-ba1016daee65"
      },
      "source": [
        "#1부터 10의 합\n",
        "isum=0;\n",
        "for i in range(1,11):\n",
        "  isum +=i\n",
        "print(f'1부터 10의 합은 {isum}입니다.')"
      ],
      "execution_count": null,
      "outputs": [
        {
          "output_type": "stream",
          "text": [
            "1부터 10의 합은 55입니다.\n"
          ],
          "name": "stdout"
        }
      ]
    },
    {
      "cell_type": "code",
      "metadata": {
        "colab": {
          "base_uri": "https://localhost:8080/"
        },
        "id": "3vYX9eSN6s4v",
        "outputId": "554c83d3-9403-4536-db5d-a9bd36abcf3c"
      },
      "source": [
        "# 입력받은 수만큼 안녕 출력\n",
        "i=0\n",
        "while True:\n",
        "  print('양의 정수를 입력해 주세요\\n')\n",
        "  i=inputnum()\n",
        "  if type(i)!=int : continue\n",
        "  for n in range(i):\n",
        "    print(\"안녕\")\n",
        "  print(f'\\n입력 받은 숫자 만큼 {i}회 출력하였습니다.')\n",
        "  break;\n"
      ],
      "execution_count": null,
      "outputs": [
        {
          "output_type": "stream",
          "text": [
            "양의 정수를 입력해 주세요\n",
            "\n",
            "숫자를 입력해 주세요 :asdf\n",
            "양의 정수를 입력해 주세요\n",
            "\n",
            "숫자를 입력해 주세요 :6\n",
            "안녕\n",
            "안녕\n",
            "안녕\n",
            "안녕\n",
            "안녕\n",
            "안녕\n",
            "\n",
            "입력 받은 숫자 만큼 6회 출력하였습니다.\n"
          ],
          "name": "stdout"
        }
      ]
    },
    {
      "cell_type": "code",
      "metadata": {
        "id": "H3BTZadN8VV5"
      },
      "source": [
        ""
      ],
      "execution_count": null,
      "outputs": []
    },
    {
      "cell_type": "code",
      "metadata": {
        "colab": {
          "base_uri": "https://localhost:8080/"
        },
        "id": "ifcZisMD8bxZ",
        "outputId": "b9a4ceb4-1e0f-4d33-9983-1aeb9b1d64d4"
      },
      "source": [
        "# 입력받은 수만큼 별출 출력\n",
        "i=0\n",
        "while True:\n",
        "  print('양의 정수를 입력해 주세요\\n')\n",
        "  i=inputnum()\n",
        "  if type(i)!=int : continue\n",
        "  for n in range(i+1):\n",
        "    print(\"*\"*n)\n",
        "\n",
        "#역순찍기\n",
        "  for n in range(i,-1,-1): \n",
        "    print(\"$\"*n)\n",
        "\n",
        "  print(f'\\n입력 받은 숫자 만큼 {i}회 출력하였습니다.')\n",
        "  break;\n"
      ],
      "execution_count": null,
      "outputs": [
        {
          "output_type": "stream",
          "text": [
            "양의 정수를 입력해 주세요\n",
            "\n",
            "숫자를 입력해 주세요 :5\n",
            "\n",
            "*\n",
            "**\n",
            "***\n",
            "****\n",
            "*****\n",
            "$$$$$\n",
            "$$$$\n",
            "$$$\n",
            "$$\n",
            "$\n",
            "\n",
            "\n",
            "입력 받은 숫자 만큼 5회 출력하였습니다.\n"
          ],
          "name": "stdout"
        }
      ]
    },
    {
      "cell_type": "code",
      "metadata": {
        "colab": {
          "base_uri": "https://localhost:8080/"
        },
        "id": "1soFwV3m9JWd",
        "outputId": "730d0453-23d9-4976-d471-a2844484e61f"
      },
      "source": [
        "x=[3,6,9,20,-7,5]\n",
        "for i in x:\n",
        "  print(i*10)"
      ],
      "execution_count": null,
      "outputs": [
        {
          "output_type": "stream",
          "text": [
            "30\n",
            "60\n",
            "90\n",
            "200\n",
            "-70\n",
            "50\n"
          ],
          "name": "stdout"
        }
      ]
    },
    {
      "cell_type": "code",
      "metadata": {
        "colab": {
          "base_uri": "https://localhost:8080/"
        },
        "id": "U-CuHMrS-Cgg",
        "outputId": "a74c3a66-b419-4a29-f82a-18bb7d8a2851"
      },
      "source": [
        "#딕셔너리는 키로 접근됨.\n",
        "y={\"math\":70, \"science\":80, \"english\":20}\n",
        "for key in y:\n",
        "  val = y[key]\n",
        "  print(f'{key} : {val}')"
      ],
      "execution_count": null,
      "outputs": [
        {
          "output_type": "stream",
          "text": [
            "math : 70\n",
            "science : 80\n",
            "english : 20\n"
          ],
          "name": "stdout"
        }
      ]
    },
    {
      "cell_type": "code",
      "metadata": {
        "colab": {
          "base_uri": "https://localhost:8080/"
        },
        "id": "YVhHb9rV-6q_",
        "outputId": "f9b6c3e6-2263-434b-f58d-d914b4e96fba"
      },
      "source": [
        "#정수 입려받아 구구단\n",
        "#f스트링 포멧팅\n",
        "# {문자:10s}\n",
        "# {정수:^10d}\n",
        "# {실수:>10f}\n",
        "# {실수:>10.3f}\n",
        "\n",
        "while True:\n",
        "  print('양의 정수를 입력해 주세요\\n')\n",
        "  i=inputnum()\n",
        "  if type(i)!=int : continue\n",
        "  #구구단\n",
        "  for j in range(1,10):\n",
        "    print(f'{i} * {j} = {i*j:>2d}')\n",
        "  break;"
      ],
      "execution_count": null,
      "outputs": [
        {
          "output_type": "stream",
          "text": [
            "양의 정수를 입력해 주세요\n",
            "\n",
            "숫자를 입력해 주세요 :6\n",
            "6 * 1 =  6\n",
            "6 * 2 = 12\n",
            "6 * 3 = 18\n",
            "6 * 4 = 24\n",
            "6 * 5 = 30\n",
            "6 * 6 = 36\n",
            "6 * 7 = 42\n",
            "6 * 8 = 48\n",
            "6 * 9 = 54\n"
          ],
          "name": "stdout"
        }
      ]
    },
    {
      "cell_type": "code",
      "metadata": {
        "colab": {
          "base_uri": "https://localhost:8080/"
        },
        "id": "RxrqL4xUBAjJ",
        "outputId": "c5f09e9b-9a04-49c7-cc2f-f59472e9d895"
      },
      "source": [
        "#6글자 이상만 새로운 리스트로 만들어라.\n",
        "word = ['school','game','piano','science','hotel','mountain']\n",
        "newword =[]\n",
        "for w in word:\n",
        "  if len(w) >= 6: newword.append(w)\n",
        "print(newword)\n"
      ],
      "execution_count": null,
      "outputs": [
        {
          "output_type": "stream",
          "text": [
            "['school', 'science', 'mountain']\n"
          ],
          "name": "stdout"
        }
      ]
    },
    {
      "cell_type": "code",
      "metadata": {
        "id": "vE3Jcn_rBmfS"
      },
      "source": [
        "#구구단 1단부터 9단\n",
        "for i in range(1,10):\n",
        "  print(f'{i}단 ==========')\n",
        "  for j in range(2,10):\n",
        "    print(f'{i} x {j} = {i*j:>2d}')\n",
        "  print()\n",
        "  "
      ],
      "execution_count": null,
      "outputs": []
    },
    {
      "cell_type": "code",
      "metadata": {
        "colab": {
          "base_uri": "https://localhost:8080/"
        },
        "id": "JZuyAQYjDrnN",
        "outputId": "0277d4af-425a-4909-e58d-b641c48e351c"
      },
      "source": [
        "#1~100중 3과 5의 배수 및 공배수 \n",
        "\n",
        "while True:\n",
        "  print('1~100 정수를 입력해 주세요\\n')\n",
        "  i=inputnum()\n",
        "  if type(i)!=int or i<1 or i>100: continue\n",
        "  #구구단\n",
        "  if i%(3*5) ==0:\n",
        "    print(f'{i}(은)는 3과 5의 공배수')\n",
        "  elif i%3 ==0:\n",
        "    print(f'{i}(은)는 3의 배수')\n",
        "  elif i%5 ==0:\n",
        "    print(f'{i}(은)는 5의 배수')\n",
        "  else :\n",
        "    print(f'{i}')\n",
        "  break;\n",
        "  "
      ],
      "execution_count": null,
      "outputs": [
        {
          "output_type": "stream",
          "text": [
            "1~100 정수를 입력해 주세요\n",
            "\n",
            "숫자를 입력해 주세요 :30\n",
            "30(은)는 3과 5의 공배수\n"
          ],
          "name": "stdout"
        }
      ]
    },
    {
      "cell_type": "code",
      "metadata": {
        "colab": {
          "base_uri": "https://localhost:8080/"
        },
        "id": "-8Rf5_54IQ0G",
        "outputId": "2e4398a0-4609-4de8-b44a-b79e8903ade4"
      },
      "source": [
        "#숫자를 입력 받다가 s S 문자 입력되면 합계 출력\n",
        "def is_digit_f(str):\n",
        "  try:\n",
        "    tmp = float(str)\n",
        "    return True\n",
        "  except ValueError:\n",
        "    return False\n",
        "\n",
        "numbers =[]\n",
        "while True:\n",
        "  value = input('수를 입력해 주세요 s 나 S를 입력하면 합계를 냅니다.')\n",
        "  if is_digit_f(value) :\n",
        "    numbers.append(float(value))\n",
        "    continue\n",
        "  elif value.upper() == 'S': #합을 출력하고 끝내기.\n",
        "    #print(type(numbers[0]))\n",
        "    print(f'{numbers} \\n의 합은 {sum(numbers)}') \n",
        "  break;\n"
      ],
      "execution_count": null,
      "outputs": [
        {
          "output_type": "stream",
          "text": [
            "수를 입력해 주세요 s 나 S를 입력하면 합계를 냅니다.30\n",
            "수를 입력해 주세요 s 나 S를 입력하면 합계를 냅니다.20\n",
            "수를 입력해 주세요 s 나 S를 입력하면 합계를 냅니다.50\n",
            "수를 입력해 주세요 s 나 S를 입력하면 합계를 냅니다.40\n",
            "수를 입력해 주세요 s 나 S를 입력하면 합계를 냅니다.30\n",
            "수를 입력해 주세요 s 나 S를 입력하면 합계를 냅니다.s\n",
            "[30.0, 20.0, 50.0, 40.0, 30.0] \n",
            "의 합은 170.0\n"
          ],
          "name": "stdout"
        }
      ]
    },
    {
      "cell_type": "code",
      "metadata": {
        "colab": {
          "base_uri": "https://localhost:8080/"
        },
        "id": "VO9NrozoOUwz",
        "outputId": "fb49cc81-59e8-4977-a9c0-1fc985a80fe9"
      },
      "source": [
        "#평균을 구하라\n",
        "kor_score=[39,69,20,100,80]\n",
        "math_score=[32,59,85,30,90]\n",
        "eng_score=[49,70,48,60,100]\n",
        "midterm_score=[kor_score,math_score,eng_score]\n",
        "student=('A','B','C','D','E')\n",
        "classname=('국어점수','수학점수','영어점수')\n",
        "\n",
        "for c in range(len(student)):\n",
        "  csum=[]\n",
        "  for r in range(len(midterm_score)):\n",
        "    #print(midterm_score[r][c])\n",
        "    csum.append(midterm_score[r][c])\n",
        "  print(f'{student[c]} 학생의 성적')\n",
        "  print(f'{csum}')\n",
        "  print(f' 평균 점수는 : {sum(csum)/len(classname):>3.2f}')"
      ],
      "execution_count": null,
      "outputs": [
        {
          "output_type": "stream",
          "text": [
            "A 학생의 성적\n",
            "[39, 32, 49]\n",
            " 평균 점수는 : 40.00\n",
            "B 학생의 성적\n",
            "[69, 59, 70]\n",
            " 평균 점수는 : 66.00\n",
            "C 학생의 성적\n",
            "[20, 85, 48]\n",
            " 평균 점수는 : 51.00\n",
            "D 학생의 성적\n",
            "[100, 30, 60]\n",
            " 평균 점수는 : 63.33\n",
            "E 학생의 성적\n",
            "[80, 90, 100]\n",
            " 평균 점수는 : 90.00\n"
          ],
          "name": "stdout"
        }
      ]
    },
    {
      "cell_type": "markdown",
      "metadata": {
        "id": "Vd0ywQ1nfoJJ"
      },
      "source": [
        "#이차원 리스트 접근방법\n",
        "## 루프\n",
        "## 인라인루프\n",
        "## zip\n",
        "## numpy\n",
        "## pandas"
      ]
    },
    {
      "cell_type": "code",
      "metadata": {
        "colab": {
          "base_uri": "https://localhost:8080/"
        },
        "id": "RB0VThaNYOZk",
        "outputId": "aae12845-9927-4dc6-926c-29e6eff86dbd"
      },
      "source": [
        "#2차원 리스트 특정 열 접근\n",
        "# 첫번째는 루프\n",
        "\n",
        "# 인라인 루프\n",
        "a=[[0,1],\n",
        "   [2,3],\n",
        "   [4,5],\n",
        "   [6,7],\n",
        "   [8,9]]\n",
        "#리스트B의 요소 할당을 a리스트 for루프로 할당 첫번째 열\n",
        "b= [i[0] for i in a]\n",
        "print(b)\n",
        "\n",
        "#zip을 이용한 방법 두번째 열\n",
        "b=list(zip(*a))[1]\n",
        "print(b)"
      ],
      "execution_count": null,
      "outputs": [
        {
          "output_type": "stream",
          "text": [
            "[0, 2, 4, 6, 8]\n",
            "(1, 3, 5, 7, 9)\n"
          ],
          "name": "stdout"
        }
      ]
    },
    {
      "cell_type": "code",
      "metadata": {
        "colab": {
          "base_uri": "https://localhost:8080/"
        },
        "id": "qSRdHSVWZnm-",
        "outputId": "634b5240-b095-4c40-e3b5-8a2f3b02014b"
      },
      "source": [
        "#numpy 어레이 사용\n",
        "import numpy as np\n",
        "b = np.array(a).T[0]\n",
        "print(b)"
      ],
      "execution_count": null,
      "outputs": [
        {
          "output_type": "stream",
          "text": [
            "[0 2 4 6 8]\n"
          ],
          "name": "stdout"
        }
      ]
    },
    {
      "cell_type": "code",
      "metadata": {
        "colab": {
          "base_uri": "https://localhost:8080/"
        },
        "id": "XmVhqZBjZx2l",
        "outputId": "38560aaa-788c-4cfd-cf49-440d6ba29cb6"
      },
      "source": [
        "#판다스 사용\n",
        "import pandas as pd\n",
        "b=pd.DataFrame(a)[1]\n",
        "print(b.to_list())"
      ],
      "execution_count": null,
      "outputs": [
        {
          "output_type": "stream",
          "text": [
            "[1, 3, 5, 7, 9]\n"
          ],
          "name": "stdout"
        }
      ]
    },
    {
      "cell_type": "markdown",
      "metadata": {
        "id": "2R8vhyUnfh5E"
      },
      "source": [
        "#파일 읽고 쓰기\n"
      ]
    },
    {
      "cell_type": "code",
      "metadata": {
        "id": "cfXvpLgTfk6K",
        "colab": {
          "base_uri": "https://localhost:8080/"
        },
        "outputId": "a1abcab8-dc38-4a29-daa1-3a2ec0d3feae"
      },
      "source": [
        "text_file=open('/content/drive/MyDrive/sample.txt','r')\n",
        "text_file\n",
        "\n",
        "#!pwd or !dir\n",
        "!pwd\n",
        "\n",
        "#읽기\n",
        "print(text_file.read())\n",
        "text_file.close()\n",
        "\n",
        "# with open('./test.txt','w') as fout:\n",
        "#   fout.write('6시에 끝납니다.')\n",
        "#   fout.close()\n",
        "\n",
        "with open('./test.txt','r') as fin:\n",
        "  #전부 읽기\n",
        "  print(fin.read())\n",
        "  fin.close()\n",
        "\n",
        "with open('./test.txt','r') as fin:\n",
        "  #한줄 읽기\n",
        "  print(fin.readline())\n",
        "  fin.close()\n",
        "\n",
        "with open('./test.txt','r') as fin:\n",
        "  #readlines는 리스트로 불러들인다.\n",
        "  print(fin.readlines())\n",
        "  fin.close()"
      ],
      "execution_count": 31,
      "outputs": [
        {
          "output_type": "stream",
          "text": [
            "/content\n",
            "안녕하세요\n",
            "6시에 끝납니다.\n",
            "\n",
            "\n",
            "asd\n",
            "f\n",
            "asdf\n",
            "\n",
            "\n",
            "\n",
            "asdf\n",
            "\n",
            "6시에 끝납니다.\n",
            "\n",
            "['6시에 끝납니다.\\n', '\\n', '\\n', 'asd\\n', 'f\\n', 'asdf\\n', '\\n', '\\n', '\\n', 'asdf\\n']\n"
          ],
          "name": "stdout"
        }
      ]
    }
  ]
}