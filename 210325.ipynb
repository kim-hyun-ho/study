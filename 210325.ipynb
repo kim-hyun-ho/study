{
  "nbformat": 4,
  "nbformat_minor": 0,
  "metadata": {
    "kernelspec": {
      "display_name": "Python 3",
      "language": "python",
      "name": "python3"
    },
    "language_info": {
      "codemirror_mode": {
        "name": "ipython",
        "version": 3
      },
      "file_extension": ".py",
      "mimetype": "text/x-python",
      "name": "python",
      "nbconvert_exporter": "python",
      "pygments_lexer": "ipython3",
      "version": "3.8.5"
    },
    "colab": {
      "name": "210325.ipynb",
      "provenance": [],
      "collapsed_sections": [],
      "include_colab_link": true
    }
  },
  "cells": [
    {
      "cell_type": "markdown",
      "metadata": {
        "id": "view-in-github",
        "colab_type": "text"
      },
      "source": [
        "<a href=\"https://colab.research.google.com/github/kim-hyun-ho/study/blob/main/210325.ipynb\" target=\"_parent\"><img src=\"https://colab.research.google.com/assets/colab-badge.svg\" alt=\"Open In Colab\"/></a>"
      ]
    },
    {
      "cell_type": "markdown",
      "metadata": {
        "id": "bqkaiPni2ecu"
      },
      "source": [
        "20210325 파이썬 기초\n"
      ]
    },
    {
      "cell_type": "code",
      "metadata": {
        "id": "NPQa-hZj2agO",
        "outputId": "1ad0ecae-c6b2-4f4f-f3f9-e8fd89fb3913"
      },
      "source": [
        "#파이썬 기초\n",
        "10*10"
      ],
      "execution_count": null,
      "outputs": [
        {
          "output_type": "execute_result",
          "data": {
            "text/plain": [
              "100"
            ]
          },
          "metadata": {
            "tags": []
          },
          "execution_count": 14
        }
      ]
    },
    {
      "cell_type": "code",
      "metadata": {
        "id": "8JLljtRf2agT",
        "outputId": "09bf1130-9e6e-40ce-ac42-a13ede2bade4"
      },
      "source": [
        "10**2"
      ],
      "execution_count": null,
      "outputs": [
        {
          "output_type": "execute_result",
          "data": {
            "text/plain": [
              "100"
            ]
          },
          "metadata": {
            "tags": []
          },
          "execution_count": 5
        }
      ]
    },
    {
      "cell_type": "code",
      "metadata": {
        "id": "cKgbqyGD2agU",
        "outputId": "ec15ca8b-fff9-46d7-de5b-607b0a658d4d"
      },
      "source": [
        "a=5\n",
        "b=3\n",
        "print ('a+b:', a+b)"
      ],
      "execution_count": null,
      "outputs": [
        {
          "output_type": "stream",
          "text": [
            "a+b: 8\n"
          ],
          "name": "stdout"
        }
      ]
    },
    {
      "cell_type": "code",
      "metadata": {
        "id": "j5hV_hMa2agU",
        "outputId": "5b85bd24-b1f2-408d-b0b3-0ac350865c8a"
      },
      "source": [
        "사과 =5\n",
        "오렌지 =3\n",
        "total =사과+오렌지\n",
        "total"
      ],
      "execution_count": null,
      "outputs": [
        {
          "output_type": "execute_result",
          "data": {
            "text/plain": [
              "8"
            ]
          },
          "metadata": {
            "tags": []
          },
          "execution_count": 13
        }
      ]
    },
    {
      "cell_type": "code",
      "metadata": {
        "id": "oT-lHU5f2agU",
        "outputId": "257a7255-d285-4f4f-b556-07dfcecb7733"
      },
      "source": [
        "kor=100\n",
        "eng=88\n",
        "math=94\n",
        "avg=(kor+eng+math)/3.0\n",
        "avg\n"
      ],
      "execution_count": null,
      "outputs": [
        {
          "output_type": "execute_result",
          "data": {
            "text/plain": [
              "94.0"
            ]
          },
          "metadata": {
            "tags": []
          },
          "execution_count": 15
        }
      ]
    },
    {
      "cell_type": "code",
      "metadata": {
        "id": "_b48WSad2agV",
        "outputId": "86c5650d-69fd-441f-d1d2-ec63cfe398c0"
      },
      "source": [
        "#자료형 int, float, string\n",
        "#print(type(변수))\n",
        "\n",
        "#스트링 인덱스 [0..]\n",
        "#str_5 = '1234567890123456789012345'\n",
        "str_5 = '인덱싱을 하기 위한 string입니다.'\n",
        "print(str_5[2:7])\n",
        "\n",
        "print(str_5[-5:5])\n",
        "# 스트링[시작:끝:간격]\n",
        "print(str_5[-7:])\n",
        "\n",
        "#음수 간격을 주면 문자열 뒤집어짐.\n",
        "print(str_5[::-1])\n"
      ],
      "execution_count": null,
      "outputs": [
        {
          "output_type": "stream",
          "text": [
            "싱을 하기\n",
            "\n",
            "ing입니다.\n",
            ".다니입gnirts 한위 기하 을싱덱인\n"
          ],
          "name": "stdout"
        }
      ]
    },
    {
      "cell_type": "code",
      "metadata": {
        "scrolled": true,
        "id": "KYTgXJWU2agV",
        "outputId": "9524f8ce-c061-4eb3-a650-1649ef33078b"
      },
      "source": [
        "##문자열 함수들\n",
        "a='alphabet'\n",
        "print(a.lower())\n",
        "print(a.upper())"
      ],
      "execution_count": null,
      "outputs": [
        {
          "output_type": "stream",
          "text": [
            "alphabet\n",
            "ALPHABET\n"
          ],
          "name": "stdout"
        }
      ]
    },
    {
      "cell_type": "code",
      "metadata": {
        "id": "ePn_CpWz2agV",
        "outputId": "10720d57-994f-4584-aac6-9364eb2cde7e"
      },
      "source": [
        "print(a.count(a)) #카운트\n",
        "print(a.find('b')) #없으면 -1\n",
        "print(a.index('b')) #없으면 error\n",
        "#replace\n",
        "#join\n",
        "#split"
      ],
      "execution_count": null,
      "outputs": [
        {
          "output_type": "stream",
          "text": [
            "1\n",
            "5\n",
            "5\n"
          ],
          "name": "stdout"
        }
      ]
    },
    {
      "cell_type": "code",
      "metadata": {
        "id": "8jvF9wRU2agW",
        "outputId": "d9d4b31c-4116-41b1-db7d-40dcb7429803"
      },
      "source": [
        "#리스트: 모든자료형, 삽입,수정,삭제, 인덱싱과 슬라이싱 가능.\n",
        "list_1=[3,2,5]\n",
        "list_2=list()\n",
        "list_3=[1,2,'문자',['이중 리스트', '가능'],('리스트 속', '튜플')]\n",
        "\n",
        "#튜플은 삽입 수정 불가함 -> 순서형 const 변수 => 삽입 수정 삭제 불가.\n",
        "\n",
        "#이차원 리스트\n",
        "a=[[10,20],[30,40],[50,60]];\n",
        "print(a)\n",
        "\n",
        "#접근은 괄호 한개씩 까고 들어가면 됨.\n",
        "print(a[0][0])\n",
        "print(a[1][0])\n"
      ],
      "execution_count": null,
      "outputs": [
        {
          "output_type": "stream",
          "text": [
            "[[10, 20], [30, 40], [50, 60]]\n",
            "10\n",
            "30\n"
          ],
          "name": "stdout"
        }
      ]
    },
    {
      "cell_type": "code",
      "metadata": {
        "id": "FYgtS3Dx2agW",
        "outputId": "74d1c6d8-a2d7-4dcf-aa91-453f55f06477"
      },
      "source": [
        "#리스트 : 중괄호 [,,] =>삽입,수정,삭제\n",
        "#튜플 : 소괄호 (,,) => 삽입,수정,삭제 불가, 리드온리 리스트?\n",
        "#딕셔너리 : 대괄호{키1:값1, 키2:값2, ....} => 접근편의 위해 컬럼이름을 키로 할당\n",
        "#키로만 접근 가능 \n",
        "\n",
        "list_8 = ['파이썬', 'C', 'java']\n",
        "list_8.append('R') #append 뒤로 추가\n",
        "print(list_8)\n",
        "\n",
        "list_8.insert(2,'C++') #삽입은 삽입위치 정해서\n",
        "print(list_8)\n",
        "\n",
        "list_8.remove('C') #삭제 대상명시 제일 처음 찾는거 제거, 공간 삭제 리스트 길이 변경\n",
        "\n",
        "print(list_8.pop())\n",
        "print(list_8.pop())\n",
        "print(list_8)\n",
        "# 꺼내오고 줄어든다. 인덱스 없으면 마지막 부터 불러옴.\n"
      ],
      "execution_count": null,
      "outputs": [
        {
          "output_type": "stream",
          "text": [
            "['파이썬', 'C', 'java', 'R']\n",
            "['파이썬', 'C', 'C++', 'java', 'R']\n",
            "R\n",
            "java\n",
            "['파이썬', 'C++']\n"
          ],
          "name": "stdout"
        }
      ]
    },
    {
      "cell_type": "code",
      "metadata": {
        "id": "TTIJMZFX2agW",
        "outputId": "0e4acce7-00c2-4f2d-8367-23431fc55d96"
      },
      "source": [
        "#리스트 정렬\n",
        "list_9=[1,5,7,2,6]\n",
        "print(list_9)\n",
        "list_9.sort()\n",
        "print(list_9)\n",
        "#list.sort(key=NON,reverse=Fase) 기본은 <로 오름차순 정렬, reverse True면 내림차순"
      ],
      "execution_count": null,
      "outputs": [
        {
          "output_type": "stream",
          "text": [
            "[1, 5, 7, 2, 6]\n",
            "[1, 2, 5, 6, 7]\n"
          ],
          "name": "stdout"
        }
      ]
    },
    {
      "cell_type": "code",
      "metadata": {
        "id": "4Eqqjcc-2agX",
        "outputId": "441fac62-72c8-4611-c56e-de4e307f2f08"
      },
      "source": [
        "#숫자 문자열로 변환해서 소트하기\n",
        "list_10 = [1,10,2,3,4,5,'a','b','c','d', 6,7,8]\n",
        "list_10.sort(key=lambda x : str(x))\n",
        "print(list_10)"
      ],
      "execution_count": null,
      "outputs": [
        {
          "output_type": "stream",
          "text": [
            "[1, 10, 2, 3, 4, 5, 6, 7, 8, 'a', 'b', 'c', 'd']\n"
          ],
          "name": "stdout"
        }
      ]
    },
    {
      "cell_type": "code",
      "metadata": {
        "scrolled": true,
        "id": "fO7XwS6i2agX",
        "outputId": "8018f4e9-f1d1-43e3-fc60-2e8cdcc38b81"
      },
      "source": [
        "#연습\n",
        "food =['김밥','라면','쫄면','떡볶이','순대']\n",
        "print(food)\n",
        "\n",
        "food.insert(0,'파이썬')\n",
        "food.append('집')\n",
        "print(food)\n",
        "food.pop(0)\n",
        "print(food)\n",
        "food.remove('집')\n",
        "print(food)"
      ],
      "execution_count": null,
      "outputs": [
        {
          "output_type": "stream",
          "text": [
            "['김밥', '라면', '쫄면', '떡볶이', '순대']\n",
            "['파이썬', '김밥', '라면', '쫄면', '떡볶이', '순대', '집']\n",
            "['김밥', '라면', '쫄면', '떡볶이', '순대', '집']\n",
            "['김밥', '라면', '쫄면', '떡볶이', '순대']\n"
          ],
          "name": "stdout"
        }
      ]
    },
    {
      "cell_type": "code",
      "metadata": {
        "id": "BhX8GL4P2agX",
        "outputId": "056444ac-714e-41a5-e2b2-5adea0078e72"
      },
      "source": [
        "#튜플\n",
        "tuple_1=(1,2)\n",
        "tuple_2=(3,) # 플레이스홀더\n",
        "print(tuple_1+tuple_2)\n",
        "#print(tuple_1*tuple_2)"
      ],
      "execution_count": null,
      "outputs": [
        {
          "output_type": "stream",
          "text": [
            "(1, 2, 3)\n"
          ],
          "name": "stdout"
        }
      ]
    },
    {
      "cell_type": "code",
      "metadata": {
        "scrolled": true,
        "id": "TDr17tFl2agX",
        "outputId": "d391f5f9-a01e-4cea-a454-070a8216f974"
      },
      "source": [
        "#딕셔너리\n",
        "dict_3={'홍길동':100,'홍계월':200,'슈퍼맨':500,'배트맨':250}\n",
        "type(dict_3)\n",
        "dict_3['홍계월']=550\n",
        "print(dict_3)\n",
        "print(dict_3.keys())\n",
        "print(dict_3.values())\n",
        "print(dict_3.items())\n",
        "\n",
        "#print(dict_3[0]) #키 에러 발생\n",
        "\n",
        "#꼭 인덱스로 찾는다면 키를 리스트 만들고 리스트에 인덱스 사용\n",
        "print(list(dict_3.keys())[0])"
      ],
      "execution_count": null,
      "outputs": [
        {
          "output_type": "stream",
          "text": [
            "{'홍길동': 100, '홍계월': 550, '슈퍼맨': 500, '배트맨': 250}\n",
            "dict_keys(['홍길동', '홍계월', '슈퍼맨', '배트맨'])\n",
            "dict_values([100, 550, 500, 250])\n",
            "dict_items([('홍길동', 100), ('홍계월', 550), ('슈퍼맨', 500), ('배트맨', 250)])\n",
            "홍길동\n"
          ],
          "name": "stdout"
        }
      ]
    },
    {
      "cell_type": "code",
      "metadata": {
        "id": "7p-KJi8n2agY",
        "outputId": "2d4cf155-34eb-4c72-d8fa-8bbb0ce841d4"
      },
      "source": [
        "#set 셋\n",
        "#집합\n",
        "#모양은 딕처럼 대괄호 이지만 키는 없다.\n",
        "set_1=set()\n",
        "set_2=set('hello')\n",
        "print(set_2) #중복불가\n",
        "set_3=set([1,2,3])\n",
        "set_4={3,5,'hi'} \n",
        "print(set_4) #순서없음.\n"
      ],
      "execution_count": null,
      "outputs": [
        {
          "output_type": "stream",
          "text": [
            "{'o', 'e', 'l', 'h'}\n",
            "{'hi', 3, 5}\n"
          ],
          "name": "stdout"
        }
      ]
    },
    {
      "cell_type": "code",
      "metadata": {
        "scrolled": true,
        "id": "vjsMqxYA2agY",
        "outputId": "a68ff67a-3981-4dbf-83be-d5779a039a7e"
      },
      "source": [
        "#불린연산 연습\n",
        "a =[63,70,64]\n",
        "print(a[0] >65 and a[1] >65 and a[2]>65)\n",
        "a =[65,65,65]\n",
        "print(a[0] >65 and a[1] >65 and a[2]>65)\n",
        "a =[70,90,102]\n",
        "print(a[0] >65 and a[1] >65 and a[2]>65)\n",
        "\n",
        "a =[63,70,64]\n",
        "print(a[0] >65 & a[1] >65 & a[2]>65)\n",
        "a =[65,65,65]\n",
        "print(a[0] >65 + a[1] >65 + a[2]>65)\n",
        "a =[70,90,102]\n",
        "print(a[0] >65 and a[1] >65 and a[2]>65)\n",
        "\n",
        "#키보드로 입력받기 \n",
        "b=input()\n",
        "print(b)"
      ],
      "execution_count": null,
      "outputs": [
        {
          "output_type": "stream",
          "text": [
            "False\n",
            "False\n",
            "True\n",
            "False\n",
            "False\n",
            "True\n",
            "asdf\n",
            "asdf\n"
          ],
          "name": "stdout"
        }
      ]
    }
  ]
}