{
  "nbformat": 4,
  "nbformat_minor": 0,
  "metadata": {
    "colab": {
      "name": "코딩테스트 연습.ipynb",
      "provenance": [],
      "collapsed_sections": [],
      "authorship_tag": "ABX9TyOlEYlhYRT0ejGu2Di5MYJ/",
      "include_colab_link": true
    },
    "kernelspec": {
      "display_name": "Python 3",
      "name": "python3"
    },
    "language_info": {
      "name": "python"
    }
  },
  "cells": [
    {
      "cell_type": "markdown",
      "metadata": {
        "id": "view-in-github",
        "colab_type": "text"
      },
      "source": [
        "<a href=\"https://colab.research.google.com/github/kim-hyun-ho/study/blob/main/%EC%BD%94%EB%94%A9%ED%85%8C%EC%8A%A4%ED%8A%B8_%EC%97%B0%EC%8A%B5.ipynb\" target=\"_parent\"><img src=\"https://colab.research.google.com/assets/colab-badge.svg\" alt=\"Open In Colab\"/></a>"
      ]
    },
    {
      "cell_type": "code",
      "metadata": {
        "colab": {
          "base_uri": "https://localhost:8080/"
        },
        "id": "TE87eNgjOR6m",
        "outputId": "53731af3-2b9f-4b9a-a519-182f80a41c6a"
      },
      "source": [
        "#키패드 누르기\n",
        "\n",
        "def solution(numbers, hand):\n",
        "    answer = ''\n",
        "    numpad = {1:[0,3], 2:[1,3],  3:[2,3],\n",
        "              4:[0,2], 5:[1,2],  6:[2,2],\n",
        "              7:[0,1], 8:[1,1],  9:[2,1],\n",
        "            '*':[0,0], 0:[1,0],'#':[2,0]}\n",
        "    lh=numpad['*']\n",
        "    rh=numpad['#']\n",
        "    for n in numbers: \n",
        "        nn= numpad[n]\n",
        "        if n in [1,4,7]: #147은 왼손\n",
        "            answer+='L'; lh=nn\n",
        "        elif n in [3,6,9]: #369는 오른손\n",
        "            answer+='R'; rh=nn\n",
        "        else: #2580은 거리 측정\n",
        "            l2n = max(nn[0]-lh[0], -nn[0]+lh[0]) + max(nn[1]-lh[1], -nn[1]+lh[1])\n",
        "            r2n = max(nn[0]-rh[0], -nn[0]+rh[0]) + max(nn[1]-rh[1], -nn[1]+rh[1])            \n",
        "            # print(n, l2n, r2n)\n",
        "            if l2n < r2n: #왼손이 가까우면 왼손\n",
        "                answer+='L'; lh=nn\n",
        "            elif l2n == r2n: #같은 거리면 어떤 손잡이 인지로 판단\n",
        "                if hand == 'left' :\n",
        "                    answer+='L'; lh=nn\n",
        "                else:\n",
        "                    answer+='R'; rh=nn\n",
        "            else: # l2n > r2n\n",
        "                answer+='R'; rh=nn\n",
        "    return answer\n",
        "\n",
        "print(solution([1, 3, 4, 5, 8, 2, 1, 4, 5, 9, 5],\"right\"))\n",
        "print(solution([7, 0, 8, 2, 8, 3, 1, 5, 7, 6, 2],\"left\"))\n",
        "print(solution([1, 2, 3, 4, 5, 6, 7, 8, 9, 0],\"right\"))"
      ],
      "execution_count": null,
      "outputs": [
        {
          "output_type": "stream",
          "text": [
            "LRLLLRLLRRL\n",
            "LRLLRRLLLRR\n",
            "LLRLLRLLRL\n"
          ],
          "name": "stdout"
        }
      ]
    },
    {
      "cell_type": "code",
      "metadata": {
        "colab": {
          "base_uri": "https://localhost:8080/"
        },
        "id": "1yYVSqJl5uxI",
        "outputId": "4f104eed-6882-4773-d16f-dd1e435d7b4b"
      },
      "source": [
        "#소수 만들기\n",
        "\n",
        "import math\n",
        "from itertools import combinations\n",
        "\n",
        "def isPrime(x):\n",
        "    if x<2: return False\n",
        "    for i in range(2,int(math.sqrt(x))+1):\n",
        "        if x%i==0: return False\n",
        "    return True\n",
        "\n",
        "def solution(nums):\n",
        "    answer = 0 #-1\n",
        "\n",
        "    cl=combinations(nums,3)\n",
        "    for ci in cl:\n",
        "        cs = sum(ci)\n",
        "        # print(ci,cs)\n",
        "        if isPrime(cs):\n",
        "            answer+=1\n",
        "    return answer\n",
        "\n",
        "print(solution([1,2,3,4]))\n",
        "print(solution([1,2,7,6,4]))"
      ],
      "execution_count": null,
      "outputs": [
        {
          "output_type": "stream",
          "text": [
            "1\n",
            "4\n"
          ],
          "name": "stdout"
        }
      ]
    },
    {
      "cell_type": "code",
      "metadata": {
        "colab": {
          "base_uri": "https://localhost:8080/"
        },
        "id": "YsUxvYRY7efa",
        "outputId": "73691224-f47f-4987-bd6b-6d3e8fad0ab2"
      },
      "source": [
        "# 크레인 인형뽑기 게임 \n",
        "\n",
        "def solution(board, moves):\n",
        "    answer = 0\n",
        "    bag=[]\n",
        "    bag2=[]\n",
        "    for col in moves:\n",
        "        for row in range(len(board)):\n",
        "            cn = board[row][col-1]\n",
        "            bag2.append(cn)\n",
        "            if  cn !=0: #0이 해당 컬럼의 0이 아닌것을 찾음\n",
        "                board[row][col-1] = 0 #꺼냈으니까 0넣어 빈칸 만듬\n",
        "                bag.append(cn) #꺼낸건 바구니에 담음\n",
        "                break\n",
        "        if len(bag) >1 and bag[-2]==bag[-1]: #바구니에 2개이상이고 마지막 2개가 중복인지 검사\n",
        "            # print(bag)\n",
        "            answer+=2 #사라진 개수 추가\n",
        "            bag=bag[:-2]\n",
        "    # print(bag2)\n",
        "    return answer\n",
        "\n",
        "print(solution([[0,0,0,0,0],[0,0,1,0,3],[0,2,5,0,1],[4,2,4,4,2],[3,5,1,3,1]],[1,5,3,5,1,2,1,4]))"
      ],
      "execution_count": null,
      "outputs": [
        {
          "output_type": "stream",
          "text": [
            "4\n"
          ],
          "name": "stdout"
        }
      ]
    },
    {
      "cell_type": "code",
      "metadata": {
        "colab": {
          "base_uri": "https://localhost:8080/"
        },
        "id": "IMIcW2yqE_k-",
        "outputId": "11d9ba43-ea2b-480b-e8a7-1358bb467398"
      },
      "source": [
        "a=[2,3]\n",
        "a[-2]"
      ],
      "execution_count": null,
      "outputs": [
        {
          "output_type": "execute_result",
          "data": {
            "text/plain": [
              "2"
            ]
          },
          "metadata": {
            "tags": []
          },
          "execution_count": 27
        }
      ]
    },
    {
      "cell_type": "code",
      "metadata": {
        "colab": {
          "base_uri": "https://localhost:8080/"
        },
        "id": "nJ00tfE-a8vd",
        "outputId": "a6d1eee0-75c1-4d0a-e9c5-59a06f690620"
      },
      "source": [
        "'''파이썬 별(*) 연산자 열거형 요소를 풀어서 하나씩 보내줌'''\n",
        "for i in zip*[[0,0],[1,1],[2,2]]):\n",
        "    print(i)"
      ],
      "execution_count": null,
      "outputs": [
        {
          "output_type": "stream",
          "text": [
            "(0, 1, 2)\n",
            "(0, 1, 2)\n"
          ],
          "name": "stdout"
        }
      ]
    },
    {
      "cell_type": "code",
      "metadata": {
        "colab": {
          "base_uri": "https://localhost:8080/"
        },
        "id": "Gowqi-LgxXlH",
        "outputId": "562f4c3a-d679-48df-ea03-b9d4f96d690f"
      },
      "source": [
        "'''\n",
        "리스트에 있는 특정값 모두 제거\n",
        "https://hashcode.co.kr/questions/1158/리스트-안에-특정값을-다-지우는-방법이-궁금합니다\n",
        "\n",
        "파이썬 더블 언더스코어: Magic Method\n",
        "https://corikachu.github.io/articles/python/python-magic-method\n",
        "'''\n",
        "x = [1,2,3,2,2,2,3,4]\n",
        "\n",
        "# list(filter(lambda a: a != 2, x)) #파이썬 2.x 버전\n",
        "# list(filter((2).__ne__, x)) #파이썬 3.x 버전\n",
        "# 예외처리 방법은 위의 링크 참고\n",
        "[ i for i in x if i !=2] #리스트 표현식"
      ],
      "execution_count": null,
      "outputs": [
        {
          "output_type": "execute_result",
          "data": {
            "text/plain": [
              "[1, 3, 3, 4]"
            ]
          },
          "metadata": {
            "tags": []
          },
          "execution_count": 23
        }
      ]
    },
    {
      "cell_type": "code",
      "metadata": {
        "colab": {
          "base_uri": "https://localhost:8080/"
        },
        "id": "sBn1udXbybMI",
        "outputId": "81fc86ee-319d-43f5-8528-f950dc827444"
      },
      "source": [
        "'''리스트 앞자리 0 제거''적\n",
        "a=[0,0,0,1,2,3]\n",
        "# a.reverse()\n",
        "a=a[::-1][:(a[::-1].index(0))][::-1] #역순으로 0을 찾아서 슬라이싱\n",
        "a"
      ],
      "execution_count": null,
      "outputs": [
        {
          "output_type": "execute_result",
          "data": {
            "text/plain": [
              "[1, 2, 3]"
            ]
          },
          "metadata": {
            "tags": []
          },
          "execution_count": 22
        }
      ]
    },
    {
      "cell_type": "code",
      "metadata": {
        "colab": {
          "base_uri": "https://localhost:8080/"
        },
        "id": "0v8ngNqdKIHj",
        "outputId": "024611f8-637a-468c-883f-796d2003d591"
      },
      "source": [
        "#내적\n",
        "def solution(a, b):\n",
        "    answer = 1234567890\n",
        "    dot = [ a[i]*b[i] for i in range(len(a))]\n",
        "    # print(dot)\n",
        "    answer=sum(dot)\n",
        "    return answer\n",
        "\n",
        "print(solution([1,2,3,4], [-3,-1,0,2]))\n",
        "print(solution([-1,0,1], [1,0,-1]))"
      ],
      "execution_count": null,
      "outputs": [
        {
          "output_type": "stream",
          "text": [
            "[-3, -2, 0, 8]\n",
            "3\n",
            "[-1, 0, -1]\n",
            "-2\n"
          ],
          "name": "stdout"
        }
      ]
    },
    {
      "cell_type": "code",
      "metadata": {
        "colab": {
          "base_uri": "https://localhost:8080/"
        },
        "id": "sRhSwsg4PVRT",
        "outputId": "48da3443-7c7b-409b-fa85-58156a4e70f0"
      },
      "source": [
        "# K번째수\n",
        "def solution(array, commands):\n",
        "    answer = []\n",
        "    answer = [ sorted(array[i[0]-1:i[1]])[i[2]-1] for i in commands]        \n",
        "    # for i in commands:\n",
        "    #     answer.append(sorted(array[i[0]-1:i[1]])[i[2]-1])        \n",
        "    return answer\n",
        "\n",
        "print(solution([1, 5, 2, 6, 3, 7, 4],[[2, 5, 3], [4, 4, 1], [1, 7, 3]]))"
      ],
      "execution_count": null,
      "outputs": [
        {
          "output_type": "stream",
          "text": [
            "[5, 6, 3]\n"
          ],
          "name": "stdout"
        }
      ]
    },
    {
      "cell_type": "code",
      "metadata": {
        "colab": {
          "base_uri": "https://localhost:8080/"
        },
        "id": "y13frOAvD2rM",
        "outputId": "8e6cc676-cc8b-45ee-bc58-13481314f2f7"
      },
      "source": [
        "# 로또의 최고 순위와 최저 순위 \n",
        "def solution(lottos, win_nums):\n",
        "    answer = []\n",
        "    # print([ x for x in lottos if x==0],[ x for x in lottos if x in win_nums])    \n",
        "    count_min = len([ x for x in lottos if x in win_nums]) #확실히 맞은 개수\n",
        "    maybe = len([ x for x in lottos if x==0]) #0인자리 다 맞을 수도 다 틀릴 수도 있음\n",
        "    count_max = count_min + maybe #확실한 거 + 맞을 수도 있는 거\n",
        "    answer = [min(6,7-count_max), min(6,7-count_min)]\n",
        "    return answer\n",
        "\n",
        "print(solution([44, 1, 0, 0, 31, 25],[31, 10, 45, 1, 6, 19]))\n",
        "print(solution([0, 0, 0, 0, 0, 0],[38, 19, 20, 40, 15, 25]))\n",
        "print(solution([45, 4, 35, 20, 3, 9],[20, 9, 3, 45, 4, 35]))\n",
        "print(solution([1,2,3,4,5,6],[7,8,9,10,11,12]))"
      ],
      "execution_count": null,
      "outputs": [
        {
          "output_type": "stream",
          "text": [
            "[3, 5]\n",
            "[1, 6]\n",
            "[1, 1]\n",
            "[7, 6]\n"
          ],
          "name": "stdout"
        }
      ]
    },
    {
      "cell_type": "code",
      "metadata": {
        "colab": {
          "base_uri": "https://localhost:8080/"
        },
        "id": "46qLLLTecvgc",
        "outputId": "92fe325b-311a-413b-9974-5e165e220529"
      },
      "source": [
        "# 음양 더하기\n",
        "\n",
        "def solution(absolutes, signs):\n",
        "    answer = 0\n",
        "    for i in range(len(signs)):\n",
        "        answer += absolutes[i] if signs[i] else -absolutes[i]\n",
        "    return answer\n",
        "\n",
        "print(solution([4,7,12],[True,False,True]))\n",
        "print(solution([1,2,3] ,[False,False,True]))"
      ],
      "execution_count": null,
      "outputs": [
        {
          "output_type": "stream",
          "text": [
            "9\n",
            "0\n"
          ],
          "name": "stdout"
        }
      ]
    },
    {
      "cell_type": "code",
      "metadata": {
        "colab": {
          "base_uri": "https://localhost:8080/"
        },
        "id": "TZ_XCCPce1KU",
        "outputId": "8bc45db5-1ba5-4f36-ad8e-bfaabd7760f4"
      },
      "source": [
        "# 신규 아이디 추천 \n",
        "\n",
        "def solution(new_id):\n",
        "    answer = ''\n",
        "    chars='abcdefghijklmnopqrstuvwxyz0123456789-_.'\n",
        "    # 1단계 new_id의 모든 대문자를 대응되는 소문자로 치환합니다.\n",
        "    ni = new_id.lower()\n",
        "    # 2단계 new_id에서 알파벳 소문자, 숫자, 빼기(-), 밑줄(_), 마침표(.)를 제외한 모든 문자를 제거합니다.\n",
        "    ni = ''.join([x for x in ni if x in chars])\n",
        "    # 3단계 new_id에서 마침표(.)가 2번 이상 연속된 부분을 하나의 마침표(.)로 치환합니다.\n",
        "    while ni.count('..'):\n",
        "        ni = ni.replace('..','.')\n",
        "    # 4단계 new_id에서 마침표(.)가 처음이나 끝에 위치한다면 제거합니다.\n",
        "    if ni and ni[0] =='.' : ni=ni[1:]\n",
        "    if ni and ni[-1] =='.' : ni=ni[:-1] \n",
        "    # 5단계 new_id가 빈 문자열이라면, new_id에 \"a\"를 대입합니다.\n",
        "    if ni=='': ni='a'\n",
        "    # 6단계 new_id의 길이가 16자 이상이면, new_id의 첫 15개의 문자를 제외한 나머지 문자들을 모두 제거합니다.\n",
        "    if len(ni) > 15 : ni = ni[:15]\n",
        "    #  만약 제거 후 마침표(.)가 new_id의 끝에 위치한다면 끝에 위치한 마침표(.) 문자를 제거합니다.\n",
        "    if ni and ni[-1] =='.' : ni=ni[:-1] \n",
        "    # 7단계 new_id의 길이가 2자 이하라면, new_id의 마지막 문자를 new_id의 길이가 3이 될 때까지 반복해서 끝에 붙입니다.\n",
        "    if len(ni) <3 : ni = ni + ni[-1]*(3-len(ni))\n",
        "    return ni\n",
        "\n",
        "print(solution('...!@BaT#*..y.abcdefghijklm'))\n",
        "print(solution(\"z-+.^.\"))\n",
        "print(solution(\"=.=\"))   \n",
        "print(solution(\"123_.def\"))   \n",
        "print(solution(\"abcdefghijklmn.p\"))   "
      ],
      "execution_count": null,
      "outputs": [
        {
          "output_type": "stream",
          "text": [
            "bat.y.abcdefghi\n",
            "z--\n",
            "aaa\n",
            "123_.def\n",
            "abcdefghijklmn\n"
          ],
          "name": "stdout"
        }
      ]
    },
    {
      "cell_type": "code",
      "metadata": {
        "colab": {
          "base_uri": "https://localhost:8080/"
        },
        "id": "z2bGbsXjlsnc",
        "outputId": "774d3780-bb6a-4e7d-ecd8-56233670e9da"
      },
      "source": [
        "# 3진법 뒤집기 \n",
        "\n",
        "def solution(n):\n",
        "    samjin =[]\n",
        "    #3진법 변환\n",
        "    while n>2:\n",
        "        samjin.append(n%3)\n",
        "        n=n//3\n",
        "    samjin.append(n)\n",
        "    # print(samjin)\n",
        "    samjin = samjin[::-1]\n",
        "    # print(samjin)\n",
        "    return sum([ v*3**i for i,v in enumerate(samjin) ]) #십진법 변환\n",
        "    return 0\n",
        "\n",
        "print(solution(45))\n",
        "print(solution(125))"
      ],
      "execution_count": null,
      "outputs": [
        {
          "output_type": "stream",
          "text": [
            "[0, 0, 2, 1]\n",
            "[1, 2, 0, 0]\n",
            "7\n",
            "[2, 2, 1, 1, 1]\n",
            "[1, 1, 1, 2, 2]\n",
            "229\n"
          ],
          "name": "stdout"
        }
      ]
    },
    {
      "cell_type": "code",
      "metadata": {
        "id": "uMeFfWiXvYFa"
      },
      "source": [
        "'''int(tmp, 3)'''\n",
        "#문자열을 형변환 할 때 진법 알려줌\n",
        "# int?"
      ],
      "execution_count": null,
      "outputs": []
    },
    {
      "cell_type": "code",
      "metadata": {
        "colab": {
          "base_uri": "https://localhost:8080/"
        },
        "id": "gxBEGbE7wAPA",
        "outputId": "37788524-5eff-46af-9698-5cc9b4e04a80"
      },
      "source": [
        "# 실패율\n",
        "def solution(N, stages):\n",
        "    answer = []\n",
        "    '''\n",
        "    실패율은 다음과 같이 정의한다.\n",
        "    스테이지에 도달했으나 아직 클리어하지 못한 플레이어의 수 / 스테이지에 도달한 플레이어 수\n",
        "    실패율이 높은 스테이지부터 내림차순으로 스테이지의 번호가 담겨있는 배열을 return 하도록 solution 함수를 완성하라.\n",
        "\n",
        "    스테이지의 개수 N은 1 이상 500 이하의 자연수이다.\n",
        "    stages의 길이는 1 이상 200,000 이하이다.\n",
        "    stages에는 1 이상 N + 1 이하의 자연수가 담겨있다.\n",
        "     각 자연수는 사용자가 현재 도전 중인 스테이지의 번호를 나타낸다.\n",
        "     단, N + 1 은 마지막 스테이지(N 번째 스테이지) 까지 클리어 한 사용자를 나타낸다.\n",
        "    만약 실패율이 같은 스테이지가 있다면 작은 번호의 스테이지가 먼저 오도록 하면 된다.\n",
        "    스테이지에 도달한 유저가 없는 경우 해당 스테이지의 실패율은 0 으로 정의한다.\n",
        "\n",
        "    입출력 예\n",
        "    N \tstages \tresult\n",
        "    5 \t[2, 1, 2, 6, 2, 4, 3, 3] \t[3,4,2,1,5]\n",
        "    4 \t[4,4,4,4,4] \t[4,1,2,3]\n",
        "    '''\n",
        "    aa={}\n",
        "    for i in range(N):\n",
        "        s_total = len([x for x in stages if x > i]) #도달자+ 통과자\n",
        "        s_not_pass = stages.count(i+1) #미통과자\n",
        "        s_pass_ratio = 1 if s_total==0 else 1-s_not_pass/s_total #실패확률\n",
        "        # print(i+1,'stage : ',s_not_pass,s_total,s_pass_ratio)\n",
        "        #확률을 키로 하고 스테이지 리스트 저장\n",
        "        # print(aa, aa[s_pass_ratio] if s_pass_ratio in aa else [], [i+1]) \n",
        "        # aa[s_pass_ratio] = sum([aa[s_pass_ratio]] if s_pass_ratio in aa else [], [i+1]) #[i+1] 앞쪽에 삽입 되어 내림차순으로 3,2,1 됨\n",
        "        aa[s_pass_ratio] = sum([[i+1]],aa[s_pass_ratio] if s_pass_ratio in aa else []) #[i+1] 이 뒤에 추가 되어 오름차순으로 1,2,3 됨\n",
        "        # print(aa)\n",
        "    # print(sum([aa[i] for i in sorted(aa)],[]))    \n",
        "    return sum([aa[i] for i in sorted(aa)],[])\n",
        "print('==================')\n",
        "print(solution(5 ,[2, 1, 2, 6, 2, 4, 3, 3]))\n",
        "print('==================')\n",
        "print(solution(4 ,[4,4,4,4,4]))"
      ],
      "execution_count": null,
      "outputs": [
        {
          "output_type": "stream",
          "text": [
            "==================\n",
            "[3, 4, 2, 1, 5]\n",
            "==================\n",
            "[4, 1, 2, 3]\n"
          ],
          "name": "stdout"
        }
      ]
    },
    {
      "cell_type": "code",
      "metadata": {
        "colab": {
          "base_uri": "https://localhost:8080/"
        },
        "id": "dcsHZLSaqWmF",
        "outputId": "64929f40-8738-4b9c-8df6-147955b1f120"
      },
      "source": [
        "'''\n",
        "이차원 리스트를 일차원으로\n",
        "https://programmers.co.kr/learn/courses/4008/lessons/12738\n",
        "'''\n",
        "ddd={1:[1,2],2:[3,4]}\n",
        "print(sum(ddd.values(),[]))\n",
        "\n",
        "sorted(sum([],[2,1,3]))\n",
        "\n",
        "print( 1 if 0 in ddd else 0)\n",
        "\n",
        "sum([],[1])"
      ],
      "execution_count": null,
      "outputs": [
        {
          "output_type": "stream",
          "text": [
            "[1, 2, 3, 4]\n",
            "0\n"
          ],
          "name": "stdout"
        },
        {
          "output_type": "execute_result",
          "data": {
            "text/plain": [
              "[1]"
            ]
          },
          "metadata": {
            "tags": []
          },
          "execution_count": 92
        }
      ]
    },
    {
      "cell_type": "code",
      "metadata": {
        "colab": {
          "base_uri": "https://localhost:8080/"
        },
        "id": "3IPDA6ZYtoum",
        "outputId": "db57517a-48c4-45d1-ce7e-e2b81c4f8416"
      },
      "source": [
        "'''\n",
        "이진탐색 간단히\n",
        "https://programmers.co.kr/learn/courses/4008/lessons/13173\n",
        "'''\n",
        "import bisect\n",
        "mylist = [1, 2, 3, 7, 9, 11, 33]\n",
        "print(bisect.bisect(mylist, 9))\n",
        "# bisect.bisect?"
      ],
      "execution_count": null,
      "outputs": [
        {
          "output_type": "stream",
          "text": [
            "5\n"
          ],
          "name": "stdout"
        }
      ]
    },
    {
      "cell_type": "code",
      "metadata": {
        "colab": {
          "base_uri": "https://localhost:8080/"
        },
        "id": "18EtxOCbF3Xi",
        "outputId": "ced8e3e2-37a4-4f2e-d826-d3cb89abc91f"
      },
      "source": [
        "#예산\n",
        "def solution(d, budget):\n",
        "    answer = 0\n",
        "    d=sorted(d)\n",
        "    # print(d)\n",
        "    t=0\n",
        "    for i,v in enumerate(d):\n",
        "        t+=v\n",
        "        if t == budget:\n",
        "            answer=i+1\n",
        "            break\n",
        "        elif t > budget:\n",
        "            answer=i\n",
        "            # print(budget, t-v, '나머지',budget - (t-v))\n",
        "            break\n",
        "    else: #브레이크 없이 나올 때\n",
        "        answer=len(d)\n",
        "    return answer\n",
        "\n",
        "print(solution([1,3,2,5,4],9))\n",
        "print(solution([2,2,3,3],10))"
      ],
      "execution_count": null,
      "outputs": [
        {
          "output_type": "stream",
          "text": [
            "3\n",
            "4\n"
          ],
          "name": "stdout"
        }
      ]
    },
    {
      "cell_type": "code",
      "metadata": {
        "colab": {
          "base_uri": "https://localhost:8080/"
        },
        "id": "nvVCL95uPLVU",
        "outputId": "973a0511-c5ff-439d-e16d-1c385de37742"
      },
      "source": [
        "# 약수의 개수와 덧셈 \n",
        "def solution(left, right):\n",
        "    answer = 0\n",
        "    for i in range(left,right+1):\n",
        "        if int(i**0.5)**2 == i: #정수인 제곱근이 있으면 약수 개수가 홀수\n",
        "            answer-=i #약수의 개수가 홀수면 빼고\n",
        "        else:\n",
        "            answer+=i #약수의 개수가 짝수면 더하고\n",
        "    return answer\n",
        "\n",
        "print(solution(13 ,17))\n",
        "print(solution(24 ,27))"
      ],
      "execution_count": null,
      "outputs": [
        {
          "output_type": "stream",
          "text": [
            "43\n",
            "52\n"
          ],
          "name": "stdout"
        }
      ]
    },
    {
      "cell_type": "code",
      "metadata": {
        "colab": {
          "base_uri": "https://localhost:8080/"
        },
        "id": "cXdFdU2VQodw",
        "outputId": "f3803ecb-0f11-4a33-a5b4-f74cbd85db5f"
      },
      "source": [
        "#약수 구하기\n",
        "for i in range(1,101):\n",
        "    y={1,i}\n",
        "    for j in range(2,int(i**0.5)+1):\n",
        "        if i%j==0: y.update({j,i//j})\n",
        "        # print(j)\n",
        "    # print(i,y,len(y)%2)\n",
        "    if len(y)%2==1 :print(i,y)\n",
        "#정수 제곱근이 있으면 약수 개수가 홀수"
      ],
      "execution_count": null,
      "outputs": [
        {
          "output_type": "stream",
          "text": [
            "1 {1}\n",
            "4 {1, 2, 4}\n",
            "9 {1, 3, 9}\n",
            "16 {16, 1, 2, 4, 8}\n",
            "25 {1, 5, 25}\n",
            "36 {1, 2, 3, 36, 4, 6, 9, 12, 18}\n",
            "49 {1, 7, 49}\n",
            "64 {64, 1, 32, 2, 16, 4, 8}\n",
            "81 {81, 1, 3, 9, 27}\n",
            "100 {1, 2, 100, 4, 5, 10, 50, 20, 25}\n"
          ],
          "name": "stdout"
        }
      ]
    },
    {
      "cell_type": "code",
      "metadata": {
        "colab": {
          "base_uri": "https://localhost:8080/"
        },
        "id": "p1ssr98YUFy6",
        "outputId": "4223d05b-f193-4cee-f190-2b01fc82d5bb"
      },
      "source": [
        "#2016년\n",
        "\n",
        "def solution(a, b):\n",
        "    answer = ''\n",
        "    mm={ 0:0, 1:31, 2:29, 3:31, 4:30, 5:31,\n",
        "        6:30, 7:31, 8:31, 9:30, 10:31, 11:30,}\n",
        "    ml=list(mm.values())\n",
        "    ww='SUN MON TUE WED THU FRI SAT'.split()\n",
        "    days = sum(ml[:(a)]) + b\n",
        "    # print(days)\n",
        "    return ww[(days+4)%7]\n",
        "\n",
        "print(solution(1,1))\n",
        "print(solution(12,31))\n",
        "print(solution(5,24))"
      ],
      "execution_count": null,
      "outputs": [
        {
          "output_type": "stream",
          "text": [
            "1\n",
            "FRI\n",
            "366\n",
            "SAT\n",
            "145\n",
            "TUE\n"
          ],
          "name": "stdout"
        }
      ]
    },
    {
      "cell_type": "code",
      "metadata": {
        "colab": {
          "base_uri": "https://localhost:8080/"
        },
        "id": "h6BUD718Ofn5",
        "outputId": "7f6563f6-050c-4425-cc3b-8b9dc9dceb5c"
      },
      "source": [
        "# 가운데 글자 가져오기\n",
        "def solution(s):\n",
        "    answer = ''\n",
        "    mid=len(s)/2\n",
        "    # print(mid)\n",
        "    if len(s)%2 == 0: #짝수\n",
        "        answer = s[int(mid)-1:int(mid)+1]\n",
        "    else:#홀수\n",
        "        answer = s[int(mid)]\n",
        "    return answer\n",
        "\n",
        "print(solution(\"abcde\"))\n",
        "print(solution(\"qwer\"))"
      ],
      "execution_count": null,
      "outputs": [
        {
          "output_type": "stream",
          "text": [
            "2.5\n",
            "c\n",
            "2.0\n",
            "we\n"
          ],
          "name": "stdout"
        }
      ]
    },
    {
      "cell_type": "code",
      "metadata": {
        "colab": {
          "base_uri": "https://localhost:8080/"
        },
        "id": "cRKuL9ybVpQk",
        "outputId": "3c6f744c-2b53-4abe-90c6-0424f59e07f4"
      },
      "source": [
        "# 비밀지도\n",
        "def solution(n, arr1, arr2):\n",
        "    answer = []\n",
        "    for b1,b2 in zip(arr1,arr2):\n",
        "        # print(bin(b1),bin(b2))\n",
        "        # print(bin(b1 | b2))\n",
        "        answer.append(f\"{bin(b1|b2)[2:].replace('1','#').replace('0',' '):>{n}s}\")\n",
        "        # print(answer[-1],len(answer[-1]))\n",
        "    return answer\n",
        "\n",
        "print(solution(5,[9, 20, 28, 18, 11],[30, 1, 21, 17, 28]))\n",
        "print(solution(6,[46, 33, 33 ,22, 31, 50],[27 ,56, 19, 14, 14, 10]))\n",
        "# str.rjust?"
      ],
      "execution_count": null,
      "outputs": [
        {
          "output_type": "stream",
          "text": [
            "['#####', '# # #', '### #', '#  ##', '#####']\n",
            "['######', '###  #', '##  ##', ' #### ', ' #####', '### # ']\n"
          ],
          "name": "stdout"
        }
      ]
    },
    {
      "cell_type": "code",
      "metadata": {
        "colab": {
          "base_uri": "https://localhost:8080/"
        },
        "id": "YYcYll1pWyM_",
        "outputId": "d54d337a-6b9c-428d-eab7-36cdc5e763f4"
      },
      "source": [
        "# [1차] 다트 게임\n",
        "def solution(dartResult):\n",
        "    answer = 0\n",
        "    dr=dartResult\n",
        "    # print(dr)\n",
        "    dr=dartResult.replace('S','S + ').replace('D','D + ').replace('T','T + ')\n",
        "    dr=dr.replace('+ #','*(-1) +')\n",
        "    # print(dr)\n",
        "    while dr.count('+ *'):\n",
        "        # dr = dr[:dr.index('+ *')+2][::-1].replace('+', '+ 2 *',2)[::-1]+'/'+dr[dr.index('+ *')+3:]\n",
        "        dr = dr[:dr.index('+ *')+2][::-1].replace('+', '+ 2 *',2)[::-1]+dr[dr.index('+ *')+3:]\n",
        "        \n",
        "    # print(dr.count('+ *'), dr.index('+ *') if dr.count('+ *') else 0)\n",
        "    dr=dr.replace('S','**1').replace('D','**2').replace('T','**3') +'0'\n",
        "    # dr=dr.replace('S','^1').replace('D','^2').replace('T','^3') +'0'\n",
        "    # print(dr)  \n",
        "    return eval(dr)\n",
        "\n",
        "print(solution(\"1S2D*3T\"))\n",
        "print(solution(\"1D2S#10S\"))\n",
        "print(solution(\"1D2S0T\"))\n",
        "print(solution(\"1S*2T*3S\"))\n",
        "print(solution(\"1D#2S*3S\"))\n",
        "print(solution(\"1T2D3D#\"))\n",
        "print(solution(\"1D2S3T*\"))"
      ],
      "execution_count": null,
      "outputs": [
        {
          "output_type": "stream",
          "text": [
            "37\n",
            "9\n",
            "3\n",
            "23\n",
            "5\n",
            "-4\n",
            "59\n"
          ],
          "name": "stdout"
        }
      ]
    },
    {
      "cell_type": "code",
      "metadata": {
        "colab": {
          "base_uri": "https://localhost:8080/"
        },
        "id": "PDcGjqiMc9Kp",
        "outputId": "63c80623-9087-48b2-c39f-9ebd2e3b2e6f"
      },
      "source": [
        "# 같은 숫자는 싫어\n",
        "def solution(arr):\n",
        "    answer=[]\n",
        "    for i in arr:\n",
        "        if len(answer)>0:\n",
        "            if answer[-1] !=i:\n",
        "                answer.append(i)    \n",
        "        else:\n",
        "            answer.append(i)\n",
        "    return answer\n",
        "\n",
        "print(solution([1,1,3,3,0,1,1]))\n",
        "print(solution([4,4,4,3,3]))"
      ],
      "execution_count": null,
      "outputs": [
        {
          "output_type": "stream",
          "text": [
            "[1, 3, 0, 1]\n",
            "[4, 3]\n"
          ],
          "name": "stdout"
        }
      ]
    },
    {
      "cell_type": "code",
      "metadata": {
        "colab": {
          "base_uri": "https://localhost:8080/"
        },
        "id": "zR-X8ieKJsDU",
        "outputId": "b6304f45-2ce0-42de-f605-e98f56aeed41"
      },
      "source": [
        "# 나누어 떨어지는 숫자 배열\n",
        "def solution(arr, divisor):\n",
        "    answer = sorted([x for x in arr if x%divisor==0])\n",
        "    if len(answer)==0 : answer=[-1]\n",
        "    return answer\n",
        "\n",
        "print(solution([5, 9, 7, 10],5))\n",
        "print(solution([2, 36, 1, 3],1))\n",
        "print(solution([3, 2, 6],10))"
      ],
      "execution_count": null,
      "outputs": [
        {
          "output_type": "stream",
          "text": [
            "[5, 10]\n",
            "[1, 2, 3, 36]\n",
            "[-1]\n"
          ],
          "name": "stdout"
        }
      ]
    },
    {
      "cell_type": "code",
      "metadata": {
        "colab": {
          "base_uri": "https://localhost:8080/"
        },
        "id": "5esbvCA_Qmj1",
        "outputId": "9fd8ab9c-918d-4972-b626-19b91e977d91"
      },
      "source": [
        "# 두 정수 사이의 합\n",
        "def solution(a, b):\n",
        "    answer = a if a==b else sum(range(min(a,b),max(a,b)+1))\n",
        "    return answer\n",
        "\n",
        "print(solution(3,5))\n",
        "print(solution(3,3))\n",
        "print(solution(5,3))"
      ],
      "execution_count": null,
      "outputs": [
        {
          "output_type": "stream",
          "text": [
            "12\n",
            "3\n",
            "12\n"
          ],
          "name": "stdout"
        }
      ]
    },
    {
      "cell_type": "code",
      "metadata": {
        "colab": {
          "base_uri": "https://localhost:8080/"
        },
        "id": "kb6bmekCSOvB",
        "outputId": "fcf458b4-0fea-42f6-b7ec-ac532f06eab1"
      },
      "source": [
        "# 문자열 내 마음대로 정렬하기\n",
        "def solution(strings, n):\n",
        "    answer = sorted(strings, key=lambda x:(x[n],x)) #orer by 여러 조건 괄호로 묶어서 가능\n",
        "    return answer\n",
        "\n",
        "print(solution([\"sun\", \"bed\", \"car\"],1))\n",
        "print(solution([\"abce\", \"abcd\", \"cdx\"],2))"
      ],
      "execution_count": null,
      "outputs": [
        {
          "output_type": "stream",
          "text": [
            "['car', 'bed', 'sun']\n",
            "['abcd', 'abce', 'cdx']\n"
          ],
          "name": "stdout"
        }
      ]
    },
    {
      "cell_type": "code",
      "metadata": {
        "colab": {
          "base_uri": "https://localhost:8080/"
        },
        "id": "VPgzz4VRXIqI",
        "outputId": "0fb0f621-1cc6-479d-9597-37fda63c867f"
      },
      "source": [
        "# 문자열 내 p와 y의 개수\n",
        "def solution(s):\n",
        "    return s.lower().count('p') == s.lower().count('y')\n",
        "    \n",
        "print(solution(\"pPoooyY\"))\n",
        "print(solution(\"Pyy\"))"
      ],
      "execution_count": null,
      "outputs": [
        {
          "output_type": "stream",
          "text": [
            "True\n",
            "False\n"
          ],
          "name": "stdout"
        }
      ]
    },
    {
      "cell_type": "code",
      "metadata": {
        "colab": {
          "base_uri": "https://localhost:8080/"
        },
        "id": "kigseb9fZWTh",
        "outputId": "280edcb3-6285-4569-87a8-9c8059c6c2c1"
      },
      "source": [
        "# 문자열 내림차순으로 배치하기\n",
        "def solution(s):\n",
        "    return \"\".join(sorted(list(s),reverse=True))\n",
        "    \n",
        "print(solution(\"Zbcdefg\"))"
      ],
      "execution_count": null,
      "outputs": [
        {
          "output_type": "stream",
          "text": [
            "gfedcbZ\n"
          ],
          "name": "stdout"
        }
      ]
    },
    {
      "cell_type": "code",
      "metadata": {
        "colab": {
          "base_uri": "https://localhost:8080/"
        },
        "id": "ILiEfJqkZtn1",
        "outputId": "4cb1c1e3-eb2b-4adf-e62d-a463f7307991"
      },
      "source": [
        "# 문자열 다루기 기본\n",
        "def solution(s):\n",
        "    return len(s) in [4,6] and s.isdigit()\n",
        "    \n",
        "print(solution(\"a234\"))\n",
        "print(solution(\"1234\"))"
      ],
      "execution_count": null,
      "outputs": [
        {
          "output_type": "stream",
          "text": [
            "False\n",
            "True\n"
          ],
          "name": "stdout"
        }
      ]
    },
    {
      "cell_type": "code",
      "metadata": {
        "colab": {
          "base_uri": "https://localhost:8080/"
        },
        "id": "z2UH3gPxa_ij",
        "outputId": "eed8eaa0-7c8e-4eb6-bca8-e4796289257b"
      },
      "source": [
        "# 서울에서 김서방 찾기\n",
        "def solution(s):\n",
        "    return f'김서방은 {s.index(\"Kim\")}에 있다'\n",
        "           \n",
        "print(solution([\"Jane\", \"Kim\"]))"
      ],
      "execution_count": null,
      "outputs": [
        {
          "output_type": "stream",
          "text": [
            "김서방은 1에 있다\n"
          ],
          "name": "stdout"
        }
      ]
    },
    {
      "cell_type": "code",
      "metadata": {
        "colab": {
          "base_uri": "https://localhost:8080/"
        },
        "id": "r-R8C45lcDNF",
        "outputId": "1134b778-3714-4b58-f816-7aaceb5f5a66"
      },
      "source": [
        "# 소수 찾기\n",
        "def isPrime(x):\n",
        "    if x<2: return False\n",
        "    for i in range(2,int(x**.5)+1):\n",
        "        if x%i==0: return False\n",
        "    return True\n",
        "\n",
        "def solution(n):\n",
        "    answer = [ x for x in range(2,n+1) if isPrime(x)]\n",
        "    return len(answer)\n",
        "\n",
        "print(solution(1000000))\n",
        "print(solution(5))"
      ],
      "execution_count": null,
      "outputs": [
        {
          "output_type": "stream",
          "text": [
            "78498\n",
            "3\n"
          ],
          "name": "stdout"
        }
      ]
    },
    {
      "cell_type": "code",
      "metadata": {
        "colab": {
          "base_uri": "https://localhost:8080/"
        },
        "id": "5uXqLyYCpgCD",
        "outputId": "472fc6bc-9ba6-4a94-c825-980b5b69620f"
      },
      "source": [
        "# 수박수박수박수박수박수?\n",
        "def solution(s):\n",
        "    return '수박'*(s//2) +'수박'[:s%2]\n",
        "\n",
        "print(solution(3))\n",
        "print(solution(4))"
      ],
      "execution_count": null,
      "outputs": [
        {
          "output_type": "stream",
          "text": [
            "수박수\n",
            "수박수박\n"
          ],
          "name": "stdout"
        }
      ]
    },
    {
      "cell_type": "code",
      "metadata": {
        "colab": {
          "base_uri": "https://localhost:8080/"
        },
        "id": "vMxPeW42w1zw",
        "outputId": "472fc6bc-9ba6-4a94-c825-980b5b69620f"
      },
      "source": [
        "# 문자열을 정수로 바꾸기\n",
        "def solution(s):\n",
        "    return int(s)\n",
        "\n",
        "print(solution(3))\n",
        "print(solution(4))"
      ],
      "execution_count": null,
      "outputs": [
        {
          "output_type": "stream",
          "text": [
            "수박수\n",
            "수박수박\n"
          ],
          "name": "stdout"
        }
      ]
    },
    {
      "cell_type": "code",
      "metadata": {
        "colab": {
          "base_uri": "https://localhost:8080/"
        },
        "id": "lxgyB6WjxSog",
        "outputId": "08b08115-510e-474d-c05c-c0b6cfad733f"
      },
      "source": [
        "# 시저 암호\n",
        "def solution(s,n):\n",
        "    # print(len(s))\n",
        "    for i in range(len(s)):\n",
        "        if s[i]!=' ':#공백 아니면\n",
        "            # print(ord(s[i]))\n",
        "            a_index = ord('A') if s[i].isupper() else ord('a')\n",
        "            c_index = ord(s[i]) - a_index \n",
        "            n_index = (c_index + n) % 26 #알파벳 26자\n",
        "            # print(s[i], a_index, c_index, n_index, chr(a_index+n_index))\n",
        "            s=s[:i]+chr(a_index+n_index)+s[i+1:]\n",
        "    return s\n",
        "\n",
        "print(solution('AB',1))\n",
        "print(solution('z',1))\n",
        "print(solution('a B z',4))"
      ],
      "execution_count": null,
      "outputs": [
        {
          "output_type": "stream",
          "text": [
            "BC\n",
            "a\n",
            "e F d\n"
          ],
          "name": "stdout"
        }
      ]
    },
    {
      "cell_type": "code",
      "metadata": {
        "colab": {
          "base_uri": "https://localhost:8080/"
        },
        "id": "mnHxe4x46GwT",
        "outputId": "2fdc122d-f31e-4132-de98-cebebf52bd8b"
      },
      "source": [
        "# 약수의 합\n",
        "def solution(n):\n",
        "    y=set()\n",
        "    for i in range(1,int(n**.5)+1):\n",
        "        if n%i==0 : #나눠지면\n",
        "            y.update((i, n//i))\n",
        "    return sum(y)\n",
        "\n",
        "print(solution(12))\n",
        "print(solution(5))"
      ],
      "execution_count": null,
      "outputs": [
        {
          "output_type": "stream",
          "text": [
            "28\n",
            "6\n"
          ],
          "name": "stdout"
        }
      ]
    },
    {
      "cell_type": "code",
      "metadata": {
        "colab": {
          "base_uri": "https://localhost:8080/"
        },
        "id": "z1B5J4u37qVR",
        "outputId": "294f5c3e-c03a-4a26-e48f-2a4053976c63"
      },
      "source": [
        "# 이상한 문자 만들기\n",
        "def solution(s):\n",
        "    sl=s.split(\" \")\n",
        "    for idx,i in enumerate(sl):\n",
        "        #단어 기준 홀짝 변경\n",
        "        for j in range(len(i)):\n",
        "            # print(i[:j]+i[j].upper()+i[j+1:])\n",
        "            if j%2==0:\n",
        "                i=i[:j]+i[j].upper()+i[j+1:]\n",
        "            else:\n",
        "                i=i[:j]+i[j].lower()+i[j+1:]\n",
        "        sl[idx]=i\n",
        "    # ol = s.split(\" \")\n",
        "    # print(ol,sl)\n",
        "    # for i in range(len(ol)):\n",
        "    #     s=s.replace(ol[i],sl[i],1)\n",
        "    return \" \".join(sl)\n",
        "\n",
        "print(solution(\" try hello world a bc  def   ghij  \"))\n",
        "print(solution(\"try hello world\".upper()))"
      ],
      "execution_count": null,
      "outputs": [
        {
          "output_type": "stream",
          "text": [
            " TrY HeLlO WoRlD A Bc  DeF   GhIj  \n",
            "TrY HeLlO WoRlD\n"
          ],
          "name": "stdout"
        }
      ]
    },
    {
      "cell_type": "code",
      "metadata": {
        "colab": {
          "base_uri": "https://localhost:8080/"
        },
        "id": "3ziu1tHfnbzR",
        "outputId": "07b29fd6-7957-4fde-c2f3-f7f39c6a1b42"
      },
      "source": [
        "# 자릿수 더하기\n",
        "def solution(n):\n",
        "    return (sum([int(x) for x in str(n)]))\n",
        "\n",
        "print(solution(123))\n",
        "print(solution(987))"
      ],
      "execution_count": null,
      "outputs": [
        {
          "output_type": "stream",
          "text": [
            "6\n",
            "24\n"
          ],
          "name": "stdout"
        }
      ]
    },
    {
      "cell_type": "code",
      "metadata": {
        "colab": {
          "base_uri": "https://localhost:8080/"
        },
        "id": "ABhuGgbEHjxb",
        "outputId": "9294f96c-8ed0-4aca-b4f3-c9513860f19f"
      },
      "source": [
        "# 자연수 뒤집어 배열로 만들기\n",
        "def solution(n):\n",
        "    return [int(x) for x in str(n)[::-1]]\n",
        "\n",
        "print(solution(12345))"
      ],
      "execution_count": null,
      "outputs": [
        {
          "output_type": "stream",
          "text": [
            "[5, 4, 3, 2, 1]\n"
          ],
          "name": "stdout"
        }
      ]
    },
    {
      "cell_type": "code",
      "metadata": {
        "colab": {
          "base_uri": "https://localhost:8080/"
        },
        "id": "llAq-dceIYUs",
        "outputId": "9617b1f9-81e8-4b99-8fea-bb9a714ace7a"
      },
      "source": [
        "# 정수 내림차순으로 배치하기\n",
        "def solution(n):\n",
        "    return int(''.join(sorted(str(n),reverse=True)))\n",
        "\n",
        "print(solution(118372))"
      ],
      "execution_count": null,
      "outputs": [
        {
          "output_type": "stream",
          "text": [
            "873211\n"
          ],
          "name": "stdout"
        }
      ]
    },
    {
      "cell_type": "code",
      "metadata": {
        "colab": {
          "base_uri": "https://localhost:8080/"
        },
        "id": "BnBT4mu-Jigh",
        "outputId": "72c527f7-d826-44d6-9d95-7f3765e2bcbd"
      },
      "source": [
        "# 정수 제곱근 판별\n",
        "def solution(n):\n",
        "    return int((n**.5+1)**2) if int(n**.5)==n**.5 else -1\n",
        "\n",
        "print(solution(121))\n",
        "print(solution(3))"
      ],
      "execution_count": null,
      "outputs": [
        {
          "output_type": "stream",
          "text": [
            "144\n",
            "-1\n"
          ],
          "name": "stdout"
        }
      ]
    },
    {
      "cell_type": "code",
      "metadata": {
        "colab": {
          "base_uri": "https://localhost:8080/"
        },
        "id": "UvBieu3DKouc",
        "outputId": "2bcaec66-fccc-4517-8e29-57dedf54e7ca"
      },
      "source": [
        "# 제일 작은 수 제거하기\n",
        "def solution(n):\n",
        "    n.remove(min(n))\n",
        "    return n if len(n)>0 else [-1]\n",
        "\n",
        "print(solution([4,3,2,1]))\n",
        "print(solution([10]))"
      ],
      "execution_count": null,
      "outputs": [
        {
          "output_type": "stream",
          "text": [
            "[4, 3, 2]\n",
            "[-1]\n"
          ],
          "name": "stdout"
        }
      ]
    },
    {
      "cell_type": "code",
      "metadata": {
        "id": "KTtbxbRlMa3O"
      },
      "source": [
        "# 짝수와 홀수\n",
        "def solution(n):\n",
        "    return 'Even' if n%2==0 else 'Odd'\n",
        "\n",
        "print(solution(3))\n",
        "print(solution(4))"
      ],
      "execution_count": null,
      "outputs": []
    },
    {
      "cell_type": "code",
      "metadata": {
        "colab": {
          "base_uri": "https://localhost:8080/"
        },
        "id": "oDz8boyqNOlv",
        "outputId": "aff36705-3ab6-4b5f-a8ac-bb6d2db19b0c"
      },
      "source": [
        "# 최대공약수와 최소공배수\n",
        "def solution(n,m):\n",
        "    yl={n:set(),m:set()}\n",
        "    # print(yl)\n",
        "    for i in (n,m):\n",
        "        for d in range(1,int(i**.5)+1):\n",
        "            if i%d ==0:yl[i].update([d,i//d])\n",
        "        # print(yl)\n",
        "    yi = yl[n]&yl[m]\n",
        "    # print(yi)\n",
        "\n",
        "    return max(yi), int(m*n/max(yi))\n",
        "\n",
        "print(solution(3,12))\n",
        "print(solution(6,5))"
      ],
      "execution_count": null,
      "outputs": [
        {
          "output_type": "stream",
          "text": [
            "(3, 12)\n",
            "(1, 30)\n"
          ],
          "name": "stdout"
        }
      ]
    },
    {
      "cell_type": "code",
      "metadata": {
        "colab": {
          "base_uri": "https://localhost:8080/"
        },
        "id": "VJa6El7NIpmo",
        "outputId": "c3dc8a6e-42e2-4823-9459-c36d825e7223"
      },
      "source": [
        "'''요소를 모두 곱하기'''\n",
        "a=[1,2,3,4,5]\n",
        "# sum(a)\n",
        "eval(\"*\".join(map(str,a)))# 모두곱"
      ],
      "execution_count": null,
      "outputs": [
        {
          "output_type": "execute_result",
          "data": {
            "text/plain": [
              "120"
            ]
          },
          "metadata": {
            "tags": []
          },
          "execution_count": 313
        }
      ]
    },
    {
      "cell_type": "code",
      "metadata": {
        "colab": {
          "base_uri": "https://localhost:8080/"
        },
        "id": "nJrrrpHXX1f9",
        "outputId": "e735c82b-b79c-4dd4-df7e-ad1e1d339a0b"
      },
      "source": [
        "'''\n",
        "최대 공약수, 최소, 공배수\n",
        "https://wikidocs.net/21759\n",
        "유클리드 호제법\n",
        "'''"
      ],
      "execution_count": null,
      "outputs": [
        {
          "output_type": "execute_result",
          "data": {
            "text/plain": [
              "0"
            ]
          },
          "metadata": {
            "tags": []
          },
          "execution_count": 324
        }
      ]
    },
    {
      "cell_type": "code",
      "metadata": {
        "colab": {
          "base_uri": "https://localhost:8080/"
        },
        "id": "Wj5qcKPucxXQ",
        "outputId": "a4fe0aa7-4c3a-4fb5-97d6-842aa1dd8207"
      },
      "source": [
        "# 콜라츠 추측\n",
        "def solution(n):\n",
        "    for i in range(500):\n",
        "        if n==1: return i #처음부터 n==1인경우\n",
        "        n= n//2 if n%2==0 else n*3+1\n",
        "        if n==1: return i+1\n",
        "    else:\n",
        "        return -1\n",
        "\n",
        "print(solution(6))\n",
        "print(solution(16))\n",
        "print(solution(626331))"
      ],
      "execution_count": null,
      "outputs": [
        {
          "output_type": "stream",
          "text": [
            "8\n",
            "4\n",
            "-1\n"
          ],
          "name": "stdout"
        }
      ]
    },
    {
      "cell_type": "code",
      "metadata": {
        "colab": {
          "base_uri": "https://localhost:8080/"
        },
        "id": "Uriy4iAnfCgW",
        "outputId": "0d88a5ef-06c7-4629-9bd7-5341c857ba3e"
      },
      "source": [
        "# 평균 구하기\n",
        "def solution(n):\n",
        "    return sum(n)/len(n)\n",
        "\n",
        "print(solution([1,2,3,4]))\n",
        "print(solution([5,5]))"
      ],
      "execution_count": null,
      "outputs": [
        {
          "output_type": "stream",
          "text": [
            "2.5\n",
            "5.0\n"
          ],
          "name": "stdout"
        }
      ]
    },
    {
      "cell_type": "code",
      "metadata": {
        "colab": {
          "base_uri": "https://localhost:8080/"
        },
        "id": "-1TpnCFOfcC3",
        "outputId": "92d4b541-3e3c-48a8-9801-b044622510df"
      },
      "source": [
        "# 하샤드 수\n",
        "def solution(n):\n",
        "    return n%sum(map(int,sorted(str(n)))) == 0 \n",
        "\n",
        "print(solution(10))\n",
        "print(solution(12))\n",
        "print(solution(11))\n",
        "print(solution(13))"
      ],
      "execution_count": null,
      "outputs": [
        {
          "output_type": "stream",
          "text": [
            "True\n",
            "True\n",
            "False\n",
            "False\n"
          ],
          "name": "stdout"
        }
      ]
    },
    {
      "cell_type": "code",
      "metadata": {
        "colab": {
          "base_uri": "https://localhost:8080/"
        },
        "id": "3qMTyUAxgTIH",
        "outputId": "9dcca0df-46cf-4a2c-df5f-2257ce28cf37"
      },
      "source": [
        "#핸드폰 번호 가리기\n",
        "def solution(s):\n",
        "    return '*'*(len(s)-4)+s[-4:]\n",
        "\n",
        "print(solution(\"01033334444\"))\n",
        "print(solution(\"027778888\"))"
      ],
      "execution_count": null,
      "outputs": [
        {
          "output_type": "stream",
          "text": [
            "*******4444\n",
            "*****8888\n"
          ],
          "name": "stdout"
        }
      ]
    },
    {
      "cell_type": "code",
      "metadata": {
        "colab": {
          "base_uri": "https://localhost:8080/"
        },
        "id": "yPABlKg3GPe2",
        "outputId": "41c84592-c1c0-499f-da7b-30bfe1f43fe9"
      },
      "source": [
        "#행렬의 덧셈\n",
        "def solution(arr1, arr2):\n",
        "    answer = arr1.copy()\n",
        "    for r,row in enumerate(arr1):\n",
        "        for c,v1 in enumerate(row):\n",
        "            answer[r][c] = v1 + arr2[r][c]\n",
        "    return answer\n",
        "\n",
        "print(solution([[1,2],[2,3]],[[3,4],[5,6]]))\n",
        "print(solution([[1],[2]],[[3],[4]]))"
      ],
      "execution_count": null,
      "outputs": [
        {
          "output_type": "stream",
          "text": [
            "[[4, 6], [7, 9]]\n",
            "[[4], [6]]\n"
          ],
          "name": "stdout"
        }
      ]
    },
    {
      "cell_type": "code",
      "metadata": {
        "colab": {
          "base_uri": "https://localhost:8080/"
        },
        "id": "zm_XKtCRIH26",
        "outputId": "a9ebfb16-5434-4254-c7e0-62a6693bcb05"
      },
      "source": [
        "#x만큼 간격이 있는 n개의 숫자 \n",
        "def solution(x,n):\n",
        "    return [x * i for i in range(1,n+1)]\n",
        "\n",
        "print(solution(2,5))\n",
        "print(solution(4,3))\n",
        "print(solution(-4,2))\n",
        "print(solution(0,10))"
      ],
      "execution_count": null,
      "outputs": [
        {
          "output_type": "stream",
          "text": [
            "[2, 4, 6, 8, 10]\n",
            "[4, 8, 12]\n",
            "[-4, -8]\n",
            "[0, 0, 0, 0, 0, 0, 0, 0, 0, 0]\n"
          ],
          "name": "stdout"
        }
      ]
    },
    {
      "cell_type": "code",
      "metadata": {
        "colab": {
          "base_uri": "https://localhost:8080/"
        },
        "id": "FQdK1KCHO_by",
        "outputId": "71d2169b-9839-41b3-ca47-1675712f50ca"
      },
      "source": [
        "#직사각형 별찍기 \n",
        "# 문제 설명\n",
        "# 이 문제에는 표준 입력으로 두 개의 정수 n과 m이 주어집니다.\n",
        "# 별(*) 문자를 이용해 가로의 길이가 n, 세로의 길이가 m인\n",
        "#  직사각형 형태를 출력해보세요.\n",
        "def solution(a,b):\n",
        "    for i in range(b):\n",
        "        print('*'*a)\n",
        "\n",
        "#표준입력에서 m[공백]n 받아서 int로 형변환\n",
        "# a, b = map(int, input().strip().split(' '))\n",
        "# print(solution(a + b))\n",
        "\n",
        "print(solution(5,3))"
      ],
      "execution_count": null,
      "outputs": [
        {
          "output_type": "stream",
          "text": [
            "*****\n",
            "*****\n",
            "*****\n",
            "None\n"
          ],
          "name": "stdout"
        }
      ]
    },
    {
      "cell_type": "code",
      "metadata": {
        "colab": {
          "base_uri": "https://localhost:8080/"
        },
        "id": "fJAG0Tg_LJVV",
        "outputId": "cdf27023-344c-4bbd-9215-d93274acfc93"
      },
      "source": [
        "print([1.0 * i for i in range(8+1)])\n",
        "print([12/8* i for i in range(8+1)])\n",
        "print([3* i for i in range(8+1)])"
      ],
      "execution_count": null,
      "outputs": [
        {
          "output_type": "stream",
          "text": [
            "[0.0, 1.0, 2.0, 3.0, 4.0, 5.0, 6.0, 7.0, 8.0]\n",
            "[0.0, 1.5, 3.0, 4.5, 6.0, 7.5, 9.0, 10.5, 12.0]\n",
            "[0, 3, 6, 9, 12, 15, 18, 21, 24]\n"
          ],
          "name": "stdout"
        }
      ]
    }
  ]
}